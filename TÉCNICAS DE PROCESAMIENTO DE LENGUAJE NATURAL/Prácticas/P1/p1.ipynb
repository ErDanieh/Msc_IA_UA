{
 "cells": [
  {
   "cell_type": "markdown",
   "metadata": {},
   "source": [
    "# Práctica 1 - Técnicas de Procesamiento de Lenguaje Natural"
   ]
  },
  {
   "cell_type": "markdown",
   "metadata": {},
   "source": [
    "Crea un script en Python que procese un texto amplio con las aplicaciones\n",
    "comunes del PLN clásico: lematización, PoS tagger, parser de dependencias y sentidos de las palabras."
   ]
  },
  {
   "cell_type": "markdown",
   "metadata": {},
   "source": [
    "Para ello, utiliza el pipeline básico de la herramienta de PLN SpaCy, completado con NLTK2 para acceder a WordNet."
   ]
  },
  {
   "cell_type": "code",
   "execution_count": 60,
   "metadata": {},
   "outputs": [
    {
     "name": "stderr",
     "output_type": "stream",
     "text": [
      "[nltk_data] Downloading package wordnet to /Users/daniel/nltk_data...\n",
      "[nltk_data]   Package wordnet is already up-to-date!\n"
     ]
    }
   ],
   "source": [
    "import spacy\n",
    "import os\n",
    "from tqdm import tqdm\n",
    "import matplotlib.pyplot as plt\n",
    "from bs4 import BeautifulSoup\n",
    "import csv\n",
    "from nltk.corpus import wordnet as wn\n",
    "from collections import Counter\n",
    "import nltk\n",
    "nltk.download('wordnet')\n",
    "nlp = spacy.load(\"en_core_web_sm\")"
   ]
  },
  {
   "cell_type": "markdown",
   "metadata": {},
   "source": [
    "### Abrir la novela level1"
   ]
  },
  {
   "cell_type": "code",
   "execution_count": 61,
   "metadata": {},
   "outputs": [
    {
     "name": "stdout",
     "output_type": "stream",
     "text": [
      "Found 2071 paragraphs in ENG18410_Sinclair.xml\n",
      "Found 3107 paragraphs in ENG18400_Trollope.xml\n"
     ]
    }
   ],
   "source": [
    "folder_path = \"level1\"\n",
    "paragraphsVec = []\n",
    "\n",
    "# Get a list of all files in the folder\n",
    "file_list = os.listdir(folder_path)\n",
    "\n",
    "# Open each file in the folder\n",
    "for file_name in file_list:\n",
    "    file_path = os.path.join(folder_path, file_name)\n",
    "    if file_name.endswith(\".xml\"):\n",
    "        # Open and read the XML file\n",
    "        with open(file_path, 'r', encoding='utf-8') as file:\n",
    "            contents = file.read()\n",
    "            soup = BeautifulSoup(contents, 'xml')\n",
    "            \n",
    "            # Extract paragraphs\n",
    "            paragraphs = soup.find_all('p')\n",
    "            print(\"Found\", len(paragraphs), \"paragraphs in\", file_name)\n",
    "            # Process each paragraph\n",
    "            for paragraph in paragraphs:\n",
    "                paragraph_text = paragraph.get_text()\n",
    "                paragraphsVec.append(paragraph_text)\n",
    "                #print(paragraph_text)"
   ]
  },
  {
   "cell_type": "markdown",
   "metadata": {},
   "source": [
    "###  Analizar el texto con el pipeline básico de SpaCy y extraer un CSV"
   ]
  },
  {
   "cell_type": "code",
   "execution_count": 62,
   "metadata": {},
   "outputs": [
    {
     "name": "stderr",
     "output_type": "stream",
     "text": [
      "Procesando párrafos: 100%|██████████████████████████████████████████████████████████████████████████████| 5178/5178 [01:24<00:00, 61.34it/s]\n"
     ]
    },
    {
     "data": {
      "image/png": "[encoded data removed]",
      "text/plain": [
       "<Figure size 640x480 with 1 Axes>"
      ]
     },
     "metadata": {},
     "output_type": "display_data"
    }
   ],
   "source": [
    "# Crear y escribir en el archivo CSV\n",
    "pos_counts = {\"NOUN\": 0, \"ADJ\": 0, \"VERB\": 0, \"ADV\": 0}\n",
    "with open('analisis_parrafos.csv', 'w', newline='', encoding='utf-8') as file:\n",
    "    writer = csv.writer(file)\n",
    "    writer.writerow([\"Palabra\", \"Lema\", \"Categoría Gramatical\", \"Tipo de Dependencia\", \"Palabra de Quien Depende\"])\n",
    "\n",
    "    for paragraph in tqdm(paragraphsVec, desc=\"Procesando párrafos\"):\n",
    "        doc = nlp(paragraph)\n",
    "        for token in doc:\n",
    "            text = token.text.strip()\n",
    "            lemma = token.lemma_.strip()\n",
    "            if token.pos_ != \"SPACE\": \n",
    "                if token.pos_ in pos_counts:\n",
    "                    pos_counts[token.pos_] += 1\n",
    "                writer.writerow([token.text, token.lemma_, token.pos_, token.dep_, token.head.text])\n",
    "                \n",
    "    # Crear el gráfico\n",
    "plt.bar(pos_counts.keys(), pos_counts.values())\n",
    "plt.xlabel('Partes del Discurso')\n",
    "plt.ylabel('Cantidad')\n",
    "plt.title('Cantidad de Nombres, Adjetivos, Verbos y Adverbios')\n",
    "plt.show()"
   ]
  },
  {
   "cell_type": "markdown",
   "metadata": {},
   "source": [
    "### Añadida la columna de significados frecuentes"
   ]
  },
  {
   "cell_type": "code",
   "execution_count": 63,
   "metadata": {},
   "outputs": [
    {
     "name": "stderr",
     "output_type": "stream",
     "text": [
      "Procesando palabras: 471556it [00:03, 136222.82it/s]\n"
     ]
    }
   ],
   "source": [
    "nuevas_filas = []\n",
    "lemas_frecuentes = Counter()\n",
    "\n",
    "with open('analisis_parrafos.csv', 'r', encoding='utf-8') as file:\n",
    "    reader = csv.reader(file)\n",
    "    header = next(reader) + [\"Synset Más Frecuente\"]\n",
    "    for row in tqdm(reader, desc=\"Procesando palabras\"):\n",
    "        palabra = row[1] \n",
    "        synsets = wn.synsets(palabra)\n",
    "        synset_mas_frecuente = synsets[0].name() if synsets else \"NA\"\n",
    "        nuevas_filas.append(row + [synset_mas_frecuente])\n",
    "        lemas_frecuentes.update([palabra])\n",
    "        \n",
    "        \n",
    "with open('analisis_parrafos_con_synsets.csv', 'w', newline='', encoding='utf-8') as file:\n",
    "    writer = csv.writer(file)\n",
    "    writer.writerow(header)\n",
    "    writer.writerows(nuevas_filas)"
   ]
  },
  {
   "cell_type": "markdown",
   "metadata": {},
   "source": [
    "### Ampliación"
   ]
  },
  {
   "cell_type": "code",
   "execution_count": 64,
   "metadata": {},
   "outputs": [
    {
     "name": "stderr",
     "output_type": "stream",
     "text": [
      "Procesando párrafos: 100%|██████████████████████████████████████████████████████████████████████████████| 5178/5178 [01:21<00:00, 63.49it/s]\n"
     ]
    }
   ],
   "source": [
    "# Crear y escribir en el archivo CSV\n",
    "with open('analisis_conll.csv', 'w', newline='', encoding='utf-8') as file:\n",
    "    writer = csv.writer(file)\n",
    "    writer.writerow([\"ID\", \"Text\", \"Lemma\", \"POS\", \"Tag\", \"Head ID\", \"Dep Rel\"])\n",
    "    \n",
    "    for paragraph in tqdm(paragraphsVec, desc=\"Procesando párrafos\"):\n",
    "        doc = nlp(paragraph)\n",
    "        for sent in doc.sents:\n",
    "            for token in sent:\n",
    "                if token.pos_ != \"SPACE\":\n",
    "                    writer.writerow([token.i+1, token.text, token.lemma_, token.pos_, token.tag_, token.head.i+1, token.dep_])"
   ]
  }
 ],
 "metadata": {
  "kernelspec": {
   "display_name": "Python 3 (ipykernel)",
   "language": "python",
   "name": "python3"
  },
  "language_info": {
   "codemirror_mode": {
    "name": "ipython",
    "version": 3
   },
   "file_extension": ".py",
   "mimetype": "text/x-python",
   "name": "python",
   "nbconvert_exporter": "python",
   "pygments_lexer": "ipython3",
   "version": "3.11.5"
  }
 },
 "nbformat": 4,
 "nbformat_minor": 2
}
