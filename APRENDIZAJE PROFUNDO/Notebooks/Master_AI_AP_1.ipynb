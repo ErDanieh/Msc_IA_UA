{
  "cells": [
    {
      "cell_type": "markdown",
      "metadata": {
        "id": "BVGI4YMURYY6"
      },
      "source": [
        "# Shallow neural network\n",
        "\n",
        "- What is a Perceptron?\n",
        "- The main difference between activation functions.\n",
        "- The main difference between loss functions\n",
        "- Gradient Descent and Learning Rate\n",
        "- We will work with a single-layer network with d input nodes and a single output node\n",
        "- Shallow Networks / Multilayer Perceptron (MLP)"
      ]
    },
    {
      "cell_type": "markdown",
      "metadata": {
        "id": "Nnl6Xm_ARf1m"
      },
      "source": [
        "## The Perceptron\n",
        "\n",
        "Neural networks are inspitred by traditional machine learning algorithms like *Leas-Squares regression* and *Logistic Regression*. Neural networks gain their power by putting together many such basic units, and learning\n",
        "the weights of the different units jointly in order to minimize the prediction error. The simpliest neural network is referred to as the **perceptron**.\n",
        "\n",
        "<figure>\n",
        "        <img src=\"https://drive.google.com/uc?export=view&id=1ySJP6fX-mFHDtarfVdhPxgKohHot4m_B\"  alt=\"Picture\" style=\"display: block; margin: 0 auto\" />\n",
        "        <figcaption style=\"text-align: center\"><strong>Fig. 1: Perceptron.</strong></figcaption>\n",
        "</figure>\n",
        "\n",
        "\n",
        "\n",
        "In this neural network, we can observe a single input layer composed of $\\overline{X} = {x_{1},x_{2},x_{3},x_{4}}$. The arrows from the input to the output layer contain the weights, $\\overline{W} = {w_{1},w_{2},w_{3}, w_{4}}$. These weights will be summed with the input. Subsequently, the activation function, $\\sigma$, is applied to convert the aggregated value into a class label. The loss function (or the cost function), $L$, quantifies the distance between the real and predicted values."
      ]
    },
    {
      "cell_type": "markdown",
      "metadata": {
        "id": "eaJDPHZlOyNM"
      },
      "source": [
        "## Forward / Backward propagation"
      ]
    },
    {
      "cell_type": "markdown",
      "metadata": {
        "id": "BRl2abT5Teh0"
      },
      "source": [
        "Training a neural network, that is, learning the optimal values of the parameters $W$ (Weights) and $B$ (Bias) is an iterative process. During this iterative process, forward propagation and backward propagation are carried out.\n",
        "\n",
        "During forward propagation, all neurons apply a transformation to the data inputs. When all data has crossed all layers, and all neurons have performed the calculations, the final layer will be reached, which will give us a prediction. Subsequently, a loss function is used to calculate the estimation error.\n",
        "\n",
        "During the backward propagation, we start from the output layer. Then, we propagate the error back to the hidden layers. In this case, the neurons only receive a fraction of the total signal error, which is based on the relative contribution that each neuron has made to the output. Once this process is completed, we can adjust the weights. What we are doing is reducing the calculated error the next time we use the network. To do this, we will use the technique called gradient descent. This technique changes the weights in small increments with the help of calculating the derivative of the loss function.\n",
        "\n",
        "\n",
        "<figure>\n",
        "        <img src=\"https://drive.google.com/uc?export=view&id=1pFDL7D8yDZmKo41n0H7jCpeoBivBQxZ-\" width=\"750\" align=\"center\">\n",
        "        <figcaption style=\"text-align: center\"><strong>Fig. 2: Gradient Descent Example.</strong></figcaption>\n",
        "</figure>"
      ]
    },
    {
      "cell_type": "markdown",
      "metadata": {
        "id": "CbxT9s_tOuY3"
      },
      "source": [
        "## Loss Function"
      ]
    },
    {
      "cell_type": "markdown",
      "metadata": {
        "id": "L8RxLjIOThJl"
      },
      "source": [
        "\n",
        "The loss function will guide the neural network during the training process and quantify how accurate our output is compared to the ground truth.\n",
        "\n",
        "**Note:** Often in the literature, other terms are used for the loss function, such as cost function, error function, or objective function. Sometimes, the term *loss* refers to the loss measure for a single data point, and the term *cost* is the measure that calculates the average or total loss over the entire data set.\n",
        "\n",
        "### Most Common Loss Functions\n",
        "\n",
        "#### Regression Losses\n",
        "\n",
        "| Loss Function | Mathematical Function |\n",
        "|---------------|-----------------------|\n",
        "| Mean Absolute Error (MAE) | $$ \\frac{1}{N} \\sum_{i=1}^N |y_i - \\hat{y}_i| $$ |\n",
        "| Mean Squared Error (MSE) | $$ \\frac{1}{N} \\sum_{i=1}^N (y_i - \\hat{y}_i)^2 $$ |\n",
        "| Huber Loss | $ \\frac{1}{N} \\sum_{i=1}^N \\begin{cases} \\frac{1}{2} (y_i - \\hat{y}_i)^2, & \\text{if } |y_i - \\hat{y}_i| \\leq \\delta \\\\ \\delta(|y_i - \\hat{y}_i| - \\frac{1}{2}\\delta), & \\text{otherwise} \\end{cases} $ |\n",
        "\n",
        "\n",
        "#### Classification Losses\n",
        "\n",
        "| Loss Function | Mathematical Function |\n",
        "|---------------|-----------------------|\n",
        "|Cross-Entropy | $ -\\frac{1}{N} \\sum_{i=1}^N (y_i \\log(\\hat{y}_i) + (1 - y_i) \\log(1 - \\hat{y}_i)) $ |\n",
        "| Hinge Loss | $$ \\frac{1}{N} \\sum_{i=1}^N \\max(0, 1 - y_i \\cdot \\hat{y}_i)^2 $$ |\n",
        "| Kullback-Leibler Divergence | $$ \\sum_{i} y_i (\\log(y_i) - \\log(\\hat{y}_i)) $$ |\n",
        "| Soft Margin | $$ \\frac{1}{N} \\sum_{i=1}^N \\log(1 + \\exp(-y_i \\cdot \\hat{y}_i)) $$ |\n",
        "| Focal Cross-Entropy | $$ -\\frac{1}{N} \\sum_{i=1}^N \\sum_{c=1}^C (1 - \\hat{y}_{ic})^\\gamma y_{ic} \\log(\\hat{y}_{ic}) $$ |\n",
        "\n",
        "### For more information\n",
        "\n",
        "<ul>\n",
        "  <li><a href=\"https://www.tensorflow.org/api_docs/python/tf/keras/losses\">TensorFlow Documentation</a></li>\n",
        "  <li><a href=\"https://pytorch.org/docs/stable/nn.html#loss-functions\">PyTorch Documentation</a></li>\n",
        "  <li><a href=\"https://machinelearningmastery.com/cross-entropy-for-machine-learning/\">Machine Learning Mastery</a></li>\n",
        "  <li><a href=\"https://ml-cheatsheet.readthedocs.io/en/latest/loss_functions.html\">ML CheatSheet</a></li>\n",
        "</a></li>\n",
        "</ul>"
      ]
    },
    {
      "cell_type": "markdown",
      "metadata": {
        "id": "dZ7tDy19Tlw2"
      },
      "source": [
        "## Activation Functions\n",
        "\n",
        "Activation functions introduce non-linear properties to the network. Without them, a neural network would essentially be a linear regression model, incapable of learning complex data patterns. Activation functions can introduce challenges like vanishing gradients (where gradients become too small for effective learning, often an issue with sigmoid and tanh) or exploding gradients (where gradients become too large).\n",
        "\n",
        "\n",
        "### Most Common Activation Functions\n",
        "\n",
        "<figure>\n",
        "        <img src=\"https://drive.google.com/uc?export=view&id=1VA4LJ4Q0tA3k6l7DtSA1_tPFrYF5a4o2\"  alt=\"Picture\" style=\"display: block; margin: 0 auto\" />\n",
        "        <figcaption style=\"text-align: center\"><strong>Fig. 2: Activation Functions and its derivatives.</strong></figcaption>\n",
        "</figure>\n",
        "\n",
        "\n",
        "### For more information\n",
        "\n",
        "[Tensor Flow](https://www.tensorflow.org/api_docs/python/tf/keras/activations)\n",
        "\n",
        "[Blog](https://machinelearningmastery.com/activation-functions-in-pytorch/)\n",
        "\n",
        "[GitHub](https://github.com/siebenrock/activation-functions)"
      ]
    },
    {
      "cell_type": "markdown",
      "metadata": {
        "id": "s7XdwcBQSHu6"
      },
      "source": [
        "## Learning Rate"
      ]
    },
    {
      "cell_type": "markdown",
      "metadata": {
        "id": "wFyeSMDd24Sc"
      },
      "source": [
        "The learning rate, or rate of learning, establishes how quickly the parameters of a model can change. This hyperparameter is one of the most complicated to set, as it depends greatly on the data and interacts with the rest of the hyperparameters. If the learning rate is too large, the optimization process may jump from one region to another without the model being able to learn. Conversely, if the learning rate is too small, the training process can take too long and may not be completed.\n",
        "\n",
        "### For more information\n",
        "\n",
        "[Understanding Learning Rates](https://towardsdatascience.com/understanding-learning-rates-and-how-it-improves-performance-in-deep-learning-d0d4059c1c10)"
      ]
    },
    {
      "cell_type": "markdown",
      "metadata": {
        "id": "X3FQ6iAPSozS"
      },
      "source": [
        "# Exercise 1: Logistic Regression"
      ]
    },
    {
      "cell_type": "markdown",
      "metadata": {
        "id": "K2Pxnaak0LQA"
      },
      "source": [
        "With the theory contents and this brief summary of some of the fundamentals (activation function, loss function, weights, etc...). Now, let's look at a practical case, applying these concepts by using logistic regression in a perceptron.\n",
        "\n",
        "\n",
        "We are going to classify flower species using the Iris dataset. This dataset comprises three types of flowers (Setosa, Versicolour, and Virginica), with 50 instances for each species. Since we are performing binary classification, we will only use the first 100 instances, which correspond to Setosa and Versicolour flowers.\n",
        "\n",
        "For each instance, we will have the following information: Sepal Length, Sepal Width, Petal Length, and Petal Width.\n",
        "\n"
      ]
    },
    {
      "cell_type": "markdown",
      "metadata": {
        "id": "lKkYah1w4OeY"
      },
      "source": [
        "## Data and Imports"
      ]
    },
    {
      "cell_type": "code",
      "execution_count": 1,
      "metadata": {
        "id": "Uddq6zau4Mae"
      },
      "outputs": [
        {
          "name": "stderr",
          "output_type": "stream",
          "text": [
            "/var/folders/4h/bg12rs4d7n3c6p64vwtqhqqh0000gn/T/ipykernel_82878/2468567796.py:3: DeprecationWarning: \n",
            "Pyarrow will become a required dependency of pandas in the next major release of pandas (pandas 3.0),\n",
            "(to allow more performant data types, such as the Arrow string type, and better interoperability with other libraries)\n",
            "but was not found to be installed on your system.\n",
            "If this would cause problems for you,\n",
            "please provide us feedback at https://github.com/pandas-dev/pandas/issues/54466\n",
            "        \n",
            "  import pandas as pd\n"
          ]
        }
      ],
      "source": [
        "# General modules\n",
        "import numpy as np\n",
        "import pandas as pd\n",
        "\n",
        "# Data processing modules\n",
        "from sklearn.datasets import load_iris\n",
        "from sklearn.model_selection import train_test_split\n",
        "\n",
        "# Plotting modules\n",
        "import seaborn as sns\n",
        "import matplotlib.pyplot as plt\n",
        "from sklearn.metrics import confusion_matrix\n",
        "from sklearn.metrics import classification_report"
      ]
    },
    {
      "cell_type": "code",
      "execution_count": 2,
      "metadata": {
        "colab": {
          "base_uri": "https://localhost:8080/",
          "height": 206
        },
        "id": "oK9QGQQe4dnA",
        "outputId": "5f5e996d-693b-4bf6-d924-d2a3e32a5fcf"
      },
      "outputs": [
        {
          "data": {
            "text/html": [
              "<div>\n",
              "<style scoped>\n",
              "    .dataframe tbody tr th:only-of-type {\n",
              "        vertical-align: middle;\n",
              "    }\n",
              "\n",
              "    .dataframe tbody tr th {\n",
              "        vertical-align: top;\n",
              "    }\n",
              "\n",
              "    .dataframe thead th {\n",
              "        text-align: right;\n",
              "    }\n",
              "</style>\n",
              "<table border=\"1\" class=\"dataframe\">\n",
              "  <thead>\n",
              "    <tr style=\"text-align: right;\">\n",
              "      <th></th>\n",
              "      <th>sepal length (cm)</th>\n",
              "      <th>sepal width (cm)</th>\n",
              "      <th>petal length (cm)</th>\n",
              "      <th>petal width (cm)</th>\n",
              "      <th>target</th>\n",
              "    </tr>\n",
              "  </thead>\n",
              "  <tbody>\n",
              "    <tr>\n",
              "      <th>0</th>\n",
              "      <td>5.1</td>\n",
              "      <td>3.5</td>\n",
              "      <td>1.4</td>\n",
              "      <td>0.2</td>\n",
              "      <td>0.0</td>\n",
              "    </tr>\n",
              "    <tr>\n",
              "      <th>1</th>\n",
              "      <td>4.9</td>\n",
              "      <td>3.0</td>\n",
              "      <td>1.4</td>\n",
              "      <td>0.2</td>\n",
              "      <td>0.0</td>\n",
              "    </tr>\n",
              "    <tr>\n",
              "      <th>2</th>\n",
              "      <td>4.7</td>\n",
              "      <td>3.2</td>\n",
              "      <td>1.3</td>\n",
              "      <td>0.2</td>\n",
              "      <td>0.0</td>\n",
              "    </tr>\n",
              "    <tr>\n",
              "      <th>3</th>\n",
              "      <td>4.6</td>\n",
              "      <td>3.1</td>\n",
              "      <td>1.5</td>\n",
              "      <td>0.2</td>\n",
              "      <td>0.0</td>\n",
              "    </tr>\n",
              "    <tr>\n",
              "      <th>4</th>\n",
              "      <td>5.0</td>\n",
              "      <td>3.6</td>\n",
              "      <td>1.4</td>\n",
              "      <td>0.2</td>\n",
              "      <td>0.0</td>\n",
              "    </tr>\n",
              "  </tbody>\n",
              "</table>\n",
              "</div>"
            ],
            "text/plain": [
              "   sepal length (cm)  sepal width (cm)  petal length (cm)  petal width (cm)  \\\n",
              "0                5.1               3.5                1.4               0.2   \n",
              "1                4.9               3.0                1.4               0.2   \n",
              "2                4.7               3.2                1.3               0.2   \n",
              "3                4.6               3.1                1.5               0.2   \n",
              "4                5.0               3.6                1.4               0.2   \n",
              "\n",
              "   target  \n",
              "0     0.0  \n",
              "1     0.0  \n",
              "2     0.0  \n",
              "3     0.0  \n",
              "4     0.0  "
            ]
          },
          "execution_count": 2,
          "metadata": {},
          "output_type": "execute_result"
        }
      ],
      "source": [
        "iris = load_iris()\n",
        "data = pd.DataFrame(data= np.c_[iris['data'], iris['target']],\n",
        "                     columns= iris['feature_names'] + ['target'])\n",
        "data.head(5)"
      ]
    },
    {
      "cell_type": "code",
      "execution_count": 3,
      "metadata": {
        "id": "TA30EQsy4gsw"
      },
      "outputs": [],
      "source": [
        "# Splitting the data into train and test\n",
        "# We only want two labels, so we take the first 100 samples\n",
        "X = iris.data[:100]\n",
        "y = iris.target[:100]\n",
        "x_train, x_test, y_train, y_test = train_test_split(X, y, test_size=0.1, random_state=42)"
      ]
    },
    {
      "cell_type": "markdown",
      "metadata": {
        "id": "lxhN_mD84ycm"
      },
      "source": [
        "## Neural Net"
      ]
    },
    {
      "cell_type": "code",
      "execution_count": 7,
      "metadata": {
        "id": "oY5XXK_J4yM7"
      },
      "outputs": [],
      "source": [
        "class Perceptron:\n",
        "    # Constructor\n",
        "    def __init__(self, learning_rate, epochs):\n",
        "        self.weights = None\n",
        "        self.learning_rate = learning_rate\n",
        "        self.epochs = epochs\n",
        "        self.losses = []\n",
        "        self.bias = None\n",
        "\n",
        "    def init_parameters(self, x):\n",
        "        n_features = x.shape[1]\n",
        "        # Initialize the weights and bias\n",
        "        self.weights = np.zeros(n_features)\n",
        "        self.bias = 0\n",
        "\n",
        "    # Activation Function\n",
        "    def activation_function(self, x):\n",
        "        return 1 / (1 + np.exp(-x))\n",
        "\n",
        "    # Loss Function\n",
        "    def loss_function(self, y, y_hat):\n",
        "        # Find a small float to avoid division by zero\n",
        "        epsilon = np.finfo(float).eps\n",
        "\n",
        "        y0 = y * np.log(y_hat + epsilon)\n",
        "        y1 = (1 - y) * np.log(1 - y_hat + epsilon)\n",
        "        L = -np.mean(y1 + y0)\n",
        "        return L\n",
        "\n",
        "    def d_loss_function(self, x, y, y_hat):\n",
        "        dw = np.dot(x.T, (y_hat - y)) / y.shape[0]\n",
        "        db = np.sum(y_hat - y) / y.shape[0]\n",
        "        return dw, db\n",
        "\n",
        "    # Feed Forward\n",
        "    def feed_forward(self, x):\n",
        "        z = np.dot(x, self.weights) + self.bias\n",
        "        return self.activation_function(z)\n",
        "\n",
        "\n",
        "    def fit(self, x, y):\n",
        "        # Initialize the parameters\n",
        "        self.init_parameters(x)\n",
        "\n",
        "        # Gradient descent\n",
        "        for _ in range(self.epochs):\n",
        "            # Approximation of the output\n",
        "            y_hat = self.feed_forward(x)\n",
        "\n",
        "            # Save the loss for plotting\n",
        "            self.losses.append(self.loss_function(y, y_hat))\n",
        "\n",
        "            # Derivatives\n",
        "            dw, db = self.d_loss_function(x, y, y_hat)\n",
        "\n",
        "            # Update the parameters\n",
        "            self.weights -= self.learning_rate * dw\n",
        "            self.bias -= self.learning_rate * db\n",
        "\n",
        "    def predict(self, x):\n",
        "        y_hat = self.feed_forward(x)\n",
        "        y_hat_cls = [1 if i > 0.5 else 0 for i in y_hat]\n",
        "        return np.array(y_hat_cls)"
      ]
    },
    {
      "cell_type": "markdown",
      "metadata": {
        "id": "2hdHXNi55v1n"
      },
      "source": [
        "## Train and Predict"
      ]
    },
    {
      "cell_type": "code",
      "execution_count": 8,
      "metadata": {
        "id": "FHXMDtyt5vKg"
      },
      "outputs": [],
      "source": [
        "nn = Perceptron(learning_rate=0.01, epochs=500)\n",
        "nn.fit(x_train, y_train)\n",
        "y_pred = nn.predict(x_test)"
      ]
    },
    {
      "cell_type": "markdown",
      "metadata": {
        "id": "HegIcyVA6V-0"
      },
      "source": [
        "## Results"
      ]
    },
    {
      "cell_type": "code",
      "execution_count": 6,
      "metadata": {
        "colab": {
          "base_uri": "https://localhost:8080/",
          "height": 683
        },
        "id": "AzJPpkeN6ZJ6",
        "outputId": "7af607e2-1fb9-4629-9db9-c720fdb4d75e"
      },
      "outputs": [
        {
          "data": {
            "text/plain": [
              "Text(0.5, 1.0, 'Confusion Matrix')"
            ]
          },
          "execution_count": 6,
          "metadata": {},
          "output_type": "execute_result"
        },
        {
          "data": {
            "image/png": "[encoded data removed]",
            "text/plain": [
              "<Figure size 1500x800 with 5 Axes>"
            ]
          },
          "metadata": {},
          "output_type": "display_data"
        }
      ],
      "source": [
        "cm = confusion_matrix(y_test, y_pred)\n",
        "cm_df = pd.DataFrame(cm, index = ['setosa','versicolor'],  columns = ['setosa','versicolor'])\n",
        "\n",
        "fig, ax = plt.subplots(2, 2, figsize=(15, 8))\n",
        "\n",
        "ax[0,0].plot(range(nn.epochs), nn.losses)\n",
        "ax[0,0].set_title('Loss Results')\n",
        "\n",
        "ax[0,1].scatter(x_train[:,0], x_train[:,1], c=y_train)\n",
        "ax[0,1].set_title('Train Data')\n",
        "\n",
        "ax[1,1].scatter(x_test[:,0], x_test[:,1], c=y_pred, marker='x')\n",
        "ax[1,1].set_title('Test Data')\n",
        "\n",
        "sns.heatmap(cm_df, annot=True, fmt='g', cmap='Blues', ax=ax[1,0])\n",
        "ax[1,0].set_title('Confusion Matrix')"
      ]
    },
    {
      "cell_type": "markdown",
      "metadata": {
        "id": "MMdx7q9x8AMk"
      },
      "source": [
        "### Questions\n",
        "\n"
      ]
    },
    {
      "cell_type": "markdown",
      "metadata": {
        "id": "X4az2oQqdnXA"
      },
      "source": [
        "1. **Is it a good idea to initialize the weights with zeros?**\n"
      ]
    },
    {
      "cell_type": "markdown",
      "metadata": {
        "id": "tLbNUet0dqQZ"
      },
      "source": [
        "Inicializar los pesos con ceros no es una buena idea, ya que si todos los pesos son iguales, la red no podrá aprender nada. Por lo tanto, es mejor inicializar los pesos con valores aleatorios."
      ]
    },
    {
      "cell_type": "markdown",
      "metadata": {
        "id": "Kn1Qm6itdqN9"
      },
      "source": [
        "2. **What is the activation function used?**\n",
        "\n"
      ]
    },
    {
      "cell_type": "markdown",
      "metadata": {
        "id": "iP5wy-1EdqLW"
      },
      "source": [
        "En el caso de la regresión logística la función de activación sirve para introducir propiedades no lineales a la red"
      ]
    },
    {
      "cell_type": "markdown",
      "metadata": {
        "id": "0tfFI17ldqI6"
      },
      "source": [
        "3. **What is the loss function used?**\n",
        "\n"
      ]
    },
    {
      "cell_type": "markdown",
      "metadata": {
        "id": "1IgTWBf3dqGK"
      },
      "source": [
        "La función de perdida se utiliza para calcular el error entre la salida real y la predicción. En el caso del perceptron se utiliza la función de perdida de entropía cruzada."
      ]
    },
    {
      "cell_type": "markdown",
      "metadata": {
        "id": "jRgPjpaedp34"
      },
      "source": [
        "4. **How would you modify the perceptron for a multi-class classification problem?**"
      ]
    },
    {
      "cell_type": "markdown",
      "metadata": {
        "id": "4lEPnJAXdv7q"
      },
      "source": [
        "Para modificar el perceptron para un problema de clasificación multiclase, se puede utilizar la función de activación softmax y la función de perdida de entropía cruzada."
      ]
    },
    {
      "cell_type": "markdown",
      "metadata": {
        "id": "AME3kSJTdvOj"
      },
      "source": [
        "5. **What other metrics could have been used? What does each one contribute?**"
      ]
    },
    {
      "cell_type": "markdown",
      "metadata": {
        "id": "431vpHuwdvKP"
      },
      "source": [
        "Otras métricas que se pueden utilizar son la precisión, la sensibilidad y la especificidad. La precisión mide la fracción de predicciones correctas, la sensibilidad mide la fracción de verdaderos positivos y la especificidad mide la fracción de verdaderos negativos."
      ]
    },
    {
      "cell_type": "markdown",
      "metadata": {
        "id": "tSLF0CWPd_Fj"
      },
      "source": [
        "# Exercise 2: Multilayer Perceptron (MLP)"
      ]
    },
    {
      "cell_type": "markdown",
      "metadata": {
        "id": "Pgt1juMk9MXl"
      },
      "source": [
        "We have already seen the perceptron, which is a neural network consisting of an input layer and an output layer. The output layer is the one that performs the necessary computations. In the case of MLPs (Multilayer Perceptrons), we encounter neural networks with more computational layers, called hidden layers. This specific architecture of MLPs is known as feed-forward networks because successive layers feed into one another in the forward direction from input to output. The default architecture of MLPs assumes that all neurons are connected.\n",
        "\n",
        "In this part of the practice, we are going to create a two-layer MLP with 32 neurons in each layer from scratch. The purpose is to classify images of numbers from the Digits Dataset.\n",
        "\n",
        "This dataset contains around 180 instances for each class. Each class corresponds to a number (0, ..., 9). The dataset in total has 1797 instances and 64 columns. Since this dataset is created from images of numbers with a size of 8x8 pixels, each column corresponds to the value at a specific pixel, ranging from 0 to 16."
      ]
    },
    {
      "cell_type": "markdown",
      "metadata": {
        "id": "hctudffo92aI"
      },
      "source": [
        "## Load Data"
      ]
    },
    {
      "cell_type": "code",
      "execution_count": 9,
      "metadata": {
        "colab": {
          "base_uri": "https://localhost:8080/",
          "height": 255
        },
        "id": "jTrTUe029zT2",
        "outputId": "fb06111e-af98-40ad-b600-05473dbbdf4a"
      },
      "outputs": [
        {
          "data": {
            "text/html": [
              "<div>\n",
              "<style scoped>\n",
              "    .dataframe tbody tr th:only-of-type {\n",
              "        vertical-align: middle;\n",
              "    }\n",
              "\n",
              "    .dataframe tbody tr th {\n",
              "        vertical-align: top;\n",
              "    }\n",
              "\n",
              "    .dataframe thead th {\n",
              "        text-align: right;\n",
              "    }\n",
              "</style>\n",
              "<table border=\"1\" class=\"dataframe\">\n",
              "  <thead>\n",
              "    <tr style=\"text-align: right;\">\n",
              "      <th></th>\n",
              "      <th>pixel_0_0</th>\n",
              "      <th>pixel_0_1</th>\n",
              "      <th>pixel_0_2</th>\n",
              "      <th>pixel_0_3</th>\n",
              "      <th>pixel_0_4</th>\n",
              "      <th>pixel_0_5</th>\n",
              "      <th>pixel_0_6</th>\n",
              "      <th>pixel_0_7</th>\n",
              "      <th>pixel_1_0</th>\n",
              "      <th>pixel_1_1</th>\n",
              "      <th>...</th>\n",
              "      <th>pixel_6_7</th>\n",
              "      <th>pixel_7_0</th>\n",
              "      <th>pixel_7_1</th>\n",
              "      <th>pixel_7_2</th>\n",
              "      <th>pixel_7_3</th>\n",
              "      <th>pixel_7_4</th>\n",
              "      <th>pixel_7_5</th>\n",
              "      <th>pixel_7_6</th>\n",
              "      <th>pixel_7_7</th>\n",
              "      <th>target</th>\n",
              "    </tr>\n",
              "  </thead>\n",
              "  <tbody>\n",
              "    <tr>\n",
              "      <th>0</th>\n",
              "      <td>0.0</td>\n",
              "      <td>0.0</td>\n",
              "      <td>5.0</td>\n",
              "      <td>13.0</td>\n",
              "      <td>9.0</td>\n",
              "      <td>1.0</td>\n",
              "      <td>0.0</td>\n",
              "      <td>0.0</td>\n",
              "      <td>0.0</td>\n",
              "      <td>0.0</td>\n",
              "      <td>...</td>\n",
              "      <td>0.0</td>\n",
              "      <td>0.0</td>\n",
              "      <td>0.0</td>\n",
              "      <td>6.0</td>\n",
              "      <td>13.0</td>\n",
              "      <td>10.0</td>\n",
              "      <td>0.0</td>\n",
              "      <td>0.0</td>\n",
              "      <td>0.0</td>\n",
              "      <td>0</td>\n",
              "    </tr>\n",
              "    <tr>\n",
              "      <th>1</th>\n",
              "      <td>0.0</td>\n",
              "      <td>0.0</td>\n",
              "      <td>0.0</td>\n",
              "      <td>12.0</td>\n",
              "      <td>13.0</td>\n",
              "      <td>5.0</td>\n",
              "      <td>0.0</td>\n",
              "      <td>0.0</td>\n",
              "      <td>0.0</td>\n",
              "      <td>0.0</td>\n",
              "      <td>...</td>\n",
              "      <td>0.0</td>\n",
              "      <td>0.0</td>\n",
              "      <td>0.0</td>\n",
              "      <td>0.0</td>\n",
              "      <td>11.0</td>\n",
              "      <td>16.0</td>\n",
              "      <td>10.0</td>\n",
              "      <td>0.0</td>\n",
              "      <td>0.0</td>\n",
              "      <td>1</td>\n",
              "    </tr>\n",
              "    <tr>\n",
              "      <th>2</th>\n",
              "      <td>0.0</td>\n",
              "      <td>0.0</td>\n",
              "      <td>0.0</td>\n",
              "      <td>4.0</td>\n",
              "      <td>15.0</td>\n",
              "      <td>12.0</td>\n",
              "      <td>0.0</td>\n",
              "      <td>0.0</td>\n",
              "      <td>0.0</td>\n",
              "      <td>0.0</td>\n",
              "      <td>...</td>\n",
              "      <td>0.0</td>\n",
              "      <td>0.0</td>\n",
              "      <td>0.0</td>\n",
              "      <td>0.0</td>\n",
              "      <td>3.0</td>\n",
              "      <td>11.0</td>\n",
              "      <td>16.0</td>\n",
              "      <td>9.0</td>\n",
              "      <td>0.0</td>\n",
              "      <td>2</td>\n",
              "    </tr>\n",
              "    <tr>\n",
              "      <th>3</th>\n",
              "      <td>0.0</td>\n",
              "      <td>0.0</td>\n",
              "      <td>7.0</td>\n",
              "      <td>15.0</td>\n",
              "      <td>13.0</td>\n",
              "      <td>1.0</td>\n",
              "      <td>0.0</td>\n",
              "      <td>0.0</td>\n",
              "      <td>0.0</td>\n",
              "      <td>8.0</td>\n",
              "      <td>...</td>\n",
              "      <td>0.0</td>\n",
              "      <td>0.0</td>\n",
              "      <td>0.0</td>\n",
              "      <td>7.0</td>\n",
              "      <td>13.0</td>\n",
              "      <td>13.0</td>\n",
              "      <td>9.0</td>\n",
              "      <td>0.0</td>\n",
              "      <td>0.0</td>\n",
              "      <td>3</td>\n",
              "    </tr>\n",
              "    <tr>\n",
              "      <th>4</th>\n",
              "      <td>0.0</td>\n",
              "      <td>0.0</td>\n",
              "      <td>0.0</td>\n",
              "      <td>1.0</td>\n",
              "      <td>11.0</td>\n",
              "      <td>0.0</td>\n",
              "      <td>0.0</td>\n",
              "      <td>0.0</td>\n",
              "      <td>0.0</td>\n",
              "      <td>0.0</td>\n",
              "      <td>...</td>\n",
              "      <td>0.0</td>\n",
              "      <td>0.0</td>\n",
              "      <td>0.0</td>\n",
              "      <td>0.0</td>\n",
              "      <td>2.0</td>\n",
              "      <td>16.0</td>\n",
              "      <td>4.0</td>\n",
              "      <td>0.0</td>\n",
              "      <td>0.0</td>\n",
              "      <td>4</td>\n",
              "    </tr>\n",
              "  </tbody>\n",
              "</table>\n",
              "<p>5 rows × 65 columns</p>\n",
              "</div>"
            ],
            "text/plain": [
              "   pixel_0_0  pixel_0_1  pixel_0_2  pixel_0_3  pixel_0_4  pixel_0_5  \\\n",
              "0        0.0        0.0        5.0       13.0        9.0        1.0   \n",
              "1        0.0        0.0        0.0       12.0       13.0        5.0   \n",
              "2        0.0        0.0        0.0        4.0       15.0       12.0   \n",
              "3        0.0        0.0        7.0       15.0       13.0        1.0   \n",
              "4        0.0        0.0        0.0        1.0       11.0        0.0   \n",
              "\n",
              "   pixel_0_6  pixel_0_7  pixel_1_0  pixel_1_1  ...  pixel_6_7  pixel_7_0  \\\n",
              "0        0.0        0.0        0.0        0.0  ...        0.0        0.0   \n",
              "1        0.0        0.0        0.0        0.0  ...        0.0        0.0   \n",
              "2        0.0        0.0        0.0        0.0  ...        0.0        0.0   \n",
              "3        0.0        0.0        0.0        8.0  ...        0.0        0.0   \n",
              "4        0.0        0.0        0.0        0.0  ...        0.0        0.0   \n",
              "\n",
              "   pixel_7_1  pixel_7_2  pixel_7_3  pixel_7_4  pixel_7_5  pixel_7_6  \\\n",
              "0        0.0        6.0       13.0       10.0        0.0        0.0   \n",
              "1        0.0        0.0       11.0       16.0       10.0        0.0   \n",
              "2        0.0        0.0        3.0       11.0       16.0        9.0   \n",
              "3        0.0        7.0       13.0       13.0        9.0        0.0   \n",
              "4        0.0        0.0        2.0       16.0        4.0        0.0   \n",
              "\n",
              "   pixel_7_7  target  \n",
              "0        0.0       0  \n",
              "1        0.0       1  \n",
              "2        0.0       2  \n",
              "3        0.0       3  \n",
              "4        0.0       4  \n",
              "\n",
              "[5 rows x 65 columns]"
            ]
          },
          "execution_count": 9,
          "metadata": {},
          "output_type": "execute_result"
        }
      ],
      "source": [
        "from sklearn.datasets import load_digits\n",
        "digits = load_digits()\n",
        "df = pd.DataFrame(digits.data, columns=digits.feature_names)\n",
        "df['target'] = digits.target\n",
        "df.head()"
      ]
    },
    {
      "cell_type": "code",
      "execution_count": 10,
      "metadata": {
        "colab": {
          "base_uri": "https://localhost:8080/",
          "height": 447
        },
        "id": "9LsgkEcJ97_I",
        "outputId": "1854722a-ec2a-49fb-d235-50779d4af6a8"
      },
      "outputs": [
        {
          "data": {
            "text/plain": [
              "<matplotlib.image.AxesImage at 0x29cb0ad80>"
            ]
          },
          "execution_count": 10,
          "metadata": {},
          "output_type": "execute_result"
        },
        {
          "data": {
            "image/png": "[encoded data removed]",
            "text/plain": [
              "<Figure size 640x480 with 1 Axes>"
            ]
          },
          "metadata": {},
          "output_type": "display_data"
        }
      ],
      "source": [
        "plt.imshow(digits.images[0], cmap=plt.cm.gray_r, interpolation='nearest')"
      ]
    },
    {
      "cell_type": "code",
      "execution_count": 11,
      "metadata": {
        "cellView": "form",
        "id": "LhONCPTvmasZ"
      },
      "outputs": [],
      "source": [
        "#@title Activation Functions\n",
        "\n",
        "def sigmoid(x):\n",
        "    # Clip values to avoid overflow\n",
        "    x = np.clip(x, -500, 500)\n",
        "    return 1 / (1 + np.exp(-x))\n",
        "\n",
        "def softmax(x):\n",
        "    exp_x = np.exp(x - np.max(x, axis=1, keepdims=True))\n",
        "    return exp_x / np.sum(exp_x, axis=1, keepdims=True)\n",
        "\n",
        "def sigmoid_derivative(x):\n",
        "    return sigmoid(x) * (1 - sigmoid(x))\n",
        "\n",
        "def softmax_derivative(x):\n",
        "    softmax_x = np.exp(x - np.max(x, axis=1, keepdims=True))\n",
        "    softmax_x /= np.sum(softmax_x, axis=1, keepdims=True)\n",
        "    return softmax_x * (1 - softmax_x)"
      ]
    },
    {
      "cell_type": "code",
      "execution_count": 12,
      "metadata": {
        "cellView": "form",
        "id": "p0edbrlEmv0w"
      },
      "outputs": [],
      "source": [
        "#@title Loss Function\n",
        "\n",
        "def loss_function(y_true, y_pred):\n",
        "  epsilon = np.finfo(float).eps\n",
        "  return -np.mean(y_true * np.log(y_pred + epsilon))\n",
        "\n",
        "def loss_function_derivative(y_true, y_pred):\n",
        "    epsilon = np.finfo(float).eps\n",
        "    return (y_pred - y_true) / (y_pred * (1 - y_pred) + epsilon)"
      ]
    },
    {
      "cell_type": "code",
      "execution_count": 13,
      "metadata": {
        "cellView": "form",
        "id": "iX8TeejM9-03"
      },
      "outputs": [],
      "source": [
        "#@title MLP\n",
        "\n",
        "class MLP:\n",
        "    def __init__(self, learning_rate, epochs):\n",
        "        self.weights = {}\n",
        "        self.biases = {}\n",
        "        self.learning_rate = learning_rate\n",
        "        self.epochs = epochs\n",
        "        self.losses = []\n",
        "        self.random_state = np.random.RandomState(42)\n",
        "        self.layer_sizes = []\n",
        "\n",
        "    def initialize_parameters(self):\n",
        "        for i in range(len(self.layer_sizes) - 1):\n",
        "            self.weights[i] = self.random_state.randn(self.layer_sizes[i], self.layer_sizes[i + 1])\n",
        "            self.biases[i] = np.zeros((1, self.layer_sizes[i + 1]))\n",
        "\n",
        "    def forward(self, x):\n",
        "        self.activations = {}\n",
        "        self.activations[0] = x\n",
        "        for i in range(len(self.layer_sizes) - 1):\n",
        "            self.activations[i + 1] = np.dot(self.activations[i], self.weights[i]) + self.biases[i]\n",
        "            if i != len(self.layer_sizes) - 2:\n",
        "                self.activations[i + 1] = sigmoid(self.activations[i + 1])\n",
        "            else:\n",
        "                self.activations[i + 1] = softmax(self.activations[i + 1])\n",
        "\n",
        "    def backward(self, y):\n",
        "        self.gradients = {}\n",
        "        loss_derivative = loss_function_derivative(y, self.activations[len(self.layer_sizes) - 1])\n",
        "        self.gradients[len(self.layer_sizes) - 2] = loss_derivative\n",
        "        for i in range(len(self.layer_sizes) - 2, 0, -1):\n",
        "            self.gradients[i - 1] = np.dot(self.gradients[i], self.weights[i].T) * sigmoid_derivative(self.activations[i])\n",
        "\n",
        "    def clip_gradients(self):\n",
        "        max_grad_norm = 1.0\n",
        "        for i in range(len(self.layer_sizes) - 1):\n",
        "            grad_norm = np.linalg.norm(self.gradients[i])\n",
        "            if grad_norm > max_grad_norm:\n",
        "                scale = max_grad_norm / (grad_norm + 1e-6)\n",
        "                self.gradients[i] *= scale\n",
        "\n",
        "    def update_parameters(self):\n",
        "        self.clip_gradients()\n",
        "        for i in range(len(self.layer_sizes) - 1):\n",
        "            self.weights[i] -= self.learning_rate * np.dot(self.activations[i].T, self.gradients[i])\n",
        "            self.biases[i] -= self.learning_rate * np.sum(self.gradients[i], axis=0, keepdims=True)\n",
        "\n",
        "    def fit(self, x, y):\n",
        "        self.layer_sizes = [x.shape[1], 32, 32, y.shape[1]]\n",
        "        self.initialize_parameters()\n",
        "        for _ in range(self.epochs):\n",
        "            self.forward(x)\n",
        "            self.backward(y)\n",
        "            self.update_parameters()\n",
        "            self.losses.append(loss_function(y, self.activations[len(self.layer_sizes) - 1]))\n",
        "            print(f\"\\rEpoch:{_+1}, Loss:{self.losses[-1]:.4f}\",end=\"\")\n",
        "\n",
        "    def predict(self, x):\n",
        "        self.forward(x)\n",
        "        return self.activations[len(self.layer_sizes) - 1]\n",
        "\n",
        "    def evaluate_accuracy(self, x, y):\n",
        "        predictions = self.predict(x)\n",
        "        accuracy = np.mean(np.argmax(predictions, axis=1) == np.argmax(y, axis=1))\n",
        "        return accuracy"
      ]
    },
    {
      "cell_type": "code",
      "execution_count": 14,
      "metadata": {
        "id": "VGSPYND7776E"
      },
      "outputs": [],
      "source": [
        "from sklearn.preprocessing import StandardScaler\n",
        "\n",
        "# Scale the features\n",
        "scaler = StandardScaler()\n",
        "X = scaler.fit_transform(digits.data)  # Scale the features\n",
        "y = pd.get_dummies(digits.target).values  # One-hot encode the target\n",
        "\n",
        "# Split the dataset into training and testing sets\n",
        "x_train, x_test, y_train, y_test = train_test_split(X, y, test_size=0.2, random_state=42)"
      ]
    },
    {
      "cell_type": "code",
      "execution_count": 15,
      "metadata": {
        "colab": {
          "base_uri": "https://localhost:8080/"
        },
        "id": "PSIMxFGX8D34",
        "outputId": "15fa7d54-84a2-48c0-b748-3e30381aa8d3"
      },
      "outputs": [
        {
          "name": "stdout",
          "output_type": "stream",
          "text": [
            "Epoch:1000, Loss:0.0877"
          ]
        }
      ],
      "source": [
        "# Train our MLP and get the predictions\n",
        "\n",
        "nn = MLP(learning_rate=0.001, epochs=1000)\n",
        "nn.fit(x_train, y_train)\n",
        "y_pred = nn.predict(x_test)"
      ]
    },
    {
      "cell_type": "code",
      "execution_count": 16,
      "metadata": {
        "colab": {
          "base_uri": "https://localhost:8080/",
          "height": 712
        },
        "id": "VqYY2pub8Iur",
        "outputId": "98f26f48-1078-49e7-d63b-85559dfbc1df"
      },
      "outputs": [
        {
          "name": "stdout",
          "output_type": "stream",
          "text": [
            "Accuracy: 0.7166666666666667\n"
          ]
        },
        {
          "data": {
            "text/plain": [
              "Text(0.5, 1.0, 'Confusion Matrix')"
            ]
          },
          "execution_count": 16,
          "metadata": {},
          "output_type": "execute_result"
        },
        {
          "data": {
            "image/png": "[encoded data removed]",
            "text/plain": [
              "<Figure size 1500x800 with 3 Axes>"
            ]
          },
          "metadata": {},
          "output_type": "display_data"
        }
      ],
      "source": [
        "# Plot results\n",
        "\n",
        "print(\"Accuracy:\", nn.evaluate_accuracy(x_test, y_test))\n",
        "\n",
        "fig, ax = plt.subplots(1, 2, figsize=(15, 8))\n",
        "\n",
        "ax[0].plot(range(nn.epochs), nn.losses)\n",
        "ax[0].set_title('Loss Results')\n",
        "\n",
        "\n",
        "cm = confusion_matrix(y_test.argmax(axis=1), y_pred.argmax(axis=1))\n",
        "cm_df = pd.DataFrame(cm, index = range(10),  columns = range(10))\n",
        "sns.heatmap(cm_df, annot=True, fmt='g', cmap='Blues')\n",
        "ax[1].set_title('Confusion Matrix')"
      ]
    },
    {
      "cell_type": "code",
      "execution_count": 17,
      "metadata": {
        "colab": {
          "base_uri": "https://localhost:8080/",
          "height": 675
        },
        "id": "9lLnYIa18R4d",
        "outputId": "84591947-9690-4d9f-bcc0-7e5a55f62d6e"
      },
      "outputs": [
        {
          "data": {
            "image/png": "[encoded data removed]",
            "text/plain": [
              "<Figure size 1500x800 with 9 Axes>"
            ]
          },
          "metadata": {},
          "output_type": "display_data"
        }
      ],
      "source": [
        "# Plot real data and the predictions\n",
        "inverse = scaler.inverse_transform(x_test)\n",
        "\n",
        "fig, ax = plt.subplots(3, 3, figsize=(15, 8))\n",
        "plot_indexs = [[0,0], [0,1], [0,2], [1,0], [1,1], [1,2], [2,0], [2,1], [2,2]]\n",
        "for i, plot_index in enumerate(plot_indexs):\n",
        "    ax[plot_index[0], plot_index[1]].imshow(inverse[i].reshape(8, 8), cmap=plt.cm.gray_r, interpolation='nearest')\n",
        "    ax[plot_index[0], plot_index[1]].set_title(\"Prediction: {}\".format(y_pred[i].argmax()))\n",
        "    ax[plot_index[0], plot_index[1]].axis('off')"
      ]
    },
    {
      "cell_type": "markdown",
      "metadata": {
        "id": "4rng5emThx0S"
      },
      "source": [
        "### Questions"
      ]
    },
    {
      "cell_type": "markdown",
      "metadata": {
        "id": "b86EC9T3iOfl"
      },
      "source": [
        "1. **How many layers and neurons does our MLP have?**"
      ]
    },
    {
      "cell_type": "markdown",
      "metadata": {
        "id": "6HjFJK0-iOdD"
      },
      "source": [
        "La red neuronal tiene dos capas ocultas y cada capa oculta tiene 32 neuronas."
      ]
    },
    {
      "cell_type": "markdown",
      "metadata": {
        "id": "96lRdu5hiOa_"
      },
      "source": [
        "2. **Which activation function is used in the hidden layers and which in the output layer?**"
      ]
    },
    {
      "cell_type": "markdown",
      "metadata": {
        "id": "kuyexi3ciOY7"
      },
      "source": [
        "La función de activación utilizada en las capas ocultas es la función de activación son la función de activación sigmoide y la función de activación utilizada en la capa de salida es la función de activación softmax."
      ]
    },
    {
      "cell_type": "markdown",
      "metadata": {
        "id": "_RzMX6LR8TJL"
      },
      "source": [
        "## Simple with TensorFlow"
      ]
    },
    {
      "cell_type": "code",
      "execution_count": 4,
      "metadata": {
        "id": "li3z-mF38zAx"
      },
      "outputs": [],
      "source": [
        "import tensorflow as tf\n",
        "tf.random.set_seed(22)\n",
        "\n",
        "class MLP_TF:\n",
        "    def __init__(self, learning_rate, epochs):\n",
        "        self.model = tf.keras.Sequential()\n",
        "        self.learning_rate = learning_rate\n",
        "        self.epochs = epochs\n",
        "        self.losses = []\n",
        "\n",
        "    def build_model(self, input_size, output_size, hidden_layer_size):\n",
        "        self.model.add(tf.keras.layers.InputLayer(input_shape=(input_size,)))\n",
        "\n",
        "        # Add hidden layers\n",
        "        for size in hidden_layer_size:\n",
        "            self.model.add(tf.keras.layers.Dense(size, activation='sigmoid'))\n",
        "\n",
        "        # Add output layer\n",
        "        self.model.add(tf.keras.layers.Dense(output_size, activation='softmax'))\n",
        "\n",
        "        self.model.compile(optimizer=tf.keras.optimizers.SGD(learning_rate=self.learning_rate),\n",
        "                           loss='categorical_crossentropy')\n",
        "\n",
        "    def fit(self, x, y):\n",
        "        input_size = x.shape[1]\n",
        "        output_size = y.shape[1]\n",
        "        hidden_layer_size = [4, 4]\n",
        "\n",
        "        self.build_model(input_size, output_size, hidden_layer_size)\n",
        "\n",
        "        y_categorical = tf.keras.utils.to_categorical(np.argmax(y, axis=1), num_classes=output_size)\n",
        "\n",
        "        history = self.model.fit(x, y_categorical, epochs=self.epochs)\n",
        "\n",
        "        self.losses = history.history['loss']\n",
        "\n",
        "    def predict(self, x):\n",
        "        probabilities = self.model.predict(x)\n",
        "        return np.round(probabilities).astype(int)\n",
        "\n",
        "    def evaluate_accuracy(self, x, y):\n",
        "        predictions = self.predict(x)\n",
        "        accuracy = np.mean(np.argmax(predictions, axis=1) == np.argmax(y, axis=1))\n",
        "        return accuracy"
      ]
    },
    {
      "cell_type": "code",
      "execution_count": 5,
      "metadata": {
        "id": "x8chzS5G85AQ"
      },
      "outputs": [
        {
          "ename": "NameError",
          "evalue": "name 'MLP' is not defined",
          "output_type": "error",
          "traceback": [
            "\u001b[0;31m---------------------------------------------------------------------------\u001b[0m",
            "\u001b[0;31mNameError\u001b[0m                                 Traceback (most recent call last)",
            "Cell \u001b[0;32mIn[5], line 1\u001b[0m\n\u001b[0;32m----> 1\u001b[0m nn \u001b[38;5;241m=\u001b[39m MLP(learning_rate\u001b[38;5;241m=\u001b[39m\u001b[38;5;241m0.01\u001b[39m, epochs\u001b[38;5;241m=\u001b[39m\u001b[38;5;241m1000\u001b[39m)\n\u001b[1;32m      2\u001b[0m nn\u001b[38;5;241m.\u001b[39mfit(x_train, y_train)\n",
            "\u001b[0;31mNameError\u001b[0m: name 'MLP' is not defined"
          ]
        }
      ],
      "source": [
        "nn = MLP(learning_rate=0.01, epochs=1000)\n",
        "nn.fit(x_train, y_train)"
      ]
    },
    {
      "cell_type": "code",
      "execution_count": null,
      "metadata": {
        "colab": {
          "base_uri": "https://localhost:8080/",
          "height": 447
        },
        "id": "-q7m2j4D86qZ",
        "outputId": "a4197249-8c5b-4040-be9d-2548eef97aec"
      },
      "outputs": [
        {
          "data": {
            "text/plain": [
              "[<matplotlib.lines.Line2D at 0x7876db1b7250>]"
            ]
          },
          "execution_count": 44,
          "metadata": {},
          "output_type": "execute_result"
        },
        {
          "data": {
            "image/png": "[encoded data removed]",
            "text/plain": [
              "<Figure size 640x480 with 1 Axes>"
            ]
          },
          "metadata": {},
          "output_type": "display_data"
        }
      ],
      "source": [
        "# Plot results\n",
        "\n",
        "print(\"Accuracy:\", nn.evaluate_accuracy(x_test, y_test))\n",
        "\n",
        "fig, ax = plt.subplots(1, 2, figsize=(15, 8))\n",
        "\n",
        "ax[0].plot(range(nn.epochs), nn.losses)\n",
        "ax[0].set_title('Loss Results')\n",
        "\n",
        "cm = confusion_matrix(y_test.argmax(axis=1), y_pred.argmax(axis=1))\n",
        "cm_df = pd.DataFrame(cm, index = range(10),  columns = range(10))\n",
        "sns.heatmap(cm_df, annot=True, fmt='g', cmap='Blues')\n",
        "ax[1].set_title('Confusion Matrix')\n",
        "\n",
        "plt.show()"
      ]
    }
  ],
  "metadata": {
    "colab": {
      "provenance": []
    },
    "kernelspec": {
      "display_name": "Python 3",
      "name": "python3"
    },
    "language_info": {
      "codemirror_mode": {
        "name": "ipython",
        "version": 3
      },
      "file_extension": ".py",
      "mimetype": "text/x-python",
      "name": "python",
      "nbconvert_exporter": "python",
      "pygments_lexer": "ipython3",
      "version": "3.11.5"
    }
  },
  "nbformat": 4,
  "nbformat_minor": 0
}
