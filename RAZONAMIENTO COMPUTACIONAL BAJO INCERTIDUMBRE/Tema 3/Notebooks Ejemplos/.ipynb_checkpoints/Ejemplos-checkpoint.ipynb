{
 "cells": [
  {
   "cell_type": "markdown",
   "id": "978fa886-cd34-488a-881a-429e65d7e821",
   "metadata": {},
   "source": [
    "# Filtro de Kalman"
   ]
  },
  {
   "cell_type": "markdown",
   "id": "1439b213-af4a-49fe-b9f3-e75d397f89ce",
   "metadata": {},
   "source": [
    "## Paso 1\n",
    "Inicialización Se inicializa el filtro con dos componentes principales: el estado inicial y la matriz de covarianza inicial. El estado inicial es la mejor estimación inicial del estado del sistema, y la matriz de covarianza inicial recoge la incertidumbre asociada a esa estimación.\n"
   ]
  },
  {
   "cell_type": "code",
   "execution_count": 10,
   "id": "9e722dfa-c275-4a47-a542-c56196e5838b",
   "metadata": {},
   "outputs": [],
   "source": [
    "import numpy as np\n",
    "#Inicializacion del estado inicial y la matriz de covarianza inicial\n",
    "estado_inicial = np.array([0, 0]) #Estado inicial [0, 0]\n",
    "mat_cov_inicial = np.eye(2) #La matriz de covarianza inicial es la identidad"
   ]
  },
  {
   "cell_type": "markdown",
   "id": "23c0afca-4528-4d3b-847d-ebad7f56453b",
   "metadata": {},
   "source": [
    "## Paso 2: Predicción del estado\n",
    "Para predecir el estado futuro y su matriz de covarianza se hace uso del modelo dinámico del sistema. En el caso de disponer de controles externos, se pueden agregar en este paso."
   ]
  },
  {
   "cell_type": "code",
   "execution_count": 11,
   "id": "a7865b1f-d00e-4812-a11a-9942060c1824",
   "metadata": {},
   "outputs": [],
   "source": [
    "#Modelo dinamico simple (por ejemplo, movimiento rectilineo constante) \n",
    "A = np.array([[1, 1], [0, 1]]) #Matriz de transicion de estado\n",
    "B = np.array([0.5, 1]) #Vector de control (opcional)\n",
    "#Prediccion del estado futuro\n",
    "estado_predicho = np.dot(A, estado_inicial) + B\n",
    "mat_cov_predicha = np.dot(np.dot(A, mat_cov_inicial), A.T)"
   ]
  },
  {
   "cell_type": "markdown",
   "id": "28a68d32-6135-4a56-9402-3b657ab16c5d",
   "metadata": {},
   "source": [
    "## Paso 3: Corrección (actualización) a partir de las observaciones\n",
    "Comparativa de las predicciones y las observaciones actuales para mejorar la estimación del estado y su incertidumbre."
   ]
  },
  {
   "cell_type": "code",
   "execution_count": 12,
   "id": "bfacd19a-9f9d-44f4-abe5-18caf2b8597e",
   "metadata": {},
   "outputs": [],
   "source": [
    "#Observaciones actuales (simuladas)\n",
    "observacion = np.array([2.2, 1.8])\n",
    "#Modelo de observacion (por ejemplo, medicion lineal)\n",
    "H = np.array([[1, 0], [0, 1]]) #Matriz de observacion \n",
    "med_ruido = np.eye(2) * 0.1 #Ruido de medicion\n",
    "#Calculo de la ganancia de Kalman\n",
    "K = np.dot(np.dot(mat_cov_predicha, H.T), np.linalg.inv(np.dot(np.dot( H, mat_cov_predicha), H.T) + med_ruido))\n",
    "#Actualizacion del estado estimado y la matriz de covarianza\n",
    "estado_actualizado = estado_predicho + np.dot(K, observacion - np.dot( H, estado_predicho))\n",
    "mat_cov_actualizada = np.dot(np.eye(2) - np.dot(K, H),\n",
    "mat_cov_predicha)"
   ]
  },
  {
   "cell_type": "markdown",
   "id": "fde9d930-4c14-4ab5-9d10-c4cfe1741167",
   "metadata": {},
   "source": [
    "## Paso 4: Repetición del proceso\n",
    "Este proceso se repite en cada paso t de tiempo, utilizando las ob- servaciones más recientes para mejorar la estimación del estado del sistema."
   ]
  },
  {
   "cell_type": "code",
   "execution_count": null,
   "id": "0d18493f-4ba6-417e-a800-0b8079879616",
   "metadata": {},
   "outputs": [],
   "source": []
  },
  {
   "cell_type": "markdown",
   "id": "ed8b6897-9e6b-4ede-b826-04d9fb34b124",
   "metadata": {},
   "source": [
    "# Filtro de Partículas"
   ]
  },
  {
   "cell_type": "markdown",
   "id": "e31db89b-4c4a-49ed-b2d1-e07df7f2e22c",
   "metadata": {},
   "source": [
    "## Paso 1: Inicialización de partículas\n",
    "Se inicia con un conjunto de partículas que representan diferentes hipótesis sobre el estado del sistema. Cada partícula tiene una posición, estado o conjunto de parámetros asociados."
   ]
  },
  {
   "cell_type": "code",
   "execution_count": 16,
   "id": "0049322b-e93f-489a-a919-02e0ebaa318a",
   "metadata": {},
   "outputs": [],
   "source": [
    "import random\n",
    "import math\n",
    "# Numero de particulas\n",
    "num_particulas = 100\n",
    "\n",
    "# Inicializacion de particulas aleatorias en el rango de la posicion\n",
    "particulas = [random.uniform(0, 100) for _ in range(num_particulas)]"
   ]
  },
  {
   "cell_type": "markdown",
   "id": "8633563f-6a7b-4908-a1be-9709dd217786",
   "metadata": {},
   "source": [
    "## Paso 2: Predicción\n",
    "Se predice cómo evolucionarán las partículas en el siguiente paso de tiempo utilizando un modelo de transición que describe cómo el sistema cambia con el tiempo. Se agrega ruido para representar la incertidumbre en las predicciones."
   ]
  },
  {
   "cell_type": "code",
   "execution_count": 17,
   "id": "4c4b94a9-d182-4b9c-9188-5ea59f17c45d",
   "metadata": {},
   "outputs": [],
   "source": [
    "def modelo_de_transicion(particula):\n",
    "#Se simula un movimiento aleatorio positivo con una cierta velocidad constante\n",
    "    velocidad = random.uniform(0, 2)\n",
    "    return particula + velocidad\n",
    "    \n",
    "#Se aplica el modelo de transicion a todas las particulas\n",
    "particulas = [modelo_de_transicion(p) for p in particulas]"
   ]
  },
  {
   "cell_type": "markdown",
   "id": "df3f0a69-9107-45ae-9f88-a2bf4264d5cf",
   "metadata": {},
   "source": [
    "## Paso 3: Actualización\n",
    "Se compara cada partícula con las observaciones reales del sistema. Cada partícula obtiene un peso que refleja cómo de bien se ajusta a las observaciones. Las partículas que se ajustan mejor a las observaciones reciben pesos más altos."
   ]
  },
  {
   "cell_type": "code",
   "execution_count": 18,
   "id": "8ec2b99b-91c0-41d0-8d3f-0e51773da814",
   "metadata": {},
   "outputs": [],
   "source": [
    "posicion_real = 27 #Posicion real del objeto\n",
    "def calcular_peso(particula, medicion, desviacion_estandar):\n",
    "#Se calcula la probabilidad de que la particula sea consistente con la medicion\n",
    "    probabilidad = 1 / (desviacion_estandar * (2 * 3.14159) ** 0.5) * \\\n",
    "                   math.exp(-(particula - medicion) ** 2 / (2 *\n",
    "                                     desviacion_estandar ** 2))\n",
    "    return probabilidad\n",
    "    \n",
    "desviacion_estandar = 4 #Desviacion estandar del ruido de medicion\n",
    "\n",
    "#Se calculan los pesos de las particulas en funcion de la medicion\n",
    "pesos = [calcular_peso(p, posicion_real, desviacion_estandar) for p in particulas]\n",
    "\n",
    "#Se normalizan los pesos para que sumen 1\n",
    "suma_pesos = sum(pesos)\n",
    "pesos_normalizados = [p / suma_pesos for p in pesos]"
   ]
  },
  {
   "cell_type": "markdown",
   "id": "6d72efae-3de1-401b-bc3b-56e9f036ab1a",
   "metadata": {},
   "source": [
    "## Paso 4: Resampling\n",
    "Las partículas se muestrean de acuerdo a sus pesos. Las partículas con pesos más altos tienen una mayor probabilidad de ser seleccionadas, mientras que las partículas con pesos bajos tienen menos probabilidad. Este paso ayuda a enfocar el conjunto de partículas en las regiones más prometedoras del espacio de estado"
   ]
  },
  {
   "cell_type": "code",
   "execution_count": 22,
   "id": "2102c1a0-3f8a-4c94-963f-05db96b002c4",
   "metadata": {},
   "outputs": [],
   "source": [
    "def resampling(particulas, pesos):\n",
    "    nueva_generacion = []\n",
    "    num_particulas = len(particulas)\n",
    "    for _ in range(num_particulas):\n",
    "    #Se selecciona una particula en base a sus pesos normalizados \n",
    "        particula_seleccionada = random.choices(particulas, pesos_normalizados)[0]\n",
    "        nueva_generacion.append(particula_seleccionada)\n",
    "    return nueva_generacion\n",
    "        \n",
    "particulas = resampling(particulas, pesos_normalizados)"
   ]
  },
  {
   "cell_type": "markdown",
   "id": "60c0c06b-0c4c-460b-b860-8ce170218929",
   "metadata": {},
   "source": [
    "## Paso 5: Estimación del estado\n",
    "Se estima el estado del sistema combinando las partículas muestreadas. Esto se hace calculando la media ponderada de las posiciones de las partículas."
   ]
  },
  {
   "cell_type": "code",
   "execution_count": 23,
   "id": "ace18daf-c08f-4efa-a0a9-47ed9422195e",
   "metadata": {},
   "outputs": [
    {
     "name": "stdout",
     "output_type": "stream",
     "text": [
      "Estado estimado: 26.116770044047325\n"
     ]
    }
   ],
   "source": [
    "estado_estimado = sum(particulas) / len(particulas) #Media ponderada \n",
    "print(\"Estado estimado:\", estado_estimado)"
   ]
  },
  {
   "cell_type": "markdown",
   "id": "beb2729c-58a1-4b15-98e6-ea3d6f642a46",
   "metadata": {},
   "source": [
    "# Metropolis-Hastings"
   ]
  },
  {
   "cell_type": "code",
   "execution_count": 24,
   "id": "885b3628-fcde-4082-8bf2-de2285a56525",
   "metadata": {},
   "outputs": [],
   "source": [
    "import numpy as np\n",
    "import matplotlib.pyplot as plt\n",
    "\n",
    "#Funcion objetivo: Distribucion normal con media desconocida\n",
    "def objetivo(x, media):\n",
    "    return np.exp(-(x - media) ** 2 / 2)"
   ]
  },
  {
   "cell_type": "code",
   "execution_count": 29,
   "id": "4c93552d-235d-4f29-887b-fcfffe0f29a7",
   "metadata": {},
   "outputs": [
    {
     "data": {
      "image/png": "[encoded data removed]",
      "text/plain": [
       "<Figure size 640x480 with 1 Axes>"
      ]
     },
     "metadata": {},
     "output_type": "display_data"
    }
   ],
   "source": [
    "#Algoritmo de Metropolis-Hastings\n",
    "def metropolis_hastings(iteraciones, media_propuesta, desviacion_estandar_propuesta,\n",
    "    muestra_inicial):\n",
    "    #PASO 1: Se inicializa desde un punto inicial en el espacio de muestra\n",
    "    muestra_actual = muestra_inicial \n",
    "    muestras = [muestra_actual]\n",
    "\n",
    "    #Se repite un numero suficiente de veces para obtener muestras que se distribuyan de acuerdo con la distribucion objetivo\n",
    "    for _ in range(iteraciones): \n",
    "        #PASO 2: Generar un candidato de la distribucion propuesta, que puede ser simetrica o no. Buscar una que sea facil de muestrear (por ejemplo, la normal)\n",
    "        candidato = np.random.normal(muestra_actual, desviacion_estandar_propuesta)\n",
    "        #PASO 3: Calcular la relacion de aceptacion (la razon entre la densidad de probabilidad en la propuesta y la densidad de probabilidad en el valor actual)\n",
    "        ratio_aceptacion = objetivo(candidato, media_propuesta) / objetivo(muestra_actual, media_propuesta)\n",
    "        #PASO 4: Aceptar o rechazar el candidato. Si el cociente de aceptacion es mayor o igual a 1, se acepta la propuesta. Sino se acepta la propuesta con una probabilidad igual al cociente de aceptacion\n",
    "        if np.random.rand() < ratio_aceptacion: muestra_actual = candidato\n",
    "            #PASO 5: Actualizacion del valor actual de la variable aleatoria con el nuevo valorpropuesto. Si se rechaza la propuesta, el valor actual se conserva\n",
    "        muestras.append(muestra_actual)\n",
    "    return muestras\n",
    "#Parametros del problema\n",
    "media_real = 5.0\n",
    "desviacion_estandar_propuesta = 1.0\n",
    "iteraciones = 10000\n",
    "\n",
    "#Ejecutar el algoritmo de Metropolis-Hastings\n",
    "muestra_inicial = 0.0 #Punto de inicio arbitrario \n",
    "muestras = metropolis_hastings(iteraciones, media_real, desviacion_estandar_propuesta, muestra_inicial)\n",
    "\n",
    "\n",
    "#Visualizar las muestras generadas\n",
    "plt.hist(muestras, bins=50, density=True, alpha=0.6, color=\"b\")\n",
    "x = np.linspace(-5, 15, 100)\n",
    "plt.plot(x, objetivo(x, media_real), \"r-\", lw=2)\n",
    "plt.xlabel(\"Muestra\")\n",
    "plt.ylabel(\"Densidad\")\n",
    "plt.title(\"Muestreo con Metropolis-Hastings\")\n",
    "plt.show()"
   ]
  },
  {
   "cell_type": "markdown",
   "id": "1de301de-04a7-4639-85e7-7f1a0e8755d6",
   "metadata": {},
   "source": [
    "# Muestreo de Gibbs\n"
   ]
  },
  {
   "cell_type": "code",
   "execution_count": 34,
   "id": "c76c560f-c505-4aba-a6ec-5893270fa9ee",
   "metadata": {},
   "outputs": [],
   "source": [
    "import numpy as np\n",
    "#Definir una distribucion conjunta (por ejemplo, una distribucion gaussiana bidimensional)\n",
    "media = np.array([0, 0])\n",
    "covarianza = np.array([[1, 0.5], [0.5, 1]])\n",
    "#Numero de muestras a generar\n",
    "num_muestras = 1000\n",
    "#PASO 1: Inicializar las variables de interes con valores iniciales\n",
    "x=0\n",
    "y=0\n",
    "muestras = []\n",
    "#Realizar el muestreo de Gibbs\n",
    "for _ in range(num_muestras): #Despues de un numero suficiente deiteraciones, las muestras generadas convergen hacia la distribucion conjunta deseada\n",
    "    #PASO 2: Muestrear x dado y (distribucion condicional de x)\n",
    "    x = np.random.normal(media[0] + covarianza[0, 1] * (y - media[1]) / covarianza[1, 1], np.sqrt( covarianza[0, 0] - covarianza[0, 1]** 2 / covarianza[1, 1]))\n",
    "    #PASO 3: Muestrear y dado x (distribucion condicional de y)\n",
    "    y = np.random.normal(media[1] + covarianza[0, 1] * (x - media[0]) / covarianza[0, 0], np.sqrt(covarianza[1, 1] - covarianza[0, 1]** 2 / covarianza[0, 0]))\n",
    "    muestras.append([x, y])"
   ]
  },
  {
   "cell_type": "code",
   "execution_count": null,
   "id": "cbe1b74d-3200-454c-a038-86f27be682c6",
   "metadata": {},
   "outputs": [],
   "source": []
  }
 ],
 "metadata": {
  "kernelspec": {
   "display_name": "Python 3 (ipykernel)",
   "language": "python",
   "name": "python3"
  },
  "language_info": {
   "codemirror_mode": {
    "name": "ipython",
    "version": 3
   },
   "file_extension": ".py",
   "mimetype": "text/x-python",
   "name": "python",
   "nbconvert_exporter": "python",
   "pygments_lexer": "ipython3",
   "version": "3.11.4"
  }
 },
 "nbformat": 4,
 "nbformat_minor": 5
}
