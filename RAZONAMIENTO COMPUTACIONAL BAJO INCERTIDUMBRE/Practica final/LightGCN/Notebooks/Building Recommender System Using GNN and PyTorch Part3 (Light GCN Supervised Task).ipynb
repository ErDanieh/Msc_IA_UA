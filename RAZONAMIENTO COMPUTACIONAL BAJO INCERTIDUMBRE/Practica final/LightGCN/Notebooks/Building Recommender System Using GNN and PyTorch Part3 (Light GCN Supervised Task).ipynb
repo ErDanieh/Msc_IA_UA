{
 "cells": [
  {
   "cell_type": "markdown",
   "id": "8abbed94",
   "metadata": {},
   "source": [
    "# Imports"
   ]
  },
  {
   "cell_type": "code",
   "execution_count": 3,
   "id": "06db3c8e",
   "metadata": {},
   "outputs": [],
   "source": [
    "# import required modules\n",
    "import random\n",
    "from tqdm.notebook import tqdm\n",
    "import pandas as pd\n",
    "import numpy as np\n",
    "import matplotlib.pyplot as plt\n",
    "from sklearn.model_selection import train_test_split\n",
    "from sklearn import model_selection, metrics, preprocessing\n",
    "import copy\n",
    "\n",
    "import torch\n",
    "from torch import nn, optim, Tensor\n",
    "\n",
    "from torch_sparse import SparseTensor, matmul\n",
    "\n",
    "from collections import defaultdict\n",
    "\n",
    "from torch_geometric.utils import structured_negative_sampling\n",
    "from torch_geometric.data import download_url, extract_zip\n",
    "from torch_geometric.nn.conv.gcn_conv import gcn_norm\n",
    "from torch_geometric.nn.conv import MessagePassing\n",
    "from torch_geometric.typing import Adj\n",
    "import torch.nn.functional as F"
   ]
  },
  {
   "cell_type": "markdown",
   "id": "9c42e300",
   "metadata": {},
   "source": [
    "# Load Dataset"
   ]
  },
  {
   "cell_type": "code",
   "execution_count": 4,
   "id": "53a38ace",
   "metadata": {},
   "outputs": [
    {
     "name": "stderr",
     "output_type": "stream",
     "text": [
      "Using existing file ml-latest-small.zip\n",
      "Extracting ./ml-latest-small.zip\n"
     ]
    }
   ],
   "source": [
    "# download the dataset\n",
    "# https://grouplens.org/datasets/movielens/\n",
    "# \"Small: 100,000 ratings and 3,600 tag applications applied to 9,000 movies by 600 users. Last updated 9/2018\"\n",
    "url = 'https://files.grouplens.org/datasets/movielens/ml-latest-small.zip'\n",
    "extract_zip(download_url(url, '.'), '.')\n",
    "\n",
    "movie_path = './ml-latest-small/movies.csv'\n",
    "rating_path = './ml-latest-small/ratings.csv'\n",
    "user_path = './ml-latest-small/users.csv'"
   ]
  },
  {
   "cell_type": "code",
   "execution_count": 5,
   "id": "dcc01c7c",
   "metadata": {},
   "outputs": [],
   "source": [
    "# Lectura del archivo de calificaciones\n",
    "rating_df = pd.read_csv(rating_path)\n",
    "\n",
    "\"\"\"Se crean dos instancias del LabelEncoder, que es una herramienta de la biblioteca sklearn.preprocessing.\n",
    "El LabelEncoder se utiliza para transformar valores no numéricos en valores numéricos.\n",
    "En este caso, se tienen dos encoders, uno para usuarios (lbl_user) y otro para películas (lbl_movie).\"\"\"\n",
    "lbl_user = preprocessing.LabelEncoder()\n",
    "lbl_movie = preprocessing.LabelEncoder()\n",
    "\n",
    "\"\"\"se están transformando los identificadores de usuario y película originales a valores numéricos codificados.\n",
    "Esto se hace utilizando el método fit_transform de cada LabelEncoder.\n",
    "Después de esta transformación, los identificadores de usuario y película en\n",
    "rating_df son reemplazados por sus valores codificados.\"\"\"\n",
    "rating_df.userId = lbl_user.fit_transform(rating_df.userId.values)\n",
    "rating_df.movieId = lbl_movie.fit_transform(rating_df.movieId.values)"
   ]
  },
  {
   "cell_type": "code",
   "execution_count": 6,
   "id": "335a8286",
   "metadata": {},
   "outputs": [
    {
     "name": "stdout",
     "output_type": "stream",
     "text": [
      "609\n",
      "9723\n"
     ]
    }
   ],
   "source": [
    "print(rating_df.userId.max())\n",
    "print(rating_df.movieId.max())"
   ]
  },
  {
   "cell_type": "code",
   "execution_count": 7,
   "id": "07f9b0ee",
   "metadata": {},
   "outputs": [],
   "source": [
    "# load edges between users and movies\n",
    "\"\"\"Procesa las aristas entre usuarios y películas a partir de un DataFrame de\n",
    "pandas que representa las interacciones entre usuarios y películas. Esta función\n",
    "es útil para preparar los datos para ser alimentados a una arquitectura de grafo,\n",
    "como es el caso de LightGCN en un sistema de recomendación.\"\"\"\n",
    "def load_edge_csv(df, \n",
    "                  src_index_col, \n",
    "                  dst_index_col,  \n",
    "                  link_index_col, \n",
    "                  rating_threshold=3.5):\n",
    "    \"\"\"Loads csv containing edges between users and items\n",
    "\n",
    "    Args:\n",
    "        path (str): path to csv file\n",
    "        src_index_col (str): column name of users\n",
    "        src_mapping (dict): mapping between row number and user id\n",
    "        dst_index_col (str): column name of items\n",
    "        dst_mapping (dict): mapping between row number and item id\n",
    "        link_index_col (str): column name of user item interaction\n",
    "        rating_threshold (int, optional): Threshold to determine positivity of edge. Defaults to 4.\n",
    "\n",
    "    Returns:\n",
    "        torch.Tensor: 2 by N matrix containing the node ids of N user-item edges\n",
    "    \"\"\"\n",
    "    \n",
    "    edge_index = None\n",
    "    src = [user_id for user_id in  df['userId']]\n",
    "    \n",
    "    num_users = len(df['userId'].unique())\n",
    "\n",
    "    dst = [(movie_id) for movie_id in df['movieId']]\n",
    "    \n",
    "    link_vals = df[link_index_col].values\n",
    "    \n",
    "    # Se itera sobre todas las interacciones en edge_attr\n",
    "    \"\"\"Si la interacción es positiva (calificación por encima del umbral),\n",
    "    se añade la arista correspondiente (usuario, película) a edge_index y se\n",
    "    añade la calificación a edge_values\"\"\"\n",
    "    edge_attr = torch.from_numpy(df[link_index_col].values).view(-1, 1).to(torch.long) >= rating_threshold\n",
    "\n",
    "    edge_values = []\n",
    "\n",
    "    edge_index = [[], []]\n",
    "    for i in range(edge_attr.shape[0]):\n",
    "        if edge_attr[i]:\n",
    "            edge_index[0].append(src[i])\n",
    "            edge_index[1].append(dst[i])\n",
    "            edge_values.append(link_vals[i])\n",
    "            \n",
    "    \"\"\"edge_values, que contiene las calificaciones asociadas a esas aristas.\"\"\"\n",
    "    # edge_values is the label we will use for compute training loss                \n",
    "    return edge_index, edge_values"
   ]
  },
  {
   "cell_type": "code",
   "execution_count": 8,
   "id": "938a5feb",
   "metadata": {},
   "outputs": [],
   "source": [
    "edge_index, edge_values = load_edge_csv(\n",
    "    rating_df,\n",
    "    src_index_col='userId',\n",
    "    dst_index_col='movieId',\n",
    "    link_index_col='rating',\n",
    "    rating_threshold=1 # need to use threshold=1 so the model can learn based on RMSE\n",
    ")"
   ]
  },
  {
   "cell_type": "code",
   "execution_count": 7,
   "id": "98409e8c",
   "metadata": {},
   "outputs": [
    {
     "name": "stdout",
     "output_type": "stream",
     "text": [
      "tensor([[   0,    0,    0,  ...,  609,  609,  609],\n",
      "        [   0,    2,    5,  ..., 9444, 9445, 9485]])\n",
      "torch.Size([2, 99466])\n",
      "tensor([4., 4., 4.,  ..., 5., 5., 3.], dtype=torch.float64)\n",
      "torch.Size([99466])\n"
     ]
    }
   ],
   "source": [
    "# Convert to tensor\n",
    "# We use LongTensor here because the .propagate() method in the model needs either LongTensor or SparseTensor\n",
    "\"\"\"Convierte la lista edge_index a un LongTensor de PyTorch. Se utiliza LongTensor porque es el\n",
    "tipo adecuado para índices, especialmente cuando se trabaja con métodos que propagan información\n",
    "a través de un grafo.\"\"\"\n",
    "edge_index = torch.LongTensor(edge_index)\n",
    "\n",
    "\"\"\"Convierte la lista edge_values a un tensor estándar de PyTorch. Aquí no es necesario especificar LongTensor\n",
    "porque edge_values almacena valores (calificaciones en este caso) y no índices.\"\"\"\n",
    "edge_values = torch.tensor(edge_values)\n",
    "\n",
    "print(edge_index)\n",
    "print(edge_index.size())\n",
    "\n",
    "print(edge_values)\n",
    "print(edge_values.size())"
   ]
  },
  {
   "cell_type": "code",
   "execution_count": 8,
   "id": "cd2b5afa",
   "metadata": {},
   "outputs": [
    {
     "name": "stdout",
     "output_type": "stream",
     "text": [
      "num_users 610, num_movies 9724\n"
     ]
    }
   ],
   "source": [
    "# split the edges of the graph using a 80/10/10 train/validation/test split\n",
    "# num_users, num_movies = len(user_mapping), len(movie_mapping)\n",
    "\n",
    "num_users = len(rating_df['userId'].unique())\n",
    "num_movies = len(rating_df['movieId'].unique())\n",
    "\n",
    "print(f\"num_users {num_users}, num_movies {num_movies}\")"
   ]
  },
  {
   "cell_type": "code",
   "execution_count": 9,
   "id": "5573dbc4",
   "metadata": {},
   "outputs": [],
   "source": [
    "\"\"\"La función convert_r_mat_edge_index_to_adj_mat_edge_index está diseñada para convertir una matriz\n",
    "de interacción usuario-película en forma de índices de aristas a una matriz de adyacencia de forma\n",
    "dispersa (COO).\"\"\"\n",
    "\n",
    "def convert_r_mat_edge_index_to_adj_mat_edge_index(input_edge_index, input_edge_values):\n",
    "    \"\"\"Inicializa una matriz R con ceros de tamaño num_users x num_movies. Esta matriz representará\n",
    "    las interacciones entre usuarios y películas.\"\"\"\n",
    "    R = torch.zeros((num_users, num_movies))\n",
    "    \n",
    "    for i in range(len(input_edge_index[0])):\n",
    "        row_idx = input_edge_index[0][i]\n",
    "        col_idx = input_edge_index[1][i]\n",
    "        R[row_idx][col_idx] = input_edge_values[i] # assign actual edge value to Interaction Matrix\n",
    "\n",
    "    R_transpose = torch.transpose(R, 0, 1)\n",
    "    \n",
    "    \"\"\"Inicializa una matriz de adyacencia con ceros de tamaño (num_users + num_movies) x (num_users + num_movies).\n",
    "    Esta matriz representará las relaciones entre todos los nodos (tanto usuarios como películas).\n",
    "    La primera mitad de las filas representará a los usuarios, y la segunda mitad a las películas.\"\"\"\n",
    "    adj_mat = torch.zeros((num_users + num_movies , num_users + num_movies))\n",
    "    adj_mat[: num_users, num_users :] = R.clone()\n",
    "    adj_mat[num_users :, : num_users] = R_transpose.clone()\n",
    "    \n",
    "    \"\"\"Se convierte la matriz de adyacencia adj_mat a formato COO, que es una representación dispersa.\"\"\"\n",
    "    adj_mat_coo = adj_mat.to_sparse_coo()\n",
    "    adj_mat_coo_indices = adj_mat_coo.indices()\n",
    "    adj_mat_coo_values = adj_mat_coo.values()\n",
    "    return adj_mat_coo_indices, adj_mat_coo_values"
   ]
  },
  {
   "cell_type": "code",
   "execution_count": 10,
   "id": "788a1df1",
   "metadata": {},
   "outputs": [],
   "source": [
    "def convert_adj_mat_edge_index_to_r_mat_edge_index(input_edge_index, input_edge_values):\n",
    "    \"\"\"Se convierten los índices de aristas de entrada y los valores asociados a un formato SparseTensor\n",
    "    utilizando la biblioteca de PyTorch. Esta es una estructura de datos que representa matrices dispersas.\n",
    "    Los índices de las aristas y los valores son utilizados como las filas,\n",
    "    columnas y valores respectivos del tensor disperso\"\"\"\n",
    "    sparse_input_edge_index = SparseTensor(row=input_edge_index[0], \n",
    "                                           col=input_edge_index[1], \n",
    "                                           value = input_edge_values,\n",
    "                                           sparse_sizes=((num_users + num_movies), num_users + num_movies))\n",
    "    \n",
    "    \"\"\"Esto facilita la extracción de la submatriz que representa las interacciones usuario-película.\"\"\"\n",
    "    adj_mat = sparse_input_edge_index.to_dense()\n",
    "    \n",
    "    \"\"\"A partir de la matriz de adyacencia densa, se extrae la submatriz de interacción usuario-película.\"\"\"\n",
    "    interact_mat = adj_mat[: num_users, num_users :]\n",
    "    \n",
    "    \"\"\"Se convierte la matriz de interacción densa a formato COO para obtener los índices de\n",
    "    las aristas y sus valores correspondientes.\"\"\"\n",
    "    r_mat_edge_index = interact_mat.to_sparse_coo().indices()\n",
    "    r_mat_edge_values = interact_mat.to_sparse_coo().values()\n",
    "    \n",
    "    return r_mat_edge_index, r_mat_edge_values"
   ]
  },
  {
   "cell_type": "code",
   "execution_count": 11,
   "id": "c59e3f35",
   "metadata": {},
   "outputs": [],
   "source": [
    "num_interactions = edge_index.shape[1]\n",
    "all_indices = [i for i in range(num_interactions)]\n",
    "\n",
    "train_indices, test_indices = train_test_split(all_indices, \n",
    "                                               test_size=0.2, \n",
    "                                               random_state=1)\n",
    "\n",
    "val_indices, test_indices = train_test_split(test_indices, \n",
    "                                             test_size=0.5, \n",
    "                                             random_state=1)"
   ]
  },
  {
   "cell_type": "code",
   "execution_count": 12,
   "id": "ee13fb68",
   "metadata": {},
   "outputs": [],
   "source": [
    "train_edge_index = edge_index[:, train_indices]\n",
    "train_edge_value = edge_values[train_indices]\n",
    "\n",
    "val_edge_index = edge_index[:, val_indices]\n",
    "val_edge_value = edge_values[val_indices]\n",
    "\n",
    "test_edge_index = edge_index[:, test_indices]\n",
    "test_edge_value = edge_values[test_indices]"
   ]
  },
  {
   "cell_type": "code",
   "execution_count": 13,
   "id": "ae8d9dd1",
   "metadata": {},
   "outputs": [
    {
     "name": "stdout",
     "output_type": "stream",
     "text": [
      "num_users 610, num_movies 9724, num_interactions 99466\n",
      "train_edge_index tensor([[ 239,  102,  225,  ...,   34,  488,  609],\n",
      "        [ 274, 9006,  792,  ...,  260, 1486, 3867]])\n",
      "10334\n",
      "torch.Size([610])\n",
      "torch.Size([8898])\n",
      "tensor([4.5000, 3.5000, 3.5000,  ..., 3.5000, 5.0000, 1.0000],\n",
      "       dtype=torch.float64)\n",
      "torch.Size([9947])\n"
     ]
    }
   ],
   "source": [
    "print(f\"num_users {num_users}, num_movies {num_movies}, num_interactions {num_interactions}\")\n",
    "print(f\"train_edge_index {train_edge_index}\")\n",
    "print((num_users + num_movies))\n",
    "print(torch.unique(train_edge_index[0]).size())\n",
    "print(torch.unique(train_edge_index[1]).size())\n",
    "\n",
    "print(test_edge_value)\n",
    "print(test_edge_value.size())"
   ]
  },
  {
   "cell_type": "code",
   "execution_count": 14,
   "id": "853bf141",
   "metadata": {},
   "outputs": [],
   "source": [
    "\"\"\"convert_r_mat_edge_index_to_adj_mat_edge_index que definiste\n",
    "previamente para convertir cada conjunto de índices de aristas\n",
    "(y sus respectivos valores) de la matriz de interacción usuario-película\n",
    "a índices de aristas de la matriz de adyacencia.\"\"\"\n",
    "\n",
    "train_edge_index, train_edge_values  = convert_r_mat_edge_index_to_adj_mat_edge_index(train_edge_index, train_edge_value)\n",
    "val_edge_index, val_edge_values = convert_r_mat_edge_index_to_adj_mat_edge_index(val_edge_index, val_edge_value)\n",
    "test_edge_index, test_edge_values = convert_r_mat_edge_index_to_adj_mat_edge_index(test_edge_index, test_edge_value)"
   ]
  },
  {
   "cell_type": "code",
   "execution_count": 15,
   "id": "a4e13290",
   "metadata": {},
   "outputs": [
    {
     "name": "stdout",
     "output_type": "stream",
     "text": [
      "tensor([[    0,     0,     0,  ..., 10331, 10332, 10333],\n",
      "        [  610,   615,   653,  ...,   183,   183,   330]])\n",
      "torch.Size([2, 159144])\n",
      "tensor([[    0,     0,     0,  ..., 10312, 10316, 10327],\n",
      "        [  612,   699,   924,  ...,   247,    49,   183]])\n",
      "torch.Size([2, 19894])\n",
      "tensor([[    0,     0,     0,  ..., 10302, 10307, 10310],\n",
      "        [  656,   734,   746,  ...,   513,   211,   337]])\n",
      "torch.Size([2, 19894])\n",
      "\n",
      " train_edge_values: \n",
      " tensor([4.0000, 4.0000, 5.0000,  ..., 3.5000, 3.5000, 4.0000]) \n",
      " torch.Size([159144])\n",
      "\n",
      " val_edge_values: \n",
      " tensor([4.0000, 5.0000, 4.0000,  ..., 3.5000, 3.5000, 4.0000]) \n",
      " torch.Size([19894])\n",
      "\n",
      " test_edge_values: \n",
      " tensor([5.0000, 5.0000, 5.0000,  ..., 3.0000, 4.5000, 2.5000]) \n",
      " torch.Size([19894])\n"
     ]
    }
   ],
   "source": [
    "print(train_edge_index)\n",
    "print(train_edge_index.size())\n",
    "print(val_edge_index)\n",
    "print(val_edge_index.size())\n",
    "print(test_edge_index)\n",
    "print(test_edge_index.size())\n",
    "\n",
    "print(f\"\\n train_edge_values: \\n {train_edge_values} \\n {train_edge_values.size()}\")\n",
    "print(f\"\\n val_edge_values: \\n {val_edge_values} \\n {val_edge_values.size()}\")\n",
    "print(f\"\\n test_edge_values: \\n {test_edge_values} \\n {test_edge_values.size()}\")"
   ]
  },
  {
   "cell_type": "markdown",
   "id": "eaab5b0e",
   "metadata": {},
   "source": [
    "# Implementing LightGCN\n",
    "\n",
    "## Light Graph Convolution\n",
    "Between each layer, LightGCN uses the following propagation rule for user and item embeddings.\n",
    "\n",
    "\\begin{equation}\n",
    "e_u^{(k+1)} = \\sum_{i \\in N_u} \\frac{1}{\\sqrt{|N_u|}\\sqrt{|N_i|}} e_i^{(k)} \\quad e_i^{(k+1)} = \\sum_{u \\in N_i} \\frac{1}{\\sqrt{|N_i|}\\sqrt{|N_u|}} e_u^{(k)}\n",
    "\\end{equation}\n",
    "\n",
    "$N_u$: the set of all neighbors of user $u$ (items liked by $u$)\n",
    "\n",
    "$N_i$: the set of all neighbors of item $i$ (users who liked $i$)\n",
    "\n",
    "$e_u^{(k)}$ : k-th layer user embedding\n",
    "\n",
    "$e_i^{(k)}$ : k-th layer item embedding\n",
    "\n",
    "\n",
    "\n",
    "## Layer Combination and Model Prediction\n",
    "The only trainable parameters of LightGCN are the 0-th layer embeddings $e_u^{(0)}$ and $e_i^{(0)}$ for each user and item. We combine the embeddings obtained at each layer of propagation to form the final embeddings for all user and item, $e_u$ and $e_i$ via the follwing equation.\n",
    "\n",
    "\n",
    "\\begin{equation}\n",
    "e_u = \\sum_{k = 0}^K \\alpha_k e_u^{(k)} \\quad e_i = \\sum_{k = 0}^K \\alpha_k e_i^{(k)}\n",
    "\\end{equation}\n",
    "\n",
    "$\\alpha_k$ : hyperparameter which weights the contribution of the k-th layer embedding to the final embedding\n",
    "\n",
    "The model prediction is obtained by taking the inner product of the final user and item embeddings.\n",
    "\n",
    "\\begin{equation}\n",
    "\\hat{y}_{ui} = e_u^Te_i\n",
    "\\end{equation}\n",
    "\n",
    "## Matrix Form\n",
    "In our implementation, we utilize the matrix form of LightGCN. We perform multi-scale diffusion to obtain the final embedding, which sums embeddings diffused across multi-hop scales. \n",
    "\n",
    "\\begin{equation}\n",
    "E^{(K)} = \\alpha_0 E^{(0)} + \\alpha_1 \\tilde{A}^1 E^{(0)} + \\alpha_2 \\tilde{A}^2 E^{(0)} + \\cdot \\cdot \\cdot + \\alpha_K \\tilde{A}^K \\tilde{A} E^{(0)}\n",
    "\\end{equation}\n",
    "\n",
    "$E^{(0)} \\in \\mathcal{R}^{(M + N)} \\times T$ : stacked initial item and user embeddings where $M$, $N$, and $T$ denote the number of users, number of items, and the dimension of each embedding respectively\n",
    "\n",
    "$\\tilde{A} = D^{-\\frac{1}{2}}AD^{-\\frac{1}{2}}$ : symmetrically normalized adjacency matrix"
   ]
  },
  {
   "cell_type": "code",
   "execution_count": null,
   "id": "6e8bdc1b",
   "metadata": {},
   "outputs": [],
   "source": []
  },
  {
   "cell_type": "code",
   "execution_count": 16,
   "id": "9e07d93a",
   "metadata": {},
   "outputs": [],
   "source": [
    "# defines LightGCN model\n",
    "\"\"\"Hereda de MessagePassing, lo que te permite\n",
    "usar las capacidades de propagación de mensajes del paquete torch_geometric\"\"\"\n",
    "class LightGCN(MessagePassing):\n",
    "\n",
    "    \n",
    "    \"\"\"inicializaste las incrustaciones (embeddings) de usuario y película, especificaste la\n",
    "    dimensionalidad de estas incrustacionesy determinaste el número de capas de paso de mensajes.\"\"\"\n",
    "    def __init__(self, num_users, num_items, embedding_dim=64, K=3, add_self_loops=False, dropout_rate=0.1):\n",
    "        \"\"\"Initializes LightGCN Model\n",
    "\n",
    "        Args:\n",
    "            num_users (int): Number of users\n",
    "            num_items (int): Number of items\n",
    "            embedding_dim (int, optional): Dimensionality of embeddings. Defaults to 8.\n",
    "            K (int, optional): Number of message passing layers. Defaults to 3.\n",
    "            add_self_loops (bool, optional): Whether to add self loops for message passing. Defaults to False.\n",
    "        \"\"\"\n",
    "        super().__init__()\n",
    "        self.dropout_rate = dropout_rate\n",
    "        self.num_users = num_users\n",
    "        self.num_items = num_items\n",
    "        self.embedding_dim = embedding_dim\n",
    "        self.K = K\n",
    "        self.add_self_loops = add_self_loops\n",
    "\n",
    "\n",
    "        # define user and item embedding for direct look up. \n",
    "        # embedding dimension: num_user/num_item x embedding_dim\n",
    "        self.users_emb = nn.Embedding(num_embeddings=self.num_users, embedding_dim=self.embedding_dim) # e_u^0\n",
    "        \n",
    "        self.items_emb = nn.Embedding(num_embeddings=self.num_items, embedding_dim=self.embedding_dim) # e_i^0'\n",
    "        \n",
    "        # \"Fills the input Tensor with values drawn from the normal distribution\"\n",
    "        # according to LightGCN paper, this gives better performance\n",
    "        nn.init.normal_(self.users_emb.weight, std=0.1)\n",
    "        nn.init.normal_(self.items_emb.weight, std=0.1)\n",
    "        \n",
    "        # create a linear layer (fully connected layer) so we can output a single value (predicted_rating)\n",
    "        self.out = nn.Linear(embedding_dim + embedding_dim, 1)\n",
    "\n",
    "        \n",
    "    \n",
    "    def forward(self, edge_index: Tensor, edge_values: Tensor):\n",
    "        \"\"\"Forward propagation of LightGCN Model.\n",
    "\n",
    "        Args:\n",
    "            edge_index (SparseTensor): adjacency matrix\n",
    "\n",
    "        Returns:\n",
    "            tuple (Tensor): e_u_k, e_u_0, e_i_k, e_i_0\n",
    "        \"\"\"\n",
    "        \n",
    "        \n",
    "        \"\"\"comenzaste por normalizar el índice de bordes usando gcn_norm.\n",
    "        Esto es esencial para los modelos GCN ya que ayuda en la propagación\n",
    "        suave de las características a través del grafo.\n",
    "        Concatenaste las incrustaciones iniciales de usuario y película y las pasaste a través de las capas del modelo, actualizando las incrustaciones en cada paso.\n",
    "        Una vez que las incrustaciones pasan por todas las capas, calculaste el embedding final tomando la media de las incrustaciones en todas las capas, como se sugiere en el documento LightGCN.\n",
    "        Finalmente, utilizaste estos embeddings finales para predecir las interacciones entre usuarios y películas.\"\"\"\n",
    "        edge_index_norm = gcn_norm(edge_index=edge_index, \n",
    "                                   add_self_loops=self.add_self_loops)\n",
    "\n",
    "        # concat the user_emb and item_emb as the layer0 embing matrix\n",
    "        # size will be (n_users + n_items) x emb_vector_len.   e.g: 10334 x 64\n",
    "        emb_0 = torch.cat([self.users_emb.weight, self.items_emb.weight]) # E^0\n",
    "\n",
    "        embs = [emb_0] # save the layer0 emb to the embs list\n",
    "        \n",
    "        # emb_k is the emb that we are actually going to push it through the graph layers\n",
    "        # as described in lightGCN paper formula 7\n",
    "        emb_k = emb_0 \n",
    "\n",
    "        # push the embedding of all users and items through the Graph Model K times.\n",
    "        # K here is the number of layers\n",
    "        for i in range(self.K):\n",
    "            emb_k = self.propagate(edge_index=edge_index_norm[0], x=emb_k, norm=edge_index_norm[1])\n",
    "            embs.append(emb_k)\n",
    "            \n",
    "            \n",
    "        # this is doing the formula8 in LightGCN paper  \n",
    "            \n",
    "        # the stacked embs is a list of embedding matrix at each layer\n",
    "        #    it's of shape n_nodes x (n_layers + 1) x emb_vector_len. \n",
    "        #        e.g: torch.Size([10334, 4, 64])\n",
    "        embs = torch.stack(embs, dim=1)\n",
    "        \n",
    "        # From LightGCn paper: \"In our experiments, we find that setting α_k uniformly as 1/(K + 1)\n",
    "        #    leads to good performance in general.\"\n",
    "        emb_final = torch.mean(embs, dim=1) # E^K\n",
    "        \n",
    "        users_emb_final, items_emb_final = torch.split(emb_final, \n",
    "                                                       [self.num_users, self.num_items]) # splits into e_u^K and e_i^K\n",
    "\n",
    "\n",
    "        r_mat_edge_index, _ = convert_adj_mat_edge_index_to_r_mat_edge_index(edge_index, edge_values)\n",
    "        \n",
    "        src, dest =  r_mat_edge_index[0], r_mat_edge_index[1]\n",
    "        \n",
    "        # applying embedding lookup to get embeddings for src nodes and dest nodes in the edge list\n",
    "        user_embeds = users_emb_final[src]\n",
    "        item_embeds = items_emb_final[dest]\n",
    "        \n",
    "        # output dim: edge_index_len x 128 (given 64 is the original emb_vector_len)\n",
    "        output = torch.cat([user_embeds, item_embeds], dim=1)\n",
    "        \n",
    "        # push it through the linear layer\n",
    "        output = self.out(output)\n",
    "        \n",
    "        return output\n",
    "    \n",
    "    \n",
    "    \"\"\"se deben combinar las incrustaciones de los nodos vecinos durante el proceso de propagación de mensajes.\"\"\"\n",
    "    def message(self, x_j, norm):\n",
    "        return norm.view(-1, 1) * x_j\n",
    "    \n",
    "    \n",
    "\"\"\"Instanciaste el modelo LightGCN con un número específico de capas.\"\"\"\n",
    "layers = 1 \n",
    "model = LightGCN(num_users=num_users, \n",
    "                 num_items=num_movies, \n",
    "                 K=layers)"
   ]
  },
  {
   "cell_type": "markdown",
   "id": "0f5989fc",
   "metadata": {},
   "source": [
    "# Training\n",
    "\n",
    "Your test set performance should be in line with the following (*K=20*):\n"
   ]
  },
  {
   "cell_type": "code",
   "execution_count": 17,
   "id": "4c8a59f8",
   "metadata": {},
   "outputs": [],
   "source": [
    "# define contants\n",
    "ITERATIONS = 10000\n",
    "EPOCHS = 10\n",
    "\n",
    "BATCH_SIZE = 1024\n",
    "\n",
    "LR = 1e-3\n",
    "ITERS_PER_EVAL = 200\n",
    "ITERS_PER_LR_DECAY = 200\n",
    "K = 10\n",
    "LAMBDA = 1e-6\n"
   ]
  },
  {
   "cell_type": "code",
   "execution_count": 18,
   "id": "1470e6a7",
   "metadata": {},
   "outputs": [
    {
     "name": "stdout",
     "output_type": "stream",
     "text": [
      "BATCH_SIZE 1024\n"
     ]
    }
   ],
   "source": [
    "print(f\"BATCH_SIZE {BATCH_SIZE}\")"
   ]
  },
  {
   "cell_type": "code",
   "execution_count": 19,
   "id": "ec3aee9d",
   "metadata": {},
   "outputs": [
    {
     "name": "stdout",
     "output_type": "stream",
     "text": [
      "Using device cpu.\n"
     ]
    }
   ],
   "source": [
    "# setup\n",
    "device = torch.device('cuda' if torch.cuda.is_available() else 'cpu')\n",
    "print(f\"Using device {device}.\")\n",
    "\n",
    "\n",
    "model = model.to(device)\n",
    "model.train()\n",
    "\n",
    "# add decay to avoid overfit\n",
    "\"\"\"Adam para actualizar los pesos del modelo durante el entrenamiento.\n",
    "Además, añadiste un \"weight decay\" para evitar el sobreajuste.\"\"\"\n",
    "optimizer = optim.Adam(model.parameters(), lr=LR, weight_decay=0.01)\n",
    "\n",
    "\"\"\"Utilizaste un planificador para reducir la tasa de aprendizaje a medida que avanzas en el entrenamiento.\n",
    "Esto puede ayudar a mejorar la convergencia del modelo.\"\"\"\n",
    "scheduler = optim.lr_scheduler.ExponentialLR(optimizer, gamma=0.95)\n",
    "\n",
    "edge_index = edge_index.to(device)\n",
    "train_edge_index = train_edge_index.to(device)\n",
    "val_edge_index = val_edge_index.to(device)\n",
    "\n",
    "\"\"\"Elegiste el error cuadrático medio (MSE) como función de pérdida, que es común para problemas de regresión,\n",
    "como predecir una calificación.\"\"\"\n",
    "loss_func = nn.MSELoss()"
   ]
  },
  {
   "cell_type": "code",
   "execution_count": null,
   "id": "ce5aa2f5",
   "metadata": {},
   "outputs": [],
   "source": []
  },
  {
   "cell_type": "code",
   "execution_count": 20,
   "id": "38817a54",
   "metadata": {},
   "outputs": [],
   "source": [
    " def get_recall_at_k(input_edge_index, \n",
    "                     input_edge_values, # the true label of actual ratings for each user/item interaction\n",
    "                     pred_ratings, # the list of predicted ratings\n",
    "                     k=10, \n",
    "                     threshold=3.5):\n",
    "    with torch.no_grad():\n",
    "        user_item_rating_list = defaultdict(list)\n",
    "\n",
    "        for i in range(len(input_edge_index[0])):\n",
    "            src = input_edge_index[0][i].item()\n",
    "            dest = input_edge_index[1][i].item()\n",
    "            true_rating = input_edge_values[i].item()\n",
    "            pred_rating = pred_ratings[i].item()\n",
    "            \n",
    "            \"\"\"agrupa las calificaciones reales y predichas de cada película por usuario.\"\"\"\n",
    "            user_item_rating_list[src].append((pred_rating, true_rating))\n",
    "\n",
    "        recalls = dict()\n",
    "        precisions = dict()\n",
    "\n",
    "        for user_id, user_ratings in user_item_rating_list.items():\n",
    "            user_ratings.sort(key=lambda x: x[0], reverse=True)\n",
    "            \n",
    "            \"\"\"Número de películas que el usuario realmente le gustó (basado en el umbral de\n",
    "            \"me gusta\" definido por el parámetro threshold).\"\"\"\n",
    "            n_rel = sum((true_r >= threshold) for (_, true_r) in user_ratings)\n",
    "            \n",
    "            \"\"\"Número de películas que el modelo cree que al usuario le gustaría,\n",
    "            basándose en las primeras \"k\" recomendaciones.\"\"\"\n",
    "            n_rec_k = sum((est >= threshold) for (est, _) in user_ratings[:k])\n",
    "            \n",
    "            n_rel_and_rec_k = sum(\n",
    "                ((true_r >= threshold) and (est >= threshold))\n",
    "                for (est, true_r) in user_ratings[:k]\n",
    "            )\n",
    "            \n",
    "            \"\"\"Se calcula la precisión y el recall para el usuario específico y se guardan\n",
    "            en los diccionarios precisions y recalls respectivamente.\"\"\"\n",
    "            precisions[user_id] = n_rel_and_rec_k / n_rec_k if n_rec_k != 0 else 0\n",
    "            recalls[user_id] = n_rel_and_rec_k / n_rel if n_rel != 0 else 0\n",
    "        \n",
    "        overall_recall = sum(rec for rec in recalls.values()) / len(recalls)\n",
    "        overall_precision = sum(prec for prec in precisions.values()) / len(precisions)\n",
    "\n",
    "        return overall_recall, overall_precision\n",
    "    "
   ]
  },
  {
   "cell_type": "code",
   "execution_count": 21,
   "id": "b002fba3",
   "metadata": {},
   "outputs": [],
   "source": [
    "r_mat_train_edge_index, r_mat_train_edge_values = convert_adj_mat_edge_index_to_r_mat_edge_index(train_edge_index, train_edge_values)\n",
    "r_mat_val_edge_index, r_mat_val_edge_values = convert_adj_mat_edge_index_to_r_mat_edge_index(val_edge_index, val_edge_values)\n",
    "r_mat_test_edge_index, r_mat_test_edge_values = convert_adj_mat_edge_index_to_r_mat_edge_index(test_edge_index, test_edge_values)\n"
   ]
  },
  {
   "cell_type": "code",
   "execution_count": 22,
   "id": "53d7b752",
   "metadata": {},
   "outputs": [
    {
     "data": {
      "application/vnd.jupyter.widget-view+json": {
       "model_id": "9115ca30b2284716ada8ad78202fd1a3",
       "version_major": 2,
       "version_minor": 0
      },
      "text/plain": [
       "  0%|          | 0/10000 [00:00<?, ?it/s]"
      ]
     },
     "metadata": {},
     "output_type": "display_data"
    },
    {
     "name": "stdout",
     "output_type": "stream",
     "text": [
      "[Iteration 0/10000], train_loss: 13.18061, val_loss: 13.1488,  recall_at_k 0.0, precision_at_k 0.0\n",
      "[Iteration 200/10000], train_loss: 2.35077, val_loss: 2.45981,  recall_at_k 0.01173, precision_at_k 0.11354\n",
      "[Iteration 400/10000], train_loss: 1.51804, val_loss: 1.5884,  recall_at_k 0.07463, precision_at_k 0.30234\n",
      "[Iteration 600/10000], train_loss: 1.28451, val_loss: 1.34767,  recall_at_k 0.11552, precision_at_k 0.36944\n",
      "[Iteration 800/10000], train_loss: 1.16497, val_loss: 1.22465,  recall_at_k 0.14576, precision_at_k 0.41533\n",
      "[Iteration 1000/10000], train_loss: 1.08905, val_loss: 1.14671,  recall_at_k 0.17138, precision_at_k 0.44487\n",
      "[Iteration 1200/10000], train_loss: 1.03536, val_loss: 1.09174,  recall_at_k 0.18806, precision_at_k 0.46316\n",
      "[Iteration 1400/10000], train_loss: 0.99486, val_loss: 1.05038,  recall_at_k 0.20466, precision_at_k 0.486\n",
      "[Iteration 1600/10000], train_loss: 0.96299, val_loss: 1.01784,  recall_at_k 0.21759, precision_at_k 0.49355\n",
      "[Iteration 1800/10000], train_loss: 0.93713, val_loss: 0.99142,  recall_at_k 0.22908, precision_at_k 0.49769\n",
      "[Iteration 2000/10000], train_loss: 0.91568, val_loss: 0.96944,  recall_at_k 0.23861, precision_at_k 0.50535\n",
      "[Iteration 2200/10000], train_loss: 0.89759, val_loss: 0.95082,  recall_at_k 0.24581, precision_at_k 0.51093\n",
      "[Iteration 2400/10000], train_loss: 0.88215, val_loss: 0.93482,  recall_at_k 0.25419, precision_at_k 0.5172\n",
      "[Iteration 2600/10000], train_loss: 0.86885, val_loss: 0.92091,  recall_at_k 0.26184, precision_at_k 0.52343\n",
      "[Iteration 2800/10000], train_loss: 0.85731, val_loss: 0.90872,  recall_at_k 0.26821, precision_at_k 0.52462\n",
      "[Iteration 3000/10000], train_loss: 0.84724, val_loss: 0.89797,  recall_at_k 0.27367, precision_at_k 0.52929\n",
      "[Iteration 3200/10000], train_loss: 0.83843, val_loss: 0.88842,  recall_at_k 0.27673, precision_at_k 0.53057\n",
      "[Iteration 3400/10000], train_loss: 0.83069, val_loss: 0.87995,  recall_at_k 0.27935, precision_at_k 0.53056\n",
      "[Iteration 3600/10000], train_loss: 0.8239, val_loss: 0.87237,  recall_at_k 0.28276, precision_at_k 0.53353\n",
      "[Iteration 3800/10000], train_loss: 0.81792, val_loss: 0.8656,  recall_at_k 0.28799, precision_at_k 0.53815\n",
      "[Iteration 4000/10000], train_loss: 0.81268, val_loss: 0.85953,  recall_at_k 0.29078, precision_at_k 0.53835\n",
      "[Iteration 4200/10000], train_loss: 0.8081, val_loss: 0.85405,  recall_at_k 0.29224, precision_at_k 0.54012\n",
      "[Iteration 4400/10000], train_loss: 0.80404, val_loss: 0.84922,  recall_at_k 0.29404, precision_at_k 0.54055\n",
      "[Iteration 4600/10000], train_loss: 0.8005, val_loss: 0.84486,  recall_at_k 0.29743, precision_at_k 0.54194\n",
      "[Iteration 4800/10000], train_loss: 0.79743, val_loss: 0.84093,  recall_at_k 0.29984, precision_at_k 0.54243\n",
      "[Iteration 5000/10000], train_loss: 0.79474, val_loss: 0.83742,  recall_at_k 0.30411, precision_at_k 0.54421\n",
      "[Iteration 5200/10000], train_loss: 0.7924, val_loss: 0.83426,  recall_at_k 0.30435, precision_at_k 0.54303\n",
      "[Iteration 5400/10000], train_loss: 0.79038, val_loss: 0.83144,  recall_at_k 0.30625, precision_at_k 0.54387\n",
      "[Iteration 5600/10000], train_loss: 0.78862, val_loss: 0.8289,  recall_at_k 0.31085, precision_at_k 0.54697\n",
      "[Iteration 5800/10000], train_loss: 0.78715, val_loss: 0.82654,  recall_at_k 0.31226, precision_at_k 0.54874\n",
      "[Iteration 6000/10000], train_loss: 0.78579, val_loss: 0.82457,  recall_at_k 0.31368, precision_at_k 0.5497\n",
      "[Iteration 6200/10000], train_loss: 0.78465, val_loss: 0.82273,  recall_at_k 0.31489, precision_at_k 0.54992\n",
      "[Iteration 6400/10000], train_loss: 0.78367, val_loss: 0.82107,  recall_at_k 0.31621, precision_at_k 0.55045\n",
      "[Iteration 6600/10000], train_loss: 0.78282, val_loss: 0.81956,  recall_at_k 0.31847, precision_at_k 0.55336\n",
      "[Iteration 6800/10000], train_loss: 0.78209, val_loss: 0.81819,  recall_at_k 0.31901, precision_at_k 0.55422\n",
      "[Iteration 7000/10000], train_loss: 0.78144, val_loss: 0.81697,  recall_at_k 0.31887, precision_at_k 0.55451\n",
      "[Iteration 7200/10000], train_loss: 0.78088, val_loss: 0.81585,  recall_at_k 0.31947, precision_at_k 0.55432\n",
      "[Iteration 7400/10000], train_loss: 0.78039, val_loss: 0.81482,  recall_at_k 0.32005, precision_at_k 0.55613\n",
      "[Iteration 7600/10000], train_loss: 0.77996, val_loss: 0.81389,  recall_at_k 0.31994, precision_at_k 0.55604\n",
      "[Iteration 7800/10000], train_loss: 0.77958, val_loss: 0.81303,  recall_at_k 0.32022, precision_at_k 0.55616\n",
      "[Iteration 8000/10000], train_loss: 0.77924, val_loss: 0.81224,  recall_at_k 0.32203, precision_at_k 0.55811\n",
      "[Iteration 8200/10000], train_loss: 0.77893, val_loss: 0.81152,  recall_at_k 0.32156, precision_at_k 0.55834\n",
      "[Iteration 8400/10000], train_loss: 0.77866, val_loss: 0.81085,  recall_at_k 0.32215, precision_at_k 0.55919\n",
      "[Iteration 8600/10000], train_loss: 0.7784, val_loss: 0.81023,  recall_at_k 0.32364, precision_at_k 0.56093\n",
      "[Iteration 8800/10000], train_loss: 0.77817, val_loss: 0.80966,  recall_at_k 0.32482, precision_at_k 0.56255\n",
      "[Iteration 9000/10000], train_loss: 0.77796, val_loss: 0.80911,  recall_at_k 0.32467, precision_at_k 0.56248\n",
      "[Iteration 9200/10000], train_loss: 0.77777, val_loss: 0.80862,  recall_at_k 0.32736, precision_at_k 0.56491\n",
      "[Iteration 9400/10000], train_loss: 0.77759, val_loss: 0.80815,  recall_at_k 0.32778, precision_at_k 0.56688\n",
      "[Iteration 9600/10000], train_loss: 0.77742, val_loss: 0.80771,  recall_at_k 0.32778, precision_at_k 0.56719\n",
      "[Iteration 9800/10000], train_loss: 0.77726, val_loss: 0.80731,  recall_at_k 0.33091, precision_at_k 0.57178\n"
     ]
    }
   ],
   "source": [
    "# training loop\n",
    "train_losses = []\n",
    "val_losses = []\n",
    "val_recall_at_ks = []\n",
    "\n",
    "for iter in tqdm(range(ITERATIONS)):\n",
    "    # forward propagation\n",
    "\n",
    "    # the rating here is based on r_mat\n",
    "    pred_ratings = model.forward(train_edge_index, train_edge_values)\n",
    "    \n",
    "\n",
    "    train_loss = loss_func(pred_ratings, r_mat_train_edge_values.view(-1,1))    \n",
    "\n",
    "        \n",
    "    optimizer.zero_grad()\n",
    "    train_loss.backward()\n",
    "    optimizer.step()\n",
    "\n",
    "    # going over validation set\n",
    "    if iter % ITERS_PER_EVAL == 0:\n",
    "        model.eval()\n",
    "\n",
    "        with torch.no_grad():\n",
    "            val_pred_ratings = model.forward(val_edge_index, val_edge_values)\n",
    "            \n",
    "            val_loss = loss_func(val_pred_ratings, r_mat_val_edge_values.view(-1,1)).sum()\n",
    "            \n",
    "            recall_at_k, precision_at_k = get_recall_at_k(r_mat_val_edge_index, \n",
    "                                                          r_mat_val_edge_values, \n",
    "                                                          val_pred_ratings, \n",
    "                                                          k = 20\n",
    "                                                         )\n",
    "    \n",
    "                \n",
    "            val_recall_at_ks.append(round(recall_at_k, 5))\n",
    "            train_losses.append(train_loss.item())\n",
    "            val_losses.append(val_loss.item())\n",
    "        \n",
    "            print(f\"[Iteration {iter}/{ITERATIONS}], train_loss: {round(train_loss.item(), 5)}, val_loss: {round(val_loss.item(), 5)},  recall_at_k {round(recall_at_k, 5)}, precision_at_k {round(precision_at_k, 5)}\")\n",
    "\n",
    "        model.train()\n",
    "\n",
    "    if iter % ITERS_PER_LR_DECAY == 0 and iter != 0:\n",
    "        scheduler.step()"
   ]
  },
  {
   "cell_type": "markdown",
   "id": "58187223",
   "metadata": {},
   "source": [
    "# Plot (RMSE)"
   ]
  },
  {
   "cell_type": "code",
   "execution_count": 23,
   "id": "30685ec8",
   "metadata": {},
   "outputs": [
    {
     "data": {
      "image/png": "[encoded data removed]",
      "text/plain": [
       "<Figure size 640x480 with 1 Axes>"
      ]
     },
     "metadata": {},
     "output_type": "display_data"
    }
   ],
   "source": [
    "iters = [iter * ITERS_PER_EVAL for iter in range(len(train_losses))]\n",
    "plt.plot(iters, train_losses, label='train')\n",
    "plt.plot(iters, val_losses, label='validation')\n",
    "plt.xlabel('iteration')\n",
    "plt.ylabel('loss')\n",
    "plt.title('training and validation loss curves')\n",
    "plt.legend()\n",
    "plt.show()"
   ]
  },
  {
   "cell_type": "code",
   "execution_count": 24,
   "id": "efc3f2a9",
   "metadata": {},
   "outputs": [
    {
     "data": {
      "image/png": "[encoded data removed]",
      "text/plain": [
       "<Figure size 640x480 with 1 Axes>"
      ]
     },
     "metadata": {},
     "output_type": "display_data"
    }
   ],
   "source": [
    "f2 = plt.figure()\n",
    "plt.plot(iters, val_recall_at_ks, label='recall_at_k')\n",
    "plt.xlabel('iteration')\n",
    "plt.ylabel('recall_at_k')\n",
    "plt.title('recall_at_k curves')\n",
    "plt.show()"
   ]
  },
  {
   "cell_type": "markdown",
   "id": "7cb9b880",
   "metadata": {},
   "source": [
    "# Evaluation (RMSE)"
   ]
  },
  {
   "cell_type": "code",
   "execution_count": 25,
   "id": "9fbabdb0",
   "metadata": {},
   "outputs": [
    {
     "name": "stdout",
     "output_type": "stream",
     "text": [
      "recall_at_k 0.33627, precision_at_k 0.55934\n"
     ]
    }
   ],
   "source": [
    "model.eval()\n",
    "with torch.no_grad():\n",
    "    pred_ratings = model.forward(test_edge_index, test_edge_values)\n",
    "    recall_at_k, precision_at_k = get_recall_at_k(r_mat_test_edge_index, \n",
    "                                                  r_mat_test_edge_values, \n",
    "                                                  pred_ratings, 20)\n",
    "    print(f\"recall_at_k {round(recall_at_k, 5)}, precision_at_k {round(precision_at_k, 5)}\")\n"
   ]
  },
  {
   "cell_type": "code",
   "execution_count": 35,
   "id": "e5eaf75a",
   "metadata": {},
   "outputs": [
    {
     "name": "stdout",
     "output_type": "stream",
     "text": [
      "tensor([[    0,     0,     0,  ..., 10302, 10307, 10310],\n",
      "        [  656,   734,   746,  ...,   513,   211,   337]])\n"
     ]
    },
    {
     "ename": "RuntimeError",
     "evalue": "a Tensor with 19894 elements cannot be converted to Scalar",
     "output_type": "error",
     "traceback": [
      "\u001b[0;31m---------------------------------------------------------------------------\u001b[0m",
      "\u001b[0;31mRuntimeError\u001b[0m                              Traceback (most recent call last)",
      "Cell \u001b[0;32mIn[35], line 3\u001b[0m\n\u001b[1;32m      1\u001b[0m \u001b[38;5;28mprint\u001b[39m(test_edge_index)\n\u001b[0;32m----> 3\u001b[0m model\u001b[38;5;241m.\u001b[39mforward(test_edge_index[\u001b[38;5;241m0\u001b[39m]\u001b[38;5;241m.\u001b[39mitem(), test_edge_values[\u001b[38;5;241m0\u001b[39m]\u001b[38;5;241m.\u001b[39mitem())\n",
      "\u001b[0;31mRuntimeError\u001b[0m: a Tensor with 19894 elements cannot be converted to Scalar"
     ]
    }
   ],
   "source": [
    "print(test_edge_index)\n",
    "\n",
    "model.forward(test_edge_index[0].item(), test_edge_values[0].item())"
   ]
  },
  {
   "cell_type": "code",
   "execution_count": null,
   "id": "e338a49b",
   "metadata": {},
   "outputs": [],
   "source": []
  }
 ],
 "metadata": {
  "kernelspec": {
   "display_name": "Python 3 (ipykernel)",
   "language": "python",
   "name": "python3"
  },
  "language_info": {
   "codemirror_mode": {
    "name": "ipython",
    "version": 3
   },
   "file_extension": ".py",
   "mimetype": "text/x-python",
   "name": "python",
   "nbconvert_exporter": "python",
   "pygments_lexer": "ipython3",
   "version": "3.11.5"
  }
 },
 "nbformat": 4,
 "nbformat_minor": 5
}
