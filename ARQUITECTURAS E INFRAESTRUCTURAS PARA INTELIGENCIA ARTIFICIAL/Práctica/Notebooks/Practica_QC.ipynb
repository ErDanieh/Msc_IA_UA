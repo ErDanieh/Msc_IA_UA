{
  "nbformat": 4,
  "nbformat_minor": 0,
  "metadata": {
    "colab": {
      "provenance": [],
      "collapsed_sections": [
        "fJYpfV2AWSST"
      ]
    },
    "kernelspec": {
      "name": "python3",
      "display_name": "Python 3"
    },
    "language_info": {
      "name": "python"
    }
  },
  "cells": [
    {
      "cell_type": "markdown",
      "source": [
        "\n",
        "# Prácticas Circuitos Cuánticos con Qiskit\n",
        "\n",
        "\n",
        "###  <img src=\"https://cdn-icons-png.flaticon.com/512/1373/1373613.png\" width=\"20\" height=\"20\" /><font face=\"Roboto\" color='#76b900'> Manuel Benavent Lledó</font> <font face=\"Roboto\" size=3 color='#404040'>(*mbenavent@dtic.ua.es*)</font>\n",
        "\n",
        "### <img src=\"https://cdn-icons-png.flaticon.com/512/1373/1373613.png\" width=\"20\" height=\"20\" /> <font face=\"Roboto\" color='#76b900'>David Mulero Pérez</font> <font face=\"Roboto\" size=3 color='#404040'>(*dmulero@dtic.ua.es*)</font>\n",
        "\n",
        "El objetivo de esta práctica es comprender las puertas cuánticas básicas así como los conceptos base de la computación cuántica: la superposicón y el entrelazamiento. Para ello se utilizará la librería de Python, Qiskit, que nos permite la simulación y ejecución de circuitos de unos pocos qubits en un ordenador cuántico de IBM.\n",
        "\n"
      ],
      "metadata": {
        "id": "Zod1aAl-EQxb"
      }
    },
    {
      "cell_type": "markdown",
      "source": [
        "## Preparación del entorno\n",
        "Instalamos Qiskit e importamos las librerías necesarias."
      ],
      "metadata": {
        "id": "Nsub1POcFX1F"
      }
    },
    {
      "cell_type": "code",
      "execution_count": 1,
      "metadata": {
        "id": "Rj9hNxGaD8HL",
        "colab": {
          "base_uri": "https://localhost:8080/"
        },
        "outputId": "fdccfa2d-1c4a-4320-dbbe-92f4c7b607af"
      },
      "outputs": [
        {
          "output_type": "stream",
          "name": "stdout",
          "text": [
            "\u001b[2K     \u001b[90m━━━━━━━━━━━━━━━━━━━━━━━━━━━━━━━━━━━━━━━━\u001b[0m \u001b[32m12.3/12.3 MB\u001b[0m \u001b[31m80.2 MB/s\u001b[0m eta \u001b[36m0:00:00\u001b[0m\n",
            "\u001b[2K     \u001b[90m━━━━━━━━━━━━━━━━━━━━━━━━━━━━━━━━━━━━━━━━\u001b[0m \u001b[32m132.5/132.5 kB\u001b[0m \u001b[31m14.0 MB/s\u001b[0m eta \u001b[36m0:00:00\u001b[0m\n",
            "\u001b[2K     \u001b[90m━━━━━━━━━━━━━━━━━━━━━━━━━━━━━━━━━━━━━━━━\u001b[0m \u001b[32m162.6/162.6 kB\u001b[0m \u001b[31m16.1 MB/s\u001b[0m eta \u001b[36m0:00:00\u001b[0m\n",
            "\u001b[?25h  Preparing metadata (setup.py) ... \u001b[?25l\u001b[?25hdone\n",
            "\u001b[2K     \u001b[90m━━━━━━━━━━━━━━━━━━━━━━━━━━━━━━━━━━━━━━━━\u001b[0m \u001b[32m6.3/6.3 MB\u001b[0m \u001b[31m27.6 MB/s\u001b[0m eta \u001b[36m0:00:00\u001b[0m\n",
            "\u001b[2K     \u001b[90m━━━━━━━━━━━━━━━━━━━━━━━━━━━━━━━━━━━━━━━━\u001b[0m \u001b[32m2.0/2.0 MB\u001b[0m \u001b[31m27.2 MB/s\u001b[0m eta \u001b[36m0:00:00\u001b[0m\n",
            "\u001b[2K     \u001b[90m━━━━━━━━━━━━━━━━━━━━━━━━━━━━━━━━━━━━━━━━\u001b[0m \u001b[32m49.6/49.6 kB\u001b[0m \u001b[31m1.7 MB/s\u001b[0m eta \u001b[36m0:00:00\u001b[0m\n",
            "\u001b[2K     \u001b[90m━━━━━━━━━━━━━━━━━━━━━━━━━━━━━━━━━━━━━━━━\u001b[0m \u001b[32m115.3/115.3 kB\u001b[0m \u001b[31m9.7 MB/s\u001b[0m eta \u001b[36m0:00:00\u001b[0m\n",
            "\u001b[2K     \u001b[90m━━━━━━━━━━━━━━━━━━━━━━━━━━━━━━━━━━━━━━━━\u001b[0m \u001b[32m49.6/49.6 kB\u001b[0m \u001b[31m4.2 MB/s\u001b[0m eta \u001b[36m0:00:00\u001b[0m\n",
            "\u001b[2K     \u001b[90m━━━━━━━━━━━━━━━━━━━━━━━━━━━━━━━━━━━━━━━━\u001b[0m \u001b[32m37.5/37.5 MB\u001b[0m \u001b[31m12.5 MB/s\u001b[0m eta \u001b[36m0:00:00\u001b[0m\n",
            "\u001b[2K     \u001b[90m━━━━━━━━━━━━━━━━━━━━━━━━━━━━━━━━━━━━━━━━\u001b[0m \u001b[32m300.3/300.3 kB\u001b[0m \u001b[31m17.7 MB/s\u001b[0m eta \u001b[36m0:00:00\u001b[0m\n",
            "\u001b[?25h  Installing build dependencies ... \u001b[?25l\u001b[?25hdone\n",
            "  Getting requirements to build wheel ... \u001b[?25l\u001b[?25hdone\n",
            "  Preparing metadata (pyproject.toml) ... \u001b[?25l\u001b[?25hdone\n",
            "\u001b[2K     \u001b[90m━━━━━━━━━━━━━━━━━━━━━━━━━━━━━━━━━━━━━━━━\u001b[0m \u001b[32m243.3/243.3 kB\u001b[0m \u001b[31m12.7 MB/s\u001b[0m eta \u001b[36m0:00:00\u001b[0m\n",
            "\u001b[2K     \u001b[90m━━━━━━━━━━━━━━━━━━━━━━━━━━━━━━━━━━━━━━━━\u001b[0m \u001b[32m55.8/55.8 kB\u001b[0m \u001b[31m3.7 MB/s\u001b[0m eta \u001b[36m0:00:00\u001b[0m\n",
            "\u001b[?25h  Installing build dependencies ... \u001b[?25l\u001b[?25hdone\n",
            "  Getting requirements to build wheel ... \u001b[?25l\u001b[?25hdone\n",
            "  Preparing metadata (pyproject.toml) ... \u001b[?25l\u001b[?25hdone\n",
            "\u001b[2K     \u001b[90m━━━━━━━━━━━━━━━━━━━━━━━━━━━━━━━━━━━━━━━━\u001b[0m \u001b[32m130.2/130.2 kB\u001b[0m \u001b[31m12.7 MB/s\u001b[0m eta \u001b[36m0:00:00\u001b[0m\n",
            "\u001b[2K     \u001b[90m━━━━━━━━━━━━━━━━━━━━━━━━━━━━━━━━━━━━━━━━\u001b[0m \u001b[32m129.9/129.9 kB\u001b[0m \u001b[31m12.4 MB/s\u001b[0m eta \u001b[36m0:00:00\u001b[0m\n",
            "\u001b[2K     \u001b[90m━━━━━━━━━━━━━━━━━━━━━━━━━━━━━━━━━━━━━━━━\u001b[0m \u001b[32m143.8/143.8 kB\u001b[0m \u001b[31m14.0 MB/s\u001b[0m eta \u001b[36m0:00:00\u001b[0m\n",
            "\u001b[2K     \u001b[90m━━━━━━━━━━━━━━━━━━━━━━━━━━━━━━━━━━━━━━━━\u001b[0m \u001b[32m112.7/112.7 kB\u001b[0m \u001b[31m11.2 MB/s\u001b[0m eta \u001b[36m0:00:00\u001b[0m\n",
            "\u001b[?25h  Building wheel for pylatexenc (setup.py) ... \u001b[?25l\u001b[?25hdone\n",
            "  Building wheel for ibm-platform-services (pyproject.toml) ... \u001b[?25l\u001b[?25hdone\n",
            "  Building wheel for ibm-cloud-sdk-core (pyproject.toml) ... \u001b[?25l\u001b[?25hdone\n"
          ]
        }
      ],
      "source": [
        "%pip install qiskit qiskit-aer qiskit-ibm-runtime pylatexenc -q"
      ]
    },
    {
      "cell_type": "code",
      "source": [
        "# %%capture\n",
        "# %matplotlib inline\n",
        "import numpy as np\n",
        "from qiskit import Aer, QuantumCircuit, execute, assemble, QuantumRegister, ClassicalRegister\n",
        "from qiskit.quantum_info import Statevector\n",
        "from qiskit.providers.aer import QasmSimulator\n",
        "from qiskit_ibm_runtime import QiskitRuntimeService, Session, Sampler, Options\n",
        "from IPython.display import display, Math, Latex\n",
        "import math"
      ],
      "metadata": {
        "id": "JKCTbJ_Lfje5"
      },
      "execution_count": 2,
      "outputs": []
    },
    {
      "cell_type": "markdown",
      "source": [
        "### Selección del backend\n",
        "Qiskit nos propociona la opción ejecutar nuestras soluciones sobre un simulador o sobre alguno de los proveedores de hardware, es decir, en un ordenador cuántico físico. Aunque en esta práctica no es necesario medir el estado de los qubits, a continuación incluimos el código para la selección de cada tipo de backend. A continuación podemos ver un ejemplo básico utilizando la simulación."
      ],
      "metadata": {
        "id": "buNXEj_XfUpK"
      }
    },
    {
      "cell_type": "code",
      "source": [
        "sim = Aer.get_backend('aer_simulator')\n",
        "qc = QuantumCircuit(1)\n",
        "qc.h(0)\n",
        "qc.measure_all()\n",
        "qc.draw()"
      ],
      "metadata": {
        "id": "UVoJzWBgfafp",
        "colab": {
          "base_uri": "https://localhost:8080/",
          "height": 94
        },
        "outputId": "6d6c42f6-114c-42bb-c23f-a6730eeb5078"
      },
      "execution_count": 3,
      "outputs": [
        {
          "output_type": "execute_result",
          "data": {
            "text/plain": [
              "        ┌───┐ ░ ┌─┐\n",
              "     q: ┤ H ├─░─┤M├\n",
              "        └───┘ ░ └╥┘\n",
              "meas: 1/═════════╩═\n",
              "                 0 "
            ],
            "text/html": [
              "<pre style=\"word-wrap: normal;white-space: pre;background: #fff0;line-height: 1.1;font-family: &quot;Courier New&quot;,Courier,monospace\">        ┌───┐ ░ ┌─┐\n",
              "     q: ┤ H ├─░─┤M├\n",
              "        └───┘ ░ └╥┘\n",
              "meas: 1/═════════╩═\n",
              "                 0 </pre>"
            ]
          },
          "metadata": {},
          "execution_count": 3
        }
      ]
    },
    {
      "cell_type": "markdown",
      "source": [
        "Para realizar la ejecución en un ordenador cuántico de IBM hay que seguir los pasos de este [enlace](https://quantum-computing.ibm.com/services/programs/docs/runtime/programs/start) y crear nuestra cuenta.\n",
        "Mediante este \"Hello World\" podemos comprobar la conexión de nuestra cuenta de IBM. Desde la interfaz en nuestra cuenta también podemos ejecutar diferentes circuitos mediante interfaz gráfica o introduciendo código Qiskit."
      ],
      "metadata": {
        "id": "T69F__q23r6x"
      }
    },
    {
      "cell_type": "markdown",
      "source": [
        "### Backend IBM"
      ],
      "metadata": {
        "id": "fJYpfV2AWSST"
      }
    },
    {
      "cell_type": "code",
      "source": [
        "service = QiskitRuntimeService(channel=\"ibm_quantum\", token='MY_IBM_API_TOKEN')"
      ],
      "metadata": {
        "id": "oT0sWM5W4nEv",
        "colab": {
          "base_uri": "https://localhost:8080/",
          "height": 453
        },
        "outputId": "a916a3e9-68e6-4127-ced0-17cc693b8d3e"
      },
      "execution_count": 4,
      "outputs": [
        {
          "output_type": "error",
          "ename": "RequestsApiError",
          "evalue": "ignored",
          "traceback": [
            "\u001b[0;31m---------------------------------------------------------------------------\u001b[0m",
            "\u001b[0;31mHTTPError\u001b[0m                                 Traceback (most recent call last)",
            "\u001b[0;32m/usr/local/lib/python3.10/dist-packages/qiskit_ibm_provider/api/session.py\u001b[0m in \u001b[0;36mrequest\u001b[0;34m(self, method, url, bare, **kwargs)\u001b[0m\n\u001b[1;32m    263\u001b[0m             \u001b[0mresponse\u001b[0m \u001b[0;34m=\u001b[0m \u001b[0msuper\u001b[0m\u001b[0;34m(\u001b[0m\u001b[0;34m)\u001b[0m\u001b[0;34m.\u001b[0m\u001b[0mrequest\u001b[0m\u001b[0;34m(\u001b[0m\u001b[0mmethod\u001b[0m\u001b[0;34m,\u001b[0m \u001b[0mfinal_url\u001b[0m\u001b[0;34m,\u001b[0m \u001b[0mheaders\u001b[0m\u001b[0;34m=\u001b[0m\u001b[0mheaders\u001b[0m\u001b[0;34m,\u001b[0m \u001b[0;34m**\u001b[0m\u001b[0mkwargs\u001b[0m\u001b[0;34m)\u001b[0m\u001b[0;34m\u001b[0m\u001b[0;34m\u001b[0m\u001b[0m\n\u001b[0;32m--> 264\u001b[0;31m             \u001b[0mresponse\u001b[0m\u001b[0;34m.\u001b[0m\u001b[0mraise_for_status\u001b[0m\u001b[0;34m(\u001b[0m\u001b[0;34m)\u001b[0m\u001b[0;34m\u001b[0m\u001b[0;34m\u001b[0m\u001b[0m\n\u001b[0m\u001b[1;32m    265\u001b[0m         \u001b[0;32mexcept\u001b[0m \u001b[0mRequestException\u001b[0m \u001b[0;32mas\u001b[0m \u001b[0mex\u001b[0m\u001b[0;34m:\u001b[0m\u001b[0;34m\u001b[0m\u001b[0;34m\u001b[0m\u001b[0m\n",
            "\u001b[0;32m/usr/local/lib/python3.10/dist-packages/requests/models.py\u001b[0m in \u001b[0;36mraise_for_status\u001b[0;34m(self)\u001b[0m\n\u001b[1;32m   1020\u001b[0m         \u001b[0;32mif\u001b[0m \u001b[0mhttp_error_msg\u001b[0m\u001b[0;34m:\u001b[0m\u001b[0;34m\u001b[0m\u001b[0;34m\u001b[0m\u001b[0m\n\u001b[0;32m-> 1021\u001b[0;31m             \u001b[0;32mraise\u001b[0m \u001b[0mHTTPError\u001b[0m\u001b[0;34m(\u001b[0m\u001b[0mhttp_error_msg\u001b[0m\u001b[0;34m,\u001b[0m \u001b[0mresponse\u001b[0m\u001b[0;34m=\u001b[0m\u001b[0mself\u001b[0m\u001b[0;34m)\u001b[0m\u001b[0;34m\u001b[0m\u001b[0;34m\u001b[0m\u001b[0m\n\u001b[0m\u001b[1;32m   1022\u001b[0m \u001b[0;34m\u001b[0m\u001b[0m\n",
            "\u001b[0;31mHTTPError\u001b[0m: 401 Client Error: Unauthorized for url: https://auth.quantum-computing.ibm.com/api/users/loginWithToken",
            "\nThe above exception was the direct cause of the following exception:\n",
            "\u001b[0;31mRequestsApiError\u001b[0m                          Traceback (most recent call last)",
            "\u001b[0;32m<ipython-input-4-9cadfc241ec3>\u001b[0m in \u001b[0;36m<cell line: 1>\u001b[0;34m()\u001b[0m\n\u001b[0;32m----> 1\u001b[0;31m \u001b[0mservice\u001b[0m \u001b[0;34m=\u001b[0m \u001b[0mQiskitRuntimeService\u001b[0m\u001b[0;34m(\u001b[0m\u001b[0mchannel\u001b[0m\u001b[0;34m=\u001b[0m\u001b[0;34m\"ibm_quantum\"\u001b[0m\u001b[0;34m,\u001b[0m \u001b[0mtoken\u001b[0m\u001b[0;34m=\u001b[0m\u001b[0;34m'MY_IBM_API_TOKEN'\u001b[0m\u001b[0;34m)\u001b[0m\u001b[0;34m\u001b[0m\u001b[0;34m\u001b[0m\u001b[0m\n\u001b[0m",
            "\u001b[0;32m/usr/local/lib/python3.10/dist-packages/qiskit_ibm_runtime/qiskit_runtime_service.py\u001b[0m in \u001b[0;36m__init__\u001b[0;34m(self, channel, token, url, filename, name, instance, proxies, verify, channel_strategy)\u001b[0m\n\u001b[1;32m    207\u001b[0m             \u001b[0;32mreturn\u001b[0m\u001b[0;34m\u001b[0m\u001b[0;34m\u001b[0m\u001b[0m\n\u001b[1;32m    208\u001b[0m         \u001b[0;32melse\u001b[0m\u001b[0;34m:\u001b[0m\u001b[0;34m\u001b[0m\u001b[0;34m\u001b[0m\u001b[0m\n\u001b[0;32m--> 209\u001b[0;31m             \u001b[0mauth_client\u001b[0m \u001b[0;34m=\u001b[0m \u001b[0mself\u001b[0m\u001b[0;34m.\u001b[0m\u001b[0m_authenticate_ibm_quantum_account\u001b[0m\u001b[0;34m(\u001b[0m\u001b[0mself\u001b[0m\u001b[0;34m.\u001b[0m\u001b[0m_client_params\u001b[0m\u001b[0;34m)\u001b[0m\u001b[0;34m\u001b[0m\u001b[0;34m\u001b[0m\u001b[0m\n\u001b[0m\u001b[1;32m    210\u001b[0m             \u001b[0;31m# Update client parameters to use authenticated values.\u001b[0m\u001b[0;34m\u001b[0m\u001b[0;34m\u001b[0m\u001b[0m\n\u001b[1;32m    211\u001b[0m             \u001b[0mself\u001b[0m\u001b[0;34m.\u001b[0m\u001b[0m_client_params\u001b[0m\u001b[0;34m.\u001b[0m\u001b[0murl\u001b[0m \u001b[0;34m=\u001b[0m \u001b[0mauth_client\u001b[0m\u001b[0;34m.\u001b[0m\u001b[0mcurrent_service_urls\u001b[0m\u001b[0;34m(\u001b[0m\u001b[0;34m)\u001b[0m\u001b[0;34m[\u001b[0m\u001b[0;34m\"services\"\u001b[0m\u001b[0;34m]\u001b[0m\u001b[0;34m[\u001b[0m\u001b[0;34m\"runtime\"\u001b[0m\u001b[0;34m]\u001b[0m\u001b[0;34m\u001b[0m\u001b[0;34m\u001b[0m\u001b[0m\n",
            "\u001b[0;32m/usr/local/lib/python3.10/dist-packages/qiskit_ibm_runtime/qiskit_runtime_service.py\u001b[0m in \u001b[0;36m_authenticate_ibm_quantum_account\u001b[0;34m(self, client_params)\u001b[0m\n\u001b[1;32m    356\u001b[0m                 )\n\u001b[1;32m    357\u001b[0m             )\n\u001b[0;32m--> 358\u001b[0;31m         \u001b[0mauth_client\u001b[0m \u001b[0;34m=\u001b[0m \u001b[0mAuthClient\u001b[0m\u001b[0;34m(\u001b[0m\u001b[0mclient_params\u001b[0m\u001b[0;34m)\u001b[0m\u001b[0;34m\u001b[0m\u001b[0;34m\u001b[0m\u001b[0m\n\u001b[0m\u001b[1;32m    359\u001b[0m         \u001b[0mservice_urls\u001b[0m \u001b[0;34m=\u001b[0m \u001b[0mauth_client\u001b[0m\u001b[0;34m.\u001b[0m\u001b[0mcurrent_service_urls\u001b[0m\u001b[0;34m(\u001b[0m\u001b[0;34m)\u001b[0m\u001b[0;34m\u001b[0m\u001b[0;34m\u001b[0m\u001b[0m\n\u001b[1;32m    360\u001b[0m         \u001b[0;32mif\u001b[0m \u001b[0;32mnot\u001b[0m \u001b[0mservice_urls\u001b[0m\u001b[0;34m.\u001b[0m\u001b[0mget\u001b[0m\u001b[0;34m(\u001b[0m\u001b[0;34m\"services\"\u001b[0m\u001b[0;34m,\u001b[0m \u001b[0;34m{\u001b[0m\u001b[0;34m}\u001b[0m\u001b[0;34m)\u001b[0m\u001b[0;34m.\u001b[0m\u001b[0mget\u001b[0m\u001b[0;34m(\u001b[0m\u001b[0mSERVICE_NAME\u001b[0m\u001b[0;34m)\u001b[0m\u001b[0;34m:\u001b[0m\u001b[0;34m\u001b[0m\u001b[0;34m\u001b[0m\u001b[0m\n",
            "\u001b[0;32m/usr/local/lib/python3.10/dist-packages/qiskit_ibm_provider/api/clients/auth.py\u001b[0m in \u001b[0;36m__init__\u001b[0;34m(self, client_params)\u001b[0m\n\u001b[1;32m     41\u001b[0m             \u001b[0mRetrySession\u001b[0m\u001b[0;34m(\u001b[0m\u001b[0mself\u001b[0m\u001b[0;34m.\u001b[0m\u001b[0mauth_url\u001b[0m\u001b[0;34m,\u001b[0m \u001b[0;34m**\u001b[0m\u001b[0mclient_params\u001b[0m\u001b[0;34m.\u001b[0m\u001b[0mconnection_parameters\u001b[0m\u001b[0;34m(\u001b[0m\u001b[0;34m)\u001b[0m\u001b[0;34m)\u001b[0m\u001b[0;34m\u001b[0m\u001b[0;34m\u001b[0m\u001b[0m\n\u001b[1;32m     42\u001b[0m         )\n\u001b[0;32m---> 43\u001b[0;31m         self.base_api = self._init_service_clients(\n\u001b[0m\u001b[1;32m     44\u001b[0m             \u001b[0;34m**\u001b[0m\u001b[0mclient_params\u001b[0m\u001b[0;34m.\u001b[0m\u001b[0mconnection_parameters\u001b[0m\u001b[0;34m(\u001b[0m\u001b[0;34m)\u001b[0m\u001b[0;34m\u001b[0m\u001b[0;34m\u001b[0m\u001b[0m\n\u001b[1;32m     45\u001b[0m         )\n",
            "\u001b[0;32m/usr/local/lib/python3.10/dist-packages/qiskit_ibm_provider/api/clients/auth.py\u001b[0m in \u001b[0;36m_init_service_clients\u001b[0;34m(self, **request_kwargs)\u001b[0m\n\u001b[1;32m     55\u001b[0m         \"\"\"\n\u001b[1;32m     56\u001b[0m         \u001b[0;31m# Request an access token.\u001b[0m\u001b[0;34m\u001b[0m\u001b[0;34m\u001b[0m\u001b[0m\n\u001b[0;32m---> 57\u001b[0;31m         \u001b[0mself\u001b[0m\u001b[0;34m.\u001b[0m\u001b[0maccess_token\u001b[0m \u001b[0;34m=\u001b[0m \u001b[0mself\u001b[0m\u001b[0;34m.\u001b[0m\u001b[0m_request_access_token\u001b[0m\u001b[0;34m(\u001b[0m\u001b[0;34m)\u001b[0m\u001b[0;34m\u001b[0m\u001b[0;34m\u001b[0m\u001b[0m\n\u001b[0m\u001b[1;32m     58\u001b[0m         \u001b[0mself\u001b[0m\u001b[0;34m.\u001b[0m\u001b[0mauth_api\u001b[0m\u001b[0;34m.\u001b[0m\u001b[0msession\u001b[0m\u001b[0;34m.\u001b[0m\u001b[0mauth\u001b[0m \u001b[0;34m=\u001b[0m \u001b[0mQuantumAuth\u001b[0m\u001b[0;34m(\u001b[0m\u001b[0maccess_token\u001b[0m\u001b[0;34m=\u001b[0m\u001b[0mself\u001b[0m\u001b[0;34m.\u001b[0m\u001b[0maccess_token\u001b[0m\u001b[0;34m)\u001b[0m\u001b[0;34m\u001b[0m\u001b[0;34m\u001b[0m\u001b[0m\n\u001b[1;32m     59\u001b[0m         \u001b[0mself\u001b[0m\u001b[0;34m.\u001b[0m\u001b[0m_service_urls\u001b[0m \u001b[0;34m=\u001b[0m \u001b[0mself\u001b[0m\u001b[0;34m.\u001b[0m\u001b[0muser_urls\u001b[0m\u001b[0;34m(\u001b[0m\u001b[0;34m)\u001b[0m\u001b[0;34m\u001b[0m\u001b[0;34m\u001b[0m\u001b[0m\n",
            "\u001b[0;32m/usr/local/lib/python3.10/dist-packages/qiskit_ibm_provider/api/clients/auth.py\u001b[0m in \u001b[0;36m_request_access_token\u001b[0;34m(self)\u001b[0m\n\u001b[1;32m     81\u001b[0m         \"\"\"\n\u001b[1;32m     82\u001b[0m         \u001b[0;32mtry\u001b[0m\u001b[0;34m:\u001b[0m\u001b[0;34m\u001b[0m\u001b[0;34m\u001b[0m\u001b[0m\n\u001b[0;32m---> 83\u001b[0;31m             \u001b[0mresponse\u001b[0m \u001b[0;34m=\u001b[0m \u001b[0mself\u001b[0m\u001b[0;34m.\u001b[0m\u001b[0mauth_api\u001b[0m\u001b[0;34m.\u001b[0m\u001b[0mlogin\u001b[0m\u001b[0;34m(\u001b[0m\u001b[0mself\u001b[0m\u001b[0;34m.\u001b[0m\u001b[0mapi_token\u001b[0m\u001b[0;34m)\u001b[0m\u001b[0;34m\u001b[0m\u001b[0;34m\u001b[0m\u001b[0m\n\u001b[0m\u001b[1;32m     84\u001b[0m             \u001b[0;32mreturn\u001b[0m \u001b[0mresponse\u001b[0m\u001b[0;34m[\u001b[0m\u001b[0;34m\"id\"\u001b[0m\u001b[0;34m]\u001b[0m\u001b[0;34m\u001b[0m\u001b[0;34m\u001b[0m\u001b[0m\n\u001b[1;32m     85\u001b[0m         \u001b[0;32mexcept\u001b[0m \u001b[0mRequestsApiError\u001b[0m \u001b[0;32mas\u001b[0m \u001b[0mex\u001b[0m\u001b[0;34m:\u001b[0m\u001b[0;34m\u001b[0m\u001b[0;34m\u001b[0m\u001b[0m\n",
            "\u001b[0;32m/usr/local/lib/python3.10/dist-packages/qiskit_ibm_provider/api/rest/root.py\u001b[0m in \u001b[0;36mlogin\u001b[0;34m(self, api_token)\u001b[0m\n\u001b[1;32m     94\u001b[0m         \"\"\"\n\u001b[1;32m     95\u001b[0m         \u001b[0murl\u001b[0m \u001b[0;34m=\u001b[0m \u001b[0mself\u001b[0m\u001b[0;34m.\u001b[0m\u001b[0mget_url\u001b[0m\u001b[0;34m(\u001b[0m\u001b[0;34m\"login\"\u001b[0m\u001b[0;34m)\u001b[0m\u001b[0;34m\u001b[0m\u001b[0;34m\u001b[0m\u001b[0m\n\u001b[0;32m---> 96\u001b[0;31m         \u001b[0;32mreturn\u001b[0m \u001b[0mself\u001b[0m\u001b[0;34m.\u001b[0m\u001b[0msession\u001b[0m\u001b[0;34m.\u001b[0m\u001b[0mpost\u001b[0m\u001b[0;34m(\u001b[0m\u001b[0murl\u001b[0m\u001b[0;34m,\u001b[0m \u001b[0mjson\u001b[0m\u001b[0;34m=\u001b[0m\u001b[0;34m{\u001b[0m\u001b[0;34m\"apiToken\"\u001b[0m\u001b[0;34m:\u001b[0m \u001b[0mapi_token\u001b[0m\u001b[0;34m}\u001b[0m\u001b[0;34m)\u001b[0m\u001b[0;34m.\u001b[0m\u001b[0mjson\u001b[0m\u001b[0;34m(\u001b[0m\u001b[0;34m)\u001b[0m\u001b[0;34m\u001b[0m\u001b[0;34m\u001b[0m\u001b[0m\n\u001b[0m\u001b[1;32m     97\u001b[0m \u001b[0;34m\u001b[0m\u001b[0m\n\u001b[1;32m     98\u001b[0m     \u001b[0;32mdef\u001b[0m \u001b[0muser_info\u001b[0m\u001b[0;34m(\u001b[0m\u001b[0mself\u001b[0m\u001b[0;34m)\u001b[0m \u001b[0;34m->\u001b[0m \u001b[0mDict\u001b[0m\u001b[0;34m[\u001b[0m\u001b[0mstr\u001b[0m\u001b[0;34m,\u001b[0m \u001b[0mAny\u001b[0m\u001b[0;34m]\u001b[0m\u001b[0;34m:\u001b[0m\u001b[0;34m\u001b[0m\u001b[0;34m\u001b[0m\u001b[0m\n",
            "\u001b[0;32m/usr/local/lib/python3.10/dist-packages/requests/sessions.py\u001b[0m in \u001b[0;36mpost\u001b[0;34m(self, url, data, json, **kwargs)\u001b[0m\n\u001b[1;32m    635\u001b[0m         \"\"\"\n\u001b[1;32m    636\u001b[0m \u001b[0;34m\u001b[0m\u001b[0m\n\u001b[0;32m--> 637\u001b[0;31m         \u001b[0;32mreturn\u001b[0m \u001b[0mself\u001b[0m\u001b[0;34m.\u001b[0m\u001b[0mrequest\u001b[0m\u001b[0;34m(\u001b[0m\u001b[0;34m\"POST\"\u001b[0m\u001b[0;34m,\u001b[0m \u001b[0murl\u001b[0m\u001b[0;34m,\u001b[0m \u001b[0mdata\u001b[0m\u001b[0;34m=\u001b[0m\u001b[0mdata\u001b[0m\u001b[0;34m,\u001b[0m \u001b[0mjson\u001b[0m\u001b[0;34m=\u001b[0m\u001b[0mjson\u001b[0m\u001b[0;34m,\u001b[0m \u001b[0;34m**\u001b[0m\u001b[0mkwargs\u001b[0m\u001b[0;34m)\u001b[0m\u001b[0;34m\u001b[0m\u001b[0;34m\u001b[0m\u001b[0m\n\u001b[0m\u001b[1;32m    638\u001b[0m \u001b[0;34m\u001b[0m\u001b[0m\n\u001b[1;32m    639\u001b[0m     \u001b[0;32mdef\u001b[0m \u001b[0mput\u001b[0m\u001b[0;34m(\u001b[0m\u001b[0mself\u001b[0m\u001b[0;34m,\u001b[0m \u001b[0murl\u001b[0m\u001b[0;34m,\u001b[0m \u001b[0mdata\u001b[0m\u001b[0;34m=\u001b[0m\u001b[0;32mNone\u001b[0m\u001b[0;34m,\u001b[0m \u001b[0;34m**\u001b[0m\u001b[0mkwargs\u001b[0m\u001b[0;34m)\u001b[0m\u001b[0;34m:\u001b[0m\u001b[0;34m\u001b[0m\u001b[0;34m\u001b[0m\u001b[0m\n",
            "\u001b[0;32m/usr/local/lib/python3.10/dist-packages/qiskit_ibm_provider/api/session.py\u001b[0m in \u001b[0;36mrequest\u001b[0;34m(self, method, url, bare, **kwargs)\u001b[0m\n\u001b[1;32m    283\u001b[0m                     \u001b[0mmessage\u001b[0m \u001b[0;34m+=\u001b[0m \u001b[0;34mf\". {ex.response.text}\"\u001b[0m\u001b[0;34m\u001b[0m\u001b[0;34m\u001b[0m\u001b[0m\n\u001b[1;32m    284\u001b[0m \u001b[0;34m\u001b[0m\u001b[0m\n\u001b[0;32m--> 285\u001b[0;31m             \u001b[0;32mraise\u001b[0m \u001b[0mRequestsApiError\u001b[0m\u001b[0;34m(\u001b[0m\u001b[0mmessage\u001b[0m\u001b[0;34m,\u001b[0m \u001b[0mstatus_code\u001b[0m\u001b[0;34m)\u001b[0m \u001b[0;32mfrom\u001b[0m \u001b[0mex\u001b[0m\u001b[0;34m\u001b[0m\u001b[0;34m\u001b[0m\u001b[0m\n\u001b[0m\u001b[1;32m    286\u001b[0m \u001b[0;34m\u001b[0m\u001b[0m\n\u001b[1;32m    287\u001b[0m         \u001b[0;32mreturn\u001b[0m \u001b[0mresponse\u001b[0m\u001b[0;34m\u001b[0m\u001b[0;34m\u001b[0m\u001b[0m\n",
            "\u001b[0;31mRequestsApiError\u001b[0m: '401 Client Error: Unauthorized for url: https://auth.quantum-computing.ibm.com/api/users/loginWithToken. Login failed., Error code: 3446.'"
          ]
        }
      ]
    },
    {
      "cell_type": "code",
      "source": [
        "program_inputs = {'iterations': 1}\n",
        "options = {\"backend_name\": \"ibmq_qasm_simulator\"}\n",
        "job = service.run(program_id=\"hello-world\",\n",
        "                options=options,\n",
        "                inputs=program_inputs\n",
        "                )\n",
        "print(f\"job id: {job.job_id()}\")\n",
        "result = job.result()\n",
        "print(result)"
      ],
      "metadata": {
        "id": "ahgNB0lR03KO"
      },
      "execution_count": null,
      "outputs": []
    },
    {
      "cell_type": "markdown",
      "source": [
        "El siguiente ejemplo muestra la ejecución para un circuito con una puerta Hadamard."
      ],
      "metadata": {
        "id": "i4I5Rp3_4c3i"
      }
    },
    {
      "cell_type": "code",
      "source": [
        "qc = QuantumCircuit(1)\n",
        "qc.h(0)\n",
        "qc.measure_all()\n",
        "\n",
        "options = Options()\n",
        "options.optimization_level = 2\n",
        "options.resilience_level = 0\n",
        "\n",
        "with Session(service=service, backend=\"ibmq_qasm_simulator\") as session:\n",
        "    sampler = Sampler(session=session, options=options)\n",
        "    job = sampler.run(qc)\n",
        "    result = job.result()\n",
        "\n",
        "display(qc.draw())\n",
        "print(f\" > Quasi probability distribution: {result.quasi_dists[0]}\")\n",
        "print(f\" > Metadata: {result.metadata[0]}\")"
      ],
      "metadata": {
        "id": "gj9fD8Z72jN7"
      },
      "execution_count": null,
      "outputs": []
    },
    {
      "cell_type": "markdown",
      "source": [
        "## Qiskit\n",
        "Se trata de una librería open-source para desarrollo cuántico. Para conocer más información se recomienda visitar la [documentación](https://qiskit.org/documentation/index.html), además de los [tutoriales](https://qiskit.org/documentation/tutorials.html) y el [libro de texto](https://qiskit.org/textbook/preface.html), en el cual se incluyen tanto conceptos prácticos como las bases teóricas."
      ],
      "metadata": {
        "id": "19M5a_KwBChW"
      }
    },
    {
      "cell_type": "markdown",
      "source": [
        "### Ejemplo 1: Circuito con una puerta X (NOT)\n",
        "Este circuito implementa lo equivalente a un NOT clásico."
      ],
      "metadata": {
        "id": "qJA0wG3oGKyg"
      }
    },
    {
      "cell_type": "code",
      "source": [
        "# Set the intial state of the simulator to the ground state using from_int\n",
        "state = Statevector.from_int(0, 2) # |0>\n",
        "\n",
        "# Create circuit with a X (NOT) gate\n",
        "qc = QuantumCircuit(1) # takes 1 qubit\n",
        "qc.x(0) # apply X to qubit 0\n",
        "\n",
        "# Print the circuit\n",
        "print(qc) # qc.draw('mlp') outside Colab to get nicer circuits\n",
        "\n",
        "# Evolve the state by the quantum circuit\n",
        "state = state.evolve(qc)\n",
        "\n",
        "# Obtain probabilities\n",
        "print(state.probabilities_dict())\n",
        "\n",
        "# Print state in Latex style\n",
        "state.draw('latex')"
      ],
      "metadata": {
        "id": "n5fW_DWiGJhR",
        "colab": {
          "base_uri": "https://localhost:8080/",
          "height": 109
        },
        "outputId": "9fc79c57-57b7-4560-8bfe-8d7fa1546f40"
      },
      "execution_count": 5,
      "outputs": [
        {
          "output_type": "stream",
          "name": "stdout",
          "text": [
            "   ┌───┐\n",
            "q: ┤ X ├\n",
            "   └───┘\n",
            "{'1': 1.0}\n"
          ]
        },
        {
          "output_type": "execute_result",
          "data": {
            "text/plain": [
              "<IPython.core.display.Latex object>"
            ],
            "text/latex": "$$ |1\\rangle$$"
          },
          "metadata": {},
          "execution_count": 5
        }
      ]
    },
    {
      "cell_type": "markdown",
      "source": [
        "### Ejemplo 2: Circuito con una puerta H (Hadamard)\n",
        "En este circuito definimos un qubit en estado de superposición con probabilidad del 50% para cada estado utilizando la puerta Hadamard."
      ],
      "metadata": {
        "id": "LDvRfbv5_sQr"
      }
    },
    {
      "cell_type": "code",
      "source": [
        "# Set the intial state of the simulator to the ground state using from_int\n",
        "state = Statevector.from_int(0, 2) # |0>\n",
        "\n",
        "# Create circuit with a Hadamard gate (superposition of qubit)\n",
        "qc = QuantumCircuit(1) # takes 1 qubit\n",
        "qc.h(0) # apply H to qubit 0\n",
        "\n",
        "# Print the circuit\n",
        "print(qc) # qc.draw('mlp') outside Colab to get nicer circuits\n",
        "\n",
        "# Evolve the state by the quantum circuit\n",
        "state = state.evolve(qc)\n",
        "\n",
        "# Obtain probabilities\n",
        "print(state.probabilities_dict())\n",
        "\n",
        "# Print state in Latex style\n",
        "state.draw('latex')"
      ],
      "metadata": {
        "id": "3VvVriIolqBs",
        "colab": {
          "base_uri": "https://localhost:8080/",
          "height": 112
        },
        "outputId": "491ab6fa-f532-4ea1-98ae-1888a0c2688e"
      },
      "execution_count": 6,
      "outputs": [
        {
          "output_type": "stream",
          "name": "stdout",
          "text": [
            "   ┌───┐\n",
            "q: ┤ H ├\n",
            "   └───┘\n",
            "{'0': 0.4999999999999999, '1': 0.4999999999999999}\n"
          ]
        },
        {
          "output_type": "execute_result",
          "data": {
            "text/plain": [
              "<IPython.core.display.Latex object>"
            ],
            "text/latex": "$$\\frac{\\sqrt{2}}{2} |0\\rangle+\\frac{\\sqrt{2}}{2} |1\\rangle$$"
          },
          "metadata": {},
          "execution_count": 6
        }
      ]
    },
    {
      "cell_type": "markdown",
      "source": [
        "### Ejemplo 3: Circuito con puerta controlada\n",
        "En este ejemplo podemos ver como utilizar un bit como control de otra, concretamente para una puerta X, es decir, una puerta CNOT clásica. Se puede utilizar también para el resto de puertas cuánticas poniendo una 'c' delante (ver [documentación](https://qiskit.org/documentation/stubs/qiskit.circuit.library.CXGate.html))."
      ],
      "metadata": {
        "id": "KqtstbRAAAqi"
      }
    },
    {
      "cell_type": "code",
      "source": [
        "# Set the intial state of the simulator to the ground state using from_int\n",
        "state = Statevector.from_int(2, 2**2) # |10>\n",
        "\n",
        "# Create circuit with a CNOT gate\n",
        "qc = QuantumCircuit(2) # takes 2 qubits\n",
        "# Apply controlled gate: note that qiskit uses little endian notation, a higher index implies more relevance\n",
        "qc.cnot(1,0) # also qx()\n",
        "\n",
        "# Print the circuit\n",
        "print(qc) # qc.draw('mlp') outside Colab to get nicer circuits\n",
        "\n",
        "# Evolve the state by the quantum circuit\n",
        "state = state.evolve(qc)\n",
        "\n",
        "# Obtain probabilities\n",
        "print(state.probabilities_dict())\n",
        "\n",
        "# Print state in Latex style\n",
        "state.draw('latex')"
      ],
      "metadata": {
        "id": "Asv57gia7FF6",
        "colab": {
          "base_uri": "https://localhost:8080/",
          "height": 200
        },
        "outputId": "c317cee1-5a29-4a04-9c46-ac8e81c19f9e"
      },
      "execution_count": 7,
      "outputs": [
        {
          "output_type": "stream",
          "name": "stdout",
          "text": [
            "     ┌───┐\n",
            "q_0: ┤ X ├\n",
            "     └─┬─┘\n",
            "q_1: ──■──\n",
            "          \n",
            "{'11': 1.0}\n"
          ]
        },
        {
          "output_type": "stream",
          "name": "stderr",
          "text": [
            "<ipython-input-7-bd5c108f1993>:7: DeprecationWarning: The method ``qiskit.circuit.quantumcircuit.QuantumCircuit.cnot()`` is deprecated as of qiskit 0.45.0. It will be removed no earlier than 3 months after the release date. Use QuantumCircuit.cx as direct replacement.\n",
            "  qc.cnot(1,0) # also qx()\n"
          ]
        },
        {
          "output_type": "execute_result",
          "data": {
            "text/plain": [
              "<IPython.core.display.Latex object>"
            ],
            "text/latex": "$$ |11\\rangle$$"
          },
          "metadata": {},
          "execution_count": 7
        }
      ]
    },
    {
      "cell_type": "markdown",
      "source": [
        "## Ejercicios\n",
        "Resuelve los siguientes ejercicios completando únicamente los trozos de código indicados, **sin modificar** el código proporcionado.\n",
        "\n",
        "Además de las puertas vistas en los ejemplos se pueden encontrar otras muchas puertas en la documentación de Qiskit además de poder hacer combinaciones de las mismas para por ejemplo utilizar más de un bit de control. Algunos de estos casos se encuentran estandarizados como la [puerta Toffoli](https://qiskit.org/documentation/stubs/qiskit.circuit.library.CCXGate.html), que puede ser de utilidad en alguno de los ejercicios."
      ],
      "metadata": {
        "id": "--yieFm3GSfp"
      }
    },
    {
      "cell_type": "markdown",
      "source": [
        "### Ejercicio 1\n",
        "El entrelazamiento (entanglement) es cuando dos o más qubits tienen propiedades unidas. Por ejemplo en el estado $|00\\rangle + |11\\rangle$, el valor del segundo qubit viene determinado por el valor del primero.\n",
        "En caso de no estar entrelazados el estado sería $|00\\rangle + |01\\rangle + |10\\rangle + |11\\rangle$\n",
        "\n",
        "Completa el código a continuación para que la salida de los dos qubits quede entrelazada. Estado esperado: $\\frac{\\sqrt2}{2}|00\\rangle + \\frac{\\sqrt2}{2}|11\\rangle$"
      ],
      "metadata": {
        "id": "AMQwUU24BaFs"
      }
    },
    {
      "cell_type": "code",
      "source": [
        "state = Statevector.from_int(0, 2**2)\n",
        "qc = QuantumCircuit(2)\n",
        "\n",
        "## |00>\n",
        "#========================\n",
        "\n",
        "# Aplicar la puerta Hadamard al primer qubit\n",
        "qc.h(0)\n",
        "\n",
        "# Aplicar la puerta CNOT con el primer qubit como control y el segundo como objetivo\n",
        "qc.cx(0, 1)\n",
        "\n",
        "# Evolucionar el Statevector según el circuito cuántico\n",
        "state = state.evolve(qc)\n",
        "\n",
        "#========================\n",
        "state = state.evolve(qc)\n",
        "print(qc)\n",
        "print(state.probabilities_dict())\n",
        "state.draw('latex')"
      ],
      "metadata": {
        "id": "iroU5GVKBjH8",
        "colab": {
          "base_uri": "https://localhost:8080/",
          "height": 166
        },
        "outputId": "aa75720c-4e2c-4ecd-da04-bdbf47ac2946"
      },
      "execution_count": 8,
      "outputs": [
        {
          "output_type": "stream",
          "name": "stdout",
          "text": [
            "     ┌───┐     \n",
            "q_0: ┤ H ├──■──\n",
            "     └───┘┌─┴─┐\n",
            "q_1: ─────┤ X ├\n",
            "          └───┘\n",
            "{'00': 0.2499999999999999, '01': 0.2499999999999999, '10': 0.2499999999999999, '11': 0.2499999999999999}\n"
          ]
        },
        {
          "output_type": "execute_result",
          "data": {
            "text/plain": [
              "<IPython.core.display.Latex object>"
            ],
            "text/latex": "$$\\frac{1}{2} |00\\rangle- \\frac{1}{2} |01\\rangle+\\frac{1}{2} |10\\rangle+\\frac{1}{2} |11\\rangle$$"
          },
          "metadata": {},
          "execution_count": 8
        }
      ]
    },
    {
      "cell_type": "markdown",
      "source": [
        "### Ejercicio 2\n",
        "A partir del código proporcionado crea el equivalente a una puerta AND de tal forma que Q0 = Q1 AND Q2.\n",
        "\n",
        "Estado esperado: $\\sqrt(0.25)|000\\rangle + \\sqrt(0.25)|010\\rangle + \\sqrt(0.25)|100\\rangle + \\sqrt(0.25)|111\\rangle$"
      ],
      "metadata": {
        "id": "zqBNcD49BmRs"
      }
    },
    {
      "cell_type": "code",
      "source": [
        "state = Statevector.from_int(0, 2**3)\n",
        "qc = QuantumCircuit(3)\n",
        "qc.h(1)\n",
        "qc.h(2)\n",
        "#========================\n",
        "\n",
        "# Aplicar la puerta Toffoli (ccx) con Q1 y Q2 como controles y Q0 como objetivo\n",
        "qc.ccx(1, 2, 0)\n",
        "\n",
        "#========================\n",
        "state = state.evolve(qc)\n",
        "print(qc)\n",
        "print(state.probabilities_dict())\n",
        "state.draw('latex')"
      ],
      "metadata": {
        "id": "bH3hcCvCBpwW",
        "colab": {
          "base_uri": "https://localhost:8080/",
          "height": 201
        },
        "outputId": "1d34239a-0532-4ab9-df4c-492b9de364c2"
      },
      "execution_count": 9,
      "outputs": [
        {
          "output_type": "stream",
          "name": "stdout",
          "text": [
            "          ┌───┐\n",
            "q_0: ─────┤ X ├\n",
            "     ┌───┐└─┬─┘\n",
            "q_1: ┤ H ├──■──\n",
            "     ├───┤  │  \n",
            "q_2: ┤ H ├──■──\n",
            "     └───┘     \n",
            "{'000': 0.2499999999999999, '010': 0.2499999999999999, '100': 0.2499999999999999, '111': 0.2499999999999999}\n"
          ]
        },
        {
          "output_type": "execute_result",
          "data": {
            "text/plain": [
              "<IPython.core.display.Latex object>"
            ],
            "text/latex": "$$\\frac{1}{2} |000\\rangle+\\frac{1}{2} |010\\rangle+\\frac{1}{2} |100\\rangle+\\frac{1}{2} |111\\rangle$$"
          },
          "metadata": {},
          "execution_count": 9
        }
      ]
    },
    {
      "cell_type": "markdown",
      "source": [
        "### Ejercicio 3\n",
        "A partir del código proporcionado crea el equivalente a una puerta OR de tal forma que Q0 = Q1 OR Q2.\n",
        "\n",
        "Estado esperado: $\\sqrt(0.25)|000\\rangle + \\sqrt(0.25)|011\\rangle + \\sqrt(0.25)|101\\rangle + \\sqrt(0.25)|111\\rangle$"
      ],
      "metadata": {
        "id": "mCG9BaBABqBK"
      }
    },
    {
      "cell_type": "code",
      "source": [
        "state = Statevector.from_int(0, 2**3)\n",
        "qc = QuantumCircuit(3)\n",
        "qc.h(1)\n",
        "qc.h(2)\n",
        "#========================\n",
        "\n",
        "# Aplicar la puerta X a Q1 y Q2 para invertir sus estados\n",
        "qc.x(1)\n",
        "qc.x(2)\n",
        "\n",
        "# Aplicar la puerta Toffoli (ccx) con Q1 y Q2 como controles y Q0 como objetivo\n",
        "qc.ccx(1, 2, 0)\n",
        "\n",
        "# Aplicar la puerta X a Q1 y Q2 nuevamente para revertir la inversión inicial\n",
        "qc.x(1)\n",
        "qc.x(2)\n",
        "\n",
        "#========================\n",
        "state = state.evolve(qc)\n",
        "print(qc)\n",
        "print(state.probabilities_dict())\n",
        "state.draw('latex')"
      ],
      "metadata": {
        "id": "LF3IZQVRBthV",
        "colab": {
          "base_uri": "https://localhost:8080/",
          "height": 201
        },
        "outputId": "e3c10b8a-5353-4d46-d267-97d0c137abb9"
      },
      "execution_count": 10,
      "outputs": [
        {
          "output_type": "stream",
          "name": "stdout",
          "text": [
            "               ┌───┐     \n",
            "q_0: ──────────┤ X ├─────\n",
            "     ┌───┐┌───┐└─┬─┘┌───┐\n",
            "q_1: ┤ H ├┤ X ├──■──┤ X ├\n",
            "     ├───┤├───┤  │  ├───┤\n",
            "q_2: ┤ H ├┤ X ├──■──┤ X ├\n",
            "     └───┘└───┘     └───┘\n",
            "{'001': 0.2499999999999999, '010': 0.2499999999999999, '100': 0.2499999999999999, '110': 0.2499999999999999}\n"
          ]
        },
        {
          "output_type": "execute_result",
          "data": {
            "text/plain": [
              "<IPython.core.display.Latex object>"
            ],
            "text/latex": "$$\\frac{1}{2} |001\\rangle+\\frac{1}{2} |010\\rangle+\\frac{1}{2} |100\\rangle+\\frac{1}{2} |110\\rangle$$"
          },
          "metadata": {},
          "execution_count": 10
        }
      ]
    },
    {
      "cell_type": "markdown",
      "source": [
        "### Ejercicio 4\n",
        "A partir del estado proporcionado $Ψ = |00\\rangle + |11\\rangle$ utiliza las puertas necesarias para obtener el estado $|00\\rangle$ con probabilidad 100%."
      ],
      "metadata": {
        "id": "iH57ntI_BjW6"
      }
    },
    {
      "cell_type": "code",
      "source": [
        "state = Statevector([1/math.sqrt(2)+0.j,0.+0.j, 0.+0.j,1/math.sqrt(2)+0.j])\n",
        "qc = QuantumCircuit(2)\n",
        "#========================\n",
        "\n",
        "# Aplicar la puerta CNOT con el primer qubit como control y el segundo como objetivo\n",
        "qc.cx(0, 1)\n",
        "\n",
        "# Aplicar la puerta Hadamard al primer qubit\n",
        "qc.h(0)\n",
        "\n",
        "#========================\n",
        "state = state.evolve(qc)\n",
        "print(qc)\n",
        "print( {key: f'{value:.2f}' for key, value in state.probabilities_dict().items() if value > 0.01}) # Ajustar resultado debido a imprecisiones con decimales\n",
        "state.draw('latex')"
      ],
      "metadata": {
        "id": "lJKy60aDBt7P",
        "colab": {
          "base_uri": "https://localhost:8080/",
          "height": 144
        },
        "outputId": "f8fcb8d8-8892-4664-aa2a-5e7c53abddf4"
      },
      "execution_count": 11,
      "outputs": [
        {
          "output_type": "stream",
          "name": "stdout",
          "text": [
            "          ┌───┐\n",
            "q_0: ──■──┤ H ├\n",
            "     ┌─┴─┐└───┘\n",
            "q_1: ┤ X ├─────\n",
            "     └───┘     \n",
            "{'00': '1.00'}\n"
          ]
        },
        {
          "output_type": "execute_result",
          "data": {
            "text/plain": [
              "<IPython.core.display.Latex object>"
            ],
            "text/latex": "$$ |00\\rangle$$"
          },
          "metadata": {},
          "execution_count": 11
        }
      ]
    },
    {
      "cell_type": "markdown",
      "source": [
        "### Ejercicio 5\n",
        "El qubit 0 tiene 20% de probabilidad de $|0\\rangle$ y 80% de $|1\\rangle$ y el qubit 1 tiene 100% de probabilidad de $|0\\rangle$\n",
        "\n",
        "Intercambialos para obtener $\\sqrt(0.2)|00\\rangle + \\sqrt(0.8)|01\\rangle$\n",
        "\n"
      ],
      "metadata": {
        "id": "6aFc2w8ly4wt"
      }
    },
    {
      "cell_type": "code",
      "source": [
        "# Aplicar las amplitudes dadas a los estados |00> y |10>\n",
        "state = Statevector([math.sqrt(0.2), 0, math.sqrt(0.8), 0])\n",
        "qc = QuantumCircuit(2)\n",
        "#========================\n",
        "\n",
        "\n",
        "\n",
        "#========================\n",
        "state = state.evolve(qc)\n",
        "print(qc)\n",
        "print( {key: f'{value:.2f}' for key, value in state.probabilities_dict().items() if value > 0.01}) # Ajustar resultado debido a imprecisiones con decimales\n",
        "state.draw('latex')"
      ],
      "metadata": {
        "id": "M7YFklURy4VM",
        "colab": {
          "base_uri": "https://localhost:8080/",
          "height": 145
        },
        "outputId": "46154e44-1b47-4957-a983-9ddd8686b7c9"
      },
      "execution_count": null,
      "outputs": [
        {
          "output_type": "stream",
          "name": "stdout",
          "text": [
            "     \n",
            "q_0: \n",
            "     \n",
            "q_1: \n",
            "     \n",
            "{'00': '0.20', '10': '0.80'}\n"
          ]
        },
        {
          "output_type": "execute_result",
          "data": {
            "text/plain": [
              "<IPython.core.display.Latex object>"
            ],
            "text/latex": "$$\\frac{\\sqrt{5}}{5} |00\\rangle+\\frac{2 \\sqrt{5}}{5} |10\\rangle$$"
          },
          "metadata": {},
          "execution_count": 6
        }
      ]
    },
    {
      "cell_type": "markdown",
      "source": [
        "### Ejercicio 6\n",
        "A partir del estado proporcionado $Ψ = \\sqrt(0.2)|00\\rangle + \\sqrt(0.4)|10\\rangle + \\sqrt(0.4)|11\\rangle$ utiliza las puertas necesarias para obtener el estado $\\sqrt(0.2)|00\\rangle + \\sqrt(0.8)|11\\rangle$"
      ],
      "metadata": {
        "id": "qutEKZoNXhLj"
      }
    },
    {
      "cell_type": "code",
      "source": [
        "state = Statevector([math.sqrt(0.2), 0, math.sqrt(0.4), math.sqrt(0.4)])\n",
        "qc = QuantumCircuit(2)\n",
        "#========================\n",
        "\n",
        "# No hay que hacer nada no?\n",
        "\n",
        "#========================\n",
        "state = state.evolve(qc)\n",
        "print(qc)\n",
        "print( {key: f'{value:.2f}' for key, value in state.probabilities_dict().items() if value > 0.01}) # Ajustar resultado debido a imprecisiones con decimales\n",
        "state.draw('latex')"
      ],
      "metadata": {
        "id": "YiJZEBCgXg2L",
        "colab": {
          "base_uri": "https://localhost:8080/",
          "height": 148
        },
        "outputId": "f06c4ef1-0e9a-4a06-e0c2-19110938d523"
      },
      "execution_count": 12,
      "outputs": [
        {
          "output_type": "stream",
          "name": "stdout",
          "text": [
            "     \n",
            "q_0: \n",
            "     \n",
            "q_1: \n",
            "     \n",
            "{'00': '0.20', '10': '0.40', '11': '0.40'}\n"
          ]
        },
        {
          "output_type": "execute_result",
          "data": {
            "text/plain": [
              "<IPython.core.display.Latex object>"
            ],
            "text/latex": "$$\\frac{\\sqrt{5}}{5} |00\\rangle+\\frac{\\sqrt{10}}{5} |10\\rangle+\\frac{\\sqrt{10}}{5} |11\\rangle$$"
          },
          "metadata": {},
          "execution_count": 12
        }
      ]
    },
    {
      "cell_type": "markdown",
      "source": [
        "### Ejercicio 7\n",
        "A partir del estado proporcionado $|10⟩$ utiliza las puertas necesarias para obtener el estado $|11\\rangle$ sin modificar las puertas Hadamard controladas al inicio y al final del circuito."
      ],
      "metadata": {
        "id": "rWGKk-Kxjzj8"
      }
    },
    {
      "cell_type": "code",
      "source": [
        "state = Statevector([0,1,0,0])\n",
        "qc = QuantumCircuit(2)\n",
        "qc.ch(0,1)\n",
        "#========================\n",
        "\n",
        "qc.x(1)\n",
        "\n",
        "\n",
        "#========================\n",
        "qc.ch(1,0)\n",
        "state = state.evolve(qc)\n",
        "print(qc)\n",
        "print( {key: f'{value:.2f}' for key, value in state.probabilities_dict().items() if value > 0.01}) # Ajustar resultado debido a imprecisiones con decimales\n",
        "state.draw('latex')"
      ],
      "metadata": {
        "id": "7ThE3bJhjz2M",
        "colab": {
          "base_uri": "https://localhost:8080/",
          "height": 148
        },
        "outputId": "e2aa93d6-f403-41e1-d6aa-3ebe0d406b99"
      },
      "execution_count": 13,
      "outputs": [
        {
          "output_type": "stream",
          "name": "stdout",
          "text": [
            "               ┌───┐\n",
            "q_0: ──■───────┤ H ├\n",
            "     ┌─┴─┐┌───┐└─┬─┘\n",
            "q_1: ┤ H ├┤ X ├──■──\n",
            "     └───┘└───┘     \n",
            "{'01': '0.50', '10': '0.25', '11': '0.25'}\n"
          ]
        },
        {
          "output_type": "execute_result",
          "data": {
            "text/plain": [
              "<IPython.core.display.Latex object>"
            ],
            "text/latex": "$$\\frac{\\sqrt{2}}{2} |01\\rangle+\\frac{1}{2} |10\\rangle- \\frac{1}{2} |11\\rangle$$"
          },
          "metadata": {},
          "execution_count": 13
        }
      ]
    },
    {
      "cell_type": "markdown",
      "source": [
        "### Ejercicio 8\n",
        "Dado el estado $\\Psi = \\sqrt(0.1)|00\\rangle + \\sqrt(0.2)|01\\rangle + \\sqrt(0.3)|10\\rangle + \\sqrt(0.4)|11\\rangle$\n",
        "\n",
        "Intercambia la probabilidad de obtener $|01\\rangle$ y $|10\\rangle$"
      ],
      "metadata": {
        "id": "njGbclmWj3YT"
      }
    },
    {
      "cell_type": "code",
      "source": [
        "state = Statevector([math.sqrt(0.1),math.sqrt(0.2),math.sqrt(0.3),math.sqrt(0.4)])\n",
        "qc = QuantumCircuit(2)\n",
        "#========================\n",
        "\n",
        "# Aplicar la puerta CNOT para entrelazar los qubits\n",
        "qc.cx(0, 1)\n",
        "# Aplicar la puerta CNOT en la dirección opuesta\n",
        "qc.cx(1, 0)\n",
        "# Aplicar la puerta CNOT otra vez para deshacer el entrelazamiento inicial\n",
        "qc.cx(0, 1)\n",
        "\n",
        "#========================\n",
        "state = state.evolve(qc)\n",
        "print(qc)\n",
        "print( {key: f'{value:.2f}' for key, value in state.probabilities_dict().items() if value > 0.01}) # Ajustar resultado debido a imprecisiones con decimales\n",
        "state.draw('latex')"
      ],
      "metadata": {
        "id": "GY_957RTj4BE",
        "colab": {
          "base_uri": "https://localhost:8080/",
          "height": 148
        },
        "outputId": "df551a90-4eb2-4db8-8615-0583b9a61a3f"
      },
      "execution_count": 14,
      "outputs": [
        {
          "output_type": "stream",
          "name": "stdout",
          "text": [
            "          ┌───┐     \n",
            "q_0: ──■──┤ X ├──■──\n",
            "     ┌─┴─┐└─┬─┘┌─┴─┐\n",
            "q_1: ┤ X ├──■──┤ X ├\n",
            "     └───┘     └───┘\n",
            "{'00': '0.10', '01': '0.30', '10': '0.20', '11': '0.40'}\n"
          ]
        },
        {
          "output_type": "execute_result",
          "data": {
            "text/plain": [
              "<IPython.core.display.Latex object>"
            ],
            "text/latex": "$$\\frac{\\sqrt{10}}{10} |00\\rangle+\\frac{\\sqrt{30}}{10} |01\\rangle+\\frac{\\sqrt{5}}{5} |10\\rangle+\\frac{\\sqrt{10}}{5} |11\\rangle$$"
          },
          "metadata": {},
          "execution_count": 14
        }
      ]
    },
    {
      "cell_type": "markdown",
      "source": [
        "## Entrega\n",
        "Se puede compartir el enlace a la copia personal de cada alumno del cuaderno de Google Colab. Para obtenerlo, se debe pulsar en el botón Compartir (Share), arriba a la derecha, y en el apartado de Obtener enlace, seleccionar la opción de Copiar enlace. Hay que asegurarse de que el enlace está configurado para que cualquiera con el enlace pueda acceder al contenido, y debe compartirse con permisos de Lector."
      ],
      "metadata": {
        "id": "HGzDnCrP6QqV"
      }
    }
  ]
}