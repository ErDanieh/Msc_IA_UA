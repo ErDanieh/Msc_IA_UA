{
  "cells": [
    {
      "cell_type": "markdown",
      "metadata": {
        "id": "Nc3olgQGs7_j"
      },
      "source": [
        "# Técnicas de Prendizaje Automático. Aprendizaje por Refuerzo\n",
        "\n",
        "## Práctica 2: SARSA\n",
        "\n",
        "En esta práctica se utilizará [Gymnasium](https://gymnasium.farama.org/index.html) para entrenar un agente que aprenderá a jugar [Blackjack](https://es.wikipedia.org/wiki/Blackjack) utilizando el algoritmo SARSA.\n",
        "\n",
        "**Instrucciones:**\n",
        "\n",
        "- siga las indicaciones y comentarios en cada apartado.\n",
        "<br></br>\n",
        "- incluya el código requerido entre los apartados:\n",
        "   - \\#\\<code>\n",
        "   - \\#\\</code>"
      ]
    },
    {
      "cell_type": "markdown",
      "metadata": {
        "id": "vurv-M1U-s3E"
      },
      "source": [
        "### Dependencias y utilidades\n",
        "Ejecute las dos casillas siguientes para instalar algunas dependencias y definir funciones necesarias."
      ]
    },
    {
      "cell_type": "code",
      "execution_count": 76,
      "metadata": {
        "id": "FHP0h4W07KYY"
      },
      "outputs": [],
      "source": [
        "%%capture\n",
        "!pip install -q swig\n",
        "!pip install gymnasium[all]\n",
        "\n",
        "!pip install --upgrade ipykernel"
      ]
    },
    {
      "cell_type": "code",
      "execution_count": 77,
      "metadata": {
        "id": "apRWfLCEguCY"
      },
      "outputs": [],
      "source": [
        "##@title Utilidades\n",
        "##@markdown Ejecute esta casilla para definir algunas funciones necesarias en la actividad.\n",
        "\n",
        "import gymnasium as gym\n",
        "import plotly.express as px\n",
        "import numpy as np\n",
        "#from google.colab import output\n",
        "import time\n",
        "\n",
        "import matplotlib.pyplot as plt\n",
        "import numpy as np\n",
        "import seaborn as sns\n",
        "from matplotlib.patches import Patch\n",
        "\n",
        "def visualize_trace(x, y):\n",
        "  \"\"\"\n",
        "  visualiza el promedio de episodios ganados\n",
        "  \"\"\"\n",
        "\n",
        "  ne = np.ones(x.shape[0]) #\n",
        "  ne = np.cumsum(ne)\n",
        "\n",
        "  yt = y == 1 # 1 retorno al ganar\n",
        "  yt = np.cumsum(yt) / ne\n",
        "\n",
        "  fig = px.line(x=x, y=yt, labels={'x':'Episodio', 'y':'Ganados'})\n",
        "\n",
        "\n",
        "  fig.update_layout(height=300,\n",
        "                    width=1200,\n",
        "                    yaxis_range=[0,1],\n",
        "                    showlegend=False\n",
        "                    )\n",
        "  return fig\n",
        "\n",
        "\n",
        "def create_grids(agent, usable_ace=False):\n",
        "\n",
        "  state_value = defaultdict(float)\n",
        "  policy = defaultdict(int)\n",
        "  for obs, action_values in agent.q_values.items():\n",
        "      state_value[obs] = float(np.max(action_values))\n",
        "      policy[obs] = int(np.argmax(action_values))\n",
        "\n",
        "  player_count, dealer_count = np.meshgrid(\n",
        "      np.arange(12, 22),\n",
        "      np.arange(1, 11),\n",
        "  )\n",
        "\n",
        "  value = np.apply_along_axis(\n",
        "      lambda obs: state_value[(obs[0], obs[1], usable_ace)],\n",
        "      axis=2,\n",
        "      arr=np.dstack([player_count, dealer_count]),\n",
        "  )\n",
        "  value_grid = player_count, dealer_count, value\n",
        "\n",
        "  policy_grid = np.apply_along_axis(\n",
        "      lambda obs: policy[(obs[0], obs[1], usable_ace)],\n",
        "      axis=2,\n",
        "      arr=np.dstack([player_count, dealer_count]),\n",
        "  )\n",
        "  return value_grid, policy_grid\n",
        "\n",
        "\n",
        "def create_plots(value_grid, policy_grid, title: str=\"\"):\n",
        "    player_count, dealer_count, value = value_grid\n",
        "    fig = plt.figure(figsize=plt.figaspect(0.4))\n",
        "    fig.suptitle(title, fontsize=16)\n",
        "\n",
        "    ax1 = fig.add_subplot(1, 2, 1, projection=\"3d\")\n",
        "    ax1.plot_surface(\n",
        "        player_count,\n",
        "        dealer_count,\n",
        "        value,\n",
        "        rstride=1,\n",
        "        cstride=1,\n",
        "        cmap=\"viridis\",\n",
        "        edgecolor=\"none\",\n",
        "    )\n",
        "    plt.xticks(range(12, 22), range(12, 22))\n",
        "    plt.yticks(range(1, 11), ['A'] + list(range(2, 11)))\n",
        "    ax1.set_title(f'Valor de estados: {title}')\n",
        "    ax1.set_xlabel('Puntos jugador')\n",
        "    ax1.set_ylabel('Carta crupier')\n",
        "    ax1.zaxis.set_rotate_label(False)\n",
        "    ax1.set_zlabel('Valor', fontsize=14, rotation=90)\n",
        "    ax1.view_init(20, 220)\n",
        "\n",
        "    fig.add_subplot(1, 2, 2)\n",
        "    ax2 = sns.heatmap(policy_grid, linewidth=0, annot=True, cmap='Accent_r', cbar=False)\n",
        "    ax2.set_title(f'Política: {title}')\n",
        "    ax2.set_xlabel('Puntos jugador')\n",
        "    ax2.set_ylabel('Carta crupier')\n",
        "    ax2.set_xticklabels(range(12, 22))\n",
        "    ax2.set_yticklabels(['A'] + list(range(2, 11)), fontsize=12)\n",
        "\n",
        "    legend_elements = [\n",
        "        Patch(facecolor='lightgreen', edgecolor='black', label='Hit'),\n",
        "        Patch(facecolor='grey', edgecolor='black', label='Stick'),\n",
        "    ]\n",
        "    ax2.legend(handles=legend_elements, bbox_to_anchor=(1.3, 1))\n",
        "    return fig\n"
      ]
    },
    {
      "cell_type": "markdown",
      "metadata": {
        "id": "eR4JEj7B0SrN"
      },
      "source": [
        "### Instanciar el entorno\n",
        "\n",
        "**a)** En Gymnasium, el modelado de un problema mediante aprendizaje por refuerzo gira en torno a los conceptos de **entorno** y **agente** como muestra la figura.\n",
        "\n",
        "<div>\n",
        "<img src=\"https://gymnasium.farama.org/_images/AE_loop.png\" width=\"200\"/>\n",
        "</div>\n",
        "\n",
        "Gymnasium implementa varios entornos que representan problemas clásicos. Además, permite implementar nuevos entornos para modelar otros problemas. Los entornos contienen cuatro funcionalidades principales `make`, `reset`, `step` y `render`.\n",
        "\n",
        "En la siguiente casilla, incluya el código necesario para:\n",
        "\n",
        "**a.1)** Crear e iniciar una instancia del entorno [Blackjack-v1](https://gymnasium.farama.org/environments/toy_text/blackjack/) implementado en Gymnasium. La variable con este entorno debe llamarse `env`.\n",
        "\n",
        "**a.2)** Imprimir el tamaño del espacio de acciones y la configuración de un estado. El código necesario ya se provee.\n",
        "\n",
        "**a.3)** Ejecutar un paso de tiempo en el entorno mediante la función `step`. Capture todos los valores que devuelve esta función en las variables `obs_current`, `reward`, `terminated` `truncated` e `info`. Como no se ha implementado el agente, se utilizará la función `sample` del `action_espace` del entorno.\n",
        "\n",
        "**a.4)** Imprimir el estado actual y la recompensa obtenida. El código necesario ya se provee.\n",
        "\n",
        "**Sugerencia**: Puede consultar la documentación de Gymnasium para más detalles sobre los [aspectos básicos](https://gymnasium.farama.org/content/basic_usage/) y el entorno [Blackjack-v1](https://gymnasium.farama.org/environments/toy_text/blackjack/).\n"
      ]
    },
    {
      "cell_type": "code",
      "execution_count": 78,
      "metadata": {
        "id": "15ZL6Pr3pCOb"
      },
      "outputs": [
        {
          "name": "stdout",
          "output_type": "stream",
          "text": [
            "Espacio de Acciones: Discrete(2)\n",
            "Espacio de Observaciones (estados): Tuple(Discrete(32), Discrete(11), Discrete(2))\n",
            "Estado actual: Puntos=6  Carta crupier=1  Aces=0\n"
          ]
        }
      ],
      "source": [
        "# a.1 crear entorno\n",
        "\n",
        "#<code>\n",
        "import gymnasium as gym\n",
        "env = gym.make('Blackjack-v1', sab=False, natural=False, render_mode='rgb_array')\n",
        "env.reset()\n",
        "#</code>\n",
        "\n",
        "# a.2\n",
        "print(f'Espacio de Acciones: {env.action_space}')\n",
        "print(f'Espacio de Observaciones (estados): {env.observation_space}')\n",
        "\n",
        "# a.3\n",
        "#<code>\n",
        "obs_current, reward, terminated, truncated, info  = env.step(env.action_space.sample())\n",
        "#</code>\n",
        "\n",
        "\n",
        "# a.4\n",
        "print(f'Estado actual: Puntos={obs_current[0]}  Carta crupier={obs_current[1]}  Aces={obs_current[2]}')"
      ]
    },
    {
      "cell_type": "markdown",
      "metadata": {
        "id": "R2cJc5jSn-tm"
      },
      "source": [
        "### Implementar el agente\n",
        "\n",
        "**b)** El otro concepto fundamental en Gymnasium es el de agente. Una forma de implementarlo es mediante una clase que contenga la información necesaria para el aprendizaje y las funciones para indicar que acción va a realizar, y actualizar su conocimiento. En el ejemplo se llaman `get_action` y `update` respectivamente.\n",
        "\n",
        "En el algoritmo SARSA, es necesario mantener las estimaciones - Q(s,a) - del valor de cada acción en un estado. Además, se requieren otros parámetros como el valor $\\epsilon$ de la política, el factor de aprendizaje $\\alpha$ y el factor de descuento $\\gamma$.\n",
        "\n",
        "<div>\n",
        "<p>Algoritmo SARSA</p>\n",
        "<img src=\"https://drive.google.com/uc?export=view&id=1LWbdv-AzX9OhB5VlVRMDyfBw1HRHgj9e\" width=\"400\"/>\n",
        "</div>\n",
        "\n",
        "\n",
        "Para Q, una propuesta es tener un diccionario que asocie el estado con el valor de las acciones. Hay que recordar que un estado se describe por tres valores (*suma del jugador*, *carta crupier*, *ases*).\n",
        "\n",
        "\n",
        "En la siguiente casilla, incluya el código necesario para:\n",
        "\n",
        "**b.1)** Devolver una acción al llamar a la función `get_action` de acuerdo al funcionamiento estudiado del algoritmo SARSA.\n",
        "\n",
        "**b.2)** Implementar la función `update`, esta se llamará en cada paso del episodio para realizar el aprendizaje.\n",
        "\n",
        "**Sugerencia**: Revisar la implementación del algoritmo Q-Learning, realizando las modificaciones pertinentes.\n"
      ]
    },
    {
      "cell_type": "code",
      "execution_count": 79,
      "metadata": {
        "id": "acSYZ5dL-S4P"
      },
      "outputs": [],
      "source": [
        "from collections import defaultdict\n",
        "\n",
        "class BlackjackAgentSARSA:\n",
        "    def __init__(\n",
        "        self,\n",
        "        env,\n",
        "        learning_rate: float,\n",
        "        epsilon: float,\n",
        "        discount_factor: float,\n",
        "    ):\n",
        "        \"\"\"\n",
        "        Agente que aprende utilizando Q-Learning\n",
        "        \"\"\"\n",
        "        self.lr = learning_rate                  # factor de aprendizaje\n",
        "        self.discount_factor = discount_factor   # factor de descuento\n",
        "        self.epsilon = epsilon                   # epsilon\n",
        "        self.env = env\n",
        "\n",
        "        self.q_values = defaultdict(lambda: np.zeros(self.env.action_space.n)) # Q(s,a)\n",
        "\n",
        "\n",
        "    def get_action(self, obs: tuple[int, int, bool]) -> int:\n",
        "        \"\"\"\n",
        "        Selecciona una acción de acuerdo al funcionamiento del algoritmo SARSA.\n",
        "        \"\"\"\n",
        "        if np.random.uniform(0, 1) < self.epsilon:\n",
        "            # Exploración: selecciona una acción aleatoria\n",
        "            action = np.random.choice(self.env.action_space.n)\n",
        "        else:\n",
        "            # Explotación: selecciona la mejor acción según las estimaciones Q(s,a)\n",
        "            action = np.argmax(self.q_values[obs])\n",
        "        return action\n",
        "\n",
        "\n",
        "    def update(\n",
        "        self,\n",
        "        obs_past: tuple[int, int, bool],\n",
        "        action: int,\n",
        "        reward: float,\n",
        "        terminated: bool,\n",
        "        truncated: bool,\n",
        "        info: dict,\n",
        "        obs_current: tuple[int, int, bool],\n",
        "    ):\n",
        "        \"\"\"Updates the Q-value of an action.\"\"\"\n",
        "        if terminated:\n",
        "            # No se actualiza el valor Q si el episodio ha terminado\n",
        "            pass\n",
        "\n",
        "        # Obtener la mejor acción en el estado actual\n",
        "        next_action = self.get_action(obs_current)\n",
        "\n",
        "        # Actualizar el valor Q(s,a) utilizando la fórmula SARSA\n",
        "        self.q_values[obs_past][action] += self.lr * (\n",
        "            reward + self.discount_factor * self.q_values[obs_current][next_action] - self.q_values[obs_past][action]\n",
        "        )\n"
      ]
    },
    {
      "cell_type": "markdown",
      "metadata": {
        "id": "sRZZ3dLEoWrs"
      },
      "source": [
        "### Definir ciclo de entrenamiento básico\n",
        "\n",
        "**c**) El aprendizaje se realiza en el ciclo de entrenamiento. Para el algoritmo SARSA el esquema puede ser:\n",
        "\n",
        "- Definir el entorno con el que se trabajará y crear una instancia.\n",
        "- Implementar el agente, incluida la política.\n",
        "- Interactuar con el entorno, tomando acciones y recibiendo recompensas.\n",
        "- Actualizar la política en cada paso.\n",
        "- Repetir mientras no se cumpla algún criterio de parada.\n",
        "\n",
        "En la siguiente casilla se implementa un ciclo básico de entrenamiento. Un episodio consiste en una secuencia de interacción-acción-recompensa. Incluya el código necesario para:\n",
        "\n",
        "**c.1)** Reiniciar el entorno al comenzar un nuevo episodio. Guarde el estado en una variable llamada `obs_past`.\n",
        "\n",
        "**c.2)** Pedir una acción al agente, según el estado actual.\n",
        "\n",
        "**c.3)** Avanzar un paso en el tiempo. Capture las variables `obs_current`, `reward`, `terminated` `truncated` e `info`.\n",
        "\n",
        "**c.4)** Actualizar la política.\n",
        "\n",
        "**Sugerencia**: Revisar la implementación del algoritmo Q-Learning, realizando las modificaciones pertinentes."
      ]
    },
    {
      "cell_type": "code",
      "execution_count": 80,
      "metadata": {
        "id": "06kEnJW3oU5Y"
      },
      "outputs": [],
      "source": [
        "from tqdm import tqdm\n",
        "\n",
        "def training_loop(env, agent, episodes=100, action_meanings = {0:'Stick', 1:'Hit'}, verbose=False):\n",
        "\n",
        "  for eid in tqdm(range(episodes)):\n",
        "\n",
        "      if verbose:\n",
        "        print(f'==== Episodio {eid}===')\n",
        "\n",
        "      obs_past, _ = env.reset()\n",
        "      #obs_past = obs_past[0]\n",
        "\n",
        "      while True:\n",
        "          # Get action from the agent\n",
        "          action = agent.get_action(obs_past)\n",
        "\n",
        "          # Take a step in the environment\n",
        "          obs_current, reward, terminated, truncated, info = env.step(action)\n",
        "\n",
        "          # Update the agent's policy\n",
        "          agent.update(obs_past, action, reward, terminated, truncated, info, obs_current)\n",
        "\n",
        "          if terminated:\n",
        "              break\n",
        "\n",
        "          obs_past = obs_current\n"
      ]
    },
    {
      "cell_type": "markdown",
      "metadata": {
        "id": "YWFdQy9IS0zd"
      },
      "source": [
        "### Integrar entorno, agente y ciclo de entrenamiento.\n",
        "\n",
        "**d)** Finalmente, se integran todos los elementos para realizar el aprendizaje.\n",
        "\n",
        "En la siguiente casilla, incluya el código necesario para:\n",
        "\n",
        "**d.1)** Instanciar e iniciar un decorador de tipo RecordEpisodeStatistics para el entorno. Utilice una variable llamada `envw`.\n",
        "\n",
        "**d.2)** Crear una instancia del agente, en una variable llamada `agent`. Cuide suministrar todos los parámetros necesarios con los siguientes valores `learning_rage=0.001`,  `epsilon=0.1`, `discount_rage=0.9`\n",
        "\n",
        "**d.3)** Llamar a la función que implementa el ciclo de entrenamiento para generar $10K$ episodios utilizando `envw`. El código necesario ya se provee.\n",
        "\n",
        "**d.4)** Mostrar en gráfico de dispersión el promedio de episodios ganados hasta el momento. Notar que el retorno es $+1$ en estos. Mostrar los valores de los estados, y la política. El código necesario ya se provee\n",
        "\n"
      ]
    },
    {
      "cell_type": "code",
      "execution_count": 81,
      "metadata": {
        "id": "D7LGoealRNvU"
      },
      "outputs": [
        {
          "name": "stderr",
          "output_type": "stream",
          "text": [
            " 10%|█████████▉                                                                                     | 1050/10000 [00:00<00:00, 10493.58it/s]"
          ]
        },
        {
          "name": "stderr",
          "output_type": "stream",
          "text": [
            "100%|██████████████████████████████████████████████████████████████████████████████████████████████| 10000/10000 [00:00<00:00, 12497.31it/s]\n"
          ]
        },
        {
          "data": {
            "application/vnd.plotly.v1+json": {
              "config": {
                "plotlyServerURL": "https://plot.ly"
              },
              "data": [
                {
                  "hovertemplate": "Episodio=%{x}<br>Ganados=%{y}<extra></extra>",
                  "legendgroup": "",
                  "line": {
                    "color": "#636efa",
                    "dash": "solid"
                  },
                  "marker": {
                    "symbol": "circle"
                  },
                  "mode": "lines",
                  "name": "",
                  "orientation": "v",
                  "showlegend": false,
                  "type": "scatter",
                  "x": [
                    0,
                    1,
                    2,
                    3,
                    4,
                    5,
                    6,
                    7,
                    8,
                    9,
                    10,
                    11,
                    12,
                    13,
                    14,
                    15,
                    16,
                    17,
                    18,
                    19,
                    20,
                    21,
                    22,
                    23,
                    24,
                    25,
                    26,
                    27,
                    28,
                    29,
                    30,
                    31,
                    32,
                    33,
                    34,
                    35,
                    36,
                    37,
                    38,
                    39,
                    40,
                    41,
                    42,
                    43,
                    44,
                    45,
                    46,
                    47,
                    48,
                    49,
                    50,
                    51,
                    52,
                    53,
                    54,
                    55,
                    56,
                    57,
                    58,
                    59,
                    60,
                    61,
                    62,
                    63,
                    64,
                    65,
                    66,
                    67,
                    68,
                    69,
                    70,
                    71,
                    72,
                    73,
                    74,
                    75,
                    76,
                    77,
                    78,
                    79,
                    80,
                    81,
                    82,
                    83,
                    84,
                    85,
                    86,
                    87,
                    88,
                    89,
                    90,
                    91,
                    92,
                    93,
                    94,
                    95,
                    96,
                    97,
                    98,
                    99
                  ],
                  "xaxis": "x",
                  "y": [
                    1,
                    0.5,
                    0.3333333333333333,
                    0.5,
                    0.4,
                    0.3333333333333333,
                    0.2857142857142857,
                    0.25,
                    0.2222222222222222,
                    0.2,
                    0.2727272727272727,
                    0.25,
                    0.23076923076923078,
                    0.21428571428571427,
                    0.2,
                    0.25,
                    0.23529411764705882,
                    0.2222222222222222,
                    0.2631578947368421,
                    0.25,
                    0.23809523809523808,
                    0.22727272727272727,
                    0.2608695652173913,
                    0.25,
                    0.24,
                    0.23076923076923078,
                    0.2222222222222222,
                    0.21428571428571427,
                    0.2413793103448276,
                    0.23333333333333334,
                    0.25806451612903225,
                    0.28125,
                    0.30303030303030304,
                    0.3235294117647059,
                    0.3142857142857143,
                    0.3333333333333333,
                    0.32432432432432434,
                    0.34210526315789475,
                    0.358974358974359,
                    0.375,
                    0.36585365853658536,
                    0.35714285714285715,
                    0.37209302325581395,
                    0.38636363636363635,
                    0.37777777777777777,
                    0.3695652173913043,
                    0.3617021276595745,
                    0.3541666666666667,
                    0.3673469387755102,
                    0.38,
                    0.39215686274509803,
                    0.38461538461538464,
                    0.37735849056603776,
                    0.37037037037037035,
                    0.36363636363636365,
                    0.375,
                    0.38596491228070173,
                    0.3793103448275862,
                    0.3898305084745763,
                    0.4,
                    0.4098360655737705,
                    0.41935483870967744,
                    0.4126984126984127,
                    0.40625,
                    0.4,
                    0.3939393939393939,
                    0.40298507462686567,
                    0.39705882352941174,
                    0.4057971014492754,
                    0.4,
                    0.39436619718309857,
                    0.3888888888888889,
                    0.3972602739726027,
                    0.40540540540540543,
                    0.4,
                    0.40789473684210525,
                    0.4025974025974026,
                    0.41025641025641024,
                    0.4050632911392405,
                    0.4,
                    0.3950617283950617,
                    0.3902439024390244,
                    0.39759036144578314,
                    0.40476190476190477,
                    0.4117647058823529,
                    0.4186046511627907,
                    0.42528735632183906,
                    0.4318181818181818,
                    0.42696629213483145,
                    0.4222222222222222,
                    0.4175824175824176,
                    0.42391304347826086,
                    0.41935483870967744,
                    0.4148936170212766,
                    0.4105263157894737,
                    0.4166666666666667,
                    0.422680412371134,
                    0.41836734693877553,
                    0.42424242424242425,
                    0.43
                  ],
                  "yaxis": "y"
                }
              ],
              "layout": {
                "height": 300,
                "legend": {
                  "tracegroupgap": 0
                },
                "margin": {
                  "t": 60
                },
                "showlegend": false,
                "template": {
                  "data": {
                    "bar": [
                      {
                        "error_x": {
                          "color": "#2a3f5f"
                        },
                        "error_y": {
                          "color": "#2a3f5f"
                        },
                        "marker": {
                          "line": {
                            "color": "#E5ECF6",
                            "width": 0.5
                          },
                          "pattern": {
                            "fillmode": "overlay",
                            "size": 10,
                            "solidity": 0.2
                          }
                        },
                        "type": "bar"
                      }
                    ],
                    "barpolar": [
                      {
                        "marker": {
                          "line": {
                            "color": "#E5ECF6",
                            "width": 0.5
                          },
                          "pattern": {
                            "fillmode": "overlay",
                            "size": 10,
                            "solidity": 0.2
                          }
                        },
                        "type": "barpolar"
                      }
                    ],
                    "carpet": [
                      {
                        "aaxis": {
                          "endlinecolor": "#2a3f5f",
                          "gridcolor": "white",
                          "linecolor": "white",
                          "minorgridcolor": "white",
                          "startlinecolor": "#2a3f5f"
                        },
                        "baxis": {
                          "endlinecolor": "#2a3f5f",
                          "gridcolor": "white",
                          "linecolor": "white",
                          "minorgridcolor": "white",
                          "startlinecolor": "#2a3f5f"
                        },
                        "type": "carpet"
                      }
                    ],
                    "choropleth": [
                      {
                        "colorbar": {
                          "outlinewidth": 0,
                          "ticks": ""
                        },
                        "type": "choropleth"
                      }
                    ],
                    "contour": [
                      {
                        "colorbar": {
                          "outlinewidth": 0,
                          "ticks": ""
                        },
                        "colorscale": [
                          [
                            0,
                            "#0d0887"
                          ],
                          [
                            0.1111111111111111,
                            "#46039f"
                          ],
                          [
                            0.2222222222222222,
                            "#7201a8"
                          ],
                          [
                            0.3333333333333333,
                            "#9c179e"
                          ],
                          [
                            0.4444444444444444,
                            "#bd3786"
                          ],
                          [
                            0.5555555555555556,
                            "#d8576b"
                          ],
                          [
                            0.6666666666666666,
                            "#ed7953"
                          ],
                          [
                            0.7777777777777778,
                            "#fb9f3a"
                          ],
                          [
                            0.8888888888888888,
                            "#fdca26"
                          ],
                          [
                            1,
                            "#f0f921"
                          ]
                        ],
                        "type": "contour"
                      }
                    ],
                    "contourcarpet": [
                      {
                        "colorbar": {
                          "outlinewidth": 0,
                          "ticks": ""
                        },
                        "type": "contourcarpet"
                      }
                    ],
                    "heatmap": [
                      {
                        "colorbar": {
                          "outlinewidth": 0,
                          "ticks": ""
                        },
                        "colorscale": [
                          [
                            0,
                            "#0d0887"
                          ],
                          [
                            0.1111111111111111,
                            "#46039f"
                          ],
                          [
                            0.2222222222222222,
                            "#7201a8"
                          ],
                          [
                            0.3333333333333333,
                            "#9c179e"
                          ],
                          [
                            0.4444444444444444,
                            "#bd3786"
                          ],
                          [
                            0.5555555555555556,
                            "#d8576b"
                          ],
                          [
                            0.6666666666666666,
                            "#ed7953"
                          ],
                          [
                            0.7777777777777778,
                            "#fb9f3a"
                          ],
                          [
                            0.8888888888888888,
                            "#fdca26"
                          ],
                          [
                            1,
                            "#f0f921"
                          ]
                        ],
                        "type": "heatmap"
                      }
                    ],
                    "heatmapgl": [
                      {
                        "colorbar": {
                          "outlinewidth": 0,
                          "ticks": ""
                        },
                        "colorscale": [
                          [
                            0,
                            "#0d0887"
                          ],
                          [
                            0.1111111111111111,
                            "#46039f"
                          ],
                          [
                            0.2222222222222222,
                            "#7201a8"
                          ],
                          [
                            0.3333333333333333,
                            "#9c179e"
                          ],
                          [
                            0.4444444444444444,
                            "#bd3786"
                          ],
                          [
                            0.5555555555555556,
                            "#d8576b"
                          ],
                          [
                            0.6666666666666666,
                            "#ed7953"
                          ],
                          [
                            0.7777777777777778,
                            "#fb9f3a"
                          ],
                          [
                            0.8888888888888888,
                            "#fdca26"
                          ],
                          [
                            1,
                            "#f0f921"
                          ]
                        ],
                        "type": "heatmapgl"
                      }
                    ],
                    "histogram": [
                      {
                        "marker": {
                          "pattern": {
                            "fillmode": "overlay",
                            "size": 10,
                            "solidity": 0.2
                          }
                        },
                        "type": "histogram"
                      }
                    ],
                    "histogram2d": [
                      {
                        "colorbar": {
                          "outlinewidth": 0,
                          "ticks": ""
                        },
                        "colorscale": [
                          [
                            0,
                            "#0d0887"
                          ],
                          [
                            0.1111111111111111,
                            "#46039f"
                          ],
                          [
                            0.2222222222222222,
                            "#7201a8"
                          ],
                          [
                            0.3333333333333333,
                            "#9c179e"
                          ],
                          [
                            0.4444444444444444,
                            "#bd3786"
                          ],
                          [
                            0.5555555555555556,
                            "#d8576b"
                          ],
                          [
                            0.6666666666666666,
                            "#ed7953"
                          ],
                          [
                            0.7777777777777778,
                            "#fb9f3a"
                          ],
                          [
                            0.8888888888888888,
                            "#fdca26"
                          ],
                          [
                            1,
                            "#f0f921"
                          ]
                        ],
                        "type": "histogram2d"
                      }
                    ],
                    "histogram2dcontour": [
                      {
                        "colorbar": {
                          "outlinewidth": 0,
                          "ticks": ""
                        },
                        "colorscale": [
                          [
                            0,
                            "#0d0887"
                          ],
                          [
                            0.1111111111111111,
                            "#46039f"
                          ],
                          [
                            0.2222222222222222,
                            "#7201a8"
                          ],
                          [
                            0.3333333333333333,
                            "#9c179e"
                          ],
                          [
                            0.4444444444444444,
                            "#bd3786"
                          ],
                          [
                            0.5555555555555556,
                            "#d8576b"
                          ],
                          [
                            0.6666666666666666,
                            "#ed7953"
                          ],
                          [
                            0.7777777777777778,
                            "#fb9f3a"
                          ],
                          [
                            0.8888888888888888,
                            "#fdca26"
                          ],
                          [
                            1,
                            "#f0f921"
                          ]
                        ],
                        "type": "histogram2dcontour"
                      }
                    ],
                    "mesh3d": [
                      {
                        "colorbar": {
                          "outlinewidth": 0,
                          "ticks": ""
                        },
                        "type": "mesh3d"
                      }
                    ],
                    "parcoords": [
                      {
                        "line": {
                          "colorbar": {
                            "outlinewidth": 0,
                            "ticks": ""
                          }
                        },
                        "type": "parcoords"
                      }
                    ],
                    "pie": [
                      {
                        "automargin": true,
                        "type": "pie"
                      }
                    ],
                    "scatter": [
                      {
                        "fillpattern": {
                          "fillmode": "overlay",
                          "size": 10,
                          "solidity": 0.2
                        },
                        "type": "scatter"
                      }
                    ],
                    "scatter3d": [
                      {
                        "line": {
                          "colorbar": {
                            "outlinewidth": 0,
                            "ticks": ""
                          }
                        },
                        "marker": {
                          "colorbar": {
                            "outlinewidth": 0,
                            "ticks": ""
                          }
                        },
                        "type": "scatter3d"
                      }
                    ],
                    "scattercarpet": [
                      {
                        "marker": {
                          "colorbar": {
                            "outlinewidth": 0,
                            "ticks": ""
                          }
                        },
                        "type": "scattercarpet"
                      }
                    ],
                    "scattergeo": [
                      {
                        "marker": {
                          "colorbar": {
                            "outlinewidth": 0,
                            "ticks": ""
                          }
                        },
                        "type": "scattergeo"
                      }
                    ],
                    "scattergl": [
                      {
                        "marker": {
                          "colorbar": {
                            "outlinewidth": 0,
                            "ticks": ""
                          }
                        },
                        "type": "scattergl"
                      }
                    ],
                    "scattermapbox": [
                      {
                        "marker": {
                          "colorbar": {
                            "outlinewidth": 0,
                            "ticks": ""
                          }
                        },
                        "type": "scattermapbox"
                      }
                    ],
                    "scatterpolar": [
                      {
                        "marker": {
                          "colorbar": {
                            "outlinewidth": 0,
                            "ticks": ""
                          }
                        },
                        "type": "scatterpolar"
                      }
                    ],
                    "scatterpolargl": [
                      {
                        "marker": {
                          "colorbar": {
                            "outlinewidth": 0,
                            "ticks": ""
                          }
                        },
                        "type": "scatterpolargl"
                      }
                    ],
                    "scatterternary": [
                      {
                        "marker": {
                          "colorbar": {
                            "outlinewidth": 0,
                            "ticks": ""
                          }
                        },
                        "type": "scatterternary"
                      }
                    ],
                    "surface": [
                      {
                        "colorbar": {
                          "outlinewidth": 0,
                          "ticks": ""
                        },
                        "colorscale": [
                          [
                            0,
                            "#0d0887"
                          ],
                          [
                            0.1111111111111111,
                            "#46039f"
                          ],
                          [
                            0.2222222222222222,
                            "#7201a8"
                          ],
                          [
                            0.3333333333333333,
                            "#9c179e"
                          ],
                          [
                            0.4444444444444444,
                            "#bd3786"
                          ],
                          [
                            0.5555555555555556,
                            "#d8576b"
                          ],
                          [
                            0.6666666666666666,
                            "#ed7953"
                          ],
                          [
                            0.7777777777777778,
                            "#fb9f3a"
                          ],
                          [
                            0.8888888888888888,
                            "#fdca26"
                          ],
                          [
                            1,
                            "#f0f921"
                          ]
                        ],
                        "type": "surface"
                      }
                    ],
                    "table": [
                      {
                        "cells": {
                          "fill": {
                            "color": "#EBF0F8"
                          },
                          "line": {
                            "color": "white"
                          }
                        },
                        "header": {
                          "fill": {
                            "color": "#C8D4E3"
                          },
                          "line": {
                            "color": "white"
                          }
                        },
                        "type": "table"
                      }
                    ]
                  },
                  "layout": {
                    "annotationdefaults": {
                      "arrowcolor": "#2a3f5f",
                      "arrowhead": 0,
                      "arrowwidth": 1
                    },
                    "autotypenumbers": "strict",
                    "coloraxis": {
                      "colorbar": {
                        "outlinewidth": 0,
                        "ticks": ""
                      }
                    },
                    "colorscale": {
                      "diverging": [
                        [
                          0,
                          "#8e0152"
                        ],
                        [
                          0.1,
                          "#c51b7d"
                        ],
                        [
                          0.2,
                          "#de77ae"
                        ],
                        [
                          0.3,
                          "#f1b6da"
                        ],
                        [
                          0.4,
                          "#fde0ef"
                        ],
                        [
                          0.5,
                          "#f7f7f7"
                        ],
                        [
                          0.6,
                          "#e6f5d0"
                        ],
                        [
                          0.7,
                          "#b8e186"
                        ],
                        [
                          0.8,
                          "#7fbc41"
                        ],
                        [
                          0.9,
                          "#4d9221"
                        ],
                        [
                          1,
                          "#276419"
                        ]
                      ],
                      "sequential": [
                        [
                          0,
                          "#0d0887"
                        ],
                        [
                          0.1111111111111111,
                          "#46039f"
                        ],
                        [
                          0.2222222222222222,
                          "#7201a8"
                        ],
                        [
                          0.3333333333333333,
                          "#9c179e"
                        ],
                        [
                          0.4444444444444444,
                          "#bd3786"
                        ],
                        [
                          0.5555555555555556,
                          "#d8576b"
                        ],
                        [
                          0.6666666666666666,
                          "#ed7953"
                        ],
                        [
                          0.7777777777777778,
                          "#fb9f3a"
                        ],
                        [
                          0.8888888888888888,
                          "#fdca26"
                        ],
                        [
                          1,
                          "#f0f921"
                        ]
                      ],
                      "sequentialminus": [
                        [
                          0,
                          "#0d0887"
                        ],
                        [
                          0.1111111111111111,
                          "#46039f"
                        ],
                        [
                          0.2222222222222222,
                          "#7201a8"
                        ],
                        [
                          0.3333333333333333,
                          "#9c179e"
                        ],
                        [
                          0.4444444444444444,
                          "#bd3786"
                        ],
                        [
                          0.5555555555555556,
                          "#d8576b"
                        ],
                        [
                          0.6666666666666666,
                          "#ed7953"
                        ],
                        [
                          0.7777777777777778,
                          "#fb9f3a"
                        ],
                        [
                          0.8888888888888888,
                          "#fdca26"
                        ],
                        [
                          1,
                          "#f0f921"
                        ]
                      ]
                    },
                    "colorway": [
                      "#636efa",
                      "#EF553B",
                      "#00cc96",
                      "#ab63fa",
                      "#FFA15A",
                      "#19d3f3",
                      "#FF6692",
                      "#B6E880",
                      "#FF97FF",
                      "#FECB52"
                    ],
                    "font": {
                      "color": "#2a3f5f"
                    },
                    "geo": {
                      "bgcolor": "white",
                      "lakecolor": "white",
                      "landcolor": "#E5ECF6",
                      "showlakes": true,
                      "showland": true,
                      "subunitcolor": "white"
                    },
                    "hoverlabel": {
                      "align": "left"
                    },
                    "hovermode": "closest",
                    "mapbox": {
                      "style": "light"
                    },
                    "paper_bgcolor": "white",
                    "plot_bgcolor": "#E5ECF6",
                    "polar": {
                      "angularaxis": {
                        "gridcolor": "white",
                        "linecolor": "white",
                        "ticks": ""
                      },
                      "bgcolor": "#E5ECF6",
                      "radialaxis": {
                        "gridcolor": "white",
                        "linecolor": "white",
                        "ticks": ""
                      }
                    },
                    "scene": {
                      "xaxis": {
                        "backgroundcolor": "#E5ECF6",
                        "gridcolor": "white",
                        "gridwidth": 2,
                        "linecolor": "white",
                        "showbackground": true,
                        "ticks": "",
                        "zerolinecolor": "white"
                      },
                      "yaxis": {
                        "backgroundcolor": "#E5ECF6",
                        "gridcolor": "white",
                        "gridwidth": 2,
                        "linecolor": "white",
                        "showbackground": true,
                        "ticks": "",
                        "zerolinecolor": "white"
                      },
                      "zaxis": {
                        "backgroundcolor": "#E5ECF6",
                        "gridcolor": "white",
                        "gridwidth": 2,
                        "linecolor": "white",
                        "showbackground": true,
                        "ticks": "",
                        "zerolinecolor": "white"
                      }
                    },
                    "shapedefaults": {
                      "line": {
                        "color": "#2a3f5f"
                      }
                    },
                    "ternary": {
                      "aaxis": {
                        "gridcolor": "white",
                        "linecolor": "white",
                        "ticks": ""
                      },
                      "baxis": {
                        "gridcolor": "white",
                        "linecolor": "white",
                        "ticks": ""
                      },
                      "bgcolor": "#E5ECF6",
                      "caxis": {
                        "gridcolor": "white",
                        "linecolor": "white",
                        "ticks": ""
                      }
                    },
                    "title": {
                      "x": 0.05
                    },
                    "xaxis": {
                      "automargin": true,
                      "gridcolor": "white",
                      "linecolor": "white",
                      "ticks": "",
                      "title": {
                        "standoff": 15
                      },
                      "zerolinecolor": "white",
                      "zerolinewidth": 2
                    },
                    "yaxis": {
                      "automargin": true,
                      "gridcolor": "white",
                      "linecolor": "white",
                      "ticks": "",
                      "title": {
                        "standoff": 15
                      },
                      "zerolinecolor": "white",
                      "zerolinewidth": 2
                    }
                  }
                },
                "width": 1200,
                "xaxis": {
                  "anchor": "y",
                  "domain": [
                    0,
                    1
                  ],
                  "title": {
                    "text": "Episodio"
                  }
                },
                "yaxis": {
                  "anchor": "x",
                  "domain": [
                    0,
                    1
                  ],
                  "range": [
                    0,
                    1
                  ],
                  "title": {
                    "text": "Ganados"
                  }
                }
              }
            },
            "text/html": [
              "<div>                            <div id=\"1610b147-01f7-4be9-8d59-e6134408fd0d\" class=\"plotly-graph-div\" style=\"height:300px; width:1200px;\"></div>            <script type=\"text/javascript\">                require([\"plotly\"], function(Plotly) {                    window.PLOTLYENV=window.PLOTLYENV || {};                                    if (document.getElementById(\"1610b147-01f7-4be9-8d59-e6134408fd0d\")) {                    Plotly.newPlot(                        \"1610b147-01f7-4be9-8d59-e6134408fd0d\",                        [{\"hovertemplate\":\"Episodio=%{x}\\u003cbr\\u003eGanados=%{y}\\u003cextra\\u003e\\u003c\\u002fextra\\u003e\",\"legendgroup\":\"\",\"line\":{\"color\":\"#636efa\",\"dash\":\"solid\"},\"marker\":{\"symbol\":\"circle\"},\"mode\":\"lines\",\"name\":\"\",\"orientation\":\"v\",\"showlegend\":false,\"x\":[0,1,2,3,4,5,6,7,8,9,10,11,12,13,14,15,16,17,18,19,20,21,22,23,24,25,26,27,28,29,30,31,32,33,34,35,36,37,38,39,40,41,42,43,44,45,46,47,48,49,50,51,52,53,54,55,56,57,58,59,60,61,62,63,64,65,66,67,68,69,70,71,72,73,74,75,76,77,78,79,80,81,82,83,84,85,86,87,88,89,90,91,92,93,94,95,96,97,98,99],\"xaxis\":\"x\",\"y\":[1.0,0.5,0.3333333333333333,0.5,0.4,0.3333333333333333,0.2857142857142857,0.25,0.2222222222222222,0.2,0.2727272727272727,0.25,0.23076923076923078,0.21428571428571427,0.2,0.25,0.23529411764705882,0.2222222222222222,0.2631578947368421,0.25,0.23809523809523808,0.22727272727272727,0.2608695652173913,0.25,0.24,0.23076923076923078,0.2222222222222222,0.21428571428571427,0.2413793103448276,0.23333333333333334,0.25806451612903225,0.28125,0.30303030303030304,0.3235294117647059,0.3142857142857143,0.3333333333333333,0.32432432432432434,0.34210526315789475,0.358974358974359,0.375,0.36585365853658536,0.35714285714285715,0.37209302325581395,0.38636363636363635,0.37777777777777777,0.3695652173913043,0.3617021276595745,0.3541666666666667,0.3673469387755102,0.38,0.39215686274509803,0.38461538461538464,0.37735849056603776,0.37037037037037035,0.36363636363636365,0.375,0.38596491228070173,0.3793103448275862,0.3898305084745763,0.4,0.4098360655737705,0.41935483870967744,0.4126984126984127,0.40625,0.4,0.3939393939393939,0.40298507462686567,0.39705882352941174,0.4057971014492754,0.4,0.39436619718309857,0.3888888888888889,0.3972602739726027,0.40540540540540543,0.4,0.40789473684210525,0.4025974025974026,0.41025641025641024,0.4050632911392405,0.4,0.3950617283950617,0.3902439024390244,0.39759036144578314,0.40476190476190477,0.4117647058823529,0.4186046511627907,0.42528735632183906,0.4318181818181818,0.42696629213483145,0.4222222222222222,0.4175824175824176,0.42391304347826086,0.41935483870967744,0.4148936170212766,0.4105263157894737,0.4166666666666667,0.422680412371134,0.41836734693877553,0.42424242424242425,0.43],\"yaxis\":\"y\",\"type\":\"scatter\"}],                        {\"template\":{\"data\":{\"histogram2dcontour\":[{\"type\":\"histogram2dcontour\",\"colorbar\":{\"outlinewidth\":0,\"ticks\":\"\"},\"colorscale\":[[0.0,\"#0d0887\"],[0.1111111111111111,\"#46039f\"],[0.2222222222222222,\"#7201a8\"],[0.3333333333333333,\"#9c179e\"],[0.4444444444444444,\"#bd3786\"],[0.5555555555555556,\"#d8576b\"],[0.6666666666666666,\"#ed7953\"],[0.7777777777777778,\"#fb9f3a\"],[0.8888888888888888,\"#fdca26\"],[1.0,\"#f0f921\"]]}],\"choropleth\":[{\"type\":\"choropleth\",\"colorbar\":{\"outlinewidth\":0,\"ticks\":\"\"}}],\"histogram2d\":[{\"type\":\"histogram2d\",\"colorbar\":{\"outlinewidth\":0,\"ticks\":\"\"},\"colorscale\":[[0.0,\"#0d0887\"],[0.1111111111111111,\"#46039f\"],[0.2222222222222222,\"#7201a8\"],[0.3333333333333333,\"#9c179e\"],[0.4444444444444444,\"#bd3786\"],[0.5555555555555556,\"#d8576b\"],[0.6666666666666666,\"#ed7953\"],[0.7777777777777778,\"#fb9f3a\"],[0.8888888888888888,\"#fdca26\"],[1.0,\"#f0f921\"]]}],\"heatmap\":[{\"type\":\"heatmap\",\"colorbar\":{\"outlinewidth\":0,\"ticks\":\"\"},\"colorscale\":[[0.0,\"#0d0887\"],[0.1111111111111111,\"#46039f\"],[0.2222222222222222,\"#7201a8\"],[0.3333333333333333,\"#9c179e\"],[0.4444444444444444,\"#bd3786\"],[0.5555555555555556,\"#d8576b\"],[0.6666666666666666,\"#ed7953\"],[0.7777777777777778,\"#fb9f3a\"],[0.8888888888888888,\"#fdca26\"],[1.0,\"#f0f921\"]]}],\"heatmapgl\":[{\"type\":\"heatmapgl\",\"colorbar\":{\"outlinewidth\":0,\"ticks\":\"\"},\"colorscale\":[[0.0,\"#0d0887\"],[0.1111111111111111,\"#46039f\"],[0.2222222222222222,\"#7201a8\"],[0.3333333333333333,\"#9c179e\"],[0.4444444444444444,\"#bd3786\"],[0.5555555555555556,\"#d8576b\"],[0.6666666666666666,\"#ed7953\"],[0.7777777777777778,\"#fb9f3a\"],[0.8888888888888888,\"#fdca26\"],[1.0,\"#f0f921\"]]}],\"contourcarpet\":[{\"type\":\"contourcarpet\",\"colorbar\":{\"outlinewidth\":0,\"ticks\":\"\"}}],\"contour\":[{\"type\":\"contour\",\"colorbar\":{\"outlinewidth\":0,\"ticks\":\"\"},\"colorscale\":[[0.0,\"#0d0887\"],[0.1111111111111111,\"#46039f\"],[0.2222222222222222,\"#7201a8\"],[0.3333333333333333,\"#9c179e\"],[0.4444444444444444,\"#bd3786\"],[0.5555555555555556,\"#d8576b\"],[0.6666666666666666,\"#ed7953\"],[0.7777777777777778,\"#fb9f3a\"],[0.8888888888888888,\"#fdca26\"],[1.0,\"#f0f921\"]]}],\"surface\":[{\"type\":\"surface\",\"colorbar\":{\"outlinewidth\":0,\"ticks\":\"\"},\"colorscale\":[[0.0,\"#0d0887\"],[0.1111111111111111,\"#46039f\"],[0.2222222222222222,\"#7201a8\"],[0.3333333333333333,\"#9c179e\"],[0.4444444444444444,\"#bd3786\"],[0.5555555555555556,\"#d8576b\"],[0.6666666666666666,\"#ed7953\"],[0.7777777777777778,\"#fb9f3a\"],[0.8888888888888888,\"#fdca26\"],[1.0,\"#f0f921\"]]}],\"mesh3d\":[{\"type\":\"mesh3d\",\"colorbar\":{\"outlinewidth\":0,\"ticks\":\"\"}}],\"scatter\":[{\"fillpattern\":{\"fillmode\":\"overlay\",\"size\":10,\"solidity\":0.2},\"type\":\"scatter\"}],\"parcoords\":[{\"type\":\"parcoords\",\"line\":{\"colorbar\":{\"outlinewidth\":0,\"ticks\":\"\"}}}],\"scatterpolargl\":[{\"type\":\"scatterpolargl\",\"marker\":{\"colorbar\":{\"outlinewidth\":0,\"ticks\":\"\"}}}],\"bar\":[{\"error_x\":{\"color\":\"#2a3f5f\"},\"error_y\":{\"color\":\"#2a3f5f\"},\"marker\":{\"line\":{\"color\":\"#E5ECF6\",\"width\":0.5},\"pattern\":{\"fillmode\":\"overlay\",\"size\":10,\"solidity\":0.2}},\"type\":\"bar\"}],\"scattergeo\":[{\"type\":\"scattergeo\",\"marker\":{\"colorbar\":{\"outlinewidth\":0,\"ticks\":\"\"}}}],\"scatterpolar\":[{\"type\":\"scatterpolar\",\"marker\":{\"colorbar\":{\"outlinewidth\":0,\"ticks\":\"\"}}}],\"histogram\":[{\"marker\":{\"pattern\":{\"fillmode\":\"overlay\",\"size\":10,\"solidity\":0.2}},\"type\":\"histogram\"}],\"scattergl\":[{\"type\":\"scattergl\",\"marker\":{\"colorbar\":{\"outlinewidth\":0,\"ticks\":\"\"}}}],\"scatter3d\":[{\"type\":\"scatter3d\",\"line\":{\"colorbar\":{\"outlinewidth\":0,\"ticks\":\"\"}},\"marker\":{\"colorbar\":{\"outlinewidth\":0,\"ticks\":\"\"}}}],\"scattermapbox\":[{\"type\":\"scattermapbox\",\"marker\":{\"colorbar\":{\"outlinewidth\":0,\"ticks\":\"\"}}}],\"scatterternary\":[{\"type\":\"scatterternary\",\"marker\":{\"colorbar\":{\"outlinewidth\":0,\"ticks\":\"\"}}}],\"scattercarpet\":[{\"type\":\"scattercarpet\",\"marker\":{\"colorbar\":{\"outlinewidth\":0,\"ticks\":\"\"}}}],\"carpet\":[{\"aaxis\":{\"endlinecolor\":\"#2a3f5f\",\"gridcolor\":\"white\",\"linecolor\":\"white\",\"minorgridcolor\":\"white\",\"startlinecolor\":\"#2a3f5f\"},\"baxis\":{\"endlinecolor\":\"#2a3f5f\",\"gridcolor\":\"white\",\"linecolor\":\"white\",\"minorgridcolor\":\"white\",\"startlinecolor\":\"#2a3f5f\"},\"type\":\"carpet\"}],\"table\":[{\"cells\":{\"fill\":{\"color\":\"#EBF0F8\"},\"line\":{\"color\":\"white\"}},\"header\":{\"fill\":{\"color\":\"#C8D4E3\"},\"line\":{\"color\":\"white\"}},\"type\":\"table\"}],\"barpolar\":[{\"marker\":{\"line\":{\"color\":\"#E5ECF6\",\"width\":0.5},\"pattern\":{\"fillmode\":\"overlay\",\"size\":10,\"solidity\":0.2}},\"type\":\"barpolar\"}],\"pie\":[{\"automargin\":true,\"type\":\"pie\"}]},\"layout\":{\"autotypenumbers\":\"strict\",\"colorway\":[\"#636efa\",\"#EF553B\",\"#00cc96\",\"#ab63fa\",\"#FFA15A\",\"#19d3f3\",\"#FF6692\",\"#B6E880\",\"#FF97FF\",\"#FECB52\"],\"font\":{\"color\":\"#2a3f5f\"},\"hovermode\":\"closest\",\"hoverlabel\":{\"align\":\"left\"},\"paper_bgcolor\":\"white\",\"plot_bgcolor\":\"#E5ECF6\",\"polar\":{\"bgcolor\":\"#E5ECF6\",\"angularaxis\":{\"gridcolor\":\"white\",\"linecolor\":\"white\",\"ticks\":\"\"},\"radialaxis\":{\"gridcolor\":\"white\",\"linecolor\":\"white\",\"ticks\":\"\"}},\"ternary\":{\"bgcolor\":\"#E5ECF6\",\"aaxis\":{\"gridcolor\":\"white\",\"linecolor\":\"white\",\"ticks\":\"\"},\"baxis\":{\"gridcolor\":\"white\",\"linecolor\":\"white\",\"ticks\":\"\"},\"caxis\":{\"gridcolor\":\"white\",\"linecolor\":\"white\",\"ticks\":\"\"}},\"coloraxis\":{\"colorbar\":{\"outlinewidth\":0,\"ticks\":\"\"}},\"colorscale\":{\"sequential\":[[0.0,\"#0d0887\"],[0.1111111111111111,\"#46039f\"],[0.2222222222222222,\"#7201a8\"],[0.3333333333333333,\"#9c179e\"],[0.4444444444444444,\"#bd3786\"],[0.5555555555555556,\"#d8576b\"],[0.6666666666666666,\"#ed7953\"],[0.7777777777777778,\"#fb9f3a\"],[0.8888888888888888,\"#fdca26\"],[1.0,\"#f0f921\"]],\"sequentialminus\":[[0.0,\"#0d0887\"],[0.1111111111111111,\"#46039f\"],[0.2222222222222222,\"#7201a8\"],[0.3333333333333333,\"#9c179e\"],[0.4444444444444444,\"#bd3786\"],[0.5555555555555556,\"#d8576b\"],[0.6666666666666666,\"#ed7953\"],[0.7777777777777778,\"#fb9f3a\"],[0.8888888888888888,\"#fdca26\"],[1.0,\"#f0f921\"]],\"diverging\":[[0,\"#8e0152\"],[0.1,\"#c51b7d\"],[0.2,\"#de77ae\"],[0.3,\"#f1b6da\"],[0.4,\"#fde0ef\"],[0.5,\"#f7f7f7\"],[0.6,\"#e6f5d0\"],[0.7,\"#b8e186\"],[0.8,\"#7fbc41\"],[0.9,\"#4d9221\"],[1,\"#276419\"]]},\"xaxis\":{\"gridcolor\":\"white\",\"linecolor\":\"white\",\"ticks\":\"\",\"title\":{\"standoff\":15},\"zerolinecolor\":\"white\",\"automargin\":true,\"zerolinewidth\":2},\"yaxis\":{\"gridcolor\":\"white\",\"linecolor\":\"white\",\"ticks\":\"\",\"title\":{\"standoff\":15},\"zerolinecolor\":\"white\",\"automargin\":true,\"zerolinewidth\":2},\"scene\":{\"xaxis\":{\"backgroundcolor\":\"#E5ECF6\",\"gridcolor\":\"white\",\"linecolor\":\"white\",\"showbackground\":true,\"ticks\":\"\",\"zerolinecolor\":\"white\",\"gridwidth\":2},\"yaxis\":{\"backgroundcolor\":\"#E5ECF6\",\"gridcolor\":\"white\",\"linecolor\":\"white\",\"showbackground\":true,\"ticks\":\"\",\"zerolinecolor\":\"white\",\"gridwidth\":2},\"zaxis\":{\"backgroundcolor\":\"#E5ECF6\",\"gridcolor\":\"white\",\"linecolor\":\"white\",\"showbackground\":true,\"ticks\":\"\",\"zerolinecolor\":\"white\",\"gridwidth\":2}},\"shapedefaults\":{\"line\":{\"color\":\"#2a3f5f\"}},\"annotationdefaults\":{\"arrowcolor\":\"#2a3f5f\",\"arrowhead\":0,\"arrowwidth\":1},\"geo\":{\"bgcolor\":\"white\",\"landcolor\":\"#E5ECF6\",\"subunitcolor\":\"white\",\"showland\":true,\"showlakes\":true,\"lakecolor\":\"white\"},\"title\":{\"x\":0.05},\"mapbox\":{\"style\":\"light\"}}},\"xaxis\":{\"anchor\":\"y\",\"domain\":[0.0,1.0],\"title\":{\"text\":\"Episodio\"}},\"yaxis\":{\"anchor\":\"x\",\"domain\":[0.0,1.0],\"title\":{\"text\":\"Ganados\"},\"range\":[0,1]},\"legend\":{\"tracegroupgap\":0},\"margin\":{\"t\":60},\"height\":300,\"width\":1200,\"showlegend\":false},                        {\"responsive\": true}                    ).then(function(){\n",
              "                            \n",
              "var gd = document.getElementById('1610b147-01f7-4be9-8d59-e6134408fd0d');\n",
              "var x = new MutationObserver(function (mutations, observer) {{\n",
              "        var display = window.getComputedStyle(gd).display;\n",
              "        if (!display || display === 'none') {{\n",
              "            console.log([gd, 'removed!']);\n",
              "            Plotly.purge(gd);\n",
              "            observer.disconnect();\n",
              "        }}\n",
              "}});\n",
              "\n",
              "// Listen for the removal of the full notebook cells\n",
              "var notebookContainer = gd.closest('#notebook-container');\n",
              "if (notebookContainer) {{\n",
              "    x.observe(notebookContainer, {childList: true});\n",
              "}}\n",
              "\n",
              "// Listen for the clearing of the current output cell\n",
              "var outputEl = gd.closest('.output');\n",
              "if (outputEl) {{\n",
              "    x.observe(outputEl, {childList: true});\n",
              "}}\n",
              "\n",
              "                        })                };                });            </script>        </div>"
            ]
          },
          "metadata": {},
          "output_type": "display_data"
        },
        {
          "data": {
            "image/png": "[encoded data removed]",
            "text/plain": [
              "<Figure size 1200x480 with 2 Axes>"
            ]
          },
          "metadata": {},
          "output_type": "display_data"
        }
      ],
      "source": [
        "episodes = 10000 # número de episodios a generar\n",
        "\n",
        "\n",
        "# d.1\n",
        "envw = gym.wrappers.RecordEpisodeStatistics(env)\n",
        "envw.reset()\n",
        "\n",
        "\n",
        "# d.2\n",
        "agent = BlackjackAgentSARSA(envw, learning_rate=0.001, epsilon=0.1, discount_factor=0.9)\n",
        "\n",
        "\n",
        "# d.3\n",
        "training_loop(envw, agent, episodes=episodes, verbose=False)\n",
        "\n",
        "\n",
        "# d.4\n",
        "y = np.array(envw.return_queue).flatten()\n",
        "x = np.arange(0, y.shape[0])\n",
        "fig = visualize_trace(x,y)\n",
        "fig.show()\n",
        "\n",
        "value_grid, policy_grid = create_grids(agent, usable_ace=True)\n",
        "fig1 = create_plots(value_grid, policy_grid, title=\"\")\n",
        "plt.show()"
      ]
    }
  ],
  "metadata": {
    "colab": {
      "collapsed_sections": [
        "vurv-M1U-s3E"
      ],
      "provenance": [],
      "toc_visible": true
    },
    "kernelspec": {
      "display_name": "Python 3 (ipykernel)",
      "language": "python",
      "name": "python3"
    },
    "language_info": {
      "codemirror_mode": {
        "name": "ipython",
        "version": 3
      },
      "file_extension": ".py",
      "mimetype": "text/x-python",
      "name": "python",
      "nbconvert_exporter": "python",
      "pygments_lexer": "ipython3",
      "version": "3.11.5"
    }
  },
  "nbformat": 4,
  "nbformat_minor": 0
}
