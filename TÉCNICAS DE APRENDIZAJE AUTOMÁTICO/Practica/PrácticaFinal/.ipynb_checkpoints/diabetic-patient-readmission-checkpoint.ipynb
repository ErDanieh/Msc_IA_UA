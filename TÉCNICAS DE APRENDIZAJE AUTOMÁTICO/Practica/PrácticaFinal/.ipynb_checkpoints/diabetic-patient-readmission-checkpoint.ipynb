{
 "cells": [
  {
   "cell_type": "code",
   "execution_count": 1,
   "id": "latin-concrete",
   "metadata": {
    "execution": {
     "iopub.execute_input": "2021-07-20T00:59:56.019238Z",
     "iopub.status.busy": "2021-07-20T00:59:56.018036Z",
     "iopub.status.idle": "2021-07-20T00:59:57.059909Z",
     "shell.execute_reply": "2021-07-20T00:59:57.060436Z",
     "shell.execute_reply.started": "2021-07-20T00:32:25.829032Z"
    },
    "papermill": {
     "duration": 1.085194,
     "end_time": "2021-07-20T00:59:57.060734",
     "exception": false,
     "start_time": "2021-07-20T00:59:55.975540",
     "status": "completed"
    },
    "tags": []
   },
   "outputs": [],
   "source": [
    "#Loading libraries \n",
    "import pandas as pd\n",
    "import numpy as np\n",
    "import random as rnd\n",
    "from collections import Counter # value count calculator\n",
    "from sklearn.model_selection import train_test_split\n"
   ]
  },
  {
   "cell_type": "code",
   "execution_count": 2,
   "id": "affected-boating",
   "metadata": {
    "execution": {
     "iopub.execute_input": "2021-07-20T00:59:57.141462Z",
     "iopub.status.busy": "2021-07-20T00:59:57.140692Z",
     "iopub.status.idle": "2021-07-20T00:59:58.437525Z",
     "shell.execute_reply": "2021-07-20T00:59:58.438187Z",
     "shell.execute_reply.started": "2021-07-20T00:32:26.842243Z"
    },
    "papermill": {
     "duration": 1.340173,
     "end_time": "2021-07-20T00:59:58.438397",
     "exception": false,
     "start_time": "2021-07-20T00:59:57.098224",
     "status": "completed"
    },
    "tags": []
   },
   "outputs": [],
   "source": [
    "#Loading Dataset \n",
    "df = pd.read_csv(\"diabetic_data.csv\",low_memory = False, na_values = '?')"
   ]
  },
  {
   "cell_type": "markdown",
   "id": "colored-luxury",
   "metadata": {
    "papermill": {
     "duration": 0.036791,
     "end_time": "2021-07-20T00:59:58.512785",
     "exception": false,
     "start_time": "2021-07-20T00:59:58.475994",
     "status": "completed"
    },
    "tags": []
   },
   "source": [
    "\"The data set represents 10 years (1999-2008) of clinical care at 130 US hospitals and integrated delivery networks. It includes over 50 features representing patient and hospital outcomes. Information was extracted from the database for encounters that satisfied the following criteria.\n",
    "\n",
    "The data contains such attributes as patient number, race, gender, age, admission type, time in hospital, medical specialty of admitting physician, number of lab test performed, HbA1c test result, diagnosis, number of medication, diabetic medications, number of outpatient, inpatient, and emergency visits in the year before the hospitalization, etc.\"\n",
    "\n",
    "The goal of this modelling is to predict whether a patient will be readmitted to a hospital within 30 days after their discharge."
   ]
  },
  {
   "cell_type": "code",
   "execution_count": 3,
   "id": "published-impact",
   "metadata": {
    "execution": {
     "iopub.execute_input": "2021-07-20T00:59:58.592137Z",
     "iopub.status.busy": "2021-07-20T00:59:58.591435Z",
     "iopub.status.idle": "2021-07-20T00:59:58.648987Z",
     "shell.execute_reply": "2021-07-20T00:59:58.648426Z",
     "shell.execute_reply.started": "2021-07-20T00:32:28.231142Z"
    },
    "papermill": {
     "duration": 0.098748,
     "end_time": "2021-07-20T00:59:58.649136",
     "exception": false,
     "start_time": "2021-07-20T00:59:58.550388",
     "status": "completed"
    },
    "tags": []
   },
   "outputs": [
    {
     "name": "stdout",
     "output_type": "stream",
     "text": [
      "Number of rows: 101766, Number of columns: 50\n"
     ]
    },
    {
     "data": {
      "text/html": [
       "<div>\n",
       "<style scoped>\n",
       "    .dataframe tbody tr th:only-of-type {\n",
       "        vertical-align: middle;\n",
       "    }\n",
       "\n",
       "    .dataframe tbody tr th {\n",
       "        vertical-align: top;\n",
       "    }\n",
       "\n",
       "    .dataframe thead th {\n",
       "        text-align: right;\n",
       "    }\n",
       "</style>\n",
       "<table border=\"1\" class=\"dataframe\">\n",
       "  <thead>\n",
       "    <tr style=\"text-align: right;\">\n",
       "      <th></th>\n",
       "      <th>0</th>\n",
       "      <th>1</th>\n",
       "      <th>2</th>\n",
       "      <th>3</th>\n",
       "      <th>4</th>\n",
       "      <th>5</th>\n",
       "      <th>6</th>\n",
       "      <th>7</th>\n",
       "      <th>8</th>\n",
       "      <th>9</th>\n",
       "    </tr>\n",
       "  </thead>\n",
       "  <tbody>\n",
       "    <tr>\n",
       "      <th>encounter_id</th>\n",
       "      <td>2278392</td>\n",
       "      <td>149190</td>\n",
       "      <td>64410</td>\n",
       "      <td>500364</td>\n",
       "      <td>16680</td>\n",
       "      <td>35754</td>\n",
       "      <td>55842</td>\n",
       "      <td>63768</td>\n",
       "      <td>12522</td>\n",
       "      <td>15738</td>\n",
       "    </tr>\n",
       "    <tr>\n",
       "      <th>patient_nbr</th>\n",
       "      <td>8222157</td>\n",
       "      <td>55629189</td>\n",
       "      <td>86047875</td>\n",
       "      <td>82442376</td>\n",
       "      <td>42519267</td>\n",
       "      <td>82637451</td>\n",
       "      <td>84259809</td>\n",
       "      <td>114882984</td>\n",
       "      <td>48330783</td>\n",
       "      <td>63555939</td>\n",
       "    </tr>\n",
       "    <tr>\n",
       "      <th>race</th>\n",
       "      <td>Caucasian</td>\n",
       "      <td>Caucasian</td>\n",
       "      <td>AfricanAmerican</td>\n",
       "      <td>Caucasian</td>\n",
       "      <td>Caucasian</td>\n",
       "      <td>Caucasian</td>\n",
       "      <td>Caucasian</td>\n",
       "      <td>Caucasian</td>\n",
       "      <td>Caucasian</td>\n",
       "      <td>Caucasian</td>\n",
       "    </tr>\n",
       "    <tr>\n",
       "      <th>gender</th>\n",
       "      <td>Female</td>\n",
       "      <td>Female</td>\n",
       "      <td>Female</td>\n",
       "      <td>Male</td>\n",
       "      <td>Male</td>\n",
       "      <td>Male</td>\n",
       "      <td>Male</td>\n",
       "      <td>Male</td>\n",
       "      <td>Female</td>\n",
       "      <td>Female</td>\n",
       "    </tr>\n",
       "    <tr>\n",
       "      <th>age</th>\n",
       "      <td>[0-10)</td>\n",
       "      <td>[10-20)</td>\n",
       "      <td>[20-30)</td>\n",
       "      <td>[30-40)</td>\n",
       "      <td>[40-50)</td>\n",
       "      <td>[50-60)</td>\n",
       "      <td>[60-70)</td>\n",
       "      <td>[70-80)</td>\n",
       "      <td>[80-90)</td>\n",
       "      <td>[90-100)</td>\n",
       "    </tr>\n",
       "    <tr>\n",
       "      <th>weight</th>\n",
       "      <td>NaN</td>\n",
       "      <td>NaN</td>\n",
       "      <td>NaN</td>\n",
       "      <td>NaN</td>\n",
       "      <td>NaN</td>\n",
       "      <td>NaN</td>\n",
       "      <td>NaN</td>\n",
       "      <td>NaN</td>\n",
       "      <td>NaN</td>\n",
       "      <td>NaN</td>\n",
       "    </tr>\n",
       "    <tr>\n",
       "      <th>admission_type_id</th>\n",
       "      <td>6</td>\n",
       "      <td>1</td>\n",
       "      <td>1</td>\n",
       "      <td>1</td>\n",
       "      <td>1</td>\n",
       "      <td>2</td>\n",
       "      <td>3</td>\n",
       "      <td>1</td>\n",
       "      <td>2</td>\n",
       "      <td>3</td>\n",
       "    </tr>\n",
       "    <tr>\n",
       "      <th>discharge_disposition_id</th>\n",
       "      <td>25</td>\n",
       "      <td>1</td>\n",
       "      <td>1</td>\n",
       "      <td>1</td>\n",
       "      <td>1</td>\n",
       "      <td>1</td>\n",
       "      <td>1</td>\n",
       "      <td>1</td>\n",
       "      <td>1</td>\n",
       "      <td>3</td>\n",
       "    </tr>\n",
       "    <tr>\n",
       "      <th>admission_source_id</th>\n",
       "      <td>1</td>\n",
       "      <td>7</td>\n",
       "      <td>7</td>\n",
       "      <td>7</td>\n",
       "      <td>7</td>\n",
       "      <td>2</td>\n",
       "      <td>2</td>\n",
       "      <td>7</td>\n",
       "      <td>4</td>\n",
       "      <td>4</td>\n",
       "    </tr>\n",
       "    <tr>\n",
       "      <th>time_in_hospital</th>\n",
       "      <td>1</td>\n",
       "      <td>3</td>\n",
       "      <td>2</td>\n",
       "      <td>2</td>\n",
       "      <td>1</td>\n",
       "      <td>3</td>\n",
       "      <td>4</td>\n",
       "      <td>5</td>\n",
       "      <td>13</td>\n",
       "      <td>12</td>\n",
       "    </tr>\n",
       "    <tr>\n",
       "      <th>payer_code</th>\n",
       "      <td>NaN</td>\n",
       "      <td>NaN</td>\n",
       "      <td>NaN</td>\n",
       "      <td>NaN</td>\n",
       "      <td>NaN</td>\n",
       "      <td>NaN</td>\n",
       "      <td>NaN</td>\n",
       "      <td>NaN</td>\n",
       "      <td>NaN</td>\n",
       "      <td>NaN</td>\n",
       "    </tr>\n",
       "    <tr>\n",
       "      <th>medical_specialty</th>\n",
       "      <td>Pediatrics-Endocrinology</td>\n",
       "      <td>NaN</td>\n",
       "      <td>NaN</td>\n",
       "      <td>NaN</td>\n",
       "      <td>NaN</td>\n",
       "      <td>NaN</td>\n",
       "      <td>NaN</td>\n",
       "      <td>NaN</td>\n",
       "      <td>NaN</td>\n",
       "      <td>InternalMedicine</td>\n",
       "    </tr>\n",
       "    <tr>\n",
       "      <th>num_lab_procedures</th>\n",
       "      <td>41</td>\n",
       "      <td>59</td>\n",
       "      <td>11</td>\n",
       "      <td>44</td>\n",
       "      <td>51</td>\n",
       "      <td>31</td>\n",
       "      <td>70</td>\n",
       "      <td>73</td>\n",
       "      <td>68</td>\n",
       "      <td>33</td>\n",
       "    </tr>\n",
       "    <tr>\n",
       "      <th>num_procedures</th>\n",
       "      <td>0</td>\n",
       "      <td>0</td>\n",
       "      <td>5</td>\n",
       "      <td>1</td>\n",
       "      <td>0</td>\n",
       "      <td>6</td>\n",
       "      <td>1</td>\n",
       "      <td>0</td>\n",
       "      <td>2</td>\n",
       "      <td>3</td>\n",
       "    </tr>\n",
       "    <tr>\n",
       "      <th>num_medications</th>\n",
       "      <td>1</td>\n",
       "      <td>18</td>\n",
       "      <td>13</td>\n",
       "      <td>16</td>\n",
       "      <td>8</td>\n",
       "      <td>16</td>\n",
       "      <td>21</td>\n",
       "      <td>12</td>\n",
       "      <td>28</td>\n",
       "      <td>18</td>\n",
       "    </tr>\n",
       "    <tr>\n",
       "      <th>number_outpatient</th>\n",
       "      <td>0</td>\n",
       "      <td>0</td>\n",
       "      <td>2</td>\n",
       "      <td>0</td>\n",
       "      <td>0</td>\n",
       "      <td>0</td>\n",
       "      <td>0</td>\n",
       "      <td>0</td>\n",
       "      <td>0</td>\n",
       "      <td>0</td>\n",
       "    </tr>\n",
       "    <tr>\n",
       "      <th>number_emergency</th>\n",
       "      <td>0</td>\n",
       "      <td>0</td>\n",
       "      <td>0</td>\n",
       "      <td>0</td>\n",
       "      <td>0</td>\n",
       "      <td>0</td>\n",
       "      <td>0</td>\n",
       "      <td>0</td>\n",
       "      <td>0</td>\n",
       "      <td>0</td>\n",
       "    </tr>\n",
       "    <tr>\n",
       "      <th>number_inpatient</th>\n",
       "      <td>0</td>\n",
       "      <td>0</td>\n",
       "      <td>1</td>\n",
       "      <td>0</td>\n",
       "      <td>0</td>\n",
       "      <td>0</td>\n",
       "      <td>0</td>\n",
       "      <td>0</td>\n",
       "      <td>0</td>\n",
       "      <td>0</td>\n",
       "    </tr>\n",
       "    <tr>\n",
       "      <th>diag_1</th>\n",
       "      <td>250.83</td>\n",
       "      <td>276</td>\n",
       "      <td>648</td>\n",
       "      <td>8</td>\n",
       "      <td>197</td>\n",
       "      <td>414</td>\n",
       "      <td>414</td>\n",
       "      <td>428</td>\n",
       "      <td>398</td>\n",
       "      <td>434</td>\n",
       "    </tr>\n",
       "    <tr>\n",
       "      <th>diag_2</th>\n",
       "      <td>NaN</td>\n",
       "      <td>250.01</td>\n",
       "      <td>250</td>\n",
       "      <td>250.43</td>\n",
       "      <td>157</td>\n",
       "      <td>411</td>\n",
       "      <td>411</td>\n",
       "      <td>492</td>\n",
       "      <td>427</td>\n",
       "      <td>198</td>\n",
       "    </tr>\n",
       "    <tr>\n",
       "      <th>diag_3</th>\n",
       "      <td>NaN</td>\n",
       "      <td>255</td>\n",
       "      <td>V27</td>\n",
       "      <td>403</td>\n",
       "      <td>250</td>\n",
       "      <td>250</td>\n",
       "      <td>V45</td>\n",
       "      <td>250</td>\n",
       "      <td>38</td>\n",
       "      <td>486</td>\n",
       "    </tr>\n",
       "    <tr>\n",
       "      <th>number_diagnoses</th>\n",
       "      <td>1</td>\n",
       "      <td>9</td>\n",
       "      <td>6</td>\n",
       "      <td>7</td>\n",
       "      <td>5</td>\n",
       "      <td>9</td>\n",
       "      <td>7</td>\n",
       "      <td>8</td>\n",
       "      <td>8</td>\n",
       "      <td>8</td>\n",
       "    </tr>\n",
       "    <tr>\n",
       "      <th>max_glu_serum</th>\n",
       "      <td>None</td>\n",
       "      <td>None</td>\n",
       "      <td>None</td>\n",
       "      <td>None</td>\n",
       "      <td>None</td>\n",
       "      <td>None</td>\n",
       "      <td>None</td>\n",
       "      <td>None</td>\n",
       "      <td>None</td>\n",
       "      <td>None</td>\n",
       "    </tr>\n",
       "    <tr>\n",
       "      <th>A1Cresult</th>\n",
       "      <td>None</td>\n",
       "      <td>None</td>\n",
       "      <td>None</td>\n",
       "      <td>None</td>\n",
       "      <td>None</td>\n",
       "      <td>None</td>\n",
       "      <td>None</td>\n",
       "      <td>None</td>\n",
       "      <td>None</td>\n",
       "      <td>None</td>\n",
       "    </tr>\n",
       "    <tr>\n",
       "      <th>metformin</th>\n",
       "      <td>No</td>\n",
       "      <td>No</td>\n",
       "      <td>No</td>\n",
       "      <td>No</td>\n",
       "      <td>No</td>\n",
       "      <td>No</td>\n",
       "      <td>Steady</td>\n",
       "      <td>No</td>\n",
       "      <td>No</td>\n",
       "      <td>No</td>\n",
       "    </tr>\n",
       "    <tr>\n",
       "      <th>repaglinide</th>\n",
       "      <td>No</td>\n",
       "      <td>No</td>\n",
       "      <td>No</td>\n",
       "      <td>No</td>\n",
       "      <td>No</td>\n",
       "      <td>No</td>\n",
       "      <td>No</td>\n",
       "      <td>No</td>\n",
       "      <td>No</td>\n",
       "      <td>No</td>\n",
       "    </tr>\n",
       "    <tr>\n",
       "      <th>nateglinide</th>\n",
       "      <td>No</td>\n",
       "      <td>No</td>\n",
       "      <td>No</td>\n",
       "      <td>No</td>\n",
       "      <td>No</td>\n",
       "      <td>No</td>\n",
       "      <td>No</td>\n",
       "      <td>No</td>\n",
       "      <td>No</td>\n",
       "      <td>No</td>\n",
       "    </tr>\n",
       "    <tr>\n",
       "      <th>chlorpropamide</th>\n",
       "      <td>No</td>\n",
       "      <td>No</td>\n",
       "      <td>No</td>\n",
       "      <td>No</td>\n",
       "      <td>No</td>\n",
       "      <td>No</td>\n",
       "      <td>No</td>\n",
       "      <td>No</td>\n",
       "      <td>No</td>\n",
       "      <td>No</td>\n",
       "    </tr>\n",
       "    <tr>\n",
       "      <th>glimepiride</th>\n",
       "      <td>No</td>\n",
       "      <td>No</td>\n",
       "      <td>No</td>\n",
       "      <td>No</td>\n",
       "      <td>No</td>\n",
       "      <td>No</td>\n",
       "      <td>Steady</td>\n",
       "      <td>No</td>\n",
       "      <td>No</td>\n",
       "      <td>No</td>\n",
       "    </tr>\n",
       "    <tr>\n",
       "      <th>acetohexamide</th>\n",
       "      <td>No</td>\n",
       "      <td>No</td>\n",
       "      <td>No</td>\n",
       "      <td>No</td>\n",
       "      <td>No</td>\n",
       "      <td>No</td>\n",
       "      <td>No</td>\n",
       "      <td>No</td>\n",
       "      <td>No</td>\n",
       "      <td>No</td>\n",
       "    </tr>\n",
       "    <tr>\n",
       "      <th>glipizide</th>\n",
       "      <td>No</td>\n",
       "      <td>No</td>\n",
       "      <td>Steady</td>\n",
       "      <td>No</td>\n",
       "      <td>Steady</td>\n",
       "      <td>No</td>\n",
       "      <td>No</td>\n",
       "      <td>No</td>\n",
       "      <td>Steady</td>\n",
       "      <td>No</td>\n",
       "    </tr>\n",
       "    <tr>\n",
       "      <th>glyburide</th>\n",
       "      <td>No</td>\n",
       "      <td>No</td>\n",
       "      <td>No</td>\n",
       "      <td>No</td>\n",
       "      <td>No</td>\n",
       "      <td>No</td>\n",
       "      <td>No</td>\n",
       "      <td>Steady</td>\n",
       "      <td>No</td>\n",
       "      <td>No</td>\n",
       "    </tr>\n",
       "    <tr>\n",
       "      <th>tolbutamide</th>\n",
       "      <td>No</td>\n",
       "      <td>No</td>\n",
       "      <td>No</td>\n",
       "      <td>No</td>\n",
       "      <td>No</td>\n",
       "      <td>No</td>\n",
       "      <td>No</td>\n",
       "      <td>No</td>\n",
       "      <td>No</td>\n",
       "      <td>No</td>\n",
       "    </tr>\n",
       "    <tr>\n",
       "      <th>pioglitazone</th>\n",
       "      <td>No</td>\n",
       "      <td>No</td>\n",
       "      <td>No</td>\n",
       "      <td>No</td>\n",
       "      <td>No</td>\n",
       "      <td>No</td>\n",
       "      <td>No</td>\n",
       "      <td>No</td>\n",
       "      <td>No</td>\n",
       "      <td>No</td>\n",
       "    </tr>\n",
       "    <tr>\n",
       "      <th>rosiglitazone</th>\n",
       "      <td>No</td>\n",
       "      <td>No</td>\n",
       "      <td>No</td>\n",
       "      <td>No</td>\n",
       "      <td>No</td>\n",
       "      <td>No</td>\n",
       "      <td>No</td>\n",
       "      <td>No</td>\n",
       "      <td>No</td>\n",
       "      <td>Steady</td>\n",
       "    </tr>\n",
       "    <tr>\n",
       "      <th>acarbose</th>\n",
       "      <td>No</td>\n",
       "      <td>No</td>\n",
       "      <td>No</td>\n",
       "      <td>No</td>\n",
       "      <td>No</td>\n",
       "      <td>No</td>\n",
       "      <td>No</td>\n",
       "      <td>No</td>\n",
       "      <td>No</td>\n",
       "      <td>No</td>\n",
       "    </tr>\n",
       "    <tr>\n",
       "      <th>miglitol</th>\n",
       "      <td>No</td>\n",
       "      <td>No</td>\n",
       "      <td>No</td>\n",
       "      <td>No</td>\n",
       "      <td>No</td>\n",
       "      <td>No</td>\n",
       "      <td>No</td>\n",
       "      <td>No</td>\n",
       "      <td>No</td>\n",
       "      <td>No</td>\n",
       "    </tr>\n",
       "    <tr>\n",
       "      <th>troglitazone</th>\n",
       "      <td>No</td>\n",
       "      <td>No</td>\n",
       "      <td>No</td>\n",
       "      <td>No</td>\n",
       "      <td>No</td>\n",
       "      <td>No</td>\n",
       "      <td>No</td>\n",
       "      <td>No</td>\n",
       "      <td>No</td>\n",
       "      <td>No</td>\n",
       "    </tr>\n",
       "    <tr>\n",
       "      <th>tolazamide</th>\n",
       "      <td>No</td>\n",
       "      <td>No</td>\n",
       "      <td>No</td>\n",
       "      <td>No</td>\n",
       "      <td>No</td>\n",
       "      <td>No</td>\n",
       "      <td>No</td>\n",
       "      <td>No</td>\n",
       "      <td>No</td>\n",
       "      <td>No</td>\n",
       "    </tr>\n",
       "    <tr>\n",
       "      <th>examide</th>\n",
       "      <td>No</td>\n",
       "      <td>No</td>\n",
       "      <td>No</td>\n",
       "      <td>No</td>\n",
       "      <td>No</td>\n",
       "      <td>No</td>\n",
       "      <td>No</td>\n",
       "      <td>No</td>\n",
       "      <td>No</td>\n",
       "      <td>No</td>\n",
       "    </tr>\n",
       "    <tr>\n",
       "      <th>citoglipton</th>\n",
       "      <td>No</td>\n",
       "      <td>No</td>\n",
       "      <td>No</td>\n",
       "      <td>No</td>\n",
       "      <td>No</td>\n",
       "      <td>No</td>\n",
       "      <td>No</td>\n",
       "      <td>No</td>\n",
       "      <td>No</td>\n",
       "      <td>No</td>\n",
       "    </tr>\n",
       "    <tr>\n",
       "      <th>insulin</th>\n",
       "      <td>No</td>\n",
       "      <td>Up</td>\n",
       "      <td>No</td>\n",
       "      <td>Up</td>\n",
       "      <td>Steady</td>\n",
       "      <td>Steady</td>\n",
       "      <td>Steady</td>\n",
       "      <td>No</td>\n",
       "      <td>Steady</td>\n",
       "      <td>Steady</td>\n",
       "    </tr>\n",
       "    <tr>\n",
       "      <th>glyburide-metformin</th>\n",
       "      <td>No</td>\n",
       "      <td>No</td>\n",
       "      <td>No</td>\n",
       "      <td>No</td>\n",
       "      <td>No</td>\n",
       "      <td>No</td>\n",
       "      <td>No</td>\n",
       "      <td>No</td>\n",
       "      <td>No</td>\n",
       "      <td>No</td>\n",
       "    </tr>\n",
       "    <tr>\n",
       "      <th>glipizide-metformin</th>\n",
       "      <td>No</td>\n",
       "      <td>No</td>\n",
       "      <td>No</td>\n",
       "      <td>No</td>\n",
       "      <td>No</td>\n",
       "      <td>No</td>\n",
       "      <td>No</td>\n",
       "      <td>No</td>\n",
       "      <td>No</td>\n",
       "      <td>No</td>\n",
       "    </tr>\n",
       "    <tr>\n",
       "      <th>glimepiride-pioglitazone</th>\n",
       "      <td>No</td>\n",
       "      <td>No</td>\n",
       "      <td>No</td>\n",
       "      <td>No</td>\n",
       "      <td>No</td>\n",
       "      <td>No</td>\n",
       "      <td>No</td>\n",
       "      <td>No</td>\n",
       "      <td>No</td>\n",
       "      <td>No</td>\n",
       "    </tr>\n",
       "    <tr>\n",
       "      <th>metformin-rosiglitazone</th>\n",
       "      <td>No</td>\n",
       "      <td>No</td>\n",
       "      <td>No</td>\n",
       "      <td>No</td>\n",
       "      <td>No</td>\n",
       "      <td>No</td>\n",
       "      <td>No</td>\n",
       "      <td>No</td>\n",
       "      <td>No</td>\n",
       "      <td>No</td>\n",
       "    </tr>\n",
       "    <tr>\n",
       "      <th>metformin-pioglitazone</th>\n",
       "      <td>No</td>\n",
       "      <td>No</td>\n",
       "      <td>No</td>\n",
       "      <td>No</td>\n",
       "      <td>No</td>\n",
       "      <td>No</td>\n",
       "      <td>No</td>\n",
       "      <td>No</td>\n",
       "      <td>No</td>\n",
       "      <td>No</td>\n",
       "    </tr>\n",
       "    <tr>\n",
       "      <th>change</th>\n",
       "      <td>No</td>\n",
       "      <td>Ch</td>\n",
       "      <td>No</td>\n",
       "      <td>Ch</td>\n",
       "      <td>Ch</td>\n",
       "      <td>No</td>\n",
       "      <td>Ch</td>\n",
       "      <td>No</td>\n",
       "      <td>Ch</td>\n",
       "      <td>Ch</td>\n",
       "    </tr>\n",
       "    <tr>\n",
       "      <th>diabetesMed</th>\n",
       "      <td>No</td>\n",
       "      <td>Yes</td>\n",
       "      <td>Yes</td>\n",
       "      <td>Yes</td>\n",
       "      <td>Yes</td>\n",
       "      <td>Yes</td>\n",
       "      <td>Yes</td>\n",
       "      <td>Yes</td>\n",
       "      <td>Yes</td>\n",
       "      <td>Yes</td>\n",
       "    </tr>\n",
       "    <tr>\n",
       "      <th>readmitted</th>\n",
       "      <td>NO</td>\n",
       "      <td>&gt;30</td>\n",
       "      <td>NO</td>\n",
       "      <td>NO</td>\n",
       "      <td>NO</td>\n",
       "      <td>&gt;30</td>\n",
       "      <td>NO</td>\n",
       "      <td>&gt;30</td>\n",
       "      <td>NO</td>\n",
       "      <td>NO</td>\n",
       "    </tr>\n",
       "  </tbody>\n",
       "</table>\n",
       "</div>"
      ],
      "text/plain": [
       "                                                 0          1  \\\n",
       "encounter_id                               2278392     149190   \n",
       "patient_nbr                                8222157   55629189   \n",
       "race                                     Caucasian  Caucasian   \n",
       "gender                                      Female     Female   \n",
       "age                                         [0-10)    [10-20)   \n",
       "weight                                         NaN        NaN   \n",
       "admission_type_id                                6          1   \n",
       "discharge_disposition_id                        25          1   \n",
       "admission_source_id                              1          7   \n",
       "time_in_hospital                                 1          3   \n",
       "payer_code                                     NaN        NaN   \n",
       "medical_specialty         Pediatrics-Endocrinology        NaN   \n",
       "num_lab_procedures                              41         59   \n",
       "num_procedures                                   0          0   \n",
       "num_medications                                  1         18   \n",
       "number_outpatient                                0          0   \n",
       "number_emergency                                 0          0   \n",
       "number_inpatient                                 0          0   \n",
       "diag_1                                      250.83        276   \n",
       "diag_2                                         NaN     250.01   \n",
       "diag_3                                         NaN        255   \n",
       "number_diagnoses                                 1          9   \n",
       "max_glu_serum                                 None       None   \n",
       "A1Cresult                                     None       None   \n",
       "metformin                                       No         No   \n",
       "repaglinide                                     No         No   \n",
       "nateglinide                                     No         No   \n",
       "chlorpropamide                                  No         No   \n",
       "glimepiride                                     No         No   \n",
       "acetohexamide                                   No         No   \n",
       "glipizide                                       No         No   \n",
       "glyburide                                       No         No   \n",
       "tolbutamide                                     No         No   \n",
       "pioglitazone                                    No         No   \n",
       "rosiglitazone                                   No         No   \n",
       "acarbose                                        No         No   \n",
       "miglitol                                        No         No   \n",
       "troglitazone                                    No         No   \n",
       "tolazamide                                      No         No   \n",
       "examide                                         No         No   \n",
       "citoglipton                                     No         No   \n",
       "insulin                                         No         Up   \n",
       "glyburide-metformin                             No         No   \n",
       "glipizide-metformin                             No         No   \n",
       "glimepiride-pioglitazone                        No         No   \n",
       "metformin-rosiglitazone                         No         No   \n",
       "metformin-pioglitazone                          No         No   \n",
       "change                                          No         Ch   \n",
       "diabetesMed                                     No        Yes   \n",
       "readmitted                                      NO        >30   \n",
       "\n",
       "                                        2          3          4          5  \\\n",
       "encounter_id                        64410     500364      16680      35754   \n",
       "patient_nbr                      86047875   82442376   42519267   82637451   \n",
       "race                      AfricanAmerican  Caucasian  Caucasian  Caucasian   \n",
       "gender                             Female       Male       Male       Male   \n",
       "age                               [20-30)    [30-40)    [40-50)    [50-60)   \n",
       "weight                                NaN        NaN        NaN        NaN   \n",
       "admission_type_id                       1          1          1          2   \n",
       "discharge_disposition_id                1          1          1          1   \n",
       "admission_source_id                     7          7          7          2   \n",
       "time_in_hospital                        2          2          1          3   \n",
       "payer_code                            NaN        NaN        NaN        NaN   \n",
       "medical_specialty                     NaN        NaN        NaN        NaN   \n",
       "num_lab_procedures                     11         44         51         31   \n",
       "num_procedures                          5          1          0          6   \n",
       "num_medications                        13         16          8         16   \n",
       "number_outpatient                       2          0          0          0   \n",
       "number_emergency                        0          0          0          0   \n",
       "number_inpatient                        1          0          0          0   \n",
       "diag_1                                648          8        197        414   \n",
       "diag_2                                250     250.43        157        411   \n",
       "diag_3                                V27        403        250        250   \n",
       "number_diagnoses                        6          7          5          9   \n",
       "max_glu_serum                        None       None       None       None   \n",
       "A1Cresult                            None       None       None       None   \n",
       "metformin                              No         No         No         No   \n",
       "repaglinide                            No         No         No         No   \n",
       "nateglinide                            No         No         No         No   \n",
       "chlorpropamide                         No         No         No         No   \n",
       "glimepiride                            No         No         No         No   \n",
       "acetohexamide                          No         No         No         No   \n",
       "glipizide                          Steady         No     Steady         No   \n",
       "glyburide                              No         No         No         No   \n",
       "tolbutamide                            No         No         No         No   \n",
       "pioglitazone                           No         No         No         No   \n",
       "rosiglitazone                          No         No         No         No   \n",
       "acarbose                               No         No         No         No   \n",
       "miglitol                               No         No         No         No   \n",
       "troglitazone                           No         No         No         No   \n",
       "tolazamide                             No         No         No         No   \n",
       "examide                                No         No         No         No   \n",
       "citoglipton                            No         No         No         No   \n",
       "insulin                                No         Up     Steady     Steady   \n",
       "glyburide-metformin                    No         No         No         No   \n",
       "glipizide-metformin                    No         No         No         No   \n",
       "glimepiride-pioglitazone               No         No         No         No   \n",
       "metformin-rosiglitazone                No         No         No         No   \n",
       "metformin-pioglitazone                 No         No         No         No   \n",
       "change                                 No         Ch         Ch         No   \n",
       "diabetesMed                           Yes        Yes        Yes        Yes   \n",
       "readmitted                             NO         NO         NO        >30   \n",
       "\n",
       "                                  6          7          8                 9  \n",
       "encounter_id                  55842      63768      12522             15738  \n",
       "patient_nbr                84259809  114882984   48330783          63555939  \n",
       "race                      Caucasian  Caucasian  Caucasian         Caucasian  \n",
       "gender                         Male       Male     Female            Female  \n",
       "age                         [60-70)    [70-80)    [80-90)          [90-100)  \n",
       "weight                          NaN        NaN        NaN               NaN  \n",
       "admission_type_id                 3          1          2                 3  \n",
       "discharge_disposition_id          1          1          1                 3  \n",
       "admission_source_id               2          7          4                 4  \n",
       "time_in_hospital                  4          5         13                12  \n",
       "payer_code                      NaN        NaN        NaN               NaN  \n",
       "medical_specialty               NaN        NaN        NaN  InternalMedicine  \n",
       "num_lab_procedures               70         73         68                33  \n",
       "num_procedures                    1          0          2                 3  \n",
       "num_medications                  21         12         28                18  \n",
       "number_outpatient                 0          0          0                 0  \n",
       "number_emergency                  0          0          0                 0  \n",
       "number_inpatient                  0          0          0                 0  \n",
       "diag_1                          414        428        398               434  \n",
       "diag_2                          411        492        427               198  \n",
       "diag_3                          V45        250         38               486  \n",
       "number_diagnoses                  7          8          8                 8  \n",
       "max_glu_serum                  None       None       None              None  \n",
       "A1Cresult                      None       None       None              None  \n",
       "metformin                    Steady         No         No                No  \n",
       "repaglinide                      No         No         No                No  \n",
       "nateglinide                      No         No         No                No  \n",
       "chlorpropamide                   No         No         No                No  \n",
       "glimepiride                  Steady         No         No                No  \n",
       "acetohexamide                    No         No         No                No  \n",
       "glipizide                        No         No     Steady                No  \n",
       "glyburide                        No     Steady         No                No  \n",
       "tolbutamide                      No         No         No                No  \n",
       "pioglitazone                     No         No         No                No  \n",
       "rosiglitazone                    No         No         No            Steady  \n",
       "acarbose                         No         No         No                No  \n",
       "miglitol                         No         No         No                No  \n",
       "troglitazone                     No         No         No                No  \n",
       "tolazamide                       No         No         No                No  \n",
       "examide                          No         No         No                No  \n",
       "citoglipton                      No         No         No                No  \n",
       "insulin                      Steady         No     Steady            Steady  \n",
       "glyburide-metformin              No         No         No                No  \n",
       "glipizide-metformin              No         No         No                No  \n",
       "glimepiride-pioglitazone         No         No         No                No  \n",
       "metformin-rosiglitazone          No         No         No                No  \n",
       "metformin-pioglitazone           No         No         No                No  \n",
       "change                           Ch         No         Ch                Ch  \n",
       "diabetesMed                     Yes        Yes        Yes               Yes  \n",
       "readmitted                       NO        >30         NO                NO  "
      ]
     },
     "execution_count": 3,
     "metadata": {},
     "output_type": "execute_result"
    }
   ],
   "source": [
    "#In the beginning I am assessing the data and checking dataframe size\n",
    "print(f'Number of rows: {len(df)}, Number of columns: {len(df.columns)}')\n",
    "\n",
    "#Displaying first 10 rows of data\n",
    "df.head(10).T"
   ]
  },
  {
   "cell_type": "markdown",
   "id": "informative-dress",
   "metadata": {
    "papermill": {
     "duration": 0.039267,
     "end_time": "2021-07-20T00:59:58.728104",
     "exception": false,
     "start_time": "2021-07-20T00:59:58.688837",
     "status": "completed"
    },
    "tags": []
   },
   "source": [
    "I observed that there are patients with multiple records(encounter_id). That means that all such patients will have readmission flag as true untill the last record when a patient is fully recovered or, I guess, dead. This will distort prediction and I decided to only use patient's individual records of their first admission."
   ]
  },
  {
   "cell_type": "code",
   "execution_count": 4,
   "id": "touched-president",
   "metadata": {
    "execution": {
     "iopub.execute_input": "2021-07-20T00:59:58.815524Z",
     "iopub.status.busy": "2021-07-20T00:59:58.814806Z",
     "iopub.status.idle": "2021-07-20T00:59:59.015892Z",
     "shell.execute_reply": "2021-07-20T00:59:59.015211Z",
     "shell.execute_reply.started": "2021-07-20T00:32:28.294562Z"
    },
    "papermill": {
     "duration": 0.248813,
     "end_time": "2021-07-20T00:59:59.016053",
     "exception": false,
     "start_time": "2021-07-20T00:59:58.767240",
     "status": "completed"
    },
    "tags": []
   },
   "outputs": [],
   "source": [
    "#Removing duplicate records leaving only earliest encounter_id\n",
    "df = df.sort_values(['patient_nbr', 'encounter_id']).drop_duplicates(subset= ['patient_nbr'], keep = 'first')"
   ]
  },
  {
   "cell_type": "markdown",
   "id": "appreciated-reunion",
   "metadata": {
    "papermill": {
     "duration": 0.039352,
     "end_time": "2021-07-20T00:59:59.095057",
     "exception": false,
     "start_time": "2021-07-20T00:59:59.055705",
     "status": "completed"
    },
    "tags": []
   },
   "source": [
    "The code below allows to assess distinct values in each feature one by one. As the output of the print is massive this code is commented out."
   ]
  },
  {
   "cell_type": "code",
   "execution_count": 5,
   "id": "enclosed-anaheim",
   "metadata": {
    "execution": {
     "iopub.execute_input": "2021-07-20T00:59:59.178232Z",
     "iopub.status.busy": "2021-07-20T00:59:59.177524Z",
     "iopub.status.idle": "2021-07-20T00:59:59.179524Z",
     "shell.execute_reply": "2021-07-20T00:59:59.180047Z",
     "shell.execute_reply.started": "2021-07-20T00:32:28.562476Z"
    },
    "papermill": {
     "duration": 0.045115,
     "end_time": "2021-07-20T00:59:59.180217",
     "exception": false,
     "start_time": "2021-07-20T00:59:59.135102",
     "status": "completed"
    },
    "tags": []
   },
   "outputs": [],
   "source": [
    "# # Checking distinct values in individual features\n",
    "# # First we need to exclude unique identifiers - encounter_id and patient_nbr\n",
    "\n",
    "# col_distinct_val_check = [col for col in df.columns if col not in ['encounter_id', 'patient_nbr']]\n",
    "\n",
    "# for col in col_distinct_val_check:\n",
    "#     print(col)\n",
    "#     print(set(df[col]))\n",
    "#     print(input(\"Assess distinct values and press Enter\"))"
   ]
  },
  {
   "cell_type": "markdown",
   "id": "mathematical-operations",
   "metadata": {
    "papermill": {
     "duration": 0.039515,
     "end_time": "2021-07-20T00:59:59.258650",
     "exception": false,
     "start_time": "2021-07-20T00:59:59.219135",
     "status": "completed"
    },
    "tags": []
   },
   "source": [
    "Observations:\n",
    "\n",
    "* Race feature has null and 'Other' values - Nulls can be converted to Other\n",
    "* Gender has values Unknown/Invalid\n",
    "* Weight has null values\n",
    "* Payer_code has null values\n",
    "* Medical_specialty has null values\n",
    "* Features diag_1, diag_2, diag_3 have null values\n",
    "* Features examide and citoglipton and glimepiride-pioglitazone have one distinct value and can be excluded\n",
    "* Categorisation is required for many columns"
   ]
  },
  {
   "cell_type": "code",
   "execution_count": 6,
   "id": "civil-morocco",
   "metadata": {
    "execution": {
     "iopub.execute_input": "2021-07-20T00:59:59.340249Z",
     "iopub.status.busy": "2021-07-20T00:59:59.339546Z",
     "iopub.status.idle": "2021-07-20T00:59:59.641676Z",
     "shell.execute_reply": "2021-07-20T00:59:59.640532Z",
     "shell.execute_reply.started": "2021-07-20T00:32:28.568737Z"
    },
    "papermill": {
     "duration": 0.344008,
     "end_time": "2021-07-20T00:59:59.641893",
     "exception": false,
     "start_time": "2021-07-20T00:59:59.297885",
     "status": "completed"
    },
    "tags": []
   },
   "outputs": [
    {
     "name": "stdout",
     "output_type": "stream",
     "text": [
      "race 2.72%\n",
      "gender 0.00%\n",
      "age 0.00%\n",
      "weight 96.01%\n",
      "payer_code 43.41%\n",
      "medical_specialty 48.21%\n",
      "diag_1 0.02%\n",
      "diag_2 0.41%\n",
      "diag_3 1.71%\n",
      "max_glu_serum 0.00%\n",
      "A1Cresult 0.00%\n",
      "metformin 0.00%\n",
      "repaglinide 0.00%\n",
      "nateglinide 0.00%\n",
      "chlorpropamide 0.00%\n",
      "glimepiride 0.00%\n",
      "acetohexamide 0.00%\n",
      "glipizide 0.00%\n",
      "glyburide 0.00%\n",
      "tolbutamide 0.00%\n",
      "pioglitazone 0.00%\n",
      "rosiglitazone 0.00%\n",
      "acarbose 0.00%\n",
      "miglitol 0.00%\n",
      "troglitazone 0.00%\n",
      "tolazamide 0.00%\n",
      "examide 0.00%\n",
      "citoglipton 0.00%\n",
      "insulin 0.00%\n",
      "glyburide-metformin 0.00%\n",
      "glipizide-metformin 0.00%\n",
      "glimepiride-pioglitazone 0.00%\n",
      "metformin-rosiglitazone 0.00%\n",
      "metformin-pioglitazone 0.00%\n",
      "change 0.00%\n",
      "diabetesMed 0.00%\n",
      "readmitted 0.00%\n"
     ]
    }
   ],
   "source": [
    "#Checking proprtion of null values in each feature\n",
    "for col in df.columns:\n",
    "    if df[col].dtype == object:\n",
    "        proportion_null = df[col].isna().sum()/len(df)\n",
    "        #proportion_null = df[col][df[col] == '?'].count()/len(df)*100\n",
    "        print(col, f'{proportion_null * 100:.2f}%')"
   ]
  },
  {
   "cell_type": "code",
   "execution_count": null,
   "id": "97e0c179",
   "metadata": {},
   "outputs": [],
   "source": []
  },
  {
   "cell_type": "markdown",
   "id": "normal-opposition",
   "metadata": {
    "papermill": {
     "duration": 0.039563,
     "end_time": "2021-07-20T00:59:59.722175",
     "exception": false,
     "start_time": "2021-07-20T00:59:59.682612",
     "status": "completed"
    },
    "tags": []
   },
   "source": [
    "I conclude that weight, payer_code, medical speciality have many missing values and will not add value to the model.\n",
    "\n",
    "I also will exclude records with null values in race 2.72% and diagnosis features (diag_1 0.02%, diag_2 0.41%, diag_3 1.71%)"
   ]
  },
  {
   "cell_type": "markdown",
   "id": "superb-warning",
   "metadata": {
    "papermill": {
     "duration": 0.039567,
     "end_time": "2021-07-20T00:59:59.801454",
     "exception": false,
     "start_time": "2021-07-20T00:59:59.761887",
     "status": "completed"
    },
    "tags": []
   },
   "source": [
    "Counting unique values in race feature"
   ]
  },
  {
   "cell_type": "code",
   "execution_count": 7,
   "id": "hollow-coach",
   "metadata": {
    "execution": {
     "iopub.execute_input": "2021-07-20T00:59:59.905504Z",
     "iopub.status.busy": "2021-07-20T00:59:59.904463Z",
     "iopub.status.idle": "2021-07-20T00:59:59.911214Z",
     "shell.execute_reply": "2021-07-20T00:59:59.912092Z",
     "shell.execute_reply.started": "2021-07-20T00:32:28.885404Z"
    },
    "papermill": {
     "duration": 0.070224,
     "end_time": "2021-07-20T00:59:59.912308",
     "exception": false,
     "start_time": "2021-07-20T00:59:59.842084",
     "status": "completed"
    },
    "tags": []
   },
   "outputs": [
    {
     "data": {
      "text/plain": [
       "Caucasian          53491\n",
       "AfricanAmerican    12887\n",
       "NaN                 1948\n",
       "Hispanic            1517\n",
       "Other               1178\n",
       "Asian                497\n",
       "Name: race, dtype: int64"
      ]
     },
     "execution_count": 7,
     "metadata": {},
     "output_type": "execute_result"
    }
   ],
   "source": [
    "df['race'].value_counts(dropna=False)"
   ]
  },
  {
   "cell_type": "markdown",
   "id": "mental-editor",
   "metadata": {
    "papermill": {
     "duration": 0.03975,
     "end_time": "2021-07-20T00:59:59.992360",
     "exception": false,
     "start_time": "2021-07-20T00:59:59.952610",
     "status": "completed"
    },
    "tags": []
   },
   "source": [
    "Replace null values with other in race feature"
   ]
  },
  {
   "cell_type": "code",
   "execution_count": 8,
   "id": "killing-sympathy",
   "metadata": {
    "execution": {
     "iopub.execute_input": "2021-07-20T01:00:00.087131Z",
     "iopub.status.busy": "2021-07-20T01:00:00.086355Z",
     "iopub.status.idle": "2021-07-20T01:00:00.099997Z",
     "shell.execute_reply": "2021-07-20T01:00:00.100616Z",
     "shell.execute_reply.started": "2021-07-20T00:32:28.916839Z"
    },
    "papermill": {
     "duration": 0.063394,
     "end_time": "2021-07-20T01:00:00.100810",
     "exception": false,
     "start_time": "2021-07-20T01:00:00.037416",
     "status": "completed"
    },
    "tags": []
   },
   "outputs": [],
   "source": [
    "df['race'] = df.race.fillna('Other')"
   ]
  },
  {
   "cell_type": "markdown",
   "id": "serious-metropolitan",
   "metadata": {
    "papermill": {
     "duration": 0.040993,
     "end_time": "2021-07-20T01:00:00.183366",
     "exception": false,
     "start_time": "2021-07-20T01:00:00.142373",
     "status": "completed"
    },
    "tags": []
   },
   "source": [
    "Counting unique values in gender feature"
   ]
  },
  {
   "cell_type": "code",
   "execution_count": 9,
   "id": "relative-belief",
   "metadata": {
    "execution": {
     "iopub.execute_input": "2021-07-20T01:00:00.267610Z",
     "iopub.status.busy": "2021-07-20T01:00:00.266905Z",
     "iopub.status.idle": "2021-07-20T01:00:00.290922Z",
     "shell.execute_reply": "2021-07-20T01:00:00.290215Z",
     "shell.execute_reply.started": "2021-07-20T00:32:28.933299Z"
    },
    "papermill": {
     "duration": 0.067307,
     "end_time": "2021-07-20T01:00:00.291099",
     "exception": false,
     "start_time": "2021-07-20T01:00:00.223792",
     "status": "completed"
    },
    "tags": []
   },
   "outputs": [
    {
     "data": {
      "text/plain": [
       "Female             38025\n",
       "Male               33490\n",
       "Unknown/Invalid        3\n",
       "Name: gender, dtype: int64"
      ]
     },
     "execution_count": 9,
     "metadata": {},
     "output_type": "execute_result"
    }
   ],
   "source": [
    "df['gender'].value_counts(dropna=False)"
   ]
  },
  {
   "cell_type": "markdown",
   "id": "welsh-chuck",
   "metadata": {
    "papermill": {
     "duration": 0.04004,
     "end_time": "2021-07-20T01:00:00.371677",
     "exception": false,
     "start_time": "2021-07-20T01:00:00.331637",
     "status": "completed"
    },
    "tags": []
   },
   "source": [
    "As there is no 'Other' category in gender and there are only 3 records with 'Unknown/Invalid'.\n",
    "It is decided to exclude these records from the dataset."
   ]
  },
  {
   "cell_type": "markdown",
   "id": "coated-retreat",
   "metadata": {
    "papermill": {
     "duration": 0.040846,
     "end_time": "2021-07-20T01:00:00.452739",
     "exception": false,
     "start_time": "2021-07-20T01:00:00.411893",
     "status": "completed"
    },
    "tags": []
   },
   "source": [
    "Dropping records with null and Unknown/Invalid values"
   ]
  },
  {
   "cell_type": "code",
   "execution_count": 10,
   "id": "developmental-honduras",
   "metadata": {
    "execution": {
     "iopub.execute_input": "2021-07-20T01:00:00.557825Z",
     "iopub.status.busy": "2021-07-20T01:00:00.549547Z",
     "iopub.status.idle": "2021-07-20T01:00:09.419440Z",
     "shell.execute_reply": "2021-07-20T01:00:09.420017Z",
     "shell.execute_reply.started": "2021-07-20T00:32:28.962677Z"
    },
    "papermill": {
     "duration": 8.927182,
     "end_time": "2021-07-20T01:00:09.420198",
     "exception": false,
     "start_time": "2021-07-20T01:00:00.493016",
     "status": "completed"
    },
    "tags": []
   },
   "outputs": [],
   "source": [
    "exclude_indexes = df[df['gender'] == 'Unknown/Invalid'].index.tolist()\n",
    "\n",
    "exclude_indexes = exclude_indexes + df[df['diag_1'].isna()].index.tolist()\n",
    "\n",
    "exclude_indexes = exclude_indexes + df[df['diag_2'].isna()].index.tolist()\n",
    "\n",
    "exclude_indexes = exclude_indexes + df[df['diag_3'].isna()].index.tolist()\n",
    "\n",
    "required_indexes = [index for index in df.index.tolist() if index not in list(set(exclude_indexes))]\n",
    "\n",
    "df = df.loc[required_indexes]"
   ]
  },
  {
   "cell_type": "markdown",
   "id": "paperback-globe",
   "metadata": {
    "papermill": {
     "duration": 0.040977,
     "end_time": "2021-07-20T01:00:09.502312",
     "exception": false,
     "start_time": "2021-07-20T01:00:09.461335",
     "status": "completed"
    },
    "tags": []
   },
   "source": [
    "Dropping features with large number of missing values or one unique value"
   ]
  },
  {
   "cell_type": "code",
   "execution_count": 11,
   "id": "alive-scenario",
   "metadata": {
    "execution": {
     "iopub.execute_input": "2021-07-20T01:00:09.586372Z",
     "iopub.status.busy": "2021-07-20T01:00:09.585725Z",
     "iopub.status.idle": "2021-07-20T01:00:09.617682Z",
     "shell.execute_reply": "2021-07-20T01:00:09.618296Z",
     "shell.execute_reply.started": "2021-07-20T00:32:37.864207Z"
    },
    "papermill": {
     "duration": 0.075219,
     "end_time": "2021-07-20T01:00:09.618487",
     "exception": false,
     "start_time": "2021-07-20T01:00:09.543268",
     "status": "completed"
    },
    "tags": []
   },
   "outputs": [],
   "source": [
    "df = df.drop(['weight','payer_code','medical_specialty','examide', 'citoglipton', 'glimepiride-pioglitazone'], axis = 1)"
   ]
  },
  {
   "cell_type": "markdown",
   "id": "regulated-arrest",
   "metadata": {
    "papermill": {
     "duration": 0.039755,
     "end_time": "2021-07-20T01:00:09.699294",
     "exception": false,
     "start_time": "2021-07-20T01:00:09.659539",
     "status": "completed"
    },
    "tags": []
   },
   "source": [
    "It is required categorise features which have object data type and convert values in these features to integers"
   ]
  },
  {
   "cell_type": "code",
   "execution_count": 12,
   "id": "daily-swing",
   "metadata": {
    "execution": {
     "iopub.execute_input": "2021-07-20T01:00:09.782594Z",
     "iopub.status.busy": "2021-07-20T01:00:09.781878Z",
     "iopub.status.idle": "2021-07-20T01:00:09.950304Z",
     "shell.execute_reply": "2021-07-20T01:00:09.949515Z",
     "shell.execute_reply.started": "2021-07-20T00:32:37.902609Z"
    },
    "papermill": {
     "duration": 0.211032,
     "end_time": "2021-07-20T01:00:09.950465",
     "exception": false,
     "start_time": "2021-07-20T01:00:09.739433",
     "status": "completed"
    },
    "tags": []
   },
   "outputs": [],
   "source": [
    "df['race'] = df['race'].astype('category').cat.codes\n",
    "\n",
    "df['gender'] = df['gender'].replace('Male', 1)\n",
    "df['gender'] = df['gender'].replace('Female', 0)\n",
    "\n",
    "df['age'] = df['age'].replace('[0-10)', 0)\n",
    "df['age'] = df['age'].replace('[10-20)', 1)\n",
    "df['age'] = df['age'].replace('[20-30)', 2)\n",
    "df['age'] = df['age'].replace('[30-40)', 3)\n",
    "df['age'] = df['age'].replace('[40-50)', 4)\n",
    "df['age'] = df['age'].replace('[50-60)', 5)\n",
    "df['age'] = df['age'].replace('[60-70)', 6)\n",
    "df['age'] = df['age'].replace('[70-80)', 7)\n",
    "df['age'] = df['age'].replace('[80-90)', 8)\n",
    "df['age'] = df['age'].replace('[90-100)', 9)   "
   ]
  },
  {
   "cell_type": "code",
   "execution_count": 13,
   "id": "accredited-count",
   "metadata": {
    "execution": {
     "iopub.execute_input": "2021-07-20T01:00:10.039657Z",
     "iopub.status.busy": "2021-07-20T01:00:10.038593Z",
     "iopub.status.idle": "2021-07-20T01:00:10.094513Z",
     "shell.execute_reply": "2021-07-20T01:00:10.093781Z",
     "shell.execute_reply.started": "2021-07-20T00:32:38.074660Z"
    },
    "papermill": {
     "duration": 0.103126,
     "end_time": "2021-07-20T01:00:10.094662",
     "exception": false,
     "start_time": "2021-07-20T01:00:09.991536",
     "status": "completed"
    },
    "tags": []
   },
   "outputs": [],
   "source": [
    "df['diag_1'] = df['diag_1'].astype('category').cat.codes\n",
    "df['diag_2'] = df['diag_2'].astype('category').cat.codes\n",
    "df['diag_3'] = df['diag_3'].astype('category').cat.codes"
   ]
  },
  {
   "cell_type": "markdown",
   "id": "loose-mechanics",
   "metadata": {
    "papermill": {
     "duration": 0.039576,
     "end_time": "2021-07-20T01:00:10.175192",
     "exception": false,
     "start_time": "2021-07-20T01:00:10.135616",
     "status": "completed"
    },
    "tags": []
   },
   "source": [
    "Laboratory test categorisation"
   ]
  },
  {
   "cell_type": "code",
   "execution_count": 14,
   "id": "standard-reasoning",
   "metadata": {
    "execution": {
     "iopub.execute_input": "2021-07-20T01:00:10.266729Z",
     "iopub.status.busy": "2021-07-20T01:00:10.265618Z",
     "iopub.status.idle": "2021-07-20T01:00:10.585623Z",
     "shell.execute_reply": "2021-07-20T01:00:10.585050Z",
     "shell.execute_reply.started": "2021-07-20T00:32:38.135752Z"
    },
    "papermill": {
     "duration": 0.370291,
     "end_time": "2021-07-20T01:00:10.585779",
     "exception": false,
     "start_time": "2021-07-20T01:00:10.215488",
     "status": "completed"
    },
    "tags": []
   },
   "outputs": [],
   "source": [
    "#Lab Tests\n",
    "df['A1Cresult'] = df['A1Cresult'].replace('>7', 2)\n",
    "df['A1Cresult'] = df['A1Cresult'].replace('>8', 2)\n",
    "df['A1Cresult'] = df['A1Cresult'].replace('Norm', 1)                            \n",
    "df['A1Cresult'] = df['A1Cresult'].replace('None', 0, regex=True)\n",
    "\n",
    "df['max_glu_serum'] = df['max_glu_serum'].replace('>200', 2)\n",
    "df['max_glu_serum'] = df['max_glu_serum'].replace('>300', 2)\n",
    "df['max_glu_serum'] = df['max_glu_serum'].replace('Norm', 1)\n",
    "df['max_glu_serum'] = df['max_glu_serum'].replace('None', 0, regex=True)"
   ]
  },
  {
   "cell_type": "markdown",
   "id": "structured-heading",
   "metadata": {
    "papermill": {
     "duration": 0.03975,
     "end_time": "2021-07-20T01:00:10.665568",
     "exception": false,
     "start_time": "2021-07-20T01:00:10.625818",
     "status": "completed"
    },
    "tags": []
   },
   "source": [
    "All the records where a midication has been prescribed updated as 1 and if there was no medication as 0."
   ]
  },
  {
   "cell_type": "code",
   "execution_count": 15,
   "id": "pharmaceutical-sharp",
   "metadata": {
    "execution": {
     "iopub.execute_input": "2021-07-20T01:00:10.753671Z",
     "iopub.status.busy": "2021-07-20T01:00:10.752987Z",
     "iopub.status.idle": "2021-07-20T01:00:11.936706Z",
     "shell.execute_reply": "2021-07-20T01:00:11.937249Z",
     "shell.execute_reply.started": "2021-07-20T00:32:38.464805Z"
    },
    "papermill": {
     "duration": 1.231225,
     "end_time": "2021-07-20T01:00:11.937424",
     "exception": false,
     "start_time": "2021-07-20T01:00:10.706199",
     "status": "completed"
    },
    "tags": []
   },
   "outputs": [],
   "source": [
    "medications = ['metformin', 'repaglinide', 'nateglinide', 'chlorpropamide', 'glimepiride', 'glipizide', \\\n",
    "'glyburide', 'pioglitazone', 'rosiglitazone', 'acarbose', 'miglitol', 'insulin', 'glyburide-metformin', \\\n",
    "'tolazamide','metformin-pioglitazone', 'metformin-rosiglitazone', 'glipizide-metformin','troglitazone', \\\n",
    "'tolbutamide', 'acetohexamide']\n",
    "\n",
    "for col in medications:\n",
    "    df[col] = df[col].replace('No', 0)\n",
    "    df[col] = df[col].replace('Steady', 1)\n",
    "    df[col] = df[col].replace('Up', 1)\n",
    "    df[col] = df[col].replace('Down', 1)"
   ]
  },
  {
   "cell_type": "markdown",
   "id": "joined-pottery",
   "metadata": {
    "papermill": {
     "duration": 0.041149,
     "end_time": "2021-07-20T01:00:12.020663",
     "exception": false,
     "start_time": "2021-07-20T01:00:11.979514",
     "status": "completed"
    },
    "tags": []
   },
   "source": [
    "As the goal of this modelling is to predict whether a patient will be readmitted to a hospital within 30 days after their discharge. All the records with readmitted feature as '<30' are categorised as 1 and rest as 0."
   ]
  },
  {
   "cell_type": "code",
   "execution_count": 16,
   "id": "silent-mexico",
   "metadata": {
    "execution": {
     "iopub.execute_input": "2021-07-20T01:00:12.113995Z",
     "iopub.status.busy": "2021-07-20T01:00:12.107879Z",
     "iopub.status.idle": "2021-07-20T01:00:12.227936Z",
     "shell.execute_reply": "2021-07-20T01:00:12.228440Z",
     "shell.execute_reply.started": "2021-07-20T00:32:39.655932Z"
    },
    "papermill": {
     "duration": 0.167873,
     "end_time": "2021-07-20T01:00:12.228634",
     "exception": false,
     "start_time": "2021-07-20T01:00:12.060761",
     "status": "completed"
    },
    "tags": []
   },
   "outputs": [],
   "source": [
    "df['change'] = df['change'].replace('Ch', 1)\n",
    "df['change'] = df['change'].replace('No', 0)\n",
    "\n",
    "df['diabetesMed'] = df['diabetesMed'].replace('Yes', 1)\n",
    "df['diabetesMed'] = df['diabetesMed'].replace('No', 0)\n",
    "\n",
    "df['readmitted'] = df['readmitted'].replace('<30', 1)\n",
    "df['readmitted'] = df['readmitted'].replace('>30', 0)\n",
    "df['readmitted'] = df['readmitted'].replace('NO', 0)"
   ]
  },
  {
   "cell_type": "code",
   "execution_count": 17,
   "id": "adaptive-norman",
   "metadata": {
    "execution": {
     "iopub.execute_input": "2021-07-20T01:00:12.313578Z",
     "iopub.status.busy": "2021-07-20T01:00:12.312554Z",
     "iopub.status.idle": "2021-07-20T01:00:12.318710Z",
     "shell.execute_reply": "2021-07-20T01:00:12.318113Z",
     "shell.execute_reply.started": "2021-07-20T00:32:39.784229Z"
    },
    "papermill": {
     "duration": 0.049953,
     "end_time": "2021-07-20T01:00:12.318843",
     "exception": false,
     "start_time": "2021-07-20T01:00:12.268890",
     "status": "completed"
    },
    "tags": []
   },
   "outputs": [
    {
     "name": "stdout",
     "output_type": "stream",
     "text": [
      "Number of rows: 70230, Number of columns: 44\n"
     ]
    }
   ],
   "source": [
    "print(f'Number of rows: {len(df)}, Number of columns: {len(df.columns)}')"
   ]
  },
  {
   "cell_type": "markdown",
   "id": "guided-lancaster",
   "metadata": {
    "papermill": {
     "duration": 0.0402,
     "end_time": "2021-07-20T01:00:12.399664",
     "exception": false,
     "start_time": "2021-07-20T01:00:12.359464",
     "status": "completed"
    },
    "tags": []
   },
   "source": [
    "As the computation of 70k records taking significant amount of time, the dataset has been reduced to 10000 records. The dataset is split into training and testing sets in 70/30 proportion."
   ]
  },
  {
   "cell_type": "code",
   "execution_count": 18,
   "id": "independent-configuration",
   "metadata": {
    "execution": {
     "iopub.execute_input": "2021-07-20T01:00:12.489187Z",
     "iopub.status.busy": "2021-07-20T01:00:12.488474Z",
     "iopub.status.idle": "2021-07-20T01:00:12.513586Z",
     "shell.execute_reply": "2021-07-20T01:00:12.512932Z",
     "shell.execute_reply.started": "2021-07-20T00:32:39.791545Z"
    },
    "papermill": {
     "duration": 0.073217,
     "end_time": "2021-07-20T01:00:12.513752",
     "exception": false,
     "start_time": "2021-07-20T01:00:12.440535",
     "status": "completed"
    },
    "tags": []
   },
   "outputs": [],
   "source": [
    "\n",
    "features = ['race', 'gender', 'admission_type_id', 'discharge_disposition_id','admission_source_id', 'diag_1',\\\n",
    "'diag_2', 'diag_3', 'max_glu_serum', 'A1Cresult','metformin', 'repaglinide', 'nateglinide', 'chlorpropamide',\\\n",
    "'glimepiride', 'acetohexamide', 'glipizide', 'glyburide', 'tolbutamide', 'pioglitazone', 'rosiglitazone', \\\n",
    "'acarbose', 'miglitol', 'troglitazone', 'tolazamide', 'insulin', 'glyburide-metformin', 'glipizide-metformin',\\\n",
    "'metformin-rosiglitazone', 'metformin-pioglitazone', 'change', 'diabetesMed']\n",
    "\n",
    "x = df[features].iloc[:10000].copy()\n",
    "\n",
    "y = df['readmitted'].iloc[:10000].copy()\n",
    "\n",
    "x_train, x_test, y_train, y_test = train_test_split(x, y,random_state = 42,test_size = 0.3, train_size = 0.7)"
   ]
  },
  {
   "cell_type": "markdown",
   "id": "indian-minute",
   "metadata": {
    "papermill": {
     "duration": 0.040682,
     "end_time": "2021-07-20T01:00:12.595216",
     "exception": false,
     "start_time": "2021-07-20T01:00:12.554534",
     "status": "completed"
    },
    "tags": []
   },
   "source": [
    "Below is implementation of the CART (classification and regression tree) algorithm"
   ]
  },
  {
   "cell_type": "code",
   "execution_count": 19,
   "id": "identified-tuesday",
   "metadata": {
    "execution": {
     "iopub.execute_input": "2021-07-20T01:00:12.710173Z",
     "iopub.status.busy": "2021-07-20T01:00:12.709371Z",
     "iopub.status.idle": "2021-07-20T01:00:12.711457Z",
     "shell.execute_reply": "2021-07-20T01:00:12.711979Z",
     "shell.execute_reply.started": "2021-07-20T00:32:39.839469Z"
    },
    "papermill": {
     "duration": 0.076552,
     "end_time": "2021-07-20T01:00:12.712164",
     "exception": false,
     "start_time": "2021-07-20T01:00:12.635612",
     "status": "completed"
    },
    "tags": []
   },
   "outputs": [],
   "source": [
    "class Tree(): \n",
    "    \"\"\"\n",
    "    This class creates decision tree nodes\n",
    "    \"\"\"\n",
    "    def __init__(self, Y: list, X: pd.DataFrame, min_samples_split = None, max_depth = None, depth = None,): \n",
    "        self.Y = Y \n",
    "        self.X = X\n",
    "        \n",
    "        self.min_samples_split = min_samples_split if min_samples_split else 10\n",
    "        self.max_depth = max_depth if max_depth else 10\n",
    "\n",
    "        self.depth = depth if depth else 0\n",
    "\n",
    "        self.features = list(self.X.columns)\n",
    "\n",
    "        self.counts = Counter(Y)\n",
    "        \n",
    "        # GINI impurity\n",
    "        self.gini_impurity = self.get_GINI()\n",
    "\n",
    "        # Sorting the counts and saving the final prediction of the node \n",
    "        counts_sorted = list(sorted(self.counts.items(), key=lambda item: item[1]))\n",
    "        \n",
    "#         if len(Y) == 0:\n",
    "#             print(\"A node has 0 smaples - prediction will be None\")\n",
    "        \n",
    "        # Getting the last item\n",
    "        yhat = None\n",
    "        if len(counts_sorted) > 0:\n",
    "            yhat = counts_sorted[-1][0]\n",
    "\n",
    "        # Saving to object attribute. This node will predict the class with the most frequent class\n",
    "        self.yhat = yhat \n",
    "\n",
    "        # Saving the number of observations in the node \n",
    "        self.num_observations = len(Y)\n",
    "\n",
    "        # Empty left and right nodes\n",
    "        self.left_node = None \n",
    "        self.right_node = None \n",
    "\n",
    "        # Default values for splits\n",
    "        self.best_feature = None \n",
    "        self.best_value = None      \n",
    "\n",
    "    @staticmethod\n",
    "    def GINI_impurity(y1_count: int, y2_count: int) -> float:\n",
    "        \"\"\"\n",
    "        Calculate the GINI impurity\n",
    "        \"\"\"\n",
    "        # Ensuring the correct types\n",
    "        if y1_count is None:\n",
    "            y1_count = 0\n",
    "\n",
    "        if y2_count is None:\n",
    "            y2_count = 0\n",
    "\n",
    "        # total observations\n",
    "        total_observ = y1_count + y2_count\n",
    "        \n",
    "        # When total observations is 0 then gini impurity 0\n",
    "        if total_observ == 0:\n",
    "            return 0.0\n",
    "\n",
    "        # Getting the probability to see each of the classes\n",
    "        p1 = y1_count / total_observ\n",
    "        p2 = y2_count / total_observ\n",
    "        \n",
    "        # Calculating GINI \n",
    "        gini = 1 - (p1 ** 2 + p2 ** 2)\n",
    "        # Returning the gini impurity\n",
    "        return gini\n",
    "\n",
    "    @staticmethod\n",
    "    def rolling_average(x: np.array, window: int) -> np.array:\n",
    "        \"\"\"\n",
    "        Calculates the rolling average \n",
    "        \"\"\"\n",
    "        return np.convolve(x, np.ones(window), 'valid') / window\n",
    "\n",
    "    def get_GINI(self):\n",
    "        \"\"\"\n",
    "        Calculate GINI impurity of a node \n",
    "        \"\"\"\n",
    "        # Getting the 0 and 1 counts\n",
    "        y1_count, y2_count = self.counts.get(0, 0), self.counts.get(1, 0)\n",
    "\n",
    "        # Getting the GINI impurity\n",
    "        return self.GINI_impurity(y1_count, y2_count)\n",
    "\n",
    "    def best_split(self) -> tuple:\n",
    "        \"\"\"\n",
    "        Given the X features and Y targets calculates the best split \n",
    "        for a decision tree\n",
    "        \"\"\"\n",
    "        # Creating a dataset for spliting\n",
    "        df = self.X.copy()\n",
    "        df['Y'] = self.Y\n",
    "\n",
    "        # Getting the GINI impurity for the base input \n",
    "        GINI_base = self.get_GINI()\n",
    "\n",
    "        # Finding which split yields the best GINI gain \n",
    "        max_gain = -1\n",
    "\n",
    "        # Default best feature and split\n",
    "        best_feature = None\n",
    "        best_value = None\n",
    "\n",
    "        for feature in self.features:\n",
    "            # Droping missing values\n",
    "            Xdf = df.dropna().sort_values(feature)\n",
    "            \n",
    "            # Sorting the values and getting the rolling average\n",
    "            xmeans = self.rolling_average(Xdf[feature].unique(), 2)\n",
    "            \n",
    "            for value in xmeans:\n",
    "                # Spliting the dataset \n",
    "                left_counts = Counter(Xdf[Xdf[feature]<value]['Y'])\n",
    "                right_counts = Counter(Xdf[Xdf[feature]>=value]['Y'])\n",
    "\n",
    "                # Getting the Y distribution from the dicts\n",
    "                y0_left, y1_left, y0_right, y1_right = left_counts.get(0, 0), left_counts.get(1, 0), \\\n",
    "                right_counts.get(0, 0), right_counts.get(1, 0)\n",
    "\n",
    "                # Getting the left and right gini impurities\n",
    "                gini_left = self.GINI_impurity(y0_left, y1_left)\n",
    "                gini_right = self.GINI_impurity(y0_right, y1_right)\n",
    "\n",
    "                # Getting the obs count from the left and the right data splits\n",
    "                n_left = y0_left + y1_left\n",
    "                n_right = y0_right + y1_right\n",
    "\n",
    "                # Calculating the weights for each of the nodes\n",
    "                w_left = n_left / (n_left + n_right)\n",
    "                w_right = n_right / (n_left + n_right)\n",
    "\n",
    "                # Calculating the weighted GINI impurity\n",
    "                wGINI = w_left * gini_left + w_right * gini_right\n",
    "\n",
    "                # Calculating the GINI gain \n",
    "                GINIgain = GINI_base - wGINI\n",
    "\n",
    "                # Checking if this is the best split so far \n",
    "                if GINIgain > max_gain:\n",
    "                    best_feature = feature\n",
    "                    best_value = value \n",
    "                    \n",
    "                    # Setting the best gain to the current one \n",
    "                    max_gain = GINIgain\n",
    "        return (best_feature, best_value)\n",
    "\n",
    "    \n",
    "    def fit(self):\n",
    "        \"\"\"\n",
    "        Recursive function to create the decision tree\n",
    "        \"\"\"\n",
    "        # Making a df from the data \n",
    "        df = self.X.copy()\n",
    "        df['Y'] = self.Y\n",
    "\n",
    "        # If there is GINI to be gained, we split further \n",
    "        if (self.depth < self.max_depth) and (self.num_observations >= self.min_samples_split):\n",
    "\n",
    "            # Getting the best split \n",
    "            best_feature, best_value = self.best_split()\n",
    "            \n",
    "            if best_feature is not None:\n",
    "                # Saving the best split to the current node \n",
    "                self.best_feature = best_feature\n",
    "                self.best_value = best_value\n",
    "                \n",
    "                # Getting the left and right nodes\n",
    "                left_df, right_df = df[df[best_feature]<=best_value].copy(), df[df[best_feature]>best_value].copy()\n",
    "                # Creating the left and right nodes\n",
    "                \n",
    "\n",
    "                left_node = Tree(\n",
    "                    left_df['Y'].values.tolist(), \n",
    "                    left_df[self.features], \n",
    "                    depth=self.depth + 1, \n",
    "                    max_depth=self.max_depth, \n",
    "                    min_samples_split=self.min_samples_split, \n",
    "                    )\n",
    "\n",
    "                self.left_node = left_node \n",
    "                self.left_node.fit()\n",
    "\n",
    "                right_node = Tree(\n",
    "                    right_df['Y'].values.tolist(), \n",
    "                    right_df[self.features], \n",
    "                    depth=self.depth + 1, \n",
    "                    max_depth=self.max_depth, \n",
    "                    min_samples_split=self.min_samples_split,\n",
    "                    )\n",
    "\n",
    "                self.right_node = right_node\n",
    "                self.right_node.fit()\n",
    "\n",
    "    def predict(self, X:pd.DataFrame):\n",
    "        predictions = []\n",
    "\n",
    "        for _, x in X.iterrows():\n",
    "            values = {}\n",
    "            for feature in self.features:\n",
    "                values.update({feature: x[feature]})\n",
    "        \n",
    "            predictions.append(self.predict_obs(values))\n",
    "        \n",
    "        return predictions\n",
    "\n",
    "    def predict_obs(self, values: dict) -> int:\n",
    "        \"\"\"\n",
    "        Predict the class given a set of features\n",
    "        \"\"\"\n",
    "        this_node = self\n",
    "        \n",
    "        while this_node.depth < this_node.max_depth:\n",
    "            # Traversing the nodes all the way to the bottom\n",
    "            best_feature = this_node.best_feature\n",
    "            best_value = this_node.best_value\n",
    "            \n",
    "            if this_node.num_observations < this_node.min_samples_split:\n",
    "                break \n",
    "            \n",
    "            if (values.get(best_feature) < best_value):\n",
    "                if self.left_node is not None:\n",
    "                    this_node = this_node.left_node\n",
    "            else:\n",
    "                if self.right_node is not None:\n",
    "                    this_node = this_node.right_node\n",
    "            \n",
    "        return this_node.yhat"
   ]
  },
  {
   "cell_type": "markdown",
   "id": "close-religious",
   "metadata": {
    "papermill": {
     "duration": 0.03991,
     "end_time": "2021-07-20T01:00:12.792876",
     "exception": false,
     "start_time": "2021-07-20T01:00:12.752966",
     "status": "completed"
    },
    "tags": []
   },
   "source": [
    "Testing different hyper parameters using smaller training dataset reduced to 500 records"
   ]
  },
  {
   "cell_type": "code",
   "execution_count": 20,
   "id": "coated-phone",
   "metadata": {
    "execution": {
     "iopub.execute_input": "2021-07-20T01:00:12.878381Z",
     "iopub.status.busy": "2021-07-20T01:00:12.877709Z",
     "iopub.status.idle": "2021-07-20T01:03:36.174127Z",
     "shell.execute_reply": "2021-07-20T01:03:36.174765Z",
     "shell.execute_reply.started": "2021-07-20T00:32:39.876668Z"
    },
    "papermill": {
     "duration": 203.341154,
     "end_time": "2021-07-20T01:03:36.174970",
     "exception": false,
     "start_time": "2021-07-20T01:00:12.833816",
     "status": "completed"
    },
    "tags": []
   },
   "outputs": [
    {
     "name": "stdout",
     "output_type": "stream",
     "text": [
      "Min sample split 100, Max depth 1, DT accuracy - 91.8%\n",
      "Min sample split 100, Max depth 3, DT accuracy - 91.733%\n",
      "Min sample split 100, Max depth 5, DT accuracy - 91.133%\n",
      "Min sample split 100, Max depth 10, DT accuracy - 91.133%\n",
      "Min sample split 100, Max depth 20, DT accuracy - 91.133%\n",
      "Min sample split 50, Max depth 1, DT accuracy - 91.8%\n",
      "Min sample split 50, Max depth 3, DT accuracy - 91.733%\n",
      "Min sample split 50, Max depth 5, DT accuracy - 91.133%\n",
      "Min sample split 50, Max depth 10, DT accuracy - 90.3%\n",
      "Min sample split 50, Max depth 20, DT accuracy - 90.3%\n",
      "Min sample split 20, Max depth 1, DT accuracy - 91.8%\n",
      "Min sample split 20, Max depth 3, DT accuracy - 91.733%\n",
      "Min sample split 20, Max depth 5, DT accuracy - 91.133%\n",
      "Min sample split 20, Max depth 10, DT accuracy - 82.333%\n",
      "Min sample split 20, Max depth 20, DT accuracy - 80.8%\n",
      "Min sample split 10, Max depth 1, DT accuracy - 91.8%\n",
      "Min sample split 10, Max depth 3, DT accuracy - 91.733%\n",
      "Min sample split 10, Max depth 5, DT accuracy - 90.467%\n",
      "Min sample split 10, Max depth 10, DT accuracy - 81.433%\n",
      "Min sample split 10, Max depth 20, DT accuracy - 79.9%\n",
      "Min sample split 5, Max depth 1, DT accuracy - 91.8%\n",
      "Min sample split 5, Max depth 3, DT accuracy - 91.733%\n",
      "Min sample split 5, Max depth 5, DT accuracy - 90.033%\n",
      "Min sample split 5, Max depth 10, DT accuracy - 81.033%\n",
      "Min sample split 5, Max depth 20, DT accuracy - 70.333%\n",
      "Best accuracy 91.8\n",
      "Best min sample split 100\n",
      "Best max tree depth 1\n"
     ]
    }
   ],
   "source": [
    "min_sample_split = [100,50,20,10,5]\n",
    "max_depth = [1,3,5,10,20]\n",
    "\n",
    "best_custom_dt_accuracy = 0\n",
    "best_min_sample_split = 0\n",
    "best_max_depth = 0 \n",
    "\n",
    "for min_sample in min_sample_split:\n",
    "    for m_depth in max_depth:\n",
    "        gini_tree = Tree(y_train.iloc[:300], x_train.iloc[:300], min_sample, m_depth)\n",
    "        gini_tree.fit()\n",
    "        dt_gini_prediction = gini_tree.predict(x_test)\n",
    "        dt_gini_correct_count = (dt_gini_prediction == np.array(y_test)).sum()\n",
    "        custom_dt_accuracy = round((dt_gini_correct_count / len(y_test)*100), 3)\n",
    "        print(f\"Min sample split {min_sample}, Max depth {m_depth}, DT accuracy - {custom_dt_accuracy}%\")\n",
    "        \n",
    "        if custom_dt_accuracy > best_custom_dt_accuracy:\n",
    "                    best_custom_dt_accuracy = custom_dt_accuracy\n",
    "                    best_min_sample_split = min_sample\n",
    "                    best_max_depth = m_depth\n",
    "                    \n",
    "print(f'Best accuracy {best_custom_dt_accuracy}')\n",
    "print(f'Best min sample split {best_min_sample_split}')\n",
    "print(f'Best max tree depth {best_max_depth}')"
   ]
  },
  {
   "cell_type": "markdown",
   "id": "crazy-flesh",
   "metadata": {
    "papermill": {
     "duration": 0.047991,
     "end_time": "2021-07-20T01:03:36.272187",
     "exception": false,
     "start_time": "2021-07-20T01:03:36.224196",
     "status": "completed"
    },
    "tags": []
   },
   "source": [
    "Observation - Increasing maximum depth is over fitting the model, significantly increasing computation time and reducing accuracy on the evaluation dataset."
   ]
  },
  {
   "cell_type": "markdown",
   "id": "organic-immunology",
   "metadata": {
    "papermill": {
     "duration": 0.048751,
     "end_time": "2021-07-20T01:03:36.368723",
     "exception": false,
     "start_time": "2021-07-20T01:03:36.319972",
     "status": "completed"
    },
    "tags": []
   },
   "source": [
    "After testing different hyperparameters, the best parameters applied to full training and testing datasets"
   ]
  },
  {
   "cell_type": "code",
   "execution_count": 21,
   "id": "dimensional-coordinator",
   "metadata": {
    "execution": {
     "iopub.execute_input": "2021-07-20T01:03:36.477005Z",
     "iopub.status.busy": "2021-07-20T01:03:36.475650Z",
     "iopub.status.idle": "2021-07-20T01:03:41.727128Z",
     "shell.execute_reply": "2021-07-20T01:03:41.726379Z",
     "shell.execute_reply.started": "2021-07-20T00:35:55.221839Z"
    },
    "papermill": {
     "duration": 5.31082,
     "end_time": "2021-07-20T01:03:41.727294",
     "exception": false,
     "start_time": "2021-07-20T01:03:36.416474",
     "status": "completed"
    },
    "tags": []
   },
   "outputs": [
    {
     "name": "stdout",
     "output_type": "stream",
     "text": [
      "Custom Decision Tree accuracy 91.867%\n"
     ]
    }
   ],
   "source": [
    "gini_tree = Tree(y_train,x_train, best_min_sample_split, best_max_depth)\n",
    "gini_tree.fit()\n",
    "dt_gini_prediction = gini_tree.predict(x_test)\n",
    "dt_gini_correct_count = (dt_gini_prediction == np.array(y_test)).sum()\n",
    "custom_dt_accuracy = round((dt_gini_correct_count / len(y_test)*100), 3)\n",
    "print(f\"Custom Decision Tree accuracy {custom_dt_accuracy}%\")"
   ]
  },
  {
   "cell_type": "markdown",
   "id": "organizational-mandate",
   "metadata": {
    "papermill": {
     "duration": 0.049765,
     "end_time": "2021-07-20T01:03:41.826394",
     "exception": false,
     "start_time": "2021-07-20T01:03:41.776629",
     "status": "completed"
    },
    "tags": []
   },
   "source": [
    "Below is the implementation of perceptron and adaboost models to compare performace with the CART decision tree algorithm"
   ]
  },
  {
   "cell_type": "code",
   "execution_count": 22,
   "id": "cooperative-innocent",
   "metadata": {
    "execution": {
     "iopub.execute_input": "2021-07-20T01:03:41.941035Z",
     "iopub.status.busy": "2021-07-20T01:03:41.940307Z",
     "iopub.status.idle": "2021-07-20T01:03:41.943883Z",
     "shell.execute_reply": "2021-07-20T01:03:41.943326Z",
     "shell.execute_reply.started": "2021-07-20T00:36:00.261762Z"
    },
    "papermill": {
     "duration": 0.067759,
     "end_time": "2021-07-20T01:03:41.944042",
     "exception": false,
     "start_time": "2021-07-20T01:03:41.876283",
     "status": "completed"
    },
    "tags": []
   },
   "outputs": [],
   "source": [
    "class MyPerceptron():\n",
    "    def __init__(\n",
    "        self, \n",
    "        max_iter = 100, #Maximum of iteration of 100% accuracy is not achieved\n",
    "        num_feat = 32 #Number of features in dataset\n",
    "    ):\n",
    "        self.max_iter = max_iter\n",
    "        self.h = np.random.random(num_feat + 1) #hypothesis contains random  weights values for each feature and bias (+1)\n",
    "#         self.h = np.array(np.zeros(num_feat+1), dtype=float)\n",
    "        self.best_h = None\n",
    "    \n",
    "    def compute_linear_score_with_(self, X, h):\n",
    "        s = None\n",
    "        s = (X * h[:-1]).sum(axis=1) + h[-1]\n",
    "        return s\n",
    "    \n",
    "    def predict_with_(self, X, h):\n",
    "        return np.sign(self.compute_linear_score_with_(X, h)).astype(int)\n",
    "    \n",
    "    def predict(self, X):\n",
    "        return self.predict_with_(X, self.best_h)\n",
    "    \n",
    "    def fit(self, X, y):\n",
    "        iteration = 1\n",
    "        min_error = 0\n",
    "        while True:\n",
    "            # predict using the current h\n",
    "            predicted = self.predict_with_(X, self.h)\n",
    "            # find errors\n",
    "            error_indexes = np.nonzero(predicted != y)[0]\n",
    "            # `nonzero` returns the indexes for multiple dimension array,\n",
    "            # Here only the indexes of the first (and only) dimension is \n",
    "            # concerned, therefore the [0]\n",
    "            # error indexes where prediction was wrong   \n",
    "\n",
    "           \n",
    "            if iteration == 1:\n",
    "                min_error = len(error_indexes)\n",
    "                self.best_h = self.h\n",
    "            else:\n",
    "                if len(error_indexes) < min_error:\n",
    "                    min_error = len(error_indexes)\n",
    "                    self.best_h = self.h\n",
    "\n",
    "            if len(error_indexes) > 0:        \n",
    "                rand = np.random.randint(len(error_indexes))\n",
    "                i = error_indexes[rand]\n",
    "                # i is a random index where prediction was wrong\n",
    "\n",
    "\n",
    "                self.h[:-1] += X[i] * float(y[i]) #Weigths update\n",
    "                \n",
    "                # To update the weights\n",
    "                # for example where prediction was wrong X = [4.6 3.4] and y = -1\n",
    "                # 1st multiply [4.6 3.4] by -1 = [-4.6 -3.4]\n",
    "                # 2nd add [-4.6 -3.4] to h which is [0. 1.] in first interation\n",
    "                # result = [-4.6 -2.4] these are updated weigthts for second iteration\n",
    "\n",
    "                # To update the bias\n",
    "                # This is equivalent to using the homogeneous representation of x, where the last element is one\n",
    "\n",
    "                self.h[-1] += float(y[i])\n",
    "                # For example in the first interation bias = 0, and as all prediction 1 the any random wrong prediction -1\n",
    "                # so we add 0 to -1 and second iteration bias = -1\n",
    "                iteration += 1\n",
    "                if iteration >= self.max_iter:\n",
    "                    break\n",
    "            else:\n",
    "                print(f\"{iteration} Train errors: {len(error_indexes)}\")\n",
    "                break # All the predictions are correct on the training data and there is nothing to adjust."
   ]
  },
  {
   "cell_type": "code",
   "execution_count": 23,
   "id": "irish-mining",
   "metadata": {
    "execution": {
     "iopub.execute_input": "2021-07-20T01:03:42.051390Z",
     "iopub.status.busy": "2021-07-20T01:03:42.050692Z",
     "iopub.status.idle": "2021-07-20T01:03:42.056074Z",
     "shell.execute_reply": "2021-07-20T01:03:42.055462Z",
     "shell.execute_reply.started": "2021-07-20T00:36:00.278429Z"
    },
    "papermill": {
     "duration": 0.062067,
     "end_time": "2021-07-20T01:03:42.056222",
     "exception": false,
     "start_time": "2021-07-20T01:03:41.994155",
     "status": "completed"
    },
    "tags": []
   },
   "outputs": [],
   "source": [
    "#Converting dataframes to arrays for perceptron\n",
    "x_train_array = np.array(x_train)\n",
    "\n",
    "y_train_array = np.array(y_train)\n",
    "y_train_array[y_train_array == 0]  = -1\n",
    "\n",
    "x_test_array = np.array(x_test)\n",
    "y_test_array = np.array(y_test)"
   ]
  },
  {
   "cell_type": "code",
   "execution_count": 24,
   "id": "grateful-tower",
   "metadata": {
    "execution": {
     "iopub.execute_input": "2021-07-20T01:03:42.160275Z",
     "iopub.status.busy": "2021-07-20T01:03:42.159552Z",
     "iopub.status.idle": "2021-07-20T01:03:42.216751Z",
     "shell.execute_reply": "2021-07-20T01:03:42.217304Z",
     "shell.execute_reply.started": "2021-07-20T00:36:00.304133Z"
    },
    "papermill": {
     "duration": 0.111769,
     "end_time": "2021-07-20T01:03:42.217512",
     "exception": false,
     "start_time": "2021-07-20T01:03:42.105743",
     "status": "completed"
    },
    "tags": []
   },
   "outputs": [
    {
     "name": "stdout",
     "output_type": "stream",
     "text": [
      "Custom Perceptron accuracy 91.867%\n"
     ]
    }
   ],
   "source": [
    "#Assessing perceptron performance\n",
    "perp = MyPerceptron()\n",
    "perp.fit(x_train_array, y_train_array)\n",
    "perp_prediction = perp.predict(x_test_array)\n",
    "perp_prediction[perp_prediction == -1]  = 0\n",
    "# print(list(perp_prediction))\n",
    "perp_correct_count = (perp_prediction == y_test_array).sum()\n",
    "\n",
    "custom_perc_accuracy = round((perp_correct_count / len(y_test_array)*100),3)\n",
    "print(f\"Custom Perceptron accuracy {custom_perc_accuracy}%\")"
   ]
  },
  {
   "cell_type": "code",
   "execution_count": 25,
   "id": "directed-assist",
   "metadata": {
    "execution": {
     "iopub.execute_input": "2021-07-20T01:03:42.334285Z",
     "iopub.status.busy": "2021-07-20T01:03:42.333526Z",
     "iopub.status.idle": "2021-07-20T01:03:49.125414Z",
     "shell.execute_reply": "2021-07-20T01:03:49.124805Z",
     "shell.execute_reply.started": "2021-07-20T00:36:00.368963Z"
    },
    "papermill": {
     "duration": 6.8577,
     "end_time": "2021-07-20T01:03:49.125572",
     "exception": false,
     "start_time": "2021-07-20T01:03:42.267872",
     "status": "completed"
    },
    "tags": []
   },
   "outputs": [],
   "source": [
    "adaboost_model = {\n",
    "    \"weights\": [],\n",
    "    \"weak_predictors\": []}\n",
    "rng  = np.random.RandomState(42)\n",
    "\n",
    "max_iter = 100\n",
    "iter_num = 0\n",
    "\n",
    "sample_count = len(x_train)\n",
    "\n",
    "w = np.ones(sample_count) / sample_count #Weights in first iteration = 1/ number of samples\n",
    "\n",
    "ind = list(range(sample_count))\n",
    "\n",
    "while True:\n",
    "    \n",
    "    resample_ind = sorted(rng.choice(\n",
    "            ind, size = (sample_count,), replace = True, p=w)) \n",
    "            # It is necessary to generate a random index set,\n",
    "            # because we need to sample both the X- and y-array\n",
    "            # and need to keep the (X-y) correspondence consistent\n",
    "\n",
    "    x_resampled = x_train.iloc[resample_ind] \n",
    "    y_resampled = y_train.iloc[resample_ind]\n",
    "    \n",
    "    #converting to array\n",
    "    x_resampled_array = np.array(x_resampled)\n",
    "    y_resampled_array = np.array(y_resampled)\n",
    "    y_resampled_array[y_resampled_array == 0]  = -1\n",
    "    \n",
    "    g = MyPerceptron()\n",
    "    g.fit(x_resampled_array, y_resampled_array)\n",
    "    \n",
    "    # Calculate the classifier weight\n",
    "    err = (g.predict(x_resampled_array) != y_resampled_array).astype(float)\n",
    "    # print(f'error calcualtion {err}')\n",
    "    e = max(np.sum(err) / sample_count, 1e-6) \n",
    "    # max(..., 1e-6) is to ensure\n",
    "    # the following quotient is numerically safely defined.\n",
    "    # To calculate the weight for this weak classifier\n",
    "    al = 1/2 * np.log((1 - e) / e)\n",
    "    \n",
    "    # Store the information of the model\n",
    "    adaboost_model[\"weights\"].append(al)\n",
    "    adaboost_model[\"weak_predictors\"].append(g)    \n",
    "    \n",
    "    # Re-weight the samples for the next step resampling\n",
    "    x_train_array = np.array(x_train)\n",
    "    y_train_array = np.array(y_train)\n",
    "    y_train_array[y_train_array == 0]  = -1\n",
    "\n",
    "    err_0 = (g.predict(x_train_array) != y_train_array).astype(float)\n",
    "    # To compute the sample weights for the next round of iteration\n",
    "    #   err_0 = [0, 1, 1, 0, 0, ...]\n",
    "    #   is a 0/1 (float type) array with elements being 1.0 for \n",
    "    #   those samples on which the weak classifier has been wrong\n",
    "    dw = np.exp(al * (err_0 - 0.5) * 2)\n",
    "\n",
    "    w = dw * w\n",
    "    w = w / w.sum()\n",
    "\n",
    "    # Iteration update\n",
    "    iter_num += 1\n",
    "    \n",
    "    # Stop condition\n",
    "    if iter_num >= max_iter:\n",
    "        break\n"
   ]
  },
  {
   "cell_type": "code",
   "execution_count": 26,
   "id": "regional-destruction",
   "metadata": {
    "execution": {
     "iopub.execute_input": "2021-07-20T01:03:49.244235Z",
     "iopub.status.busy": "2021-07-20T01:03:49.243481Z",
     "iopub.status.idle": "2021-07-20T01:03:49.330552Z",
     "shell.execute_reply": "2021-07-20T01:03:49.329966Z",
     "shell.execute_reply.started": "2021-07-20T00:36:06.993578Z"
    },
    "papermill": {
     "duration": 0.150953,
     "end_time": "2021-07-20T01:03:49.330701",
     "exception": false,
     "start_time": "2021-07-20T01:03:49.179748",
     "status": "completed"
    },
    "tags": []
   },
   "outputs": [
    {
     "name": "stdout",
     "output_type": "stream",
     "text": [
      "Custom Adabost with Perceptron accuracy  91.87%\n"
     ]
    }
   ],
   "source": [
    "weighted_predictions = []\n",
    "\n",
    "for p,w_i in zip(adaboost_model['weak_predictors'], adaboost_model['weights']):\n",
    "    x_test_array = np.array(x_test)\n",
    "    predictions = p.predict(x_test_array)\n",
    "    predictions = predictions * w_i #Multiply predictions by weigths of this perceptron\n",
    "#     predictions = np.where(predictions == 0, -1, predictions) * w_i \n",
    "    weighted_predictions.append(predictions) #Append array of weighted predictions to the container\n",
    "\n",
    "\n",
    "weighted_predictions = np.array(weighted_predictions)\n",
    "# print(weighted_predictions.shape)\n",
    "\n",
    "weighted_predictions = weighted_predictions.transpose() #Transpose array\n",
    "# print(weighted_predictions.shape) \n",
    "\n",
    "final_prediction = []\n",
    "\n",
    "for i in weighted_predictions:\n",
    "    if i.mean() < 0: #Calcualte average of weighted prediction for each sample and compare with 0\n",
    "        final_prediction.append(0) \n",
    "    else:\n",
    "        final_prediction.append(1)\n",
    "\n",
    "correct_count = (np.array(final_prediction) == np.array(y_test)).sum()\n",
    "custom_aboost_accuracy = round((correct_count / len(y_test)*100), 2)\n",
    "print(f\"Custom Adabost with Perceptron accuracy  {custom_aboost_accuracy}%\")   "
   ]
  },
  {
   "cell_type": "markdown",
   "id": "continuing-deputy",
   "metadata": {
    "papermill": {
     "duration": 0.05144,
     "end_time": "2021-07-20T01:03:49.433370",
     "exception": false,
     "start_time": "2021-07-20T01:03:49.381930",
     "status": "completed"
    },
    "tags": []
   },
   "source": [
    "Below I compute accuracy for out-of-the-box classifiers from Sklearn library"
   ]
  },
  {
   "cell_type": "code",
   "execution_count": 27,
   "id": "romance-package",
   "metadata": {
    "execution": {
     "iopub.execute_input": "2021-07-20T01:03:49.541389Z",
     "iopub.status.busy": "2021-07-20T01:03:49.540718Z",
     "iopub.status.idle": "2021-07-20T01:03:49.808134Z",
     "shell.execute_reply": "2021-07-20T01:03:49.807507Z",
     "shell.execute_reply.started": "2021-07-20T00:36:07.084234Z"
    },
    "papermill": {
     "duration": 0.32263,
     "end_time": "2021-07-20T01:03:49.808290",
     "exception": false,
     "start_time": "2021-07-20T01:03:49.485660",
     "status": "completed"
    },
    "tags": []
   },
   "outputs": [
    {
     "name": "stdout",
     "output_type": "stream",
     "text": [
      "Sklearn Decision Tree Classifier accuracy 83.3%\n"
     ]
    }
   ],
   "source": [
    "from sklearn.tree import DecisionTreeClassifier\n",
    "\n",
    "dtc = DecisionTreeClassifier()\n",
    "dtc.fit(x_train, y_train)\n",
    "dtc_prediction = dtc.predict(x_test)\n",
    "dtc_correct_count = (dtc_prediction == np.array(y_test)).sum()\n",
    "\n",
    "sklearn_dtc_accuracy = round((dtc_correct_count / len(y_test)*100), 3)\n",
    "print(f\"Sklearn Decision Tree Classifier accuracy {sklearn_dtc_accuracy}%\")   "
   ]
  },
  {
   "cell_type": "code",
   "execution_count": 28,
   "id": "artificial-patient",
   "metadata": {
    "execution": {
     "iopub.execute_input": "2021-07-20T01:03:49.916776Z",
     "iopub.status.busy": "2021-07-20T01:03:49.916100Z",
     "iopub.status.idle": "2021-07-20T01:03:50.787933Z",
     "shell.execute_reply": "2021-07-20T01:03:50.787374Z",
     "shell.execute_reply.started": "2021-07-20T00:36:07.371457Z"
    },
    "papermill": {
     "duration": 0.927626,
     "end_time": "2021-07-20T01:03:50.788109",
     "exception": false,
     "start_time": "2021-07-20T01:03:49.860483",
     "status": "completed"
    },
    "tags": []
   },
   "outputs": [
    {
     "name": "stdout",
     "output_type": "stream",
     "text": [
      "Sklearn Random Forest Classifier accuracy 91.7%\n"
     ]
    }
   ],
   "source": [
    "from sklearn.ensemble import RandomForestClassifier\n",
    "\n",
    "rfc = RandomForestClassifier()\n",
    "rfc.fit(x_train, y_train)\n",
    "rfc_prediction = rfc.predict(x_test)\n",
    "rfc_correct_count = (rfc_prediction == np.array(y_test)).sum()\n",
    "\n",
    "sklearn_rfc_accuracy = round((rfc_correct_count / len(y_test)*100), 3)\n",
    "print(f\"Sklearn Random Forest Classifier accuracy {sklearn_rfc_accuracy}%\") "
   ]
  },
  {
   "cell_type": "code",
   "execution_count": 29,
   "id": "worst-organizer",
   "metadata": {
    "execution": {
     "iopub.execute_input": "2021-07-20T01:03:50.900639Z",
     "iopub.status.busy": "2021-07-20T01:03:50.898781Z",
     "iopub.status.idle": "2021-07-20T01:03:51.288107Z",
     "shell.execute_reply": "2021-07-20T01:03:51.287522Z",
     "shell.execute_reply.started": "2021-07-20T00:36:08.278730Z"
    },
    "papermill": {
     "duration": 0.448845,
     "end_time": "2021-07-20T01:03:51.288264",
     "exception": false,
     "start_time": "2021-07-20T01:03:50.839419",
     "status": "completed"
    },
    "tags": []
   },
   "outputs": [
    {
     "name": "stdout",
     "output_type": "stream",
     "text": [
      "Sklearn Adabost Classifier accuracy 91.8%\n"
     ]
    }
   ],
   "source": [
    "from sklearn.ensemble import AdaBoostClassifier\n",
    "\n",
    "abc = AdaBoostClassifier()\n",
    "abc.fit(x_train, y_train)\n",
    "abc_prediction = abc.predict(x_test)\n",
    "abc_correct_count = (abc_prediction == np.array(y_test)).sum()\n",
    "\n",
    "sklearn_abc_accuracy = round((abc_correct_count / len(y_test)*100), 3)\n",
    "print(f\"Sklearn Adabost Classifier accuracy {sklearn_abc_accuracy}%\") "
   ]
  },
  {
   "cell_type": "markdown",
   "id": "czech-specific",
   "metadata": {
    "papermill": {
     "duration": 0.054558,
     "end_time": "2021-07-20T01:03:51.393990",
     "exception": false,
     "start_time": "2021-07-20T01:03:51.339432",
     "status": "completed"
    },
    "tags": []
   },
   "source": [
    "Accuracy comparison of different models"
   ]
  },
  {
   "cell_type": "code",
   "execution_count": 30,
   "id": "plastic-sunglasses",
   "metadata": {
    "execution": {
     "iopub.execute_input": "2021-07-20T01:03:51.504484Z",
     "iopub.status.busy": "2021-07-20T01:03:51.503790Z",
     "iopub.status.idle": "2021-07-20T01:03:51.507055Z",
     "shell.execute_reply": "2021-07-20T01:03:51.506461Z",
     "shell.execute_reply.started": "2021-07-20T00:36:08.658400Z"
    },
    "papermill": {
     "duration": 0.060855,
     "end_time": "2021-07-20T01:03:51.507196",
     "exception": false,
     "start_time": "2021-07-20T01:03:51.446341",
     "status": "completed"
    },
    "tags": []
   },
   "outputs": [],
   "source": [
    "models = ['My Decision Tree','My Adaboost with Perceptron', 'Sklearn Decision Tree Classifier', \\\n",
    "           'Sklearn Random Forest Classifier', 'Sklearn Adaboost Classifier']\n",
    "\n",
    "compare_models = {'Model': models, \\\n",
    "                  'Accuracy': [custom_dt_accuracy, custom_aboost_accuracy, sklearn_dtc_accuracy, \\\n",
    "                               sklearn_rfc_accuracy, sklearn_abc_accuracy]}\n",
    "\n",
    "models_df = pd.DataFrame(data = compare_models)\n",
    "\n",
    "# print(models_df)"
   ]
  },
  {
   "cell_type": "code",
   "execution_count": 31,
   "id": "inside-punch",
   "metadata": {
    "execution": {
     "iopub.execute_input": "2021-07-20T01:03:51.633212Z",
     "iopub.status.busy": "2021-07-20T01:03:51.632476Z",
     "iopub.status.idle": "2021-07-20T01:03:51.827991Z",
     "shell.execute_reply": "2021-07-20T01:03:51.827422Z",
     "shell.execute_reply.started": "2021-07-20T00:36:08.666002Z"
    },
    "papermill": {
     "duration": 0.270168,
     "end_time": "2021-07-20T01:03:51.828137",
     "exception": false,
     "start_time": "2021-07-20T01:03:51.557969",
     "status": "completed"
    },
    "tags": []
   },
   "outputs": [
    {
     "data": {
      "image/png": "[encoded data removed]",
      "text/plain": [
       "<Figure size 640x480 with 1 Axes>"
      ]
     },
     "metadata": {},
     "output_type": "display_data"
    }
   ],
   "source": [
    "import matplotlib.pyplot as plt\n",
    "order = [4, 3, 2, 1, 0]\n",
    "\n",
    "y = [models[i] for i in order]\n",
    "x = compare_models['Accuracy']\n",
    "x = [x[i] for i in order]\n",
    "\n",
    "plt.barh(y, x)\n",
    "\n",
    "plt.xlabel(\"Accuracy %\") \n",
    "\n",
    "plt.xlim([80, 100])\n",
    "for i, v in enumerate(x):\n",
    "    plt.text(v + .5, i , str(v)+'%')\n",
    "    \n",
    "plt.show()"
   ]
  },
  {
   "cell_type": "code",
   "execution_count": 32,
   "id": "2f0d8fce",
   "metadata": {},
   "outputs": [
    {
     "ename": "ValueError",
     "evalue": "Cannot have number of splits n_splits=10 greater than the number of samples: n_samples=5.",
     "output_type": "error",
     "traceback": [
      "\u001b[0;31m---------------------------------------------------------------------------\u001b[0m",
      "\u001b[0;31mEmpty\u001b[0m                                     Traceback (most recent call last)",
      "File \u001b[0;32m~/anaconda3/lib/python3.11/site-packages/joblib/parallel.py:862\u001b[0m, in \u001b[0;36mParallel.dispatch_one_batch\u001b[0;34m(self, iterator)\u001b[0m\n\u001b[1;32m    861\u001b[0m \u001b[38;5;28;01mtry\u001b[39;00m:\n\u001b[0;32m--> 862\u001b[0m     tasks \u001b[38;5;241m=\u001b[39m \u001b[38;5;28mself\u001b[39m\u001b[38;5;241m.\u001b[39m_ready_batches\u001b[38;5;241m.\u001b[39mget(block\u001b[38;5;241m=\u001b[39m\u001b[38;5;28;01mFalse\u001b[39;00m)\n\u001b[1;32m    863\u001b[0m \u001b[38;5;28;01mexcept\u001b[39;00m queue\u001b[38;5;241m.\u001b[39mEmpty:\n\u001b[1;32m    864\u001b[0m     \u001b[38;5;66;03m# slice the iterator n_jobs * batchsize items at a time. If the\u001b[39;00m\n\u001b[1;32m    865\u001b[0m     \u001b[38;5;66;03m# slice returns less than that, then the current batchsize puts\u001b[39;00m\n\u001b[0;32m   (...)\u001b[0m\n\u001b[1;32m    868\u001b[0m     \u001b[38;5;66;03m# accordingly to distribute evenly the last items between all\u001b[39;00m\n\u001b[1;32m    869\u001b[0m     \u001b[38;5;66;03m# workers.\u001b[39;00m\n",
      "File \u001b[0;32m~/anaconda3/lib/python3.11/queue.py:168\u001b[0m, in \u001b[0;36mQueue.get\u001b[0;34m(self, block, timeout)\u001b[0m\n\u001b[1;32m    167\u001b[0m     \u001b[38;5;28;01mif\u001b[39;00m \u001b[38;5;129;01mnot\u001b[39;00m \u001b[38;5;28mself\u001b[39m\u001b[38;5;241m.\u001b[39m_qsize():\n\u001b[0;32m--> 168\u001b[0m         \u001b[38;5;28;01mraise\u001b[39;00m Empty\n\u001b[1;32m    169\u001b[0m \u001b[38;5;28;01melif\u001b[39;00m timeout \u001b[38;5;129;01mis\u001b[39;00m \u001b[38;5;28;01mNone\u001b[39;00m:\n",
      "\u001b[0;31mEmpty\u001b[0m: ",
      "\nDuring handling of the above exception, another exception occurred:\n",
      "\u001b[0;31mValueError\u001b[0m                                Traceback (most recent call last)",
      "Cell \u001b[0;32mIn[32], line 10\u001b[0m\n\u001b[1;32m      6\u001b[0m dtc \u001b[38;5;241m=\u001b[39m DecisionTreeClassifier(max_depth\u001b[38;5;241m=\u001b[39m \u001b[38;5;28;01mNone\u001b[39;00m, min_samples_split\u001b[38;5;241m=\u001b[39m \u001b[38;5;241m4\u001b[39m, min_samples_leaf\u001b[38;5;241m=\u001b[39m \u001b[38;5;241m1\u001b[39m, max_features\u001b[38;5;241m=\u001b[39m \u001b[38;5;28;01mNone\u001b[39;00m)\n\u001b[1;32m      8\u001b[0m \u001b[38;5;66;03m# Usar cross_val_score para evaluar el modelo usando validación cruzada de 10 particiones\u001b[39;00m\n\u001b[1;32m      9\u001b[0m \u001b[38;5;66;03m# y ROC AUC como métrica de rendimiento\u001b[39;00m\n\u001b[0;32m---> 10\u001b[0m cv_scores_dtc_mejoresParametros \u001b[38;5;241m=\u001b[39m cross_val_score(dtc, x, y, cv\u001b[38;5;241m=\u001b[39m\u001b[38;5;241m10\u001b[39m, scoring\u001b[38;5;241m=\u001b[39mmake_scorer(roc_auc_score))\n\u001b[1;32m     12\u001b[0m \u001b[38;5;66;03m# Calcular el promedio de los puntajes de validación cruzada\u001b[39;00m\n\u001b[1;32m     13\u001b[0m mean_cv_score_dtc_mejoresParametros\u001b[38;5;241m=\u001b[39m cv_scores_dtc_mejoresParametros\u001b[38;5;241m.\u001b[39mmean()\n",
      "File \u001b[0;32m~/anaconda3/lib/python3.11/site-packages/sklearn/model_selection/_validation.py:562\u001b[0m, in \u001b[0;36mcross_val_score\u001b[0;34m(estimator, X, y, groups, scoring, cv, n_jobs, verbose, fit_params, pre_dispatch, error_score)\u001b[0m\n\u001b[1;32m    559\u001b[0m \u001b[38;5;66;03m# To ensure multimetric format is not supported\u001b[39;00m\n\u001b[1;32m    560\u001b[0m scorer \u001b[38;5;241m=\u001b[39m check_scoring(estimator, scoring\u001b[38;5;241m=\u001b[39mscoring)\n\u001b[0;32m--> 562\u001b[0m cv_results \u001b[38;5;241m=\u001b[39m cross_validate(\n\u001b[1;32m    563\u001b[0m     estimator\u001b[38;5;241m=\u001b[39mestimator,\n\u001b[1;32m    564\u001b[0m     X\u001b[38;5;241m=\u001b[39mX,\n\u001b[1;32m    565\u001b[0m     y\u001b[38;5;241m=\u001b[39my,\n\u001b[1;32m    566\u001b[0m     groups\u001b[38;5;241m=\u001b[39mgroups,\n\u001b[1;32m    567\u001b[0m     scoring\u001b[38;5;241m=\u001b[39m{\u001b[38;5;124m\"\u001b[39m\u001b[38;5;124mscore\u001b[39m\u001b[38;5;124m\"\u001b[39m: scorer},\n\u001b[1;32m    568\u001b[0m     cv\u001b[38;5;241m=\u001b[39mcv,\n\u001b[1;32m    569\u001b[0m     n_jobs\u001b[38;5;241m=\u001b[39mn_jobs,\n\u001b[1;32m    570\u001b[0m     verbose\u001b[38;5;241m=\u001b[39mverbose,\n\u001b[1;32m    571\u001b[0m     fit_params\u001b[38;5;241m=\u001b[39mfit_params,\n\u001b[1;32m    572\u001b[0m     pre_dispatch\u001b[38;5;241m=\u001b[39mpre_dispatch,\n\u001b[1;32m    573\u001b[0m     error_score\u001b[38;5;241m=\u001b[39merror_score,\n\u001b[1;32m    574\u001b[0m )\n\u001b[1;32m    575\u001b[0m \u001b[38;5;28;01mreturn\u001b[39;00m cv_results[\u001b[38;5;124m\"\u001b[39m\u001b[38;5;124mtest_score\u001b[39m\u001b[38;5;124m\"\u001b[39m]\n",
      "File \u001b[0;32m~/anaconda3/lib/python3.11/site-packages/sklearn/utils/_param_validation.py:211\u001b[0m, in \u001b[0;36mvalidate_params.<locals>.decorator.<locals>.wrapper\u001b[0;34m(*args, **kwargs)\u001b[0m\n\u001b[1;32m    205\u001b[0m \u001b[38;5;28;01mtry\u001b[39;00m:\n\u001b[1;32m    206\u001b[0m     \u001b[38;5;28;01mwith\u001b[39;00m config_context(\n\u001b[1;32m    207\u001b[0m         skip_parameter_validation\u001b[38;5;241m=\u001b[39m(\n\u001b[1;32m    208\u001b[0m             prefer_skip_nested_validation \u001b[38;5;129;01mor\u001b[39;00m global_skip_validation\n\u001b[1;32m    209\u001b[0m         )\n\u001b[1;32m    210\u001b[0m     ):\n\u001b[0;32m--> 211\u001b[0m         \u001b[38;5;28;01mreturn\u001b[39;00m func(\u001b[38;5;241m*\u001b[39margs, \u001b[38;5;241m*\u001b[39m\u001b[38;5;241m*\u001b[39mkwargs)\n\u001b[1;32m    212\u001b[0m \u001b[38;5;28;01mexcept\u001b[39;00m InvalidParameterError \u001b[38;5;28;01mas\u001b[39;00m e:\n\u001b[1;32m    213\u001b[0m     \u001b[38;5;66;03m# When the function is just a wrapper around an estimator, we allow\u001b[39;00m\n\u001b[1;32m    214\u001b[0m     \u001b[38;5;66;03m# the function to delegate validation to the estimator, but we replace\u001b[39;00m\n\u001b[1;32m    215\u001b[0m     \u001b[38;5;66;03m# the name of the estimator by the name of the function in the error\u001b[39;00m\n\u001b[1;32m    216\u001b[0m     \u001b[38;5;66;03m# message to avoid confusion.\u001b[39;00m\n\u001b[1;32m    217\u001b[0m     msg \u001b[38;5;241m=\u001b[39m re\u001b[38;5;241m.\u001b[39msub(\n\u001b[1;32m    218\u001b[0m         \u001b[38;5;124mr\u001b[39m\u001b[38;5;124m\"\u001b[39m\u001b[38;5;124mparameter of \u001b[39m\u001b[38;5;124m\\\u001b[39m\u001b[38;5;124mw+ must be\u001b[39m\u001b[38;5;124m\"\u001b[39m,\n\u001b[1;32m    219\u001b[0m         \u001b[38;5;124mf\u001b[39m\u001b[38;5;124m\"\u001b[39m\u001b[38;5;124mparameter of \u001b[39m\u001b[38;5;132;01m{\u001b[39;00mfunc\u001b[38;5;241m.\u001b[39m\u001b[38;5;18m__qualname__\u001b[39m\u001b[38;5;132;01m}\u001b[39;00m\u001b[38;5;124m must be\u001b[39m\u001b[38;5;124m\"\u001b[39m,\n\u001b[1;32m    220\u001b[0m         \u001b[38;5;28mstr\u001b[39m(e),\n\u001b[1;32m    221\u001b[0m     )\n",
      "File \u001b[0;32m~/anaconda3/lib/python3.11/site-packages/sklearn/model_selection/_validation.py:309\u001b[0m, in \u001b[0;36mcross_validate\u001b[0;34m(estimator, X, y, groups, scoring, cv, n_jobs, verbose, fit_params, pre_dispatch, return_train_score, return_estimator, return_indices, error_score)\u001b[0m\n\u001b[1;32m    306\u001b[0m \u001b[38;5;66;03m# We clone the estimator to make sure that all the folds are\u001b[39;00m\n\u001b[1;32m    307\u001b[0m \u001b[38;5;66;03m# independent, and that it is pickle-able.\u001b[39;00m\n\u001b[1;32m    308\u001b[0m parallel \u001b[38;5;241m=\u001b[39m Parallel(n_jobs\u001b[38;5;241m=\u001b[39mn_jobs, verbose\u001b[38;5;241m=\u001b[39mverbose, pre_dispatch\u001b[38;5;241m=\u001b[39mpre_dispatch)\n\u001b[0;32m--> 309\u001b[0m results \u001b[38;5;241m=\u001b[39m parallel(\n\u001b[1;32m    310\u001b[0m     delayed(_fit_and_score)(\n\u001b[1;32m    311\u001b[0m         clone(estimator),\n\u001b[1;32m    312\u001b[0m         X,\n\u001b[1;32m    313\u001b[0m         y,\n\u001b[1;32m    314\u001b[0m         scorers,\n\u001b[1;32m    315\u001b[0m         train,\n\u001b[1;32m    316\u001b[0m         test,\n\u001b[1;32m    317\u001b[0m         verbose,\n\u001b[1;32m    318\u001b[0m         \u001b[38;5;28;01mNone\u001b[39;00m,\n\u001b[1;32m    319\u001b[0m         fit_params,\n\u001b[1;32m    320\u001b[0m         return_train_score\u001b[38;5;241m=\u001b[39mreturn_train_score,\n\u001b[1;32m    321\u001b[0m         return_times\u001b[38;5;241m=\u001b[39m\u001b[38;5;28;01mTrue\u001b[39;00m,\n\u001b[1;32m    322\u001b[0m         return_estimator\u001b[38;5;241m=\u001b[39mreturn_estimator,\n\u001b[1;32m    323\u001b[0m         error_score\u001b[38;5;241m=\u001b[39merror_score,\n\u001b[1;32m    324\u001b[0m     )\n\u001b[1;32m    325\u001b[0m     \u001b[38;5;28;01mfor\u001b[39;00m train, test \u001b[38;5;129;01min\u001b[39;00m indices\n\u001b[1;32m    326\u001b[0m )\n\u001b[1;32m    328\u001b[0m _warn_or_raise_about_fit_failures(results, error_score)\n\u001b[1;32m    330\u001b[0m \u001b[38;5;66;03m# For callable scoring, the return type is only know after calling. If the\u001b[39;00m\n\u001b[1;32m    331\u001b[0m \u001b[38;5;66;03m# return type is a dictionary, the error scores can now be inserted with\u001b[39;00m\n\u001b[1;32m    332\u001b[0m \u001b[38;5;66;03m# the correct key.\u001b[39;00m\n",
      "File \u001b[0;32m~/anaconda3/lib/python3.11/site-packages/sklearn/utils/parallel.py:65\u001b[0m, in \u001b[0;36mParallel.__call__\u001b[0;34m(self, iterable)\u001b[0m\n\u001b[1;32m     60\u001b[0m config \u001b[38;5;241m=\u001b[39m get_config()\n\u001b[1;32m     61\u001b[0m iterable_with_config \u001b[38;5;241m=\u001b[39m (\n\u001b[1;32m     62\u001b[0m     (_with_config(delayed_func, config), args, kwargs)\n\u001b[1;32m     63\u001b[0m     \u001b[38;5;28;01mfor\u001b[39;00m delayed_func, args, kwargs \u001b[38;5;129;01min\u001b[39;00m iterable\n\u001b[1;32m     64\u001b[0m )\n\u001b[0;32m---> 65\u001b[0m \u001b[38;5;28;01mreturn\u001b[39;00m \u001b[38;5;28msuper\u001b[39m()\u001b[38;5;241m.\u001b[39m\u001b[38;5;21m__call__\u001b[39m(iterable_with_config)\n",
      "File \u001b[0;32m~/anaconda3/lib/python3.11/site-packages/joblib/parallel.py:1085\u001b[0m, in \u001b[0;36mParallel.__call__\u001b[0;34m(self, iterable)\u001b[0m\n\u001b[1;32m   1076\u001b[0m \u001b[38;5;28;01mtry\u001b[39;00m:\n\u001b[1;32m   1077\u001b[0m     \u001b[38;5;66;03m# Only set self._iterating to True if at least a batch\u001b[39;00m\n\u001b[1;32m   1078\u001b[0m     \u001b[38;5;66;03m# was dispatched. In particular this covers the edge\u001b[39;00m\n\u001b[0;32m   (...)\u001b[0m\n\u001b[1;32m   1082\u001b[0m     \u001b[38;5;66;03m# was very quick and its callback already dispatched all the\u001b[39;00m\n\u001b[1;32m   1083\u001b[0m     \u001b[38;5;66;03m# remaining jobs.\u001b[39;00m\n\u001b[1;32m   1084\u001b[0m     \u001b[38;5;28mself\u001b[39m\u001b[38;5;241m.\u001b[39m_iterating \u001b[38;5;241m=\u001b[39m \u001b[38;5;28;01mFalse\u001b[39;00m\n\u001b[0;32m-> 1085\u001b[0m     \u001b[38;5;28;01mif\u001b[39;00m \u001b[38;5;28mself\u001b[39m\u001b[38;5;241m.\u001b[39mdispatch_one_batch(iterator):\n\u001b[1;32m   1086\u001b[0m         \u001b[38;5;28mself\u001b[39m\u001b[38;5;241m.\u001b[39m_iterating \u001b[38;5;241m=\u001b[39m \u001b[38;5;28mself\u001b[39m\u001b[38;5;241m.\u001b[39m_original_iterator \u001b[38;5;129;01mis\u001b[39;00m \u001b[38;5;129;01mnot\u001b[39;00m \u001b[38;5;28;01mNone\u001b[39;00m\n\u001b[1;32m   1088\u001b[0m     \u001b[38;5;28;01mwhile\u001b[39;00m \u001b[38;5;28mself\u001b[39m\u001b[38;5;241m.\u001b[39mdispatch_one_batch(iterator):\n",
      "File \u001b[0;32m~/anaconda3/lib/python3.11/site-packages/joblib/parallel.py:873\u001b[0m, in \u001b[0;36mParallel.dispatch_one_batch\u001b[0;34m(self, iterator)\u001b[0m\n\u001b[1;32m    870\u001b[0m n_jobs \u001b[38;5;241m=\u001b[39m \u001b[38;5;28mself\u001b[39m\u001b[38;5;241m.\u001b[39m_cached_effective_n_jobs\n\u001b[1;32m    871\u001b[0m big_batch_size \u001b[38;5;241m=\u001b[39m batch_size \u001b[38;5;241m*\u001b[39m n_jobs\n\u001b[0;32m--> 873\u001b[0m islice \u001b[38;5;241m=\u001b[39m \u001b[38;5;28mlist\u001b[39m(itertools\u001b[38;5;241m.\u001b[39mislice(iterator, big_batch_size))\n\u001b[1;32m    874\u001b[0m \u001b[38;5;28;01mif\u001b[39;00m \u001b[38;5;28mlen\u001b[39m(islice) \u001b[38;5;241m==\u001b[39m \u001b[38;5;241m0\u001b[39m:\n\u001b[1;32m    875\u001b[0m     \u001b[38;5;28;01mreturn\u001b[39;00m \u001b[38;5;28;01mFalse\u001b[39;00m\n",
      "File \u001b[0;32m~/anaconda3/lib/python3.11/site-packages/sklearn/utils/parallel.py:61\u001b[0m, in \u001b[0;36m<genexpr>\u001b[0;34m(.0)\u001b[0m\n\u001b[1;32m     56\u001b[0m \u001b[38;5;66;03m# Capture the thread-local scikit-learn configuration at the time\u001b[39;00m\n\u001b[1;32m     57\u001b[0m \u001b[38;5;66;03m# Parallel.__call__ is issued since the tasks can be dispatched\u001b[39;00m\n\u001b[1;32m     58\u001b[0m \u001b[38;5;66;03m# in a different thread depending on the backend and on the value of\u001b[39;00m\n\u001b[1;32m     59\u001b[0m \u001b[38;5;66;03m# pre_dispatch and n_jobs.\u001b[39;00m\n\u001b[1;32m     60\u001b[0m config \u001b[38;5;241m=\u001b[39m get_config()\n\u001b[0;32m---> 61\u001b[0m iterable_with_config \u001b[38;5;241m=\u001b[39m (\n\u001b[1;32m     62\u001b[0m     (_with_config(delayed_func, config), args, kwargs)\n\u001b[1;32m     63\u001b[0m     \u001b[38;5;28;01mfor\u001b[39;00m delayed_func, args, kwargs \u001b[38;5;129;01min\u001b[39;00m iterable\n\u001b[1;32m     64\u001b[0m )\n\u001b[1;32m     65\u001b[0m \u001b[38;5;28;01mreturn\u001b[39;00m \u001b[38;5;28msuper\u001b[39m()\u001b[38;5;241m.\u001b[39m\u001b[38;5;21m__call__\u001b[39m(iterable_with_config)\n",
      "File \u001b[0;32m~/anaconda3/lib/python3.11/site-packages/sklearn/model_selection/_validation.py:309\u001b[0m, in \u001b[0;36m<genexpr>\u001b[0;34m(.0)\u001b[0m\n\u001b[1;32m    306\u001b[0m \u001b[38;5;66;03m# We clone the estimator to make sure that all the folds are\u001b[39;00m\n\u001b[1;32m    307\u001b[0m \u001b[38;5;66;03m# independent, and that it is pickle-able.\u001b[39;00m\n\u001b[1;32m    308\u001b[0m parallel \u001b[38;5;241m=\u001b[39m Parallel(n_jobs\u001b[38;5;241m=\u001b[39mn_jobs, verbose\u001b[38;5;241m=\u001b[39mverbose, pre_dispatch\u001b[38;5;241m=\u001b[39mpre_dispatch)\n\u001b[0;32m--> 309\u001b[0m results \u001b[38;5;241m=\u001b[39m parallel(\n\u001b[1;32m    310\u001b[0m     delayed(_fit_and_score)(\n\u001b[1;32m    311\u001b[0m         clone(estimator),\n\u001b[1;32m    312\u001b[0m         X,\n\u001b[1;32m    313\u001b[0m         y,\n\u001b[1;32m    314\u001b[0m         scorers,\n\u001b[1;32m    315\u001b[0m         train,\n\u001b[1;32m    316\u001b[0m         test,\n\u001b[1;32m    317\u001b[0m         verbose,\n\u001b[1;32m    318\u001b[0m         \u001b[38;5;28;01mNone\u001b[39;00m,\n\u001b[1;32m    319\u001b[0m         fit_params,\n\u001b[1;32m    320\u001b[0m         return_train_score\u001b[38;5;241m=\u001b[39mreturn_train_score,\n\u001b[1;32m    321\u001b[0m         return_times\u001b[38;5;241m=\u001b[39m\u001b[38;5;28;01mTrue\u001b[39;00m,\n\u001b[1;32m    322\u001b[0m         return_estimator\u001b[38;5;241m=\u001b[39mreturn_estimator,\n\u001b[1;32m    323\u001b[0m         error_score\u001b[38;5;241m=\u001b[39merror_score,\n\u001b[1;32m    324\u001b[0m     )\n\u001b[1;32m    325\u001b[0m     \u001b[38;5;28;01mfor\u001b[39;00m train, test \u001b[38;5;129;01min\u001b[39;00m indices\n\u001b[1;32m    326\u001b[0m )\n\u001b[1;32m    328\u001b[0m _warn_or_raise_about_fit_failures(results, error_score)\n\u001b[1;32m    330\u001b[0m \u001b[38;5;66;03m# For callable scoring, the return type is only know after calling. If the\u001b[39;00m\n\u001b[1;32m    331\u001b[0m \u001b[38;5;66;03m# return type is a dictionary, the error scores can now be inserted with\u001b[39;00m\n\u001b[1;32m    332\u001b[0m \u001b[38;5;66;03m# the correct key.\u001b[39;00m\n",
      "File \u001b[0;32m~/anaconda3/lib/python3.11/site-packages/sklearn/model_selection/_split.py:370\u001b[0m, in \u001b[0;36m_BaseKFold.split\u001b[0;34m(self, X, y, groups)\u001b[0m\n\u001b[1;32m    368\u001b[0m n_samples \u001b[38;5;241m=\u001b[39m _num_samples(X)\n\u001b[1;32m    369\u001b[0m \u001b[38;5;28;01mif\u001b[39;00m \u001b[38;5;28mself\u001b[39m\u001b[38;5;241m.\u001b[39mn_splits \u001b[38;5;241m>\u001b[39m n_samples:\n\u001b[0;32m--> 370\u001b[0m     \u001b[38;5;28;01mraise\u001b[39;00m \u001b[38;5;167;01mValueError\u001b[39;00m(\n\u001b[1;32m    371\u001b[0m         (\n\u001b[1;32m    372\u001b[0m             \u001b[38;5;124m\"\u001b[39m\u001b[38;5;124mCannot have number of splits n_splits=\u001b[39m\u001b[38;5;132;01m{0}\u001b[39;00m\u001b[38;5;124m greater\u001b[39m\u001b[38;5;124m\"\u001b[39m\n\u001b[1;32m    373\u001b[0m             \u001b[38;5;124m\"\u001b[39m\u001b[38;5;124m than the number of samples: n_samples=\u001b[39m\u001b[38;5;132;01m{1}\u001b[39;00m\u001b[38;5;124m.\u001b[39m\u001b[38;5;124m\"\u001b[39m\n\u001b[1;32m    374\u001b[0m         )\u001b[38;5;241m.\u001b[39mformat(\u001b[38;5;28mself\u001b[39m\u001b[38;5;241m.\u001b[39mn_splits, n_samples)\n\u001b[1;32m    375\u001b[0m     )\n\u001b[1;32m    377\u001b[0m \u001b[38;5;28;01mfor\u001b[39;00m train, test \u001b[38;5;129;01min\u001b[39;00m \u001b[38;5;28msuper\u001b[39m()\u001b[38;5;241m.\u001b[39msplit(X, y, groups):\n\u001b[1;32m    378\u001b[0m     \u001b[38;5;28;01myield\u001b[39;00m train, test\n",
      "\u001b[0;31mValueError\u001b[0m: Cannot have number of splits n_splits=10 greater than the number of samples: n_samples=5."
     ]
    }
   ],
   "source": [
    "from sklearn.tree import DecisionTreeClassifier\n",
    "from sklearn.model_selection import cross_val_score\n",
    "from sklearn.metrics import make_scorer, roc_auc_score\n",
    "\n",
    "# Crear el DecisionTreeClassifier\n",
    "dtc = DecisionTreeClassifier(max_depth= None, min_samples_split= 4, min_samples_leaf= 1, max_features= None)\n",
    "\n",
    "# Usar cross_val_score para evaluar el modelo usando validación cruzada de 10 particiones\n",
    "# y ROC AUC como métrica de rendimiento\n",
    "cv_scores_dtc_mejoresParametros = cross_val_score(dtc, X, Y, cv=10, scoring=make_scorer(roc_auc_score))\n",
    "\n",
    "# Calcular el promedio de los puntajes de validación cruzada\n",
    "mean_cv_score_dtc_mejoresParametros= cv_scores_dtc_mejoresParametros.mean()\n",
    "print(f\"Promedio de ROC AUC con validación cruzada (10-CV) para Decision Tree Classifier: {mean_cv_score_dtc_mejoresParametros}\")\n"
   ]
  },
  {
   "cell_type": "markdown",
   "id": "photographic-joint",
   "metadata": {
    "papermill": {
     "duration": 0.054411,
     "end_time": "2021-07-20T01:03:51.934921",
     "exception": false,
     "start_time": "2021-07-20T01:03:51.880510",
     "status": "completed"
    },
    "tags": []
   },
   "source": [
    "The CART Decision Tree Algorithm shows good results when comparing with adaboost model as well as out-of-the-box Sklearn library models."
   ]
  }
 ],
 "metadata": {
  "kernelspec": {
   "display_name": "Python 3 (ipykernel)",
   "language": "python",
   "name": "python3"
  },
  "language_info": {
   "codemirror_mode": {
    "name": "ipython",
    "version": 3
   },
   "file_extension": ".py",
   "mimetype": "text/x-python",
   "name": "python",
   "nbconvert_exporter": "python",
   "pygments_lexer": "ipython3",
   "version": "3.11.5"
  },
  "papermill": {
   "default_parameters": {},
   "duration": 246.076402,
   "end_time": "2021-07-20T01:03:53.364891",
   "environment_variables": {},
   "exception": null,
   "input_path": "__notebook__.ipynb",
   "output_path": "__notebook__.ipynb",
   "parameters": {},
   "start_time": "2021-07-20T00:59:47.288489",
   "version": "2.3.3"
  }
 },
 "nbformat": 4,
 "nbformat_minor": 5
}
