{
 "cells": [
  {
   "cell_type": "markdown",
   "metadata": {
    "id": "Dzf5ZuzTn2HA"
   },
   "source": [
    "<center><img src=\"https://www.dlsi.ua.es/~juanra/UA/curso_verano_DL/images/pandas-logo.png\" height=\"100\"></center>\n",
    "\n",
    "# 1.3 Data tables with Pandas and basic graphics\n",
    "\n",
    "Instructor: Juan Ramón Rico (<juanramonrico@ua.es>)\n",
    "\n",
    "## Summary\n",
    "\n",
    "----\n",
    "**Pandas**: Pandas is a high-performance package for table-like data structures, data analysis and visualization. It is built on `NumPy` and `MatPlotLib`.\n",
    "- Documentation <https://pandas.pydata.org/pandas-docs/stable/>\n",
    "- Quick start tutorial <https://pandas.pydata.org/pandas-docs/stable/10min.html>    \n",
    "\n",
    "**MatPlotLib**: It is a flexible package for graph visualization. It is powerful but somewhat difficult for novice users.\n",
    "- Documentation <https://matplotlib.org/contents.html>\n",
    "- Quick start tutorial <https://matplotlib.org/users/pyplot_tutorial.html>\n",
    "\n",
    "---"
   ]
  },
  {
   "cell_type": "markdown",
   "metadata": {
    "id": "IF1TmsXAn2Mm"
   },
   "source": [
    "# Data tables (data frame)\n"
   ]
  },
  {
   "cell_type": "markdown",
   "metadata": {
    "id": "KgteOiNyzbxG"
   },
   "source": [
    "There is also a type similar to a data table (data frame). It is equivalent to a two-dimensional table with names in the rows and columns.\n",
    "In addition, it can contain different types of data with each column that the matrix type does not allow.\n",
    "\n",
    "The most common way to work with data frames is to import tables from files (text, spreadsheets).\n",
    "\n",
    "Creating and storing data frames\n",
    "\n",
    "To use this type of data we will use a package called `Pandas`\n",
    "\n",
    "`pip install pandas`"
   ]
  },
  {
   "cell_type": "markdown",
   "metadata": {
    "id": "TXbNxT8C-iUM"
   },
   "source": [
    "## Creating tables"
   ]
  },
  {
   "cell_type": "code",
   "execution_count": null,
   "metadata": {
    "id": "Of1ooGPZn2Mo"
   },
   "outputs": [],
   "source": [
    "import numpy as np\n",
    "import pandas as pd\n",
    "\n",
    "Name = np.array(['Juan', 'Pedro', 'Ana', 'Isabel'])\n",
    "Group  = ['Morning','Afternoon','Morning','Afternoon']\n",
    "Grade = [8, 5, 9, 5.5]\n",
    "\n",
    "semester = pd.DataFrame({'Name':Name, 'Grade':Grade, 'Group':Group}, columns=['Name', 'Grade', 'Group'])\n",
    "semester"
   ]
  },
  {
   "cell_type": "markdown",
   "metadata": {
    "id": "mPl7OcoFXVA_"
   },
   "source": [
    "We can also load the data from a file. The same `data frame` above could be achieved with:"
   ]
  },
  {
   "cell_type": "code",
   "execution_count": null,
   "metadata": {
    "id": "y63WjVg5gHaq"
   },
   "outputs": [],
   "source": [
    "# Display the CSV file\n",
    "\n",
    "!curl 'https://www.dlsi.ua.es/~juanra/UA/curso_verano_DL/data/pandas_example-en.csv'"
   ]
  },
  {
   "cell_type": "code",
   "execution_count": null,
   "metadata": {
    "id": "DTVK9s9oXkto"
   },
   "outputs": [],
   "source": [
    "import pandas as pd\n",
    "\n",
    "semester = pd.read_csv('https://www.dlsi.ua.es/~juanra/UA/curso_verano_DL/data/pandas_example-en.csv')\n",
    "semester"
   ]
  },
  {
   "cell_type": "markdown",
   "metadata": {
    "id": "fBatO9pnXohY"
   },
   "source": [
    "Analyzing the data"
   ]
  },
  {
   "cell_type": "code",
   "execution_count": null,
   "metadata": {
    "id": "mwOuIlFIn2Mu"
   },
   "outputs": [],
   "source": [
    "semester.describe(include='all')"
   ]
  },
  {
   "cell_type": "markdown",
   "metadata": {
    "id": "rTJmW29un2My"
   },
   "source": [
    "## Selecting elements\n",
    "\n",
    "| semester\n",
    "|:----\n",
    "| `semester[:2]`\n",
    "| `semester[2:]`\n",
    "| `semester[:2]['Grade']`\n",
    "| `semester[2:]['Grade']`\n",
    "| `semester[semester.Group=='Morning']`\n",
    "| `semester[(semester.Group=='Morning') & (semester.Grade>8)]`\n",
    "| `semester[(semester.Group=='Morning') & (semester.Grade>8)][\"Name\"]`\n",
    "| `semester[(semester.Group=='Morning') & (semester.Grade>8)][[\"Name\",\"Grade\"]]`"
   ]
  },
  {
   "cell_type": "code",
   "execution_count": null,
   "metadata": {
    "id": "UVL0qJPwn2M0"
   },
   "outputs": [],
   "source": [
    "semester[semester.Group=='Morning']"
   ]
  },
  {
   "cell_type": "markdown",
   "metadata": {
    "id": "y5V6Jrmg0eh2"
   },
   "source": [
    "To select elements by reducing the size of the syntax we can use the `query()` function."
   ]
  },
  {
   "cell_type": "code",
   "execution_count": null,
   "metadata": {
    "id": "PS-BMMty03hw"
   },
   "outputs": [],
   "source": [
    "semester.query('Group == \"Morning\"')"
   ]
  },
  {
   "cell_type": "markdown",
   "metadata": {
    "id": "AOO5H7-9-xBg"
   },
   "source": [
    "## Preparing a data file\n",
    "\n",
    "Data is usually loaded from a CSV file. In this section we will show how to load and verify data types."
   ]
  },
  {
   "cell_type": "markdown",
   "metadata": {
    "id": "Rn1EOKZM_arm"
   },
   "source": [
    "### Copying test files to the server"
   ]
  },
  {
   "cell_type": "code",
   "execution_count": null,
   "metadata": {
    "id": "h9GGEt_8_iGa"
   },
   "outputs": [],
   "source": [
    "# You have to copy the example files\n",
    "!wget https://www.dlsi.ua.es/~juanra/UA/curso_verano_DL/data/basic_data.zip\n",
    "!unzip basic_data"
   ]
  },
  {
   "cell_type": "markdown",
   "metadata": {
    "id": "NVlEYIzWAE71"
   },
   "source": [
    "### Loading and verifying data types"
   ]
  },
  {
   "cell_type": "code",
   "execution_count": null,
   "metadata": {
    "id": "X69ninYeADL9"
   },
   "outputs": [],
   "source": [
    "import pandas as pd\n",
    "\n",
    "# Binary classification with the 'diabete_01.csv' file\n",
    "data = pd.read_csv('./basic_data/diabetes_01.csv')\n",
    "\n",
    "print('\\nFirst rows')\n",
    "display(data.head())\n",
    "\n",
    "print('\\nData types in columns')\n",
    "display(data.dtypes)\n",
    "\n",
    "print('\\nCheck if there are unknown values in the data')\n",
    "display(data.isnull().any())"
   ]
  },
  {
   "cell_type": "markdown",
   "metadata": {
    "id": "2WLGQvF8h3v1"
   },
   "source": [
    "A precision of `int32` and `float32` is sufficient to represent the information, in addition, current GPUs work with 32-bit precisions and NOT 64-bit."
   ]
  },
  {
   "cell_type": "code",
   "execution_count": null,
   "metadata": {
    "id": "535ayFEBAX6N"
   },
   "outputs": [],
   "source": [
    "# Converting 64-bit types to 32-bit to use GPU\n",
    "pairs = {'int64':'int32', 'float64':'float32'}\n",
    "for i in data.columns:\n",
    "  pair = pairs.get(str(data[i].dtype))\n",
    "  if pair != None:\n",
    "    data[i]= data[i].astype(pair)\n",
    "\n",
    "data.dtypes"
   ]
  },
  {
   "cell_type": "code",
   "execution_count": null,
   "metadata": {
    "id": "PhMXrucjBoMz"
   },
   "outputs": [],
   "source": [
    "# Actually, the 'class' column corresponds to whether the diagnosis is diabetes (1) or not (0)\n",
    "# It can be left as an integer, or transformed into a category which it actually is\n",
    "data['class'] = data['class'].astype('category')\n",
    "data['class'].dtype"
   ]
  },
  {
   "cell_type": "code",
   "execution_count": null,
   "metadata": {
    "id": "zSCD8FByAZfE"
   },
   "outputs": [],
   "source": [
    "# Selection of attributes and target variable\n",
    "X = data.iloc[:,:-1]\n",
    "y = data.iloc[:,-1]\n",
    "\n",
    "display(X.head())\n",
    "display(y.head())"
   ]
  },
  {
   "cell_type": "markdown",
   "metadata": {
    "id": "QaixOgNRi1az"
   },
   "source": [
    "### Exercise: read data from iris.csv"
   ]
  },
  {
   "cell_type": "code",
   "execution_count": null,
   "metadata": {
    "id": "m-lueVLkihn1"
   },
   "outputs": [],
   "source": [
    "# Exercise adapt the values of the 'iris.csv' file\n",
    "\n",
    "data = pd.read_csv('./basic_data/iris.csv')\n",
    "\n",
    "display(data.head())\n",
    "display(data.dtypes)"
   ]
  },
  {
   "cell_type": "code",
   "execution_count": null,
   "metadata": {
    "id": "eenENBdwjIvI"
   },
   "outputs": [],
   "source": [
    "# Convert numeric features to 'float32' and 'class' to 'category'\n"
   ]
  },
  {
   "cell_type": "code",
   "execution_count": null,
   "metadata": {
    "id": "nx7W9xOUjauL"
   },
   "outputs": [],
   "source": [
    "# Assign the values of the features to the variable 'x'\n",
    "\n",
    "# Assign the values of the target variable or class to the variable 'y'\n"
   ]
  },
  {
   "cell_type": "markdown",
   "metadata": {
    "id": "rR60eLqen2NA"
   },
   "source": [
    "# Basic graphics"
   ]
  },
  {
   "cell_type": "markdown",
   "metadata": {
    "id": "pOrty3AYaQPf"
   },
   "source": [
    "The basic package for `Python` graphics is `MatPlotlib` and would be installed with\n",
    "\n",
    "`pip install matplotlib`\n",
    "\n",
    "if we don't already have it installed. It is also possible to show graphs with `Pandas`, so we will show the same examples with both packages."
   ]
  },
  {
   "cell_type": "markdown",
   "metadata": {
    "id": "SApD5nLMno5z"
   },
   "source": [
    "## Function show 2D points"
   ]
  },
  {
   "cell_type": "code",
   "execution_count": null,
   "metadata": {
    "id": "H8BvCM-Jn2NO"
   },
   "outputs": [],
   "source": [
    "import numpy as np\n",
    "import pandas as pd\n",
    "import matplotlib.pyplot as plt\n",
    "import plotly.express as px\n",
    "\n",
    "#\n",
    "# matplotlib\n",
    "#\n",
    "df = pd.DataFrame(np.random.rand(10,2), columns=['x','y'])\n",
    "plt.title('matplotlib')\n",
    "plt.scatter(df.x, df.y)\n",
    "plt.show()\n",
    "\n",
    "# Pandas\n",
    "df.plot.scatter('x','y', title='Pandas')\n",
    "\n",
    "# Plotly\n",
    "px.scatter(df, x='x', y='y', title='Plotly', height = 400, width = 500)"
   ]
  },
  {
   "cell_type": "markdown",
   "metadata": {
    "id": "Yz_Iy1Nsn2NS"
   },
   "source": [
    "## 1D numeric vector\n",
    "\n",
    "We are going to generate a vector with 100 numbers created at random following\n",
    "a distribution $\\mathcal{N}(0,1)$"
   ]
  },
  {
   "cell_type": "code",
   "execution_count": null,
   "metadata": {
    "id": "GJbkRxE-lMUb"
   },
   "outputs": [],
   "source": [
    "np.random.seed(1000)\n",
    "\n",
    "df_100 = pd.DataFrame(np.random.normal(size=100), columns=['x'])"
   ]
  },
  {
   "cell_type": "markdown",
   "metadata": {
    "id": "yxU-_ROVn2Na"
   },
   "source": [
    "### Sequence of values"
   ]
  },
  {
   "cell_type": "code",
   "execution_count": null,
   "metadata": {
    "id": "Ft-rpxYsn2Na"
   },
   "outputs": [],
   "source": [
    "# matplotlib\n",
    "plt.title('matplotlib')\n",
    "plt.plot(df_100.x)\n",
    "\n",
    "# Pandas\n",
    "df_100.plot.line(title='Pandas')\n",
    "\n",
    "# Plotly\n",
    "px.line(df_100, y='x', title='Plotly', height = 400, width = 500)"
   ]
  },
  {
   "cell_type": "markdown",
   "metadata": {
    "id": "m4zyxVWrn2Ni"
   },
   "source": [
    "### Histogram"
   ]
  },
  {
   "cell_type": "code",
   "execution_count": null,
   "metadata": {
    "id": "vCDTH6zdn2Nk"
   },
   "outputs": [],
   "source": [
    "# Matplotlib\n",
    "plt.title('matplotlib')\n",
    "plt.hist(df_100.x,20)\n",
    "\n",
    "# Pandas\n",
    "df_100.plot.hist(bins=20, title='Pandas')\n",
    "\n",
    "# Plotly\n",
    "px.histogram(df_100, x='x', title='Plotly', height = 400, width = 500)"
   ]
  },
  {
   "cell_type": "markdown",
   "metadata": {
    "id": "IfRMu5Xxn2No"
   },
   "source": [
    "### Boxplot (boxplot)"
   ]
  },
  {
   "cell_type": "code",
   "execution_count": null,
   "metadata": {
    "id": "Ch8F6O2Gn2No"
   },
   "outputs": [],
   "source": [
    "#Matplotlib\n",
    "plt.title('matplotlib')\n",
    "plt.boxplot(df_100.x)\n",
    "\n",
    "# Pandas\n",
    "df_100.plot.box(title='Pandas')\n",
    "\n",
    "# Plotly\n",
    "px.box(df_100, y='x', title='Plotly', height = 400, width = 500)"
   ]
  },
  {
   "cell_type": "markdown",
   "metadata": {
    "id": "9V8c1rLWn2Nu"
   },
   "source": [
    "#### Calculating outliers (outliers)"
   ]
  },
  {
   "cell_type": "code",
   "execution_count": null,
   "metadata": {
    "id": "pzJeEyNhn2Nu"
   },
   "outputs": [],
   "source": [
    "Q1, Q3 = np.percentile(df_100.x, [25,75])\n",
    "IQR = (Q3 - Q1)\n",
    "outlier_low = Q1 - 1.5 * IQR\n",
    "outlier_high= Q3 + 1.5 * IQR\n",
    "print(f'Q1: {Q1:.2f}; Q3: {Q3:.2f}; IQR: {IQR:.2f}')\n",
    "print(f'outlier_low: {outlier_low:.2f} outlier_high: {outlier_high:.2f}')\n",
    "print(f'vn100 outliers: {df_100[(df_100.x<outlier_low) | (df_100.x>outlier_high)]}')"
   ]
  },
  {
   "cell_type": "markdown",
   "metadata": {
    "id": "YxG9bRlY39YL"
   },
   "source": [
    "---\n",
    "\n",
    "# Summary"
   ]
  },
  {
   "cell_type": "markdown",
   "metadata": {
    "id": "H5ESNcU23_e-"
   },
   "source": [
    "* **Pandas** as a basic package for manipulating data of different types and with a **table** structure also serves to **graphically represent** its content, or analyze it **statistically** in a simple way.\n",
    "\n",
    "* **Matplotlib** is the most important graphic representation package in Python. It has a descriptive orientation where you need to indicate how, and you need to define each part of the graph with code. There is another high-level orientation called **declarative** like the **Plotnine** package that allows you to define what, and does not need to specify each part of the graph."
   ]
  }
 ],
 "metadata": {
  "colab": {
   "provenance": [],
   "toc_visible": true
  },
  "kernelspec": {
   "display_name": "Python 3 (ipykernel)",
   "language": "python",
   "name": "python3"
  },
  "language_info": {
   "codemirror_mode": {
    "name": "ipython",
    "version": 3
   },
   "file_extension": ".py",
   "mimetype": "text/x-python",
   "name": "python",
   "nbconvert_exporter": "python",
   "pygments_lexer": "ipython3",
   "version": "3.11.5"
  }
 },
 "nbformat": 4,
 "nbformat_minor": 1
}
