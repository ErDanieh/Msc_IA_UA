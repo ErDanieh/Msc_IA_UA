{
  "cells": [
    {
      "cell_type": "markdown",
      "metadata": {
        "id": "T7ab7o3J28b8"
      },
      "source": [
        "# Técnicas de Prendizaje Automático. Aprendizaje No Supervisado.\n",
        "\n",
        "## Práctica 2: Algoritmo K-Means.\n",
        "\n",
        "En esta práctica se familiarizará con una implementación del algoritmo K-Means en [scikit-learn](https://scikit-learn.org/), además de observar situaciones en las que este algoritmo puede no ser el más adecuado.\n",
        "\n",
        "\n",
        "**Instrucciones:**\n",
        "\n",
        "- siga las indicaciones y comentarios en cada apartado.\n",
        "<br></br>\n",
        "- siempre que una función o algoritmo lo permita, establezca $random\\_state=const$, donde $const$ es un valor constante de su preferencia, por ejemplo $1$. Esto para garantizar replicabilidad del experimento.\n",
        "<br></br>\n",
        "- incluya el código requerido entre los apartados:\n",
        "   - \\#\\<code>\n",
        "   - \\#\\</code>"
      ]
    },
    {
      "cell_type": "code",
      "execution_count": 44,
      "metadata": {
        "cellView": "form",
        "id": "GVOMuwt2XUdb"
      },
      "outputs": [],
      "source": [
        "#@title Utilidades\n",
        "#@markdown Ejecute esta casilla para definir algunas funciones necesarias en la actividad.\n",
        "\n",
        "import plotly.express as px\n",
        "import numpy as np\n",
        "\n",
        "def visualize_data(x, y, labels=None):\n",
        "\n",
        "  if type(labels) == np.ndarray or type(labels) == list:\n",
        "    labels = [str(e) for e in labels]\n",
        "\n",
        "  fig = px.scatter(x=x, y=y, color=labels)\n",
        "\n",
        "\n",
        "  fig.update_layout(height=300,\n",
        "                    width=300,\n",
        "                    showlegend=False,\n",
        "                    title={'text': 'Datos',\n",
        "                          'font': {'size':12},\n",
        "                          'x': 0.5,\n",
        "                          'xanchor': 'center'\n",
        "                          }\n",
        "                    )\n",
        "  return fig"
      ]
    },
    {
      "cell_type": "markdown",
      "metadata": {
        "id": "AhU8cQ8v4UlD"
      },
      "source": [
        "### Carga de datos y análisis exploratorio.\n",
        "\n",
        "**a)** El primer paso consiste en obtener los datos relacionados con la tarea dejándolos en el formato adecuado.\n",
        "\n",
        "El fichero **jain.csv** contiene instancias artificiales representado puntos 〈X,Y〉en un espacio bidimensional que han sido asignadas a dos categorías A y B.\n",
        "\n",
        "| X | Y|Class|\n",
        "| -- |-- |--|\n",
        "| 0.85|17.45|B\n",
        "| ...|...|...\n",
        "\n",
        "En la siguiente casilla, incluya el código necesario para:\n",
        "\n",
        "  **a.1)** leer el archivo **jain.csv** en un dataframe de pandas. La variable con este dataframe debe llamarse **data**.\n",
        "<br><br/>\n",
        "  **a.2)** visualizar los datos en un gráfico de dispersión, coloreando cada punto según su categoría. El código necesario ya se provee.\n",
        "<br><br/>\n",
        "Teniendo en cuenta un criterio puramente visual, ¿cuántos clústeres pueden identificarse en los datos?\n",
        "\n",
        "Respuesta:\n",
        "Se pueden identifica 2 clústeres.\n",
        "<br></br>\n",
        "**Sugerencia:** investigar cómo leer un archivo desde Google Colab utilizando [pandas](https://pandas.pydata.org/) y cómo visualizarlos utilizando la librería de nuestra preferencia."
      ]
    },
    {
      "cell_type": "code",
      "execution_count": 45,
      "metadata": {
        "id": "gRq2Hwhr5Oc7"
      },
      "outputs": [
        {
          "data": {
            "application/vnd.plotly.v1+json": {
              "config": {
                "plotlyServerURL": "https://plot.ly"
              },
              "data": [
                {
                  "hovertemplate": "color=B<br>x=%{x}<br>y=%{y}<extra></extra>",
                  "legendgroup": "B",
                  "marker": {
                    "color": "#636efa",
                    "symbol": "circle"
                  },
                  "mode": "markers",
                  "name": "B",
                  "orientation": "v",
                  "showlegend": true,
                  "type": "scatter",
                  "x": [
                    0.85,
                    0.75,
                    3.3,
                    5.25,
                    4.9,
                    5.35,
                    5.1,
                    4.6,
                    4.05,
                    3.4,
                    2.9,
                    3.1,
                    3.9,
                    4.4,
                    7.2,
                    7.65,
                    7.1,
                    7.05,
                    5.85,
                    5.5,
                    6.55,
                    6.05,
                    5.2,
                    4.55,
                    5.1,
                    8.1,
                    10.15,
                    9.75,
                    9.2,
                    11.2,
                    12.6,
                    13.25,
                    11.65,
                    12.45,
                    13.3,
                    13.7,
                    14.15,
                    14.05,
                    15.15,
                    15.2,
                    12.2,
                    12.15,
                    12.75,
                    13.15,
                    13.75,
                    13.95,
                    14.4,
                    14.2,
                    14.1,
                    14.05,
                    17.2,
                    17.7,
                    17.55,
                    17,
                    16.55,
                    19.15,
                    18.8,
                    21.4,
                    15.8,
                    16.6,
                    17.45,
                    18,
                    18.25,
                    18,
                    18.6,
                    19.2,
                    19.45,
                    20.1,
                    20.1,
                    19.9,
                    19.45,
                    19.25,
                    21.3,
                    22.9,
                    23.15,
                    24.25,
                    22.05,
                    20.95,
                    21.65,
                    21.55,
                    21.6,
                    21.5,
                    22.4,
                    22.25,
                    23.15,
                    23.5,
                    23.75,
                    25.15,
                    25.5,
                    23,
                    23.95,
                    25.9,
                    27.65,
                    23.1,
                    23.5,
                    24.05,
                    24.5
                  ],
                  "xaxis": "x",
                  "y": [
                    17.45,
                    15.6,
                    15.45,
                    14.2,
                    15.65,
                    15.85,
                    17.9,
                    18.25,
                    18.75,
                    19.7,
                    21.15,
                    21.85,
                    21.85,
                    20.05,
                    14.5,
                    16.5,
                    18.65,
                    19.9,
                    20.55,
                    21.8,
                    21.8,
                    22.3,
                    23.4,
                    23.9,
                    24.4,
                    26.35,
                    27.7,
                    25.5,
                    21.1,
                    22.8,
                    23.1,
                    23.5,
                    26.85,
                    27.55,
                    27.85,
                    27.75,
                    26.9,
                    26.55,
                    24.2,
                    24.75,
                    20.9,
                    21.45,
                    22.05,
                    21.85,
                    22,
                    22.7,
                    22.65,
                    22.15,
                    21.75,
                    21.4,
                    24.8,
                    24.85,
                    25.2,
                    26.85,
                    27.1,
                    25.35,
                    24.7,
                    25.85,
                    21.35,
                    21.15,
                    20.75,
                    20.95,
                    20.2,
                    22.3,
                    22.25,
                    21.95,
                    22.1,
                    21.6,
                    20.9,
                    20.35,
                    19.05,
                    18.7,
                    22.3,
                    23.65,
                    24.1,
                    22.85,
                    20.25,
                    18.25,
                    17.25,
                    16.7,
                    16.3,
                    15.5,
                    16.5,
                    18.1,
                    19.05,
                    19.8,
                    20.2,
                    19.8,
                    19.45,
                    18,
                    17.75,
                    17.55,
                    15.65,
                    14.6,
                    15.2,
                    14.9,
                    14.7
                  ],
                  "yaxis": "y"
                },
                {
                  "hovertemplate": "color=A<br>x=%{x}<br>y=%{y}<extra></extra>",
                  "legendgroup": "A",
                  "marker": {
                    "color": "#EF553B",
                    "symbol": "circle"
                  },
                  "mode": "markers",
                  "name": "A",
                  "orientation": "v",
                  "showlegend": true,
                  "type": "scatter",
                  "x": [
                    14.15,
                    14.3,
                    14.3,
                    14.75,
                    15.35,
                    15.95,
                    16.5,
                    17.35,
                    17.15,
                    16.65,
                    16.5,
                    16.25,
                    16,
                    15.9,
                    15.15,
                    15.2,
                    17,
                    16.9,
                    17.35,
                    17.15,
                    17.3,
                    17.7,
                    17,
                    16.85,
                    16.6,
                    17.1,
                    17.45,
                    17.8,
                    17.6,
                    17.2,
                    17.25,
                    17.1,
                    16.95,
                    16.5,
                    16.25,
                    16.05,
                    16.65,
                    16.7,
                    16.95,
                    17.3,
                    18.05,
                    18.6,
                    18.9,
                    18.7,
                    17.95,
                    18.4,
                    17.45,
                    17.6,
                    17.7,
                    17.3,
                    16.95,
                    16.75,
                    19.8,
                    19.1,
                    17.5,
                    17.55,
                    17.85,
                    18.2,
                    19.3,
                    19.4,
                    19.05,
                    18.9,
                    18.6,
                    18.7,
                    19.35,
                    19.95,
                    20,
                    20.3,
                    20.55,
                    18.35,
                    18.65,
                    19.3,
                    19.1,
                    19.15,
                    21.2,
                    21.4,
                    21.1,
                    20.4,
                    20.5,
                    20.1,
                    20.45,
                    20.95,
                    20.95,
                    20.9,
                    21.05,
                    21.85,
                    21.9,
                    22.3,
                    21.85,
                    21.3,
                    22.6,
                    22.5,
                    23.65,
                    24.1,
                    21.95,
                    22.15,
                    22.45,
                    22.45,
                    22.7,
                    23,
                    23.2,
                    23.45,
                    23.75,
                    24.45,
                    24.6,
                    25.2,
                    26.05,
                    25.3,
                    24.35,
                    23.3,
                    22.95,
                    22.4,
                    22.8,
                    22.9,
                    23.25,
                    23.45,
                    23.55,
                    23.8,
                    23.8,
                    24.2,
                    24.55,
                    24.7,
                    24.7,
                    24.9,
                    26.4,
                    27.15,
                    27.3,
                    27.5,
                    27.55,
                    26.85,
                    26.6,
                    26.85,
                    26.2,
                    26,
                    25.15,
                    25.6,
                    25.85,
                    24.95,
                    25.1,
                    25.45,
                    26.85,
                    27.15,
                    27.2,
                    27.95,
                    27.95,
                    28.8,
                    28.8,
                    28.75,
                    28.6,
                    29.25,
                    30,
                    30.6,
                    30.05,
                    29.75,
                    29.2,
                    29.45,
                    29.05,
                    29.4,
                    29.5,
                    29.9,
                    30.75,
                    30.4,
                    30.8,
                    31.05,
                    30.9,
                    30.65,
                    30.7,
                    31.5,
                    31.65,
                    32,
                    32.5,
                    33.35,
                    32.6,
                    32.65,
                    32.55,
                    32.35,
                    32.55,
                    32.2,
                    32.35,
                    32.9,
                    32.7,
                    32.75,
                    34.1,
                    34.1,
                    33.6,
                    33.35,
                    33.75,
                    33.4,
                    34.45,
                    34.65,
                    34.65,
                    35.25,
                    34.35,
                    34.1,
                    34.45,
                    34.7,
                    34.85,
                    34.35,
                    34.55,
                    35.05,
                    35.5,
                    35.8,
                    36.6,
                    36.75,
                    36.5,
                    35.95,
                    36.1,
                    36.15,
                    37.6,
                    37.9,
                    29.15,
                    34.9,
                    35.3,
                    35.9,
                    36,
                    35.75,
                    36.7,
                    36.6,
                    36.9,
                    37.25,
                    36.4,
                    36.3,
                    36.75,
                    38.15,
                    38.4,
                    38.35,
                    37.7,
                    37.45,
                    37.35,
                    37,
                    36.8,
                    37.15,
                    37.25,
                    37.65,
                    37.95,
                    38.6,
                    38.5,
                    38,
                    37.3,
                    37.5,
                    37.85,
                    38.3,
                    38.05,
                    38.35,
                    38.5,
                    39.3,
                    39,
                    38.95,
                    39.2,
                    39.5,
                    39.55,
                    39.75,
                    40.2,
                    40.4,
                    40.45,
                    40.55,
                    40.45,
                    40.2,
                    40.65,
                    40.6,
                    41.3,
                    40.95,
                    41.25,
                    40.95,
                    40.7,
                    40.45,
                    39.9,
                    39.65,
                    39.25,
                    38.85,
                    38.3,
                    38.75,
                    39,
                    38.25,
                    39.5,
                    39.9
                  ],
                  "xaxis": "x",
                  "y": [
                    17.35,
                    16.8,
                    15.75,
                    15.1,
                    15.5,
                    16.45,
                    17.05,
                    17.05,
                    16.3,
                    16.1,
                    15.15,
                    14.95,
                    14.25,
                    13.2,
                    12.05,
                    11.7,
                    15.65,
                    15.35,
                    15.45,
                    15.1,
                    14.9,
                    15,
                    14.6,
                    14.3,
                    14.05,
                    14,
                    14.15,
                    14.2,
                    13.85,
                    13.5,
                    13.15,
                    12.75,
                    12.35,
                    12.2,
                    12.5,
                    11.9,
                    10.9,
                    11.4,
                    11.25,
                    11.2,
                    11.9,
                    12.5,
                    12.05,
                    11.25,
                    10.9,
                    10.05,
                    10.4,
                    10.15,
                    9.85,
                    9.7,
                    9.7,
                    9.65,
                    9.95,
                    9.55,
                    8.3,
                    8.1,
                    7.55,
                    8.35,
                    9.1,
                    8.85,
                    8.85,
                    8.5,
                    7.85,
                    7.65,
                    8.2,
                    8.3,
                    8.9,
                    8.9,
                    8.8,
                    6.95,
                    6.9,
                    7,
                    6.85,
                    6.65,
                    8.8,
                    8.8,
                    8,
                    7,
                    6.35,
                    6.05,
                    5.15,
                    5.55,
                    6.2,
                    6.6,
                    7,
                    8.5,
                    8.2,
                    7.7,
                    6.65,
                    5.05,
                    6.7,
                    6.15,
                    7.2,
                    7,
                    4.8,
                    5.05,
                    5.3,
                    4.9,
                    5.5,
                    5.6,
                    5.3,
                    5.95,
                    5.95,
                    6.15,
                    6.45,
                    6.55,
                    6.4,
                    5.75,
                    5.35,
                    4.9,
                    4.75,
                    4.55,
                    4.1,
                    4,
                    3.85,
                    3.6,
                    4.2,
                    3.65,
                    4.75,
                    4,
                    4,
                    3.85,
                    4.3,
                    4.75,
                    5.7,
                    5.95,
                    5.45,
                    5.45,
                    5.1,
                    4.95,
                    4.9,
                    4.4,
                    4.4,
                    4.25,
                    4.1,
                    3.9,
                    3.6,
                    3.35,
                    3.25,
                    3.15,
                    2.95,
                    3.15,
                    3,
                    3.25,
                    3.5,
                    4.05,
                    4.7,
                    5.45,
                    5.75,
                    6.3,
                    6.55,
                    3.4,
                    3.45,
                    3.45,
                    4,
                    4.05,
                    4.55,
                    4.85,
                    4.7,
                    4.45,
                    4.45,
                    4.05,
                    3.95,
                    3.95,
                    5.2,
                    5.85,
                    6.15,
                    6.25,
                    6.55,
                    7,
                    7.95,
                    7.45,
                    6.95,
                    6.6,
                    6.35,
                    6.1,
                    5.8,
                    5.05,
                    4.25,
                    4.15,
                    4.6,
                    4.85,
                    4.6,
                    5,
                    5.25,
                    5.65,
                    5.95,
                    6.2,
                    5.8,
                    5.65,
                    6.25,
                    6.25,
                    6.8,
                    7.15,
                    7.3,
                    7.2,
                    7,
                    7.75,
                    7.85,
                    8,
                    8.05,
                    7.1,
                    6.7,
                    7.25,
                    7.4,
                    7.9,
                    8.1,
                    8.4,
                    7.35,
                    7.65,
                    4.4,
                    9,
                    9.4,
                    9.35,
                    9.65,
                    10,
                    9.15,
                    9.8,
                    9.75,
                    10.15,
                    10.15,
                    10.7,
                    10.85,
                    9.7,
                    9.45,
                    10.5,
                    10.8,
                    11.15,
                    11.4,
                    11.75,
                    12.2,
                    12.55,
                    12.15,
                    11.95,
                    11.85,
                    11.75,
                    12.2,
                    12.95,
                    13,
                    13.4,
                    14.5,
                    14.6,
                    14.45,
                    14.35,
                    14.25,
                    14.2,
                    13.2,
                    12.9,
                    12.35,
                    11.8,
                    12.3,
                    12.75,
                    12.8,
                    12.05,
                    12.5,
                    13.15,
                    14.5,
                    14.8,
                    14.9,
                    15.25,
                    15.3,
                    15.7,
                    16.8,
                    17.05,
                    16.45,
                    16.3,
                    16.2,
                    16.2,
                    15.5,
                    15.5,
                    16.5,
                    16.85,
                    16.6,
                    17.35,
                    16.95,
                    17.05
                  ],
                  "yaxis": "y"
                }
              ],
              "layout": {
                "height": 300,
                "legend": {
                  "title": {
                    "text": "color"
                  },
                  "tracegroupgap": 0
                },
                "margin": {
                  "t": 60
                },
                "showlegend": false,
                "template": {
                  "data": {
                    "bar": [
                      {
                        "error_x": {
                          "color": "#2a3f5f"
                        },
                        "error_y": {
                          "color": "#2a3f5f"
                        },
                        "marker": {
                          "line": {
                            "color": "#E5ECF6",
                            "width": 0.5
                          },
                          "pattern": {
                            "fillmode": "overlay",
                            "size": 10,
                            "solidity": 0.2
                          }
                        },
                        "type": "bar"
                      }
                    ],
                    "barpolar": [
                      {
                        "marker": {
                          "line": {
                            "color": "#E5ECF6",
                            "width": 0.5
                          },
                          "pattern": {
                            "fillmode": "overlay",
                            "size": 10,
                            "solidity": 0.2
                          }
                        },
                        "type": "barpolar"
                      }
                    ],
                    "carpet": [
                      {
                        "aaxis": {
                          "endlinecolor": "#2a3f5f",
                          "gridcolor": "white",
                          "linecolor": "white",
                          "minorgridcolor": "white",
                          "startlinecolor": "#2a3f5f"
                        },
                        "baxis": {
                          "endlinecolor": "#2a3f5f",
                          "gridcolor": "white",
                          "linecolor": "white",
                          "minorgridcolor": "white",
                          "startlinecolor": "#2a3f5f"
                        },
                        "type": "carpet"
                      }
                    ],
                    "choropleth": [
                      {
                        "colorbar": {
                          "outlinewidth": 0,
                          "ticks": ""
                        },
                        "type": "choropleth"
                      }
                    ],
                    "contour": [
                      {
                        "colorbar": {
                          "outlinewidth": 0,
                          "ticks": ""
                        },
                        "colorscale": [
                          [
                            0,
                            "#0d0887"
                          ],
                          [
                            0.1111111111111111,
                            "#46039f"
                          ],
                          [
                            0.2222222222222222,
                            "#7201a8"
                          ],
                          [
                            0.3333333333333333,
                            "#9c179e"
                          ],
                          [
                            0.4444444444444444,
                            "#bd3786"
                          ],
                          [
                            0.5555555555555556,
                            "#d8576b"
                          ],
                          [
                            0.6666666666666666,
                            "#ed7953"
                          ],
                          [
                            0.7777777777777778,
                            "#fb9f3a"
                          ],
                          [
                            0.8888888888888888,
                            "#fdca26"
                          ],
                          [
                            1,
                            "#f0f921"
                          ]
                        ],
                        "type": "contour"
                      }
                    ],
                    "contourcarpet": [
                      {
                        "colorbar": {
                          "outlinewidth": 0,
                          "ticks": ""
                        },
                        "type": "contourcarpet"
                      }
                    ],
                    "heatmap": [
                      {
                        "colorbar": {
                          "outlinewidth": 0,
                          "ticks": ""
                        },
                        "colorscale": [
                          [
                            0,
                            "#0d0887"
                          ],
                          [
                            0.1111111111111111,
                            "#46039f"
                          ],
                          [
                            0.2222222222222222,
                            "#7201a8"
                          ],
                          [
                            0.3333333333333333,
                            "#9c179e"
                          ],
                          [
                            0.4444444444444444,
                            "#bd3786"
                          ],
                          [
                            0.5555555555555556,
                            "#d8576b"
                          ],
                          [
                            0.6666666666666666,
                            "#ed7953"
                          ],
                          [
                            0.7777777777777778,
                            "#fb9f3a"
                          ],
                          [
                            0.8888888888888888,
                            "#fdca26"
                          ],
                          [
                            1,
                            "#f0f921"
                          ]
                        ],
                        "type": "heatmap"
                      }
                    ],
                    "heatmapgl": [
                      {
                        "colorbar": {
                          "outlinewidth": 0,
                          "ticks": ""
                        },
                        "colorscale": [
                          [
                            0,
                            "#0d0887"
                          ],
                          [
                            0.1111111111111111,
                            "#46039f"
                          ],
                          [
                            0.2222222222222222,
                            "#7201a8"
                          ],
                          [
                            0.3333333333333333,
                            "#9c179e"
                          ],
                          [
                            0.4444444444444444,
                            "#bd3786"
                          ],
                          [
                            0.5555555555555556,
                            "#d8576b"
                          ],
                          [
                            0.6666666666666666,
                            "#ed7953"
                          ],
                          [
                            0.7777777777777778,
                            "#fb9f3a"
                          ],
                          [
                            0.8888888888888888,
                            "#fdca26"
                          ],
                          [
                            1,
                            "#f0f921"
                          ]
                        ],
                        "type": "heatmapgl"
                      }
                    ],
                    "histogram": [
                      {
                        "marker": {
                          "pattern": {
                            "fillmode": "overlay",
                            "size": 10,
                            "solidity": 0.2
                          }
                        },
                        "type": "histogram"
                      }
                    ],
                    "histogram2d": [
                      {
                        "colorbar": {
                          "outlinewidth": 0,
                          "ticks": ""
                        },
                        "colorscale": [
                          [
                            0,
                            "#0d0887"
                          ],
                          [
                            0.1111111111111111,
                            "#46039f"
                          ],
                          [
                            0.2222222222222222,
                            "#7201a8"
                          ],
                          [
                            0.3333333333333333,
                            "#9c179e"
                          ],
                          [
                            0.4444444444444444,
                            "#bd3786"
                          ],
                          [
                            0.5555555555555556,
                            "#d8576b"
                          ],
                          [
                            0.6666666666666666,
                            "#ed7953"
                          ],
                          [
                            0.7777777777777778,
                            "#fb9f3a"
                          ],
                          [
                            0.8888888888888888,
                            "#fdca26"
                          ],
                          [
                            1,
                            "#f0f921"
                          ]
                        ],
                        "type": "histogram2d"
                      }
                    ],
                    "histogram2dcontour": [
                      {
                        "colorbar": {
                          "outlinewidth": 0,
                          "ticks": ""
                        },
                        "colorscale": [
                          [
                            0,
                            "#0d0887"
                          ],
                          [
                            0.1111111111111111,
                            "#46039f"
                          ],
                          [
                            0.2222222222222222,
                            "#7201a8"
                          ],
                          [
                            0.3333333333333333,
                            "#9c179e"
                          ],
                          [
                            0.4444444444444444,
                            "#bd3786"
                          ],
                          [
                            0.5555555555555556,
                            "#d8576b"
                          ],
                          [
                            0.6666666666666666,
                            "#ed7953"
                          ],
                          [
                            0.7777777777777778,
                            "#fb9f3a"
                          ],
                          [
                            0.8888888888888888,
                            "#fdca26"
                          ],
                          [
                            1,
                            "#f0f921"
                          ]
                        ],
                        "type": "histogram2dcontour"
                      }
                    ],
                    "mesh3d": [
                      {
                        "colorbar": {
                          "outlinewidth": 0,
                          "ticks": ""
                        },
                        "type": "mesh3d"
                      }
                    ],
                    "parcoords": [
                      {
                        "line": {
                          "colorbar": {
                            "outlinewidth": 0,
                            "ticks": ""
                          }
                        },
                        "type": "parcoords"
                      }
                    ],
                    "pie": [
                      {
                        "automargin": true,
                        "type": "pie"
                      }
                    ],
                    "scatter": [
                      {
                        "fillpattern": {
                          "fillmode": "overlay",
                          "size": 10,
                          "solidity": 0.2
                        },
                        "type": "scatter"
                      }
                    ],
                    "scatter3d": [
                      {
                        "line": {
                          "colorbar": {
                            "outlinewidth": 0,
                            "ticks": ""
                          }
                        },
                        "marker": {
                          "colorbar": {
                            "outlinewidth": 0,
                            "ticks": ""
                          }
                        },
                        "type": "scatter3d"
                      }
                    ],
                    "scattercarpet": [
                      {
                        "marker": {
                          "colorbar": {
                            "outlinewidth": 0,
                            "ticks": ""
                          }
                        },
                        "type": "scattercarpet"
                      }
                    ],
                    "scattergeo": [
                      {
                        "marker": {
                          "colorbar": {
                            "outlinewidth": 0,
                            "ticks": ""
                          }
                        },
                        "type": "scattergeo"
                      }
                    ],
                    "scattergl": [
                      {
                        "marker": {
                          "colorbar": {
                            "outlinewidth": 0,
                            "ticks": ""
                          }
                        },
                        "type": "scattergl"
                      }
                    ],
                    "scattermapbox": [
                      {
                        "marker": {
                          "colorbar": {
                            "outlinewidth": 0,
                            "ticks": ""
                          }
                        },
                        "type": "scattermapbox"
                      }
                    ],
                    "scatterpolar": [
                      {
                        "marker": {
                          "colorbar": {
                            "outlinewidth": 0,
                            "ticks": ""
                          }
                        },
                        "type": "scatterpolar"
                      }
                    ],
                    "scatterpolargl": [
                      {
                        "marker": {
                          "colorbar": {
                            "outlinewidth": 0,
                            "ticks": ""
                          }
                        },
                        "type": "scatterpolargl"
                      }
                    ],
                    "scatterternary": [
                      {
                        "marker": {
                          "colorbar": {
                            "outlinewidth": 0,
                            "ticks": ""
                          }
                        },
                        "type": "scatterternary"
                      }
                    ],
                    "surface": [
                      {
                        "colorbar": {
                          "outlinewidth": 0,
                          "ticks": ""
                        },
                        "colorscale": [
                          [
                            0,
                            "#0d0887"
                          ],
                          [
                            0.1111111111111111,
                            "#46039f"
                          ],
                          [
                            0.2222222222222222,
                            "#7201a8"
                          ],
                          [
                            0.3333333333333333,
                            "#9c179e"
                          ],
                          [
                            0.4444444444444444,
                            "#bd3786"
                          ],
                          [
                            0.5555555555555556,
                            "#d8576b"
                          ],
                          [
                            0.6666666666666666,
                            "#ed7953"
                          ],
                          [
                            0.7777777777777778,
                            "#fb9f3a"
                          ],
                          [
                            0.8888888888888888,
                            "#fdca26"
                          ],
                          [
                            1,
                            "#f0f921"
                          ]
                        ],
                        "type": "surface"
                      }
                    ],
                    "table": [
                      {
                        "cells": {
                          "fill": {
                            "color": "#EBF0F8"
                          },
                          "line": {
                            "color": "white"
                          }
                        },
                        "header": {
                          "fill": {
                            "color": "#C8D4E3"
                          },
                          "line": {
                            "color": "white"
                          }
                        },
                        "type": "table"
                      }
                    ]
                  },
                  "layout": {
                    "annotationdefaults": {
                      "arrowcolor": "#2a3f5f",
                      "arrowhead": 0,
                      "arrowwidth": 1
                    },
                    "autotypenumbers": "strict",
                    "coloraxis": {
                      "colorbar": {
                        "outlinewidth": 0,
                        "ticks": ""
                      }
                    },
                    "colorscale": {
                      "diverging": [
                        [
                          0,
                          "#8e0152"
                        ],
                        [
                          0.1,
                          "#c51b7d"
                        ],
                        [
                          0.2,
                          "#de77ae"
                        ],
                        [
                          0.3,
                          "#f1b6da"
                        ],
                        [
                          0.4,
                          "#fde0ef"
                        ],
                        [
                          0.5,
                          "#f7f7f7"
                        ],
                        [
                          0.6,
                          "#e6f5d0"
                        ],
                        [
                          0.7,
                          "#b8e186"
                        ],
                        [
                          0.8,
                          "#7fbc41"
                        ],
                        [
                          0.9,
                          "#4d9221"
                        ],
                        [
                          1,
                          "#276419"
                        ]
                      ],
                      "sequential": [
                        [
                          0,
                          "#0d0887"
                        ],
                        [
                          0.1111111111111111,
                          "#46039f"
                        ],
                        [
                          0.2222222222222222,
                          "#7201a8"
                        ],
                        [
                          0.3333333333333333,
                          "#9c179e"
                        ],
                        [
                          0.4444444444444444,
                          "#bd3786"
                        ],
                        [
                          0.5555555555555556,
                          "#d8576b"
                        ],
                        [
                          0.6666666666666666,
                          "#ed7953"
                        ],
                        [
                          0.7777777777777778,
                          "#fb9f3a"
                        ],
                        [
                          0.8888888888888888,
                          "#fdca26"
                        ],
                        [
                          1,
                          "#f0f921"
                        ]
                      ],
                      "sequentialminus": [
                        [
                          0,
                          "#0d0887"
                        ],
                        [
                          0.1111111111111111,
                          "#46039f"
                        ],
                        [
                          0.2222222222222222,
                          "#7201a8"
                        ],
                        [
                          0.3333333333333333,
                          "#9c179e"
                        ],
                        [
                          0.4444444444444444,
                          "#bd3786"
                        ],
                        [
                          0.5555555555555556,
                          "#d8576b"
                        ],
                        [
                          0.6666666666666666,
                          "#ed7953"
                        ],
                        [
                          0.7777777777777778,
                          "#fb9f3a"
                        ],
                        [
                          0.8888888888888888,
                          "#fdca26"
                        ],
                        [
                          1,
                          "#f0f921"
                        ]
                      ]
                    },
                    "colorway": [
                      "#636efa",
                      "#EF553B",
                      "#00cc96",
                      "#ab63fa",
                      "#FFA15A",
                      "#19d3f3",
                      "#FF6692",
                      "#B6E880",
                      "#FF97FF",
                      "#FECB52"
                    ],
                    "font": {
                      "color": "#2a3f5f"
                    },
                    "geo": {
                      "bgcolor": "white",
                      "lakecolor": "white",
                      "landcolor": "#E5ECF6",
                      "showlakes": true,
                      "showland": true,
                      "subunitcolor": "white"
                    },
                    "hoverlabel": {
                      "align": "left"
                    },
                    "hovermode": "closest",
                    "mapbox": {
                      "style": "light"
                    },
                    "paper_bgcolor": "white",
                    "plot_bgcolor": "#E5ECF6",
                    "polar": {
                      "angularaxis": {
                        "gridcolor": "white",
                        "linecolor": "white",
                        "ticks": ""
                      },
                      "bgcolor": "#E5ECF6",
                      "radialaxis": {
                        "gridcolor": "white",
                        "linecolor": "white",
                        "ticks": ""
                      }
                    },
                    "scene": {
                      "xaxis": {
                        "backgroundcolor": "#E5ECF6",
                        "gridcolor": "white",
                        "gridwidth": 2,
                        "linecolor": "white",
                        "showbackground": true,
                        "ticks": "",
                        "zerolinecolor": "white"
                      },
                      "yaxis": {
                        "backgroundcolor": "#E5ECF6",
                        "gridcolor": "white",
                        "gridwidth": 2,
                        "linecolor": "white",
                        "showbackground": true,
                        "ticks": "",
                        "zerolinecolor": "white"
                      },
                      "zaxis": {
                        "backgroundcolor": "#E5ECF6",
                        "gridcolor": "white",
                        "gridwidth": 2,
                        "linecolor": "white",
                        "showbackground": true,
                        "ticks": "",
                        "zerolinecolor": "white"
                      }
                    },
                    "shapedefaults": {
                      "line": {
                        "color": "#2a3f5f"
                      }
                    },
                    "ternary": {
                      "aaxis": {
                        "gridcolor": "white",
                        "linecolor": "white",
                        "ticks": ""
                      },
                      "baxis": {
                        "gridcolor": "white",
                        "linecolor": "white",
                        "ticks": ""
                      },
                      "bgcolor": "#E5ECF6",
                      "caxis": {
                        "gridcolor": "white",
                        "linecolor": "white",
                        "ticks": ""
                      }
                    },
                    "title": {
                      "x": 0.05
                    },
                    "xaxis": {
                      "automargin": true,
                      "gridcolor": "white",
                      "linecolor": "white",
                      "ticks": "",
                      "title": {
                        "standoff": 15
                      },
                      "zerolinecolor": "white",
                      "zerolinewidth": 2
                    },
                    "yaxis": {
                      "automargin": true,
                      "gridcolor": "white",
                      "linecolor": "white",
                      "ticks": "",
                      "title": {
                        "standoff": 15
                      },
                      "zerolinecolor": "white",
                      "zerolinewidth": 2
                    }
                  }
                },
                "title": {
                  "font": {
                    "size": 12
                  },
                  "text": "Datos",
                  "x": 0.5,
                  "xanchor": "center"
                },
                "width": 300,
                "xaxis": {
                  "anchor": "y",
                  "domain": [
                    0,
                    1
                  ],
                  "title": {
                    "text": "x"
                  }
                },
                "yaxis": {
                  "anchor": "x",
                  "domain": [
                    0,
                    1
                  ],
                  "title": {
                    "text": "y"
                  }
                }
              }
            },
            "text/html": [
              "<div>                            <div id=\"92eb146b-9206-4332-beb6-a0eeabd3ad1d\" class=\"plotly-graph-div\" style=\"height:300px; width:300px;\"></div>            <script type=\"text/javascript\">                require([\"plotly\"], function(Plotly) {                    window.PLOTLYENV=window.PLOTLYENV || {};                                    if (document.getElementById(\"92eb146b-9206-4332-beb6-a0eeabd3ad1d\")) {                    Plotly.newPlot(                        \"92eb146b-9206-4332-beb6-a0eeabd3ad1d\",                        [{\"hovertemplate\":\"color=B\\u003cbr\\u003ex=%{x}\\u003cbr\\u003ey=%{y}\\u003cextra\\u003e\\u003c\\u002fextra\\u003e\",\"legendgroup\":\"B\",\"marker\":{\"color\":\"#636efa\",\"symbol\":\"circle\"},\"mode\":\"markers\",\"name\":\"B\",\"orientation\":\"v\",\"showlegend\":true,\"x\":[0.85,0.75,3.3,5.25,4.9,5.35,5.1,4.6,4.05,3.4,2.9,3.1,3.9,4.4,7.2,7.65,7.1,7.05,5.85,5.5,6.55,6.05,5.2,4.55,5.1,8.1,10.15,9.75,9.2,11.2,12.6,13.25,11.65,12.45,13.3,13.7,14.15,14.05,15.15,15.2,12.2,12.15,12.75,13.15,13.75,13.95,14.4,14.2,14.1,14.05,17.2,17.7,17.55,17.0,16.55,19.15,18.8,21.4,15.8,16.6,17.45,18.0,18.25,18.0,18.6,19.2,19.45,20.1,20.1,19.9,19.45,19.25,21.3,22.9,23.15,24.25,22.05,20.95,21.65,21.55,21.6,21.5,22.4,22.25,23.15,23.5,23.75,25.15,25.5,23.0,23.95,25.9,27.65,23.1,23.5,24.05,24.5],\"xaxis\":\"x\",\"y\":[17.45,15.6,15.45,14.2,15.65,15.85,17.9,18.25,18.75,19.7,21.15,21.85,21.85,20.05,14.5,16.5,18.65,19.9,20.55,21.8,21.8,22.3,23.4,23.9,24.4,26.35,27.7,25.5,21.1,22.8,23.1,23.5,26.85,27.55,27.85,27.75,26.9,26.55,24.2,24.75,20.9,21.45,22.05,21.85,22.0,22.7,22.65,22.15,21.75,21.4,24.8,24.85,25.2,26.85,27.1,25.35,24.7,25.85,21.35,21.15,20.75,20.95,20.2,22.3,22.25,21.95,22.1,21.6,20.9,20.35,19.05,18.7,22.3,23.65,24.1,22.85,20.25,18.25,17.25,16.7,16.3,15.5,16.5,18.1,19.05,19.8,20.2,19.8,19.45,18.0,17.75,17.55,15.65,14.6,15.2,14.9,14.7],\"yaxis\":\"y\",\"type\":\"scatter\"},{\"hovertemplate\":\"color=A\\u003cbr\\u003ex=%{x}\\u003cbr\\u003ey=%{y}\\u003cextra\\u003e\\u003c\\u002fextra\\u003e\",\"legendgroup\":\"A\",\"marker\":{\"color\":\"#EF553B\",\"symbol\":\"circle\"},\"mode\":\"markers\",\"name\":\"A\",\"orientation\":\"v\",\"showlegend\":true,\"x\":[14.15,14.3,14.3,14.75,15.35,15.95,16.5,17.35,17.15,16.65,16.5,16.25,16.0,15.9,15.15,15.2,17.0,16.9,17.35,17.15,17.3,17.7,17.0,16.85,16.6,17.1,17.45,17.8,17.6,17.2,17.25,17.1,16.95,16.5,16.25,16.05,16.65,16.7,16.95,17.3,18.05,18.6,18.9,18.7,17.95,18.4,17.45,17.6,17.7,17.3,16.95,16.75,19.8,19.1,17.5,17.55,17.85,18.2,19.3,19.4,19.05,18.9,18.6,18.7,19.35,19.95,20.0,20.3,20.55,18.35,18.65,19.3,19.1,19.15,21.2,21.4,21.1,20.4,20.5,20.1,20.45,20.95,20.95,20.9,21.05,21.85,21.9,22.3,21.85,21.3,22.6,22.5,23.65,24.1,21.95,22.15,22.45,22.45,22.7,23.0,23.2,23.45,23.75,24.45,24.6,25.2,26.05,25.3,24.35,23.3,22.95,22.4,22.8,22.9,23.25,23.45,23.55,23.8,23.8,24.2,24.55,24.7,24.7,24.9,26.4,27.15,27.3,27.5,27.55,26.85,26.6,26.85,26.2,26.0,25.15,25.6,25.85,24.95,25.1,25.45,26.85,27.15,27.2,27.95,27.95,28.8,28.8,28.75,28.6,29.25,30.0,30.6,30.05,29.75,29.2,29.45,29.05,29.4,29.5,29.9,30.75,30.4,30.8,31.05,30.9,30.65,30.7,31.5,31.65,32.0,32.5,33.35,32.6,32.65,32.55,32.35,32.55,32.2,32.35,32.9,32.7,32.75,34.1,34.1,33.6,33.35,33.75,33.4,34.45,34.65,34.65,35.25,34.35,34.1,34.45,34.7,34.85,34.35,34.55,35.05,35.5,35.8,36.6,36.75,36.5,35.95,36.1,36.15,37.6,37.9,29.15,34.9,35.3,35.9,36.0,35.75,36.7,36.6,36.9,37.25,36.4,36.3,36.75,38.15,38.4,38.35,37.7,37.45,37.35,37.0,36.8,37.15,37.25,37.65,37.95,38.6,38.5,38.0,37.3,37.5,37.85,38.3,38.05,38.35,38.5,39.3,39.0,38.95,39.2,39.5,39.55,39.75,40.2,40.4,40.45,40.55,40.45,40.2,40.65,40.6,41.3,40.95,41.25,40.95,40.7,40.45,39.9,39.65,39.25,38.85,38.3,38.75,39.0,38.25,39.5,39.9],\"xaxis\":\"x\",\"y\":[17.35,16.8,15.75,15.1,15.5,16.45,17.05,17.05,16.3,16.1,15.15,14.95,14.25,13.2,12.05,11.7,15.65,15.35,15.45,15.1,14.9,15.0,14.6,14.3,14.05,14.0,14.15,14.2,13.85,13.5,13.15,12.75,12.35,12.2,12.5,11.9,10.9,11.4,11.25,11.2,11.9,12.5,12.05,11.25,10.9,10.05,10.4,10.15,9.85,9.7,9.7,9.65,9.95,9.55,8.3,8.1,7.55,8.35,9.1,8.85,8.85,8.5,7.85,7.65,8.2,8.3,8.9,8.9,8.8,6.95,6.9,7.0,6.85,6.65,8.8,8.8,8.0,7.0,6.35,6.05,5.15,5.55,6.2,6.6,7.0,8.5,8.2,7.7,6.65,5.05,6.7,6.15,7.2,7.0,4.8,5.05,5.3,4.9,5.5,5.6,5.3,5.95,5.95,6.15,6.45,6.55,6.4,5.75,5.35,4.9,4.75,4.55,4.1,4.0,3.85,3.6,4.2,3.65,4.75,4.0,4.0,3.85,4.3,4.75,5.7,5.95,5.45,5.45,5.1,4.95,4.9,4.4,4.4,4.25,4.1,3.9,3.6,3.35,3.25,3.15,2.95,3.15,3.0,3.25,3.5,4.05,4.7,5.45,5.75,6.3,6.55,3.4,3.45,3.45,4.0,4.05,4.55,4.85,4.7,4.45,4.45,4.05,3.95,3.95,5.2,5.85,6.15,6.25,6.55,7.0,7.95,7.45,6.95,6.6,6.35,6.1,5.8,5.05,4.25,4.15,4.6,4.85,4.6,5.0,5.25,5.65,5.95,6.2,5.8,5.65,6.25,6.25,6.8,7.15,7.3,7.2,7.0,7.75,7.85,8.0,8.05,7.1,6.7,7.25,7.4,7.9,8.1,8.4,7.35,7.65,4.4,9.0,9.4,9.35,9.65,10.0,9.15,9.8,9.75,10.15,10.15,10.7,10.85,9.7,9.45,10.5,10.8,11.15,11.4,11.75,12.2,12.55,12.15,11.95,11.85,11.75,12.2,12.95,13.0,13.4,14.5,14.6,14.45,14.35,14.25,14.2,13.2,12.9,12.35,11.8,12.3,12.75,12.8,12.05,12.5,13.15,14.5,14.8,14.9,15.25,15.3,15.7,16.8,17.05,16.45,16.3,16.2,16.2,15.5,15.5,16.5,16.85,16.6,17.35,16.95,17.05],\"yaxis\":\"y\",\"type\":\"scatter\"}],                        {\"template\":{\"data\":{\"histogram2dcontour\":[{\"type\":\"histogram2dcontour\",\"colorbar\":{\"outlinewidth\":0,\"ticks\":\"\"},\"colorscale\":[[0.0,\"#0d0887\"],[0.1111111111111111,\"#46039f\"],[0.2222222222222222,\"#7201a8\"],[0.3333333333333333,\"#9c179e\"],[0.4444444444444444,\"#bd3786\"],[0.5555555555555556,\"#d8576b\"],[0.6666666666666666,\"#ed7953\"],[0.7777777777777778,\"#fb9f3a\"],[0.8888888888888888,\"#fdca26\"],[1.0,\"#f0f921\"]]}],\"choropleth\":[{\"type\":\"choropleth\",\"colorbar\":{\"outlinewidth\":0,\"ticks\":\"\"}}],\"histogram2d\":[{\"type\":\"histogram2d\",\"colorbar\":{\"outlinewidth\":0,\"ticks\":\"\"},\"colorscale\":[[0.0,\"#0d0887\"],[0.1111111111111111,\"#46039f\"],[0.2222222222222222,\"#7201a8\"],[0.3333333333333333,\"#9c179e\"],[0.4444444444444444,\"#bd3786\"],[0.5555555555555556,\"#d8576b\"],[0.6666666666666666,\"#ed7953\"],[0.7777777777777778,\"#fb9f3a\"],[0.8888888888888888,\"#fdca26\"],[1.0,\"#f0f921\"]]}],\"heatmap\":[{\"type\":\"heatmap\",\"colorbar\":{\"outlinewidth\":0,\"ticks\":\"\"},\"colorscale\":[[0.0,\"#0d0887\"],[0.1111111111111111,\"#46039f\"],[0.2222222222222222,\"#7201a8\"],[0.3333333333333333,\"#9c179e\"],[0.4444444444444444,\"#bd3786\"],[0.5555555555555556,\"#d8576b\"],[0.6666666666666666,\"#ed7953\"],[0.7777777777777778,\"#fb9f3a\"],[0.8888888888888888,\"#fdca26\"],[1.0,\"#f0f921\"]]}],\"heatmapgl\":[{\"type\":\"heatmapgl\",\"colorbar\":{\"outlinewidth\":0,\"ticks\":\"\"},\"colorscale\":[[0.0,\"#0d0887\"],[0.1111111111111111,\"#46039f\"],[0.2222222222222222,\"#7201a8\"],[0.3333333333333333,\"#9c179e\"],[0.4444444444444444,\"#bd3786\"],[0.5555555555555556,\"#d8576b\"],[0.6666666666666666,\"#ed7953\"],[0.7777777777777778,\"#fb9f3a\"],[0.8888888888888888,\"#fdca26\"],[1.0,\"#f0f921\"]]}],\"contourcarpet\":[{\"type\":\"contourcarpet\",\"colorbar\":{\"outlinewidth\":0,\"ticks\":\"\"}}],\"contour\":[{\"type\":\"contour\",\"colorbar\":{\"outlinewidth\":0,\"ticks\":\"\"},\"colorscale\":[[0.0,\"#0d0887\"],[0.1111111111111111,\"#46039f\"],[0.2222222222222222,\"#7201a8\"],[0.3333333333333333,\"#9c179e\"],[0.4444444444444444,\"#bd3786\"],[0.5555555555555556,\"#d8576b\"],[0.6666666666666666,\"#ed7953\"],[0.7777777777777778,\"#fb9f3a\"],[0.8888888888888888,\"#fdca26\"],[1.0,\"#f0f921\"]]}],\"surface\":[{\"type\":\"surface\",\"colorbar\":{\"outlinewidth\":0,\"ticks\":\"\"},\"colorscale\":[[0.0,\"#0d0887\"],[0.1111111111111111,\"#46039f\"],[0.2222222222222222,\"#7201a8\"],[0.3333333333333333,\"#9c179e\"],[0.4444444444444444,\"#bd3786\"],[0.5555555555555556,\"#d8576b\"],[0.6666666666666666,\"#ed7953\"],[0.7777777777777778,\"#fb9f3a\"],[0.8888888888888888,\"#fdca26\"],[1.0,\"#f0f921\"]]}],\"mesh3d\":[{\"type\":\"mesh3d\",\"colorbar\":{\"outlinewidth\":0,\"ticks\":\"\"}}],\"scatter\":[{\"fillpattern\":{\"fillmode\":\"overlay\",\"size\":10,\"solidity\":0.2},\"type\":\"scatter\"}],\"parcoords\":[{\"type\":\"parcoords\",\"line\":{\"colorbar\":{\"outlinewidth\":0,\"ticks\":\"\"}}}],\"scatterpolargl\":[{\"type\":\"scatterpolargl\",\"marker\":{\"colorbar\":{\"outlinewidth\":0,\"ticks\":\"\"}}}],\"bar\":[{\"error_x\":{\"color\":\"#2a3f5f\"},\"error_y\":{\"color\":\"#2a3f5f\"},\"marker\":{\"line\":{\"color\":\"#E5ECF6\",\"width\":0.5},\"pattern\":{\"fillmode\":\"overlay\",\"size\":10,\"solidity\":0.2}},\"type\":\"bar\"}],\"scattergeo\":[{\"type\":\"scattergeo\",\"marker\":{\"colorbar\":{\"outlinewidth\":0,\"ticks\":\"\"}}}],\"scatterpolar\":[{\"type\":\"scatterpolar\",\"marker\":{\"colorbar\":{\"outlinewidth\":0,\"ticks\":\"\"}}}],\"histogram\":[{\"marker\":{\"pattern\":{\"fillmode\":\"overlay\",\"size\":10,\"solidity\":0.2}},\"type\":\"histogram\"}],\"scattergl\":[{\"type\":\"scattergl\",\"marker\":{\"colorbar\":{\"outlinewidth\":0,\"ticks\":\"\"}}}],\"scatter3d\":[{\"type\":\"scatter3d\",\"line\":{\"colorbar\":{\"outlinewidth\":0,\"ticks\":\"\"}},\"marker\":{\"colorbar\":{\"outlinewidth\":0,\"ticks\":\"\"}}}],\"scattermapbox\":[{\"type\":\"scattermapbox\",\"marker\":{\"colorbar\":{\"outlinewidth\":0,\"ticks\":\"\"}}}],\"scatterternary\":[{\"type\":\"scatterternary\",\"marker\":{\"colorbar\":{\"outlinewidth\":0,\"ticks\":\"\"}}}],\"scattercarpet\":[{\"type\":\"scattercarpet\",\"marker\":{\"colorbar\":{\"outlinewidth\":0,\"ticks\":\"\"}}}],\"carpet\":[{\"aaxis\":{\"endlinecolor\":\"#2a3f5f\",\"gridcolor\":\"white\",\"linecolor\":\"white\",\"minorgridcolor\":\"white\",\"startlinecolor\":\"#2a3f5f\"},\"baxis\":{\"endlinecolor\":\"#2a3f5f\",\"gridcolor\":\"white\",\"linecolor\":\"white\",\"minorgridcolor\":\"white\",\"startlinecolor\":\"#2a3f5f\"},\"type\":\"carpet\"}],\"table\":[{\"cells\":{\"fill\":{\"color\":\"#EBF0F8\"},\"line\":{\"color\":\"white\"}},\"header\":{\"fill\":{\"color\":\"#C8D4E3\"},\"line\":{\"color\":\"white\"}},\"type\":\"table\"}],\"barpolar\":[{\"marker\":{\"line\":{\"color\":\"#E5ECF6\",\"width\":0.5},\"pattern\":{\"fillmode\":\"overlay\",\"size\":10,\"solidity\":0.2}},\"type\":\"barpolar\"}],\"pie\":[{\"automargin\":true,\"type\":\"pie\"}]},\"layout\":{\"autotypenumbers\":\"strict\",\"colorway\":[\"#636efa\",\"#EF553B\",\"#00cc96\",\"#ab63fa\",\"#FFA15A\",\"#19d3f3\",\"#FF6692\",\"#B6E880\",\"#FF97FF\",\"#FECB52\"],\"font\":{\"color\":\"#2a3f5f\"},\"hovermode\":\"closest\",\"hoverlabel\":{\"align\":\"left\"},\"paper_bgcolor\":\"white\",\"plot_bgcolor\":\"#E5ECF6\",\"polar\":{\"bgcolor\":\"#E5ECF6\",\"angularaxis\":{\"gridcolor\":\"white\",\"linecolor\":\"white\",\"ticks\":\"\"},\"radialaxis\":{\"gridcolor\":\"white\",\"linecolor\":\"white\",\"ticks\":\"\"}},\"ternary\":{\"bgcolor\":\"#E5ECF6\",\"aaxis\":{\"gridcolor\":\"white\",\"linecolor\":\"white\",\"ticks\":\"\"},\"baxis\":{\"gridcolor\":\"white\",\"linecolor\":\"white\",\"ticks\":\"\"},\"caxis\":{\"gridcolor\":\"white\",\"linecolor\":\"white\",\"ticks\":\"\"}},\"coloraxis\":{\"colorbar\":{\"outlinewidth\":0,\"ticks\":\"\"}},\"colorscale\":{\"sequential\":[[0.0,\"#0d0887\"],[0.1111111111111111,\"#46039f\"],[0.2222222222222222,\"#7201a8\"],[0.3333333333333333,\"#9c179e\"],[0.4444444444444444,\"#bd3786\"],[0.5555555555555556,\"#d8576b\"],[0.6666666666666666,\"#ed7953\"],[0.7777777777777778,\"#fb9f3a\"],[0.8888888888888888,\"#fdca26\"],[1.0,\"#f0f921\"]],\"sequentialminus\":[[0.0,\"#0d0887\"],[0.1111111111111111,\"#46039f\"],[0.2222222222222222,\"#7201a8\"],[0.3333333333333333,\"#9c179e\"],[0.4444444444444444,\"#bd3786\"],[0.5555555555555556,\"#d8576b\"],[0.6666666666666666,\"#ed7953\"],[0.7777777777777778,\"#fb9f3a\"],[0.8888888888888888,\"#fdca26\"],[1.0,\"#f0f921\"]],\"diverging\":[[0,\"#8e0152\"],[0.1,\"#c51b7d\"],[0.2,\"#de77ae\"],[0.3,\"#f1b6da\"],[0.4,\"#fde0ef\"],[0.5,\"#f7f7f7\"],[0.6,\"#e6f5d0\"],[0.7,\"#b8e186\"],[0.8,\"#7fbc41\"],[0.9,\"#4d9221\"],[1,\"#276419\"]]},\"xaxis\":{\"gridcolor\":\"white\",\"linecolor\":\"white\",\"ticks\":\"\",\"title\":{\"standoff\":15},\"zerolinecolor\":\"white\",\"automargin\":true,\"zerolinewidth\":2},\"yaxis\":{\"gridcolor\":\"white\",\"linecolor\":\"white\",\"ticks\":\"\",\"title\":{\"standoff\":15},\"zerolinecolor\":\"white\",\"automargin\":true,\"zerolinewidth\":2},\"scene\":{\"xaxis\":{\"backgroundcolor\":\"#E5ECF6\",\"gridcolor\":\"white\",\"linecolor\":\"white\",\"showbackground\":true,\"ticks\":\"\",\"zerolinecolor\":\"white\",\"gridwidth\":2},\"yaxis\":{\"backgroundcolor\":\"#E5ECF6\",\"gridcolor\":\"white\",\"linecolor\":\"white\",\"showbackground\":true,\"ticks\":\"\",\"zerolinecolor\":\"white\",\"gridwidth\":2},\"zaxis\":{\"backgroundcolor\":\"#E5ECF6\",\"gridcolor\":\"white\",\"linecolor\":\"white\",\"showbackground\":true,\"ticks\":\"\",\"zerolinecolor\":\"white\",\"gridwidth\":2}},\"shapedefaults\":{\"line\":{\"color\":\"#2a3f5f\"}},\"annotationdefaults\":{\"arrowcolor\":\"#2a3f5f\",\"arrowhead\":0,\"arrowwidth\":1},\"geo\":{\"bgcolor\":\"white\",\"landcolor\":\"#E5ECF6\",\"subunitcolor\":\"white\",\"showland\":true,\"showlakes\":true,\"lakecolor\":\"white\"},\"title\":{\"x\":0.05},\"mapbox\":{\"style\":\"light\"}}},\"xaxis\":{\"anchor\":\"y\",\"domain\":[0.0,1.0],\"title\":{\"text\":\"x\"}},\"yaxis\":{\"anchor\":\"x\",\"domain\":[0.0,1.0],\"title\":{\"text\":\"y\"}},\"legend\":{\"title\":{\"text\":\"color\"},\"tracegroupgap\":0},\"margin\":{\"t\":60},\"title\":{\"font\":{\"size\":12},\"text\":\"Datos\",\"x\":0.5,\"xanchor\":\"center\"},\"height\":300,\"width\":300,\"showlegend\":false},                        {\"responsive\": true}                    ).then(function(){\n",
              "                            \n",
              "var gd = document.getElementById('92eb146b-9206-4332-beb6-a0eeabd3ad1d');\n",
              "var x = new MutationObserver(function (mutations, observer) {{\n",
              "        var display = window.getComputedStyle(gd).display;\n",
              "        if (!display || display === 'none') {{\n",
              "            console.log([gd, 'removed!']);\n",
              "            Plotly.purge(gd);\n",
              "            observer.disconnect();\n",
              "        }}\n",
              "}});\n",
              "\n",
              "// Listen for the removal of the full notebook cells\n",
              "var notebookContainer = gd.closest('#notebook-container');\n",
              "if (notebookContainer) {{\n",
              "    x.observe(notebookContainer, {childList: true});\n",
              "}}\n",
              "\n",
              "// Listen for the clearing of the current output cell\n",
              "var outputEl = gd.closest('.output');\n",
              "if (outputEl) {{\n",
              "    x.observe(outputEl, {childList: true});\n",
              "}}\n",
              "\n",
              "                        })                };                });            </script>        </div>"
            ]
          },
          "metadata": {},
          "output_type": "display_data"
        }
      ],
      "source": [
        "# a.1 leer datos\n",
        "data = pd.read_csv('/Users/daniel/Desktop/Master IA/TÉCNICAS DE APRENDIZAJE AUTOMÁTICO/Practica/UnSupervised/jain.csv')\n",
        "# a.2 visualizar datos\n",
        "fig = visualize_data(data['X'], data['Y'], labels=data['Class'])\n",
        "fig.show()"
      ]
    },
    {
      "cell_type": "markdown",
      "metadata": {
        "id": "UgnTf98S9zkE"
      },
      "source": [
        "**b)** Una vez leídos los datos, se aplicará el algoritmo K-Means para obtener los agrupamientos.\n",
        "<br><br/>\n",
        "En la siguiente casilla, incluya el código necesario para:\n",
        "<br><br/>\n",
        "  **b.1)** aplicar la implementación de K-Means en scikit-learn con $k=2$. La variable con el modelo debe llamarse **model**.\n",
        "<br><br/>\n",
        "  **b.2)** visualizar los datos en un gráfico de dispersión, donde el color de cada punto estará determinado por el clúster al que pertenece. El código necesario ya se provee.\n",
        "<br><br/>\n",
        "¿Puede apreciar instancias cuyo clúster difiere del que debería corresponderle de acuerdo con lo valorado en el apartado (a)?"
      ]
    },
    {
      "cell_type": "code",
      "execution_count": 46,
      "metadata": {
        "id": "ZZyHFHL4yCKw"
      },
      "outputs": [
        {
          "name": "stderr",
          "output_type": "stream",
          "text": [
            "/Users/daniel/anaconda3/lib/python3.11/site-packages/sklearn/cluster/_kmeans.py:1412: FutureWarning:\n",
            "\n",
            "The default value of `n_init` will change from 10 to 'auto' in 1.4. Set the value of `n_init` explicitly to suppress the warning\n",
            "\n"
          ]
        },
        {
          "data": {
            "application/vnd.plotly.v1+json": {
              "config": {
                "plotlyServerURL": "https://plot.ly"
              },
              "data": [
                {
                  "hovertemplate": "color=0<br>x=%{x}<br>y=%{y}<extra></extra>",
                  "legendgroup": "0",
                  "marker": {
                    "color": "#636efa",
                    "symbol": "circle"
                  },
                  "mode": "markers",
                  "name": "0",
                  "orientation": "v",
                  "showlegend": true,
                  "type": "scatter",
                  "x": [
                    0.85,
                    0.75,
                    3.3,
                    5.25,
                    4.9,
                    5.35,
                    5.1,
                    4.6,
                    4.05,
                    3.4,
                    2.9,
                    3.1,
                    3.9,
                    4.4,
                    7.2,
                    7.65,
                    7.1,
                    7.05,
                    5.85,
                    5.5,
                    6.55,
                    6.05,
                    5.2,
                    4.55,
                    5.1,
                    8.1,
                    10.15,
                    9.75,
                    9.2,
                    11.2,
                    12.6,
                    13.25,
                    11.65,
                    12.45,
                    13.3,
                    13.7,
                    14.15,
                    14.05,
                    15.15,
                    15.2,
                    12.2,
                    12.15,
                    12.75,
                    13.15,
                    13.75,
                    13.95,
                    14.4,
                    14.2,
                    14.1,
                    14.05,
                    17.2,
                    17.7,
                    17.55,
                    17,
                    16.55,
                    19.15,
                    18.8,
                    21.4,
                    15.8,
                    16.6,
                    17.45,
                    18,
                    18.25,
                    18,
                    18.6,
                    19.2,
                    19.45,
                    20.1,
                    20.1,
                    19.9,
                    19.45,
                    19.25,
                    21.3,
                    22.9,
                    23.15,
                    24.25,
                    22.05,
                    20.95,
                    21.65,
                    21.55,
                    21.6,
                    21.5,
                    22.4,
                    22.25,
                    23.15,
                    23.5,
                    23.75,
                    25.15,
                    25.5,
                    23,
                    23.95,
                    25.9,
                    23.1,
                    23.5,
                    24.05,
                    24.5,
                    14.15,
                    14.3,
                    14.3,
                    14.75,
                    15.35,
                    15.95,
                    16.5,
                    17.35,
                    17.15,
                    16.65,
                    16.5,
                    16.25,
                    16,
                    15.9,
                    15.15,
                    15.2,
                    17,
                    16.9,
                    17.35,
                    17.15,
                    17.3,
                    17.7,
                    17,
                    16.85,
                    16.6,
                    17.1,
                    17.45,
                    17.8,
                    17.6,
                    17.2,
                    17.25,
                    17.1,
                    16.95,
                    16.5,
                    16.25,
                    16.05,
                    16.65,
                    16.7,
                    16.95,
                    17.3,
                    18.05,
                    18.6,
                    18.9,
                    18.7,
                    17.95,
                    18.4,
                    17.45,
                    17.6,
                    17.7,
                    17.3,
                    16.95,
                    16.75,
                    19.8,
                    19.1,
                    17.5,
                    17.55,
                    17.85,
                    18.2,
                    19.3,
                    19.4,
                    19.05,
                    18.9,
                    18.6,
                    18.7,
                    19.35,
                    19.95,
                    20,
                    20.3,
                    20.55,
                    18.35,
                    18.65,
                    19.3,
                    19.1,
                    19.15,
                    21.2,
                    21.4,
                    21.1,
                    20.4,
                    20.1
                  ],
                  "xaxis": "x",
                  "y": [
                    17.45,
                    15.6,
                    15.45,
                    14.2,
                    15.65,
                    15.85,
                    17.9,
                    18.25,
                    18.75,
                    19.7,
                    21.15,
                    21.85,
                    21.85,
                    20.05,
                    14.5,
                    16.5,
                    18.65,
                    19.9,
                    20.55,
                    21.8,
                    21.8,
                    22.3,
                    23.4,
                    23.9,
                    24.4,
                    26.35,
                    27.7,
                    25.5,
                    21.1,
                    22.8,
                    23.1,
                    23.5,
                    26.85,
                    27.55,
                    27.85,
                    27.75,
                    26.9,
                    26.55,
                    24.2,
                    24.75,
                    20.9,
                    21.45,
                    22.05,
                    21.85,
                    22,
                    22.7,
                    22.65,
                    22.15,
                    21.75,
                    21.4,
                    24.8,
                    24.85,
                    25.2,
                    26.85,
                    27.1,
                    25.35,
                    24.7,
                    25.85,
                    21.35,
                    21.15,
                    20.75,
                    20.95,
                    20.2,
                    22.3,
                    22.25,
                    21.95,
                    22.1,
                    21.6,
                    20.9,
                    20.35,
                    19.05,
                    18.7,
                    22.3,
                    23.65,
                    24.1,
                    22.85,
                    20.25,
                    18.25,
                    17.25,
                    16.7,
                    16.3,
                    15.5,
                    16.5,
                    18.1,
                    19.05,
                    19.8,
                    20.2,
                    19.8,
                    19.45,
                    18,
                    17.75,
                    17.55,
                    14.6,
                    15.2,
                    14.9,
                    14.7,
                    17.35,
                    16.8,
                    15.75,
                    15.1,
                    15.5,
                    16.45,
                    17.05,
                    17.05,
                    16.3,
                    16.1,
                    15.15,
                    14.95,
                    14.25,
                    13.2,
                    12.05,
                    11.7,
                    15.65,
                    15.35,
                    15.45,
                    15.1,
                    14.9,
                    15,
                    14.6,
                    14.3,
                    14.05,
                    14,
                    14.15,
                    14.2,
                    13.85,
                    13.5,
                    13.15,
                    12.75,
                    12.35,
                    12.2,
                    12.5,
                    11.9,
                    10.9,
                    11.4,
                    11.25,
                    11.2,
                    11.9,
                    12.5,
                    12.05,
                    11.25,
                    10.9,
                    10.05,
                    10.4,
                    10.15,
                    9.85,
                    9.7,
                    9.7,
                    9.65,
                    9.95,
                    9.55,
                    8.3,
                    8.1,
                    7.55,
                    8.35,
                    9.1,
                    8.85,
                    8.85,
                    8.5,
                    7.85,
                    7.65,
                    8.2,
                    8.3,
                    8.9,
                    8.9,
                    8.8,
                    6.95,
                    6.9,
                    7,
                    6.85,
                    6.65,
                    8.8,
                    8.8,
                    8,
                    7,
                    6.05
                  ],
                  "yaxis": "y"
                },
                {
                  "hovertemplate": "color=1<br>x=%{x}<br>y=%{y}<extra></extra>",
                  "legendgroup": "1",
                  "marker": {
                    "color": "#EF553B",
                    "symbol": "circle"
                  },
                  "mode": "markers",
                  "name": "1",
                  "orientation": "v",
                  "showlegend": true,
                  "type": "scatter",
                  "x": [
                    27.65,
                    20.5,
                    20.45,
                    20.95,
                    20.95,
                    20.9,
                    21.05,
                    21.85,
                    21.9,
                    22.3,
                    21.85,
                    21.3,
                    22.6,
                    22.5,
                    23.65,
                    24.1,
                    21.95,
                    22.15,
                    22.45,
                    22.45,
                    22.7,
                    23,
                    23.2,
                    23.45,
                    23.75,
                    24.45,
                    24.6,
                    25.2,
                    26.05,
                    25.3,
                    24.35,
                    23.3,
                    22.95,
                    22.4,
                    22.8,
                    22.9,
                    23.25,
                    23.45,
                    23.55,
                    23.8,
                    23.8,
                    24.2,
                    24.55,
                    24.7,
                    24.7,
                    24.9,
                    26.4,
                    27.15,
                    27.3,
                    27.5,
                    27.55,
                    26.85,
                    26.6,
                    26.85,
                    26.2,
                    26,
                    25.15,
                    25.6,
                    25.85,
                    24.95,
                    25.1,
                    25.45,
                    26.85,
                    27.15,
                    27.2,
                    27.95,
                    27.95,
                    28.8,
                    28.8,
                    28.75,
                    28.6,
                    29.25,
                    30,
                    30.6,
                    30.05,
                    29.75,
                    29.2,
                    29.45,
                    29.05,
                    29.4,
                    29.5,
                    29.9,
                    30.75,
                    30.4,
                    30.8,
                    31.05,
                    30.9,
                    30.65,
                    30.7,
                    31.5,
                    31.65,
                    32,
                    32.5,
                    33.35,
                    32.6,
                    32.65,
                    32.55,
                    32.35,
                    32.55,
                    32.2,
                    32.35,
                    32.9,
                    32.7,
                    32.75,
                    34.1,
                    34.1,
                    33.6,
                    33.35,
                    33.75,
                    33.4,
                    34.45,
                    34.65,
                    34.65,
                    35.25,
                    34.35,
                    34.1,
                    34.45,
                    34.7,
                    34.85,
                    34.35,
                    34.55,
                    35.05,
                    35.5,
                    35.8,
                    36.6,
                    36.75,
                    36.5,
                    35.95,
                    36.1,
                    36.15,
                    37.6,
                    37.9,
                    29.15,
                    34.9,
                    35.3,
                    35.9,
                    36,
                    35.75,
                    36.7,
                    36.6,
                    36.9,
                    37.25,
                    36.4,
                    36.3,
                    36.75,
                    38.15,
                    38.4,
                    38.35,
                    37.7,
                    37.45,
                    37.35,
                    37,
                    36.8,
                    37.15,
                    37.25,
                    37.65,
                    37.95,
                    38.6,
                    38.5,
                    38,
                    37.3,
                    37.5,
                    37.85,
                    38.3,
                    38.05,
                    38.35,
                    38.5,
                    39.3,
                    39,
                    38.95,
                    39.2,
                    39.5,
                    39.55,
                    39.75,
                    40.2,
                    40.4,
                    40.45,
                    40.55,
                    40.45,
                    40.2,
                    40.65,
                    40.6,
                    41.3,
                    40.95,
                    41.25,
                    40.95,
                    40.7,
                    40.45,
                    39.9,
                    39.65,
                    39.25,
                    38.85,
                    38.3,
                    38.75,
                    39,
                    38.25,
                    39.5,
                    39.9
                  ],
                  "xaxis": "x",
                  "y": [
                    15.65,
                    6.35,
                    5.15,
                    5.55,
                    6.2,
                    6.6,
                    7,
                    8.5,
                    8.2,
                    7.7,
                    6.65,
                    5.05,
                    6.7,
                    6.15,
                    7.2,
                    7,
                    4.8,
                    5.05,
                    5.3,
                    4.9,
                    5.5,
                    5.6,
                    5.3,
                    5.95,
                    5.95,
                    6.15,
                    6.45,
                    6.55,
                    6.4,
                    5.75,
                    5.35,
                    4.9,
                    4.75,
                    4.55,
                    4.1,
                    4,
                    3.85,
                    3.6,
                    4.2,
                    3.65,
                    4.75,
                    4,
                    4,
                    3.85,
                    4.3,
                    4.75,
                    5.7,
                    5.95,
                    5.45,
                    5.45,
                    5.1,
                    4.95,
                    4.9,
                    4.4,
                    4.4,
                    4.25,
                    4.1,
                    3.9,
                    3.6,
                    3.35,
                    3.25,
                    3.15,
                    2.95,
                    3.15,
                    3,
                    3.25,
                    3.5,
                    4.05,
                    4.7,
                    5.45,
                    5.75,
                    6.3,
                    6.55,
                    3.4,
                    3.45,
                    3.45,
                    4,
                    4.05,
                    4.55,
                    4.85,
                    4.7,
                    4.45,
                    4.45,
                    4.05,
                    3.95,
                    3.95,
                    5.2,
                    5.85,
                    6.15,
                    6.25,
                    6.55,
                    7,
                    7.95,
                    7.45,
                    6.95,
                    6.6,
                    6.35,
                    6.1,
                    5.8,
                    5.05,
                    4.25,
                    4.15,
                    4.6,
                    4.85,
                    4.6,
                    5,
                    5.25,
                    5.65,
                    5.95,
                    6.2,
                    5.8,
                    5.65,
                    6.25,
                    6.25,
                    6.8,
                    7.15,
                    7.3,
                    7.2,
                    7,
                    7.75,
                    7.85,
                    8,
                    8.05,
                    7.1,
                    6.7,
                    7.25,
                    7.4,
                    7.9,
                    8.1,
                    8.4,
                    7.35,
                    7.65,
                    4.4,
                    9,
                    9.4,
                    9.35,
                    9.65,
                    10,
                    9.15,
                    9.8,
                    9.75,
                    10.15,
                    10.15,
                    10.7,
                    10.85,
                    9.7,
                    9.45,
                    10.5,
                    10.8,
                    11.15,
                    11.4,
                    11.75,
                    12.2,
                    12.55,
                    12.15,
                    11.95,
                    11.85,
                    11.75,
                    12.2,
                    12.95,
                    13,
                    13.4,
                    14.5,
                    14.6,
                    14.45,
                    14.35,
                    14.25,
                    14.2,
                    13.2,
                    12.9,
                    12.35,
                    11.8,
                    12.3,
                    12.75,
                    12.8,
                    12.05,
                    12.5,
                    13.15,
                    14.5,
                    14.8,
                    14.9,
                    15.25,
                    15.3,
                    15.7,
                    16.8,
                    17.05,
                    16.45,
                    16.3,
                    16.2,
                    16.2,
                    15.5,
                    15.5,
                    16.5,
                    16.85,
                    16.6,
                    17.35,
                    16.95,
                    17.05
                  ],
                  "yaxis": "y"
                }
              ],
              "layout": {
                "height": 300,
                "legend": {
                  "title": {
                    "text": "color"
                  },
                  "tracegroupgap": 0
                },
                "margin": {
                  "t": 60
                },
                "showlegend": false,
                "template": {
                  "data": {
                    "bar": [
                      {
                        "error_x": {
                          "color": "#2a3f5f"
                        },
                        "error_y": {
                          "color": "#2a3f5f"
                        },
                        "marker": {
                          "line": {
                            "color": "#E5ECF6",
                            "width": 0.5
                          },
                          "pattern": {
                            "fillmode": "overlay",
                            "size": 10,
                            "solidity": 0.2
                          }
                        },
                        "type": "bar"
                      }
                    ],
                    "barpolar": [
                      {
                        "marker": {
                          "line": {
                            "color": "#E5ECF6",
                            "width": 0.5
                          },
                          "pattern": {
                            "fillmode": "overlay",
                            "size": 10,
                            "solidity": 0.2
                          }
                        },
                        "type": "barpolar"
                      }
                    ],
                    "carpet": [
                      {
                        "aaxis": {
                          "endlinecolor": "#2a3f5f",
                          "gridcolor": "white",
                          "linecolor": "white",
                          "minorgridcolor": "white",
                          "startlinecolor": "#2a3f5f"
                        },
                        "baxis": {
                          "endlinecolor": "#2a3f5f",
                          "gridcolor": "white",
                          "linecolor": "white",
                          "minorgridcolor": "white",
                          "startlinecolor": "#2a3f5f"
                        },
                        "type": "carpet"
                      }
                    ],
                    "choropleth": [
                      {
                        "colorbar": {
                          "outlinewidth": 0,
                          "ticks": ""
                        },
                        "type": "choropleth"
                      }
                    ],
                    "contour": [
                      {
                        "colorbar": {
                          "outlinewidth": 0,
                          "ticks": ""
                        },
                        "colorscale": [
                          [
                            0,
                            "#0d0887"
                          ],
                          [
                            0.1111111111111111,
                            "#46039f"
                          ],
                          [
                            0.2222222222222222,
                            "#7201a8"
                          ],
                          [
                            0.3333333333333333,
                            "#9c179e"
                          ],
                          [
                            0.4444444444444444,
                            "#bd3786"
                          ],
                          [
                            0.5555555555555556,
                            "#d8576b"
                          ],
                          [
                            0.6666666666666666,
                            "#ed7953"
                          ],
                          [
                            0.7777777777777778,
                            "#fb9f3a"
                          ],
                          [
                            0.8888888888888888,
                            "#fdca26"
                          ],
                          [
                            1,
                            "#f0f921"
                          ]
                        ],
                        "type": "contour"
                      }
                    ],
                    "contourcarpet": [
                      {
                        "colorbar": {
                          "outlinewidth": 0,
                          "ticks": ""
                        },
                        "type": "contourcarpet"
                      }
                    ],
                    "heatmap": [
                      {
                        "colorbar": {
                          "outlinewidth": 0,
                          "ticks": ""
                        },
                        "colorscale": [
                          [
                            0,
                            "#0d0887"
                          ],
                          [
                            0.1111111111111111,
                            "#46039f"
                          ],
                          [
                            0.2222222222222222,
                            "#7201a8"
                          ],
                          [
                            0.3333333333333333,
                            "#9c179e"
                          ],
                          [
                            0.4444444444444444,
                            "#bd3786"
                          ],
                          [
                            0.5555555555555556,
                            "#d8576b"
                          ],
                          [
                            0.6666666666666666,
                            "#ed7953"
                          ],
                          [
                            0.7777777777777778,
                            "#fb9f3a"
                          ],
                          [
                            0.8888888888888888,
                            "#fdca26"
                          ],
                          [
                            1,
                            "#f0f921"
                          ]
                        ],
                        "type": "heatmap"
                      }
                    ],
                    "heatmapgl": [
                      {
                        "colorbar": {
                          "outlinewidth": 0,
                          "ticks": ""
                        },
                        "colorscale": [
                          [
                            0,
                            "#0d0887"
                          ],
                          [
                            0.1111111111111111,
                            "#46039f"
                          ],
                          [
                            0.2222222222222222,
                            "#7201a8"
                          ],
                          [
                            0.3333333333333333,
                            "#9c179e"
                          ],
                          [
                            0.4444444444444444,
                            "#bd3786"
                          ],
                          [
                            0.5555555555555556,
                            "#d8576b"
                          ],
                          [
                            0.6666666666666666,
                            "#ed7953"
                          ],
                          [
                            0.7777777777777778,
                            "#fb9f3a"
                          ],
                          [
                            0.8888888888888888,
                            "#fdca26"
                          ],
                          [
                            1,
                            "#f0f921"
                          ]
                        ],
                        "type": "heatmapgl"
                      }
                    ],
                    "histogram": [
                      {
                        "marker": {
                          "pattern": {
                            "fillmode": "overlay",
                            "size": 10,
                            "solidity": 0.2
                          }
                        },
                        "type": "histogram"
                      }
                    ],
                    "histogram2d": [
                      {
                        "colorbar": {
                          "outlinewidth": 0,
                          "ticks": ""
                        },
                        "colorscale": [
                          [
                            0,
                            "#0d0887"
                          ],
                          [
                            0.1111111111111111,
                            "#46039f"
                          ],
                          [
                            0.2222222222222222,
                            "#7201a8"
                          ],
                          [
                            0.3333333333333333,
                            "#9c179e"
                          ],
                          [
                            0.4444444444444444,
                            "#bd3786"
                          ],
                          [
                            0.5555555555555556,
                            "#d8576b"
                          ],
                          [
                            0.6666666666666666,
                            "#ed7953"
                          ],
                          [
                            0.7777777777777778,
                            "#fb9f3a"
                          ],
                          [
                            0.8888888888888888,
                            "#fdca26"
                          ],
                          [
                            1,
                            "#f0f921"
                          ]
                        ],
                        "type": "histogram2d"
                      }
                    ],
                    "histogram2dcontour": [
                      {
                        "colorbar": {
                          "outlinewidth": 0,
                          "ticks": ""
                        },
                        "colorscale": [
                          [
                            0,
                            "#0d0887"
                          ],
                          [
                            0.1111111111111111,
                            "#46039f"
                          ],
                          [
                            0.2222222222222222,
                            "#7201a8"
                          ],
                          [
                            0.3333333333333333,
                            "#9c179e"
                          ],
                          [
                            0.4444444444444444,
                            "#bd3786"
                          ],
                          [
                            0.5555555555555556,
                            "#d8576b"
                          ],
                          [
                            0.6666666666666666,
                            "#ed7953"
                          ],
                          [
                            0.7777777777777778,
                            "#fb9f3a"
                          ],
                          [
                            0.8888888888888888,
                            "#fdca26"
                          ],
                          [
                            1,
                            "#f0f921"
                          ]
                        ],
                        "type": "histogram2dcontour"
                      }
                    ],
                    "mesh3d": [
                      {
                        "colorbar": {
                          "outlinewidth": 0,
                          "ticks": ""
                        },
                        "type": "mesh3d"
                      }
                    ],
                    "parcoords": [
                      {
                        "line": {
                          "colorbar": {
                            "outlinewidth": 0,
                            "ticks": ""
                          }
                        },
                        "type": "parcoords"
                      }
                    ],
                    "pie": [
                      {
                        "automargin": true,
                        "type": "pie"
                      }
                    ],
                    "scatter": [
                      {
                        "fillpattern": {
                          "fillmode": "overlay",
                          "size": 10,
                          "solidity": 0.2
                        },
                        "type": "scatter"
                      }
                    ],
                    "scatter3d": [
                      {
                        "line": {
                          "colorbar": {
                            "outlinewidth": 0,
                            "ticks": ""
                          }
                        },
                        "marker": {
                          "colorbar": {
                            "outlinewidth": 0,
                            "ticks": ""
                          }
                        },
                        "type": "scatter3d"
                      }
                    ],
                    "scattercarpet": [
                      {
                        "marker": {
                          "colorbar": {
                            "outlinewidth": 0,
                            "ticks": ""
                          }
                        },
                        "type": "scattercarpet"
                      }
                    ],
                    "scattergeo": [
                      {
                        "marker": {
                          "colorbar": {
                            "outlinewidth": 0,
                            "ticks": ""
                          }
                        },
                        "type": "scattergeo"
                      }
                    ],
                    "scattergl": [
                      {
                        "marker": {
                          "colorbar": {
                            "outlinewidth": 0,
                            "ticks": ""
                          }
                        },
                        "type": "scattergl"
                      }
                    ],
                    "scattermapbox": [
                      {
                        "marker": {
                          "colorbar": {
                            "outlinewidth": 0,
                            "ticks": ""
                          }
                        },
                        "type": "scattermapbox"
                      }
                    ],
                    "scatterpolar": [
                      {
                        "marker": {
                          "colorbar": {
                            "outlinewidth": 0,
                            "ticks": ""
                          }
                        },
                        "type": "scatterpolar"
                      }
                    ],
                    "scatterpolargl": [
                      {
                        "marker": {
                          "colorbar": {
                            "outlinewidth": 0,
                            "ticks": ""
                          }
                        },
                        "type": "scatterpolargl"
                      }
                    ],
                    "scatterternary": [
                      {
                        "marker": {
                          "colorbar": {
                            "outlinewidth": 0,
                            "ticks": ""
                          }
                        },
                        "type": "scatterternary"
                      }
                    ],
                    "surface": [
                      {
                        "colorbar": {
                          "outlinewidth": 0,
                          "ticks": ""
                        },
                        "colorscale": [
                          [
                            0,
                            "#0d0887"
                          ],
                          [
                            0.1111111111111111,
                            "#46039f"
                          ],
                          [
                            0.2222222222222222,
                            "#7201a8"
                          ],
                          [
                            0.3333333333333333,
                            "#9c179e"
                          ],
                          [
                            0.4444444444444444,
                            "#bd3786"
                          ],
                          [
                            0.5555555555555556,
                            "#d8576b"
                          ],
                          [
                            0.6666666666666666,
                            "#ed7953"
                          ],
                          [
                            0.7777777777777778,
                            "#fb9f3a"
                          ],
                          [
                            0.8888888888888888,
                            "#fdca26"
                          ],
                          [
                            1,
                            "#f0f921"
                          ]
                        ],
                        "type": "surface"
                      }
                    ],
                    "table": [
                      {
                        "cells": {
                          "fill": {
                            "color": "#EBF0F8"
                          },
                          "line": {
                            "color": "white"
                          }
                        },
                        "header": {
                          "fill": {
                            "color": "#C8D4E3"
                          },
                          "line": {
                            "color": "white"
                          }
                        },
                        "type": "table"
                      }
                    ]
                  },
                  "layout": {
                    "annotationdefaults": {
                      "arrowcolor": "#2a3f5f",
                      "arrowhead": 0,
                      "arrowwidth": 1
                    },
                    "autotypenumbers": "strict",
                    "coloraxis": {
                      "colorbar": {
                        "outlinewidth": 0,
                        "ticks": ""
                      }
                    },
                    "colorscale": {
                      "diverging": [
                        [
                          0,
                          "#8e0152"
                        ],
                        [
                          0.1,
                          "#c51b7d"
                        ],
                        [
                          0.2,
                          "#de77ae"
                        ],
                        [
                          0.3,
                          "#f1b6da"
                        ],
                        [
                          0.4,
                          "#fde0ef"
                        ],
                        [
                          0.5,
                          "#f7f7f7"
                        ],
                        [
                          0.6,
                          "#e6f5d0"
                        ],
                        [
                          0.7,
                          "#b8e186"
                        ],
                        [
                          0.8,
                          "#7fbc41"
                        ],
                        [
                          0.9,
                          "#4d9221"
                        ],
                        [
                          1,
                          "#276419"
                        ]
                      ],
                      "sequential": [
                        [
                          0,
                          "#0d0887"
                        ],
                        [
                          0.1111111111111111,
                          "#46039f"
                        ],
                        [
                          0.2222222222222222,
                          "#7201a8"
                        ],
                        [
                          0.3333333333333333,
                          "#9c179e"
                        ],
                        [
                          0.4444444444444444,
                          "#bd3786"
                        ],
                        [
                          0.5555555555555556,
                          "#d8576b"
                        ],
                        [
                          0.6666666666666666,
                          "#ed7953"
                        ],
                        [
                          0.7777777777777778,
                          "#fb9f3a"
                        ],
                        [
                          0.8888888888888888,
                          "#fdca26"
                        ],
                        [
                          1,
                          "#f0f921"
                        ]
                      ],
                      "sequentialminus": [
                        [
                          0,
                          "#0d0887"
                        ],
                        [
                          0.1111111111111111,
                          "#46039f"
                        ],
                        [
                          0.2222222222222222,
                          "#7201a8"
                        ],
                        [
                          0.3333333333333333,
                          "#9c179e"
                        ],
                        [
                          0.4444444444444444,
                          "#bd3786"
                        ],
                        [
                          0.5555555555555556,
                          "#d8576b"
                        ],
                        [
                          0.6666666666666666,
                          "#ed7953"
                        ],
                        [
                          0.7777777777777778,
                          "#fb9f3a"
                        ],
                        [
                          0.8888888888888888,
                          "#fdca26"
                        ],
                        [
                          1,
                          "#f0f921"
                        ]
                      ]
                    },
                    "colorway": [
                      "#636efa",
                      "#EF553B",
                      "#00cc96",
                      "#ab63fa",
                      "#FFA15A",
                      "#19d3f3",
                      "#FF6692",
                      "#B6E880",
                      "#FF97FF",
                      "#FECB52"
                    ],
                    "font": {
                      "color": "#2a3f5f"
                    },
                    "geo": {
                      "bgcolor": "white",
                      "lakecolor": "white",
                      "landcolor": "#E5ECF6",
                      "showlakes": true,
                      "showland": true,
                      "subunitcolor": "white"
                    },
                    "hoverlabel": {
                      "align": "left"
                    },
                    "hovermode": "closest",
                    "mapbox": {
                      "style": "light"
                    },
                    "paper_bgcolor": "white",
                    "plot_bgcolor": "#E5ECF6",
                    "polar": {
                      "angularaxis": {
                        "gridcolor": "white",
                        "linecolor": "white",
                        "ticks": ""
                      },
                      "bgcolor": "#E5ECF6",
                      "radialaxis": {
                        "gridcolor": "white",
                        "linecolor": "white",
                        "ticks": ""
                      }
                    },
                    "scene": {
                      "xaxis": {
                        "backgroundcolor": "#E5ECF6",
                        "gridcolor": "white",
                        "gridwidth": 2,
                        "linecolor": "white",
                        "showbackground": true,
                        "ticks": "",
                        "zerolinecolor": "white"
                      },
                      "yaxis": {
                        "backgroundcolor": "#E5ECF6",
                        "gridcolor": "white",
                        "gridwidth": 2,
                        "linecolor": "white",
                        "showbackground": true,
                        "ticks": "",
                        "zerolinecolor": "white"
                      },
                      "zaxis": {
                        "backgroundcolor": "#E5ECF6",
                        "gridcolor": "white",
                        "gridwidth": 2,
                        "linecolor": "white",
                        "showbackground": true,
                        "ticks": "",
                        "zerolinecolor": "white"
                      }
                    },
                    "shapedefaults": {
                      "line": {
                        "color": "#2a3f5f"
                      }
                    },
                    "ternary": {
                      "aaxis": {
                        "gridcolor": "white",
                        "linecolor": "white",
                        "ticks": ""
                      },
                      "baxis": {
                        "gridcolor": "white",
                        "linecolor": "white",
                        "ticks": ""
                      },
                      "bgcolor": "#E5ECF6",
                      "caxis": {
                        "gridcolor": "white",
                        "linecolor": "white",
                        "ticks": ""
                      }
                    },
                    "title": {
                      "x": 0.05
                    },
                    "xaxis": {
                      "automargin": true,
                      "gridcolor": "white",
                      "linecolor": "white",
                      "ticks": "",
                      "title": {
                        "standoff": 15
                      },
                      "zerolinecolor": "white",
                      "zerolinewidth": 2
                    },
                    "yaxis": {
                      "automargin": true,
                      "gridcolor": "white",
                      "linecolor": "white",
                      "ticks": "",
                      "title": {
                        "standoff": 15
                      },
                      "zerolinecolor": "white",
                      "zerolinewidth": 2
                    }
                  }
                },
                "title": {
                  "font": {
                    "size": 12
                  },
                  "text": "Datos",
                  "x": 0.5,
                  "xanchor": "center"
                },
                "width": 300,
                "xaxis": {
                  "anchor": "y",
                  "domain": [
                    0,
                    1
                  ],
                  "title": {
                    "text": "x"
                  }
                },
                "yaxis": {
                  "anchor": "x",
                  "domain": [
                    0,
                    1
                  ],
                  "title": {
                    "text": "y"
                  }
                }
              }
            },
            "text/html": [
              "<div>                            <div id=\"ecf2b953-1399-44f5-8285-5626713c6717\" class=\"plotly-graph-div\" style=\"height:300px; width:300px;\"></div>            <script type=\"text/javascript\">                require([\"plotly\"], function(Plotly) {                    window.PLOTLYENV=window.PLOTLYENV || {};                                    if (document.getElementById(\"ecf2b953-1399-44f5-8285-5626713c6717\")) {                    Plotly.newPlot(                        \"ecf2b953-1399-44f5-8285-5626713c6717\",                        [{\"hovertemplate\":\"color=0\\u003cbr\\u003ex=%{x}\\u003cbr\\u003ey=%{y}\\u003cextra\\u003e\\u003c\\u002fextra\\u003e\",\"legendgroup\":\"0\",\"marker\":{\"color\":\"#636efa\",\"symbol\":\"circle\"},\"mode\":\"markers\",\"name\":\"0\",\"orientation\":\"v\",\"showlegend\":true,\"x\":[0.85,0.75,3.3,5.25,4.9,5.35,5.1,4.6,4.05,3.4,2.9,3.1,3.9,4.4,7.2,7.65,7.1,7.05,5.85,5.5,6.55,6.05,5.2,4.55,5.1,8.1,10.15,9.75,9.2,11.2,12.6,13.25,11.65,12.45,13.3,13.7,14.15,14.05,15.15,15.2,12.2,12.15,12.75,13.15,13.75,13.95,14.4,14.2,14.1,14.05,17.2,17.7,17.55,17.0,16.55,19.15,18.8,21.4,15.8,16.6,17.45,18.0,18.25,18.0,18.6,19.2,19.45,20.1,20.1,19.9,19.45,19.25,21.3,22.9,23.15,24.25,22.05,20.95,21.65,21.55,21.6,21.5,22.4,22.25,23.15,23.5,23.75,25.15,25.5,23.0,23.95,25.9,23.1,23.5,24.05,24.5,14.15,14.3,14.3,14.75,15.35,15.95,16.5,17.35,17.15,16.65,16.5,16.25,16.0,15.9,15.15,15.2,17.0,16.9,17.35,17.15,17.3,17.7,17.0,16.85,16.6,17.1,17.45,17.8,17.6,17.2,17.25,17.1,16.95,16.5,16.25,16.05,16.65,16.7,16.95,17.3,18.05,18.6,18.9,18.7,17.95,18.4,17.45,17.6,17.7,17.3,16.95,16.75,19.8,19.1,17.5,17.55,17.85,18.2,19.3,19.4,19.05,18.9,18.6,18.7,19.35,19.95,20.0,20.3,20.55,18.35,18.65,19.3,19.1,19.15,21.2,21.4,21.1,20.4,20.1],\"xaxis\":\"x\",\"y\":[17.45,15.6,15.45,14.2,15.65,15.85,17.9,18.25,18.75,19.7,21.15,21.85,21.85,20.05,14.5,16.5,18.65,19.9,20.55,21.8,21.8,22.3,23.4,23.9,24.4,26.35,27.7,25.5,21.1,22.8,23.1,23.5,26.85,27.55,27.85,27.75,26.9,26.55,24.2,24.75,20.9,21.45,22.05,21.85,22.0,22.7,22.65,22.15,21.75,21.4,24.8,24.85,25.2,26.85,27.1,25.35,24.7,25.85,21.35,21.15,20.75,20.95,20.2,22.3,22.25,21.95,22.1,21.6,20.9,20.35,19.05,18.7,22.3,23.65,24.1,22.85,20.25,18.25,17.25,16.7,16.3,15.5,16.5,18.1,19.05,19.8,20.2,19.8,19.45,18.0,17.75,17.55,14.6,15.2,14.9,14.7,17.35,16.8,15.75,15.1,15.5,16.45,17.05,17.05,16.3,16.1,15.15,14.95,14.25,13.2,12.05,11.7,15.65,15.35,15.45,15.1,14.9,15.0,14.6,14.3,14.05,14.0,14.15,14.2,13.85,13.5,13.15,12.75,12.35,12.2,12.5,11.9,10.9,11.4,11.25,11.2,11.9,12.5,12.05,11.25,10.9,10.05,10.4,10.15,9.85,9.7,9.7,9.65,9.95,9.55,8.3,8.1,7.55,8.35,9.1,8.85,8.85,8.5,7.85,7.65,8.2,8.3,8.9,8.9,8.8,6.95,6.9,7.0,6.85,6.65,8.8,8.8,8.0,7.0,6.05],\"yaxis\":\"y\",\"type\":\"scatter\"},{\"hovertemplate\":\"color=1\\u003cbr\\u003ex=%{x}\\u003cbr\\u003ey=%{y}\\u003cextra\\u003e\\u003c\\u002fextra\\u003e\",\"legendgroup\":\"1\",\"marker\":{\"color\":\"#EF553B\",\"symbol\":\"circle\"},\"mode\":\"markers\",\"name\":\"1\",\"orientation\":\"v\",\"showlegend\":true,\"x\":[27.65,20.5,20.45,20.95,20.95,20.9,21.05,21.85,21.9,22.3,21.85,21.3,22.6,22.5,23.65,24.1,21.95,22.15,22.45,22.45,22.7,23.0,23.2,23.45,23.75,24.45,24.6,25.2,26.05,25.3,24.35,23.3,22.95,22.4,22.8,22.9,23.25,23.45,23.55,23.8,23.8,24.2,24.55,24.7,24.7,24.9,26.4,27.15,27.3,27.5,27.55,26.85,26.6,26.85,26.2,26.0,25.15,25.6,25.85,24.95,25.1,25.45,26.85,27.15,27.2,27.95,27.95,28.8,28.8,28.75,28.6,29.25,30.0,30.6,30.05,29.75,29.2,29.45,29.05,29.4,29.5,29.9,30.75,30.4,30.8,31.05,30.9,30.65,30.7,31.5,31.65,32.0,32.5,33.35,32.6,32.65,32.55,32.35,32.55,32.2,32.35,32.9,32.7,32.75,34.1,34.1,33.6,33.35,33.75,33.4,34.45,34.65,34.65,35.25,34.35,34.1,34.45,34.7,34.85,34.35,34.55,35.05,35.5,35.8,36.6,36.75,36.5,35.95,36.1,36.15,37.6,37.9,29.15,34.9,35.3,35.9,36.0,35.75,36.7,36.6,36.9,37.25,36.4,36.3,36.75,38.15,38.4,38.35,37.7,37.45,37.35,37.0,36.8,37.15,37.25,37.65,37.95,38.6,38.5,38.0,37.3,37.5,37.85,38.3,38.05,38.35,38.5,39.3,39.0,38.95,39.2,39.5,39.55,39.75,40.2,40.4,40.45,40.55,40.45,40.2,40.65,40.6,41.3,40.95,41.25,40.95,40.7,40.45,39.9,39.65,39.25,38.85,38.3,38.75,39.0,38.25,39.5,39.9],\"xaxis\":\"x\",\"y\":[15.65,6.35,5.15,5.55,6.2,6.6,7.0,8.5,8.2,7.7,6.65,5.05,6.7,6.15,7.2,7.0,4.8,5.05,5.3,4.9,5.5,5.6,5.3,5.95,5.95,6.15,6.45,6.55,6.4,5.75,5.35,4.9,4.75,4.55,4.1,4.0,3.85,3.6,4.2,3.65,4.75,4.0,4.0,3.85,4.3,4.75,5.7,5.95,5.45,5.45,5.1,4.95,4.9,4.4,4.4,4.25,4.1,3.9,3.6,3.35,3.25,3.15,2.95,3.15,3.0,3.25,3.5,4.05,4.7,5.45,5.75,6.3,6.55,3.4,3.45,3.45,4.0,4.05,4.55,4.85,4.7,4.45,4.45,4.05,3.95,3.95,5.2,5.85,6.15,6.25,6.55,7.0,7.95,7.45,6.95,6.6,6.35,6.1,5.8,5.05,4.25,4.15,4.6,4.85,4.6,5.0,5.25,5.65,5.95,6.2,5.8,5.65,6.25,6.25,6.8,7.15,7.3,7.2,7.0,7.75,7.85,8.0,8.05,7.1,6.7,7.25,7.4,7.9,8.1,8.4,7.35,7.65,4.4,9.0,9.4,9.35,9.65,10.0,9.15,9.8,9.75,10.15,10.15,10.7,10.85,9.7,9.45,10.5,10.8,11.15,11.4,11.75,12.2,12.55,12.15,11.95,11.85,11.75,12.2,12.95,13.0,13.4,14.5,14.6,14.45,14.35,14.25,14.2,13.2,12.9,12.35,11.8,12.3,12.75,12.8,12.05,12.5,13.15,14.5,14.8,14.9,15.25,15.3,15.7,16.8,17.05,16.45,16.3,16.2,16.2,15.5,15.5,16.5,16.85,16.6,17.35,16.95,17.05],\"yaxis\":\"y\",\"type\":\"scatter\"}],                        {\"template\":{\"data\":{\"histogram2dcontour\":[{\"type\":\"histogram2dcontour\",\"colorbar\":{\"outlinewidth\":0,\"ticks\":\"\"},\"colorscale\":[[0.0,\"#0d0887\"],[0.1111111111111111,\"#46039f\"],[0.2222222222222222,\"#7201a8\"],[0.3333333333333333,\"#9c179e\"],[0.4444444444444444,\"#bd3786\"],[0.5555555555555556,\"#d8576b\"],[0.6666666666666666,\"#ed7953\"],[0.7777777777777778,\"#fb9f3a\"],[0.8888888888888888,\"#fdca26\"],[1.0,\"#f0f921\"]]}],\"choropleth\":[{\"type\":\"choropleth\",\"colorbar\":{\"outlinewidth\":0,\"ticks\":\"\"}}],\"histogram2d\":[{\"type\":\"histogram2d\",\"colorbar\":{\"outlinewidth\":0,\"ticks\":\"\"},\"colorscale\":[[0.0,\"#0d0887\"],[0.1111111111111111,\"#46039f\"],[0.2222222222222222,\"#7201a8\"],[0.3333333333333333,\"#9c179e\"],[0.4444444444444444,\"#bd3786\"],[0.5555555555555556,\"#d8576b\"],[0.6666666666666666,\"#ed7953\"],[0.7777777777777778,\"#fb9f3a\"],[0.8888888888888888,\"#fdca26\"],[1.0,\"#f0f921\"]]}],\"heatmap\":[{\"type\":\"heatmap\",\"colorbar\":{\"outlinewidth\":0,\"ticks\":\"\"},\"colorscale\":[[0.0,\"#0d0887\"],[0.1111111111111111,\"#46039f\"],[0.2222222222222222,\"#7201a8\"],[0.3333333333333333,\"#9c179e\"],[0.4444444444444444,\"#bd3786\"],[0.5555555555555556,\"#d8576b\"],[0.6666666666666666,\"#ed7953\"],[0.7777777777777778,\"#fb9f3a\"],[0.8888888888888888,\"#fdca26\"],[1.0,\"#f0f921\"]]}],\"heatmapgl\":[{\"type\":\"heatmapgl\",\"colorbar\":{\"outlinewidth\":0,\"ticks\":\"\"},\"colorscale\":[[0.0,\"#0d0887\"],[0.1111111111111111,\"#46039f\"],[0.2222222222222222,\"#7201a8\"],[0.3333333333333333,\"#9c179e\"],[0.4444444444444444,\"#bd3786\"],[0.5555555555555556,\"#d8576b\"],[0.6666666666666666,\"#ed7953\"],[0.7777777777777778,\"#fb9f3a\"],[0.8888888888888888,\"#fdca26\"],[1.0,\"#f0f921\"]]}],\"contourcarpet\":[{\"type\":\"contourcarpet\",\"colorbar\":{\"outlinewidth\":0,\"ticks\":\"\"}}],\"contour\":[{\"type\":\"contour\",\"colorbar\":{\"outlinewidth\":0,\"ticks\":\"\"},\"colorscale\":[[0.0,\"#0d0887\"],[0.1111111111111111,\"#46039f\"],[0.2222222222222222,\"#7201a8\"],[0.3333333333333333,\"#9c179e\"],[0.4444444444444444,\"#bd3786\"],[0.5555555555555556,\"#d8576b\"],[0.6666666666666666,\"#ed7953\"],[0.7777777777777778,\"#fb9f3a\"],[0.8888888888888888,\"#fdca26\"],[1.0,\"#f0f921\"]]}],\"surface\":[{\"type\":\"surface\",\"colorbar\":{\"outlinewidth\":0,\"ticks\":\"\"},\"colorscale\":[[0.0,\"#0d0887\"],[0.1111111111111111,\"#46039f\"],[0.2222222222222222,\"#7201a8\"],[0.3333333333333333,\"#9c179e\"],[0.4444444444444444,\"#bd3786\"],[0.5555555555555556,\"#d8576b\"],[0.6666666666666666,\"#ed7953\"],[0.7777777777777778,\"#fb9f3a\"],[0.8888888888888888,\"#fdca26\"],[1.0,\"#f0f921\"]]}],\"mesh3d\":[{\"type\":\"mesh3d\",\"colorbar\":{\"outlinewidth\":0,\"ticks\":\"\"}}],\"scatter\":[{\"fillpattern\":{\"fillmode\":\"overlay\",\"size\":10,\"solidity\":0.2},\"type\":\"scatter\"}],\"parcoords\":[{\"type\":\"parcoords\",\"line\":{\"colorbar\":{\"outlinewidth\":0,\"ticks\":\"\"}}}],\"scatterpolargl\":[{\"type\":\"scatterpolargl\",\"marker\":{\"colorbar\":{\"outlinewidth\":0,\"ticks\":\"\"}}}],\"bar\":[{\"error_x\":{\"color\":\"#2a3f5f\"},\"error_y\":{\"color\":\"#2a3f5f\"},\"marker\":{\"line\":{\"color\":\"#E5ECF6\",\"width\":0.5},\"pattern\":{\"fillmode\":\"overlay\",\"size\":10,\"solidity\":0.2}},\"type\":\"bar\"}],\"scattergeo\":[{\"type\":\"scattergeo\",\"marker\":{\"colorbar\":{\"outlinewidth\":0,\"ticks\":\"\"}}}],\"scatterpolar\":[{\"type\":\"scatterpolar\",\"marker\":{\"colorbar\":{\"outlinewidth\":0,\"ticks\":\"\"}}}],\"histogram\":[{\"marker\":{\"pattern\":{\"fillmode\":\"overlay\",\"size\":10,\"solidity\":0.2}},\"type\":\"histogram\"}],\"scattergl\":[{\"type\":\"scattergl\",\"marker\":{\"colorbar\":{\"outlinewidth\":0,\"ticks\":\"\"}}}],\"scatter3d\":[{\"type\":\"scatter3d\",\"line\":{\"colorbar\":{\"outlinewidth\":0,\"ticks\":\"\"}},\"marker\":{\"colorbar\":{\"outlinewidth\":0,\"ticks\":\"\"}}}],\"scattermapbox\":[{\"type\":\"scattermapbox\",\"marker\":{\"colorbar\":{\"outlinewidth\":0,\"ticks\":\"\"}}}],\"scatterternary\":[{\"type\":\"scatterternary\",\"marker\":{\"colorbar\":{\"outlinewidth\":0,\"ticks\":\"\"}}}],\"scattercarpet\":[{\"type\":\"scattercarpet\",\"marker\":{\"colorbar\":{\"outlinewidth\":0,\"ticks\":\"\"}}}],\"carpet\":[{\"aaxis\":{\"endlinecolor\":\"#2a3f5f\",\"gridcolor\":\"white\",\"linecolor\":\"white\",\"minorgridcolor\":\"white\",\"startlinecolor\":\"#2a3f5f\"},\"baxis\":{\"endlinecolor\":\"#2a3f5f\",\"gridcolor\":\"white\",\"linecolor\":\"white\",\"minorgridcolor\":\"white\",\"startlinecolor\":\"#2a3f5f\"},\"type\":\"carpet\"}],\"table\":[{\"cells\":{\"fill\":{\"color\":\"#EBF0F8\"},\"line\":{\"color\":\"white\"}},\"header\":{\"fill\":{\"color\":\"#C8D4E3\"},\"line\":{\"color\":\"white\"}},\"type\":\"table\"}],\"barpolar\":[{\"marker\":{\"line\":{\"color\":\"#E5ECF6\",\"width\":0.5},\"pattern\":{\"fillmode\":\"overlay\",\"size\":10,\"solidity\":0.2}},\"type\":\"barpolar\"}],\"pie\":[{\"automargin\":true,\"type\":\"pie\"}]},\"layout\":{\"autotypenumbers\":\"strict\",\"colorway\":[\"#636efa\",\"#EF553B\",\"#00cc96\",\"#ab63fa\",\"#FFA15A\",\"#19d3f3\",\"#FF6692\",\"#B6E880\",\"#FF97FF\",\"#FECB52\"],\"font\":{\"color\":\"#2a3f5f\"},\"hovermode\":\"closest\",\"hoverlabel\":{\"align\":\"left\"},\"paper_bgcolor\":\"white\",\"plot_bgcolor\":\"#E5ECF6\",\"polar\":{\"bgcolor\":\"#E5ECF6\",\"angularaxis\":{\"gridcolor\":\"white\",\"linecolor\":\"white\",\"ticks\":\"\"},\"radialaxis\":{\"gridcolor\":\"white\",\"linecolor\":\"white\",\"ticks\":\"\"}},\"ternary\":{\"bgcolor\":\"#E5ECF6\",\"aaxis\":{\"gridcolor\":\"white\",\"linecolor\":\"white\",\"ticks\":\"\"},\"baxis\":{\"gridcolor\":\"white\",\"linecolor\":\"white\",\"ticks\":\"\"},\"caxis\":{\"gridcolor\":\"white\",\"linecolor\":\"white\",\"ticks\":\"\"}},\"coloraxis\":{\"colorbar\":{\"outlinewidth\":0,\"ticks\":\"\"}},\"colorscale\":{\"sequential\":[[0.0,\"#0d0887\"],[0.1111111111111111,\"#46039f\"],[0.2222222222222222,\"#7201a8\"],[0.3333333333333333,\"#9c179e\"],[0.4444444444444444,\"#bd3786\"],[0.5555555555555556,\"#d8576b\"],[0.6666666666666666,\"#ed7953\"],[0.7777777777777778,\"#fb9f3a\"],[0.8888888888888888,\"#fdca26\"],[1.0,\"#f0f921\"]],\"sequentialminus\":[[0.0,\"#0d0887\"],[0.1111111111111111,\"#46039f\"],[0.2222222222222222,\"#7201a8\"],[0.3333333333333333,\"#9c179e\"],[0.4444444444444444,\"#bd3786\"],[0.5555555555555556,\"#d8576b\"],[0.6666666666666666,\"#ed7953\"],[0.7777777777777778,\"#fb9f3a\"],[0.8888888888888888,\"#fdca26\"],[1.0,\"#f0f921\"]],\"diverging\":[[0,\"#8e0152\"],[0.1,\"#c51b7d\"],[0.2,\"#de77ae\"],[0.3,\"#f1b6da\"],[0.4,\"#fde0ef\"],[0.5,\"#f7f7f7\"],[0.6,\"#e6f5d0\"],[0.7,\"#b8e186\"],[0.8,\"#7fbc41\"],[0.9,\"#4d9221\"],[1,\"#276419\"]]},\"xaxis\":{\"gridcolor\":\"white\",\"linecolor\":\"white\",\"ticks\":\"\",\"title\":{\"standoff\":15},\"zerolinecolor\":\"white\",\"automargin\":true,\"zerolinewidth\":2},\"yaxis\":{\"gridcolor\":\"white\",\"linecolor\":\"white\",\"ticks\":\"\",\"title\":{\"standoff\":15},\"zerolinecolor\":\"white\",\"automargin\":true,\"zerolinewidth\":2},\"scene\":{\"xaxis\":{\"backgroundcolor\":\"#E5ECF6\",\"gridcolor\":\"white\",\"linecolor\":\"white\",\"showbackground\":true,\"ticks\":\"\",\"zerolinecolor\":\"white\",\"gridwidth\":2},\"yaxis\":{\"backgroundcolor\":\"#E5ECF6\",\"gridcolor\":\"white\",\"linecolor\":\"white\",\"showbackground\":true,\"ticks\":\"\",\"zerolinecolor\":\"white\",\"gridwidth\":2},\"zaxis\":{\"backgroundcolor\":\"#E5ECF6\",\"gridcolor\":\"white\",\"linecolor\":\"white\",\"showbackground\":true,\"ticks\":\"\",\"zerolinecolor\":\"white\",\"gridwidth\":2}},\"shapedefaults\":{\"line\":{\"color\":\"#2a3f5f\"}},\"annotationdefaults\":{\"arrowcolor\":\"#2a3f5f\",\"arrowhead\":0,\"arrowwidth\":1},\"geo\":{\"bgcolor\":\"white\",\"landcolor\":\"#E5ECF6\",\"subunitcolor\":\"white\",\"showland\":true,\"showlakes\":true,\"lakecolor\":\"white\"},\"title\":{\"x\":0.05},\"mapbox\":{\"style\":\"light\"}}},\"xaxis\":{\"anchor\":\"y\",\"domain\":[0.0,1.0],\"title\":{\"text\":\"x\"}},\"yaxis\":{\"anchor\":\"x\",\"domain\":[0.0,1.0],\"title\":{\"text\":\"y\"}},\"legend\":{\"title\":{\"text\":\"color\"},\"tracegroupgap\":0},\"margin\":{\"t\":60},\"title\":{\"font\":{\"size\":12},\"text\":\"Datos\",\"x\":0.5,\"xanchor\":\"center\"},\"height\":300,\"width\":300,\"showlegend\":false},                        {\"responsive\": true}                    ).then(function(){\n",
              "                            \n",
              "var gd = document.getElementById('ecf2b953-1399-44f5-8285-5626713c6717');\n",
              "var x = new MutationObserver(function (mutations, observer) {{\n",
              "        var display = window.getComputedStyle(gd).display;\n",
              "        if (!display || display === 'none') {{\n",
              "            console.log([gd, 'removed!']);\n",
              "            Plotly.purge(gd);\n",
              "            observer.disconnect();\n",
              "        }}\n",
              "}});\n",
              "\n",
              "// Listen for the removal of the full notebook cells\n",
              "var notebookContainer = gd.closest('#notebook-container');\n",
              "if (notebookContainer) {{\n",
              "    x.observe(notebookContainer, {childList: true});\n",
              "}}\n",
              "\n",
              "// Listen for the clearing of the current output cell\n",
              "var outputEl = gd.closest('.output');\n",
              "if (outputEl) {{\n",
              "    x.observe(outputEl, {childList: true});\n",
              "}}\n",
              "\n",
              "                        })                };                });            </script>        </div>"
            ]
          },
          "metadata": {},
          "output_type": "display_data"
        }
      ],
      "source": [
        "from sklearn.cluster import KMeans\n",
        "\n",
        "# b.1 aplicar algoritmo\n",
        "# Asegúrate de que tus datos están en un DataFrame con las columnas 'X' y 'Y'\n",
        "model = KMeans(n_clusters=2, random_state=1)\n",
        "model.fit(data[['X', 'Y']])  # Reemplaza 'X1' y 'X2' con 'X' y 'Y' si esas son las columnas correctas en tu DataFrame\n",
        "\n",
        "# b.2 visualizar datos\n",
        "# Utiliza la función visualize_data proporcionada para visualizar los resultados.\n",
        "# Asegúrate de que esta función esté definida en tu entorno y que acepte los argumentos como están siendo pasados aquí.\n",
        "fig = visualize_data(data['X'], data['Y'], labels=model.labels_)\n",
        "fig.show()\n"
      ]
    }
  ],
  "metadata": {
    "colab": {
      "private_outputs": true,
      "provenance": []
    },
    "kernelspec": {
      "display_name": "Python 3 (ipykernel)",
      "language": "python",
      "name": "python3"
    }
  },
  "nbformat": 4,
  "nbformat_minor": 0
}
