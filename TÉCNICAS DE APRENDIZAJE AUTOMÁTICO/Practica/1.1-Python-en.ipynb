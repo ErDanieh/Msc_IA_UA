{
 "cells": [
  {
   "cell_type": "markdown",
   "metadata": {
    "id": "Dzf5ZuzTn2HA"
   },
   "source": [
    "<center><img src=\"https://www.dlsi.ua.es/~juanra/UA/curso_verano_DL/images/python-logo.svg\"></center>\n",
    "\n",
    "# 1.1 Python\n",
    "\n",
    "Instructor: Juan Ramón Rico (<juanramonrico@ua.es>)\n",
    "\n",
    "## Summary\n",
    "---\n",
    "An open-source, general-purpose language. Designed in the late 80s and has evolved to the present day.\n",
    "\n",
    "- Documentation <https://www.python.org/doc/>\n",
    "- Quick Start Tutorial <https://entrenamiento-python-basico.readthedocs.io/es/latest/>\n",
    "\n",
    "---\n"
   ]
  },
  {
   "cell_type": "markdown",
   "metadata": {
    "id": "0IbpEMnPn2HW"
   },
   "source": [
    "# Using Python as a programming language"
   ]
  },
  {
   "cell_type": "markdown",
   "metadata": {
    "id": "tE_Bzup5n2Ha"
   },
   "source": [
    "\"What is Python?\n",
    "\n",
    "- *Python* is an interpreted, cross-platform programming language whose syntax promotes readable code.\n",
    "- It was created in the late 1980s by Guido van Rossum at the Center for Mathematics and Computer Science (CWI) in the Netherlands.\n",
    "- The language's name is derived from its creator's fondness for British comedians Monty Python.\n",
    "- It is a multiparadigm programming language, encompassing object-oriented, imperative, and functional programming.\n",
    "- Modules in C or C++ can be created to accelerate process execution.\n",
    "- Primary website: <https://www.python.org/>\""
   ]
  },
  {
   "cell_type": "markdown",
   "metadata": {
    "id": "KxXeiUrtn2Hg"
   },
   "source": [
    "## Its key advantages\n",
    "\n",
    "- Python Software Foundation License (open-source and free software).\n",
    "- Thanks to the use of packages, it is applied in calculus, linear and symbolic algebra, operating system maintenance, data visualization, statistics, Machine Learning, and Deep Learning.\n",
    "- It boasts a highly active community, continually expanding its application across diverse domains.\n",
    "- Python can be executed within programs or interactively, step by step.\n",
    "- It offers straightforward installation and maintenance through package managers like `pip` (for low-level users) or `Anaconda` (for advanced users and enterprise-oriented applications, see <https://anaconda.org/>).\n",
    "- In local installations, it is recommended to employ a simple and multi-window text editor to facilitate ease of use. Spyder (<https://github.com/spyder-ide/>) serves as a noteworthy example.\n",
    "- Python can be employed as a service, as exemplified by Python notebooks. For instance: [Google Colab](https://colab.research.google.com/) or [Kaggle notebooks](https://www.kaggle.com/docs/notebooks)."
   ]
  },
  {
   "cell_type": "markdown",
   "metadata": {
    "id": "wAfslVLZbOBR"
   },
   "source": [
    "## A Brief History: The Different Eras of Python\n",
    "\n",
    "Jake VanderPlas, a prolific author in the realms of Python and Data Science, in his talk titled \"Everything you need to know to get started in data science in Python\" ([video](https://www.youtube.com/watch?v=DifMYH3iuFw&feature=emb_logo) and [slides](https://speakerdeck.com/jakevdp/pydata-101)), delves into the various epochs of this programming language and expounds upon the prevailing sentiments surrounding it.\n",
    "\n",
    "<div align=\"center\"><img src=\"https://www.dlsi.ua.es/~juanra/UA/curso_verano_DL/images/Python-eras.svg\"></div>\n",
    "\n",
    "Python, in essence, works as an expansive multi-purpose tool utilized across a wide spect\n",
    "rum of domains."
   ]
  },
  {
   "cell_type": "markdown",
   "metadata": {
    "id": "ULsgQcxRn2Hi"
   },
   "source": [
    "# Getting started with Python"
   ]
  },
  {
   "cell_type": "markdown",
   "metadata": {
    "id": "tSDoWsNfn2Hm"
   },
   "source": [
    "## Classic Python installation\n",
    "\n",
    "![Python Logo](https://www.dlsi.ua.es/~juanra/UA/curso_verano_DL/images/Python_web.png)\n",
    "\n",
    "To perform a classic Python installation, follow these steps:\n",
    "\n",
    "1. Access the official Python website at [https://www.python.org/](https://www.python.org/).\n",
    "2. Download the latest version of Python available on the website."
   ]
  },
  {
   "cell_type": "markdown",
   "metadata": {
    "id": "PGh1ElOqn2Ho"
   },
   "source": [
    "## Preparing package installation: The virtual environment\n",
    "\n",
    "To commence, we initiate a terminal session on the respective operating system in use, whether it be Windows, Mac OSX, or Linux.\n",
    "\n",
    "Our objective is to establish a virtual environment, which will streamline the local package installation process.\n",
    "\n",
    "```\n",
    "python3.12 -m venv py12\n",
    "source ./py38/bin/activate\n",
    "```"
   ]
  },
  {
   "cell_type": "markdown",
   "metadata": {
    "id": "26LmKm8YV9y-"
   },
   "source": [
    "In case of following this type of installation we would install the necessary packages with:\n",
    "\n",
    "---\n",
    "\n",
    "\n",
    "`pip install pip -U`\n",
    "\n",
    "`pip install jupyter`\n",
    "\n",
    "---"
   ]
  },
  {
   "cell_type": "markdown",
   "metadata": {
    "id": "lnZLB-IAglRH"
   },
   "source": [
    "## Alternative installers\n",
    "\n",
    "<center><img src=\"https://www.dlsi.ua.es/~juanra/UA/curso_verano_DL/images/conda.png\" height=\"60\"></center>\n",
    "\n",
    "[Conda](https://docs.conda.io/en/latest/): Conda, the latest package installer, offers precompiled packages and a more user-friendly interface compared to `pip`.\n",
    "\n",
    "[Miniconda](https://docs.conda.io/en/latest/miniconda.html): Miniconda is a subset of `Conda` packages, intended for most users' needs using less space than `Conda`.\n",
    "\n",
    "Notwithstanding, my preference still leans toward `pip`. It provides the latest package versions, and for a moderately or highly proficient programmer, it should pose no difficulties."
   ]
  },
  {
   "cell_type": "markdown",
   "metadata": {
    "id": "Y7RrbCr8n2Hy"
   },
   "source": [
    "## Google Colab (Drive)\n",
    "\n",
    "Use of `Python` in the cloud [which we will use in this course]\n",
    "\n",
    "![Google Colab](https://www.dlsi.ua.es/~juanra/UA/curso_verano_DL/images/google_colab1.png)\n",
    "\n",
    "[Google Colab](https://colab.research.google.com/) is a research project aimed at promoting machine learning in the fields of education and research. It provides an environment similar to the `Jupyter notebook` that does not require the installation of software for code editing and execution, as everything is done in the cloud.\n",
    "\n",
    "Colaboratory notebooks utilize [Google Drive](https://drive.google.com) and allow for document sharing as if it were a text document (Docs) or a spreadsheet (Sheets). Colaboratory is available for free with restrictions on storage space and usage time.\n",
    "\n",
    "For further information, please refer to the [FAQ](https://research.google.com/colaboratory/faq.html)."
   ]
  },
  {
   "cell_type": "markdown",
   "metadata": {
    "id": "E3-6zF8On2H2"
   },
   "source": [
    "# Python notebooks in action\n",
    "\n",
    "Listing, upgrading and installing additional packages"
   ]
  },
  {
   "cell_type": "markdown",
   "metadata": {
    "id": "9bpwoV1AGjUb"
   },
   "source": [
    "Knowing which version of Python we are working with:"
   ]
  },
  {
   "cell_type": "code",
   "execution_count": null,
   "metadata": {
    "id": "CEWaXvjJGjUf"
   },
   "outputs": [],
   "source": [
    "!python -V"
   ]
  },
  {
   "cell_type": "markdown",
   "metadata": {
    "id": "6GU80gKfORoX"
   },
   "source": [
    "What packages are installed and what is their version?"
   ]
  },
  {
   "cell_type": "code",
   "execution_count": null,
   "metadata": {
    "id": "Q7c0hvNcOqvH"
   },
   "outputs": [],
   "source": [
    "!pip list"
   ]
  },
  {
   "cell_type": "markdown",
   "metadata": {
    "id": "tX2nRN1XPx4U"
   },
   "source": [
    "Description of a known package e.g. `Pandas`."
   ]
  },
  {
   "cell_type": "code",
   "execution_count": null,
   "metadata": {
    "id": "hOHOPSBpO_hM"
   },
   "outputs": [],
   "source": [
    "!pip show pandas"
   ]
  },
  {
   "cell_type": "markdown",
   "metadata": {
    "id": "p6SvQ9m6G06u"
   },
   "source": [
    "To install or update (-U) new packages we will do it with:"
   ]
  },
  {
   "cell_type": "code",
   "execution_count": null,
   "metadata": {
    "id": "OVkZ5Yf8n2H4"
   },
   "outputs": [],
   "source": [
    "!pip install pandas -U"
   ]
  },
  {
   "cell_type": "markdown",
   "metadata": {
    "id": "BRosXklNQDdw"
   },
   "source": [
    "**Exercise:**\n",
    "\n",
    "- Which version of the vector util package `Numpy` is installed?\n",
    "- And of the graphics visualization package `Matplotlib`?"
   ]
  },
  {
   "cell_type": "markdown",
   "metadata": {
    "id": "HVon2cKLf1Gv"
   },
   "source": [
    "# Basic and advanced Packages\n",
    "\n",
    "The Python programming language is equipped to extend its functionalities through the utilization of various libraries or packages, which facilitate specific tasks. In this section, we will present a selection of these libraries along with brief descriptions of their primary features.\n",
    "\n",
    "## NumPy\n",
    "<center><img src=\"https://www.dlsi.ua.es/~juanra/UA/curso_verano_DL/images/numpy-logo.jpg\" height=\"100\"></center>\n",
    "\n",
    "NumPy enables the use of vectors and vector operations in an easy and efficient manner. Additionally, many other packages are constructed by leveraging NumPy.\n",
    "- Documentation: [NumPy User Guide](https://docs.scipy.org/doc/numpy/user/)\n",
    "- Quick Start Tutorial: [NumPy Quickstart](https://docs.scipy.org/doc/numpy/user/quickstart.html)\n",
    "\n",
    "\n",
    "## Pandas\n",
    "<center><img src=\"https://www.dlsi.ua.es/~juanra/UA/curso_verano_DL/images/pandas-logo.png\" height=\"100\"></center>\n",
    "\n",
    "\n",
    "Pandas is a high-performance package for tabular data structures, data analysis, and data visualization. It is built on top of NumPy and Matplotlib.\n",
    "- Documentation: [Pandas Documentation](https://pandas.pydata.org/pandas-docs/stable/)\n",
    "- Quick Start Tutorial: [10 Minutes to Pandas](https://pandas.pydata.org/pandas-docs/stable/10min.html)\n",
    "\n",
    "\n",
    "## Scikit-Learn\n",
    "<center><img src=\"https://www.dlsi.ua.es/~juanra/UA/curso_verano_DL/images/sklearn-logo.png\" height=\"100\"></center>\n",
    "\n",
    "Scikit-Learn is the primary general-purpose machine learning package in Python. It offers a wide range of algorithms and modules for tasks such as data preprocessing, validation, hyperparameter tuning, and model calibration for classification, regression, or clustering problems.\n",
    "- Documentation: [Scikit-Learn Documentation](http://scikit-learn.org/stable/documentation.html)\n",
    "- Quick Start Tutorial: [Python Machine Learning Tutorial with Scikit-Learn](http://elitedatascience.com/python-machine-learning-tutorial-scikit-learn)\n",
    "\n",
    "\n",
    "## Plotnine\n",
    "<center><img src=\"https://www.dlsi.ua.es/~juanra/UA/curso_verano_DL/images/plotnine-logo.png\" height=\"100\"></center>\n",
    "\n",
    "Although Matplotlib is the most widely used plotting library in Python, Plotnine is a recent addition that makes it easier to create common data visualizations by providing a user-friendly way to combine different types of charts. It is built on top of Matplotlib and offers high-level facilities (similar to R's ggplot2 package).\n",
    "- Documentation: [Plotnine Documentation](https://plotnine.readthedocs.io/en/stable/index.html)\n",
    "- Quick Start Tutorials: [Plotnine Tutorials](https://plotnine.readthedocs.io/en/stable/tutorials.html)\n",
    "\n",
    "\n",
    "## Plotly\n",
    "<center><img src=\"https://www.dlsi.ua.es/~juanra/UA/curso_verano_DL/images/plotly-logo.png\" height=\"100\"></center>\n",
    "\n",
    "While the aforementioned plotting packages are oriented towards static graphics, Plotly specializes in interactive graphics.\n",
    "- Documentation: [Plotly Python Documentation](https://plotly.com/python/)"
   ]
  },
  {
   "cell_type": "markdown",
   "metadata": {
    "id": "XQD4xTu6n2Io"
   },
   "source": [
    "# Reviewing Python"
   ]
  },
  {
   "cell_type": "markdown",
   "metadata": {
    "id": "EOyLy-NupelJ"
   },
   "source": [
    "## Basic operations"
   ]
  },
  {
   "cell_type": "markdown",
   "metadata": {
    "id": "4W_MIlu4aFAR"
   },
   "source": [
    "### Addition and subtraction\n",
    "\n",
    "Let's practice as if it were a calculator:\n",
    "\n",
    "<table>\n",
    "  <tr><td>2+2 </td><td> 2+float('inf') </td><td> float('inf')+float('inf') </td><td> 2-2 </td><td> 2-float('inf') </td><td> float('inf')-float('inf')</td></tr>\n",
    "</table>\n"
   ]
  },
  {
   "cell_type": "code",
   "execution_count": null,
   "metadata": {
    "id": "FdMtfDWNn2Iq"
   },
   "outputs": [],
   "source": [
    "float('inf')-float('inf')"
   ]
  },
  {
   "cell_type": "markdown",
   "metadata": {
    "id": "6M8TVi-gn2I-"
   },
   "source": [
    "### Multiplication and division\n",
    "\n",
    "<table>\n",
    "<tr><td> 2*2 </td><td> 2*0 </td><td> 2*float('inf') </td><td> float('inf')*float('inf') </td><td> float('inf')*0 </td></tr>\n",
    "<tr><td> 0/0 </td><td> 0/2 </td><td> 2/0 </td><td> float('inf')/float('inf') </td><td> float('inf')/0 </td></tr>\n",
    " <table>\n"
   ]
  },
  {
   "cell_type": "code",
   "execution_count": null,
   "metadata": {
    "id": "LBsdEYPfn2JG"
   },
   "outputs": [],
   "source": [
    "2*2"
   ]
  },
  {
   "cell_type": "markdown",
   "metadata": {
    "id": "ZTfU0B6Gn2JS"
   },
   "source": [
    "### Other Basic Operations\n",
    "\n",
    "#### Integer Division and Modulus\n",
    "\n",
    "`5 // 2`\n",
    "\n",
    "`5 % 2`\n",
    "\n",
    "#### Exponents\n",
    "\n",
    "`2**3`\n"
   ]
  },
  {
   "cell_type": "code",
   "execution_count": null,
   "metadata": {
    "id": "P7ZfhyTun2JW"
   },
   "outputs": [],
   "source": [
    "5//2"
   ]
  },
  {
   "cell_type": "markdown",
   "metadata": {
    "id": "BrD_UiUFn2Jm"
   },
   "source": [
    "## Special features of Python\n",
    "\n",
    "- *Python*, like *R*, deals with **nan** (Not a Number) and **NA** (Not Available) values in its operations and **functions**.\n",
    "\n",
    "-\n",
    "\n",
    "## Características especiales de Python\n",
    "\n",
    "- *Python* al igual que *R* trabaja con números **nan** (Not a Number) no definidos o valores no disponibles **NA** (Not Available) en la operaciones y en sus **funciones**\n",
    "\n",
    "- Most **most** common programming languages would stop and display an **error** message.\n",
    "\n",
    "```\n",
    "sum([2,3])\n",
    "sum([2,float('nan')])\n",
    "```\n",
    "\n",
    "- In bellow sections, we will see how data absence is handled.\n"
   ]
  },
  {
   "cell_type": "markdown",
   "metadata": {
    "id": "cDKn1foxn2Jq"
   },
   "source": [
    "## Variables, basic types, conditions, and loops"
   ]
  },
  {
   "cell_type": "markdown",
   "metadata": {
    "id": "pUqAZWKfoVdY"
   },
   "source": [
    "### Numbers\n",
    "\n",
    "- `Python` can be used directly as a **calculator**.\n",
    "- The **values** or the results of operations can be stored in **variables**."
   ]
  },
  {
   "cell_type": "code",
   "execution_count": null,
   "metadata": {
    "id": "T0nA_uUNn2Js"
   },
   "outputs": [],
   "source": [
    "a = 2*4+7-4\n",
    "print(f'a: {a}')\n",
    "\n",
    "b = 5/2+a\n",
    "print(f'b: {b}')\n",
    "\n",
    "c = 5//2+a\n",
    "print(f'c: {c}')\n"
   ]
  },
  {
   "cell_type": "markdown",
   "metadata": {
    "id": "nteHGMs_lS2e"
   },
   "source": [
    "### Strings"
   ]
  },
  {
   "cell_type": "code",
   "execution_count": null,
   "metadata": {
    "id": "9wSx5vbilWMI"
   },
   "outputs": [],
   "source": [
    "a = 'Example 1 with a single quote'\n",
    "print(a)\n",
    "\n",
    "b = \"Example 1 with a double quotes\"\n",
    "print(b)"
   ]
  },
  {
   "cell_type": "markdown",
   "metadata": {
    "id": "IEf3gANvm5Ay"
   },
   "source": [
    "### Lists"
   ]
  },
  {
   "cell_type": "code",
   "execution_count": null,
   "metadata": {
    "id": "AQk4pqX9m66a"
   },
   "outputs": [],
   "source": [
    "my_list = ['one', 'two', 'three']\n",
    "\n",
    "for item in my_list:\n",
    "    print(item)\n",
    "\n",
    "my_list.remove('one')\n",
    "my_list.append('four')\n",
    "\n",
    "for item in my_list:\n",
    "    print('new', item)"
   ]
  },
  {
   "cell_type": "markdown",
   "metadata": {
    "id": "iz7t51FFpyH2"
   },
   "source": [
    "### Sets"
   ]
  },
  {
   "cell_type": "code",
   "execution_count": null,
   "metadata": {
    "id": "yatkxiVXpz-B"
   },
   "outputs": [],
   "source": [
    "my_list = ['one', 'two', 'three', 'three']\n",
    "my_set = set(my_list)\n",
    "print(my_set)\n",
    "\n",
    "print(f'\\'one\\' belongs to the set: {\"one\" in my_set}')\n",
    "print(f'\\'four\\' belongs to the set: {\"four\" in my_set}')"
   ]
  },
  {
   "cell_type": "markdown",
   "metadata": {
    "id": "O6e0-LSkllxs"
   },
   "source": [
    "### Dictionaries"
   ]
  },
  {
   "cell_type": "code",
   "execution_count": null,
   "metadata": {
    "id": "tHvdPzXsloym"
   },
   "outputs": [],
   "source": [
    "str_to_num = {'one': 1, 'two': 2, 'three': 3}\n",
    "num_to_str = {1: 'one', 2: 'two', 3: 'three'}\n",
    "\n",
    "print(f'\\'one\\' -> {str_to_num[\"one\"]}')\n",
    "print(f'1 -> {num_to_str[1]}')\n",
    "\n",
    "print(f'All items in str_to_num')\n",
    "for key, value in str_to_num.items():\n",
    "    print(f'\\t{key} -> {value}')\n",
    "\n",
    "\n",
    "# Accessing a key that does not exist using the 'get' method\n",
    "print(str_to_num.get('four'))\n",
    "\n",
    "# Accessing a key that does not exist using brackets [] will result in an error\n",
    "try:\n",
    "    print(str_to_num['four'])\n",
    "except KeyError:\n",
    "    print('The key does not exist')"
   ]
  },
  {
   "cell_type": "markdown",
   "metadata": {
    "id": "Ks9RI5pGkHpt"
   },
   "source": [
    "### Condicions"
   ]
  },
  {
   "cell_type": "code",
   "execution_count": null,
   "metadata": {
    "id": "2ZMRddW5kKb0"
   },
   "outputs": [],
   "source": [
    "a = 1\n",
    "if a > 1:\n",
    "    print('Variable \"a\" is greater than 1')\n",
    "else:\n",
    "    print('Variable \"a\" is NOT greater than 1')"
   ]
  },
  {
   "cell_type": "code",
   "execution_count": null,
   "metadata": {
    "id": "DgmTLP-ZklFA"
   },
   "outputs": [],
   "source": [
    "a = 1\n",
    "b = 2\n",
    "if a > 1 and b > 1:\n",
    "    print(f'{a} and {b} are greater than 1')\n",
    "else:\n",
    "    print(f'{a} and {b} are NOT greater than 1')"
   ]
  },
  {
   "cell_type": "code",
   "execution_count": null,
   "metadata": {
    "id": "p7MVfc11lBCB"
   },
   "outputs": [],
   "source": [
    "a = 1\n",
    "b = 2\n",
    "if a > 1 or b > 1:\n",
    "    print(f'Either {a} or {b} is greater than 1')\n",
    "else:\n",
    "    print(f'Neither {a} nor {b} is greater than 1')"
   ]
  },
  {
   "cell_type": "markdown",
   "metadata": {
    "id": "2mA8YT2qtMF0"
   },
   "source": [
    "### Loops"
   ]
  },
  {
   "cell_type": "markdown",
   "metadata": {
    "id": "zxCxn9m4tQIQ"
   },
   "source": [
    "#### for loop"
   ]
  },
  {
   "cell_type": "code",
   "execution_count": null,
   "metadata": {
    "id": "OvP8-ZPHtRkf"
   },
   "outputs": [],
   "source": [
    "my_list = ['one', 'two', 'three', 'three']\n",
    "for item in my_list:\n",
    "    print(item)\n",
    "\n",
    "for i in range(len(my_list)):\n",
    "    print(f'{i} {my_list[i]}')"
   ]
  },
  {
   "cell_type": "markdown",
   "metadata": {
    "id": "sNkiuXTbt3kQ"
   },
   "source": [
    "#### while loop"
   ]
  },
  {
   "cell_type": "code",
   "execution_count": 1,
   "metadata": {
    "id": "zgHR5yW-t9FA"
   },
   "outputs": [
    {
     "name": "stdout",
     "output_type": "stream",
     "text": [
      "0\n",
      "1\n",
      "2\n",
      "3\n",
      "4\n"
     ]
    },
    {
     "ename": "NameError",
     "evalue": "name 'np' is not defined",
     "output_type": "error",
     "traceback": [
      "\u001b[0;31m---------------------------------------------------------------------------\u001b[0m",
      "\u001b[0;31mNameError\u001b[0m                                 Traceback (most recent call last)",
      "Cell \u001b[0;32mIn[1], line 6\u001b[0m\n\u001b[1;32m      3\u001b[0m     \u001b[38;5;28mprint\u001b[39m(i)\n\u001b[1;32m      4\u001b[0m     i \u001b[38;5;241m+\u001b[39m\u001b[38;5;241m=\u001b[39m \u001b[38;5;241m1\u001b[39m\n\u001b[0;32m----> 6\u001b[0m np\u001b[38;5;241m.\u001b[39marange(\u001b[38;5;241m6\u001b[39m)\u001b[38;5;241m.\u001b[39mreshape((\u001b[38;5;241m2\u001b[39m,\u001b[38;5;241m3\u001b[39m))\n",
      "\u001b[0;31mNameError\u001b[0m: name 'np' is not defined"
     ]
    }
   ],
   "source": [
    "i = 0\n",
    "while i < 5:\n",
    "    print(i)\n",
    "    i += 1\n",
    "    \n",
    "np.arange(6).reshape((2,3))"
   ]
  },
  {
   "cell_type": "markdown",
   "metadata": {
    "id": "YxG9bRlY39YL"
   },
   "source": [
    "---\n",
    "\n",
    "# Summary"
   ]
  },
  {
   "cell_type": "markdown",
   "metadata": {
    "id": "H5ESNcU23_e-"
   },
   "source": [
    "* Employment of the **Python** programming language for data analysis in a general context and, specifically, for **Machine Learning**.\n",
    "* Illustrative instances of Python **code**.\n"
   ]
  }
 ],
 "metadata": {
  "colab": {
   "provenance": [],
   "toc_visible": true
  },
  "kernelspec": {
   "display_name": "Python 3 (ipykernel)",
   "language": "python",
   "name": "python3"
  },
  "language_info": {
   "codemirror_mode": {
    "name": "ipython",
    "version": 3
   },
   "file_extension": ".py",
   "mimetype": "text/x-python",
   "name": "python",
   "nbconvert_exporter": "python",
   "pygments_lexer": "ipython3",
   "version": "3.11.5"
  }
 },
 "nbformat": 4,
 "nbformat_minor": 1
}
