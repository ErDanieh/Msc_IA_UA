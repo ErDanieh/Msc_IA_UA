{
 "cells": [
  {
   "cell_type": "markdown",
   "metadata": {
    "id": "Dzf5ZuzTn2HA"
   },
   "source": [
    "<center><img src=\"https://www.dlsi.ua.es/~juanra/UA/curso_verano_DL/images/numpy-logo.jpg\" height=\"100\"></center>\n",
    "\n",
    "# 1.2 Use of Vectors with Numpy\n",
    "\n",
    "Instructor: Juan Ramón Rico (<juanramonrico@ua.es>)\n",
    "\n",
    "## Summary\n",
    "---\n",
    "**NumPy** allows for easy and efficient handling of vectors, and many other packages are built on top of it.\n",
    "- Documentation <https://docs.scipy.org/doc/numpy/user/>\n",
    "- Quickstart Tutorial <https://docs.scipy.org/doc/numpy/user/quickstart.html>\n",
    "\n",
    "---\n"
   ]
  },
  {
   "cell_type": "markdown",
   "metadata": {
    "id": "rDD0bMFNn2J2"
   },
   "source": [
    "# Vectors with Numpy\n",
    "\n",
    "To use vectors and operations between them, it is convenient to use the `NumPy` package. It is very fast and efficient in memory usage.\n",
    "\n",
    "`pip install numpy`\n",
    "\n",
    "- Vectors will be composed of numbers or strings to perform operations"
   ]
  },
  {
   "cell_type": "markdown",
   "metadata": {
    "id": "Jdoqn2pLkNqh"
   },
   "source": [
    "## Vectors (1D)"
   ]
  },
  {
   "cell_type": "code",
   "execution_count": 6,
   "metadata": {
    "id": "Z7eOMZYmkNql"
   },
   "outputs": [
    {
     "name": "stdout",
     "output_type": "stream",
     "text": [
      "Integer vector a: [1 2 3]\n",
      "String vector b: ['good' 'morning']\n"
     ]
    },
    {
     "data": {
      "text/plain": [
       "array([[0, 1, 2],\n",
       "       [3, 4, 5]])"
      ]
     },
     "execution_count": 6,
     "metadata": {},
     "output_type": "execute_result"
    }
   ],
   "source": [
    "import numpy as np\n",
    "\n",
    "a = np.array([1,2,3])\n",
    "\n",
    "print(f'Integer vector a: {a}')\n",
    "\n",
    "b = np.array(['good','morning'])\n",
    "print(f'String vector b: {b}')\n",
    "\n",
    "a = [1,2,3]\n",
    "a.remove(1)\n",
    "\n",
    "np.arange(6).reshape((2,3))"
   ]
  },
  {
   "cell_type": "markdown",
   "metadata": {
    "id": "_Uf4tBjPf14h"
   },
   "source": [
    "### Index Access (Numpy)"
   ]
  },
  {
   "cell_type": "code",
   "execution_count": 3,
   "metadata": {
    "id": "LwQXjGYqgN4P"
   },
   "outputs": [
    {
     "name": "stdout",
     "output_type": "stream",
     "text": [
      "Complete vector a=[1 2 3]\n",
      "Access at position a[0]=1\n",
      "Access from the start to a position a[:2]=[1 2]\n",
      "Access from a position to the end a[2:]=[3]\n",
      "Access from one position to another a[1:2]=[2]\n",
      "Access to the last element a[-1]=3\n"
     ]
    }
   ],
   "source": [
    "print(f'Complete vector a={a}')\n",
    "print(f'Access at position a[0]={a[0]}')\n",
    "print(f'Access from the start to a position a[:2]={a[:2]}')\n",
    "print(f'Access from a position to the end a[2:]={a[2:]}')\n",
    "print(f'Access from one position to another a[1:2]={a[1:2]}')\n",
    "print(f'Access to the last element a[-1]={a[-1]}')"
   ]
  },
  {
   "cell_type": "markdown",
   "metadata": {
    "id": "WY2Zzr6qn2KI"
   },
   "source": [
    "### Numeric Vectors"
   ]
  },
  {
   "cell_type": "code",
   "execution_count": 4,
   "metadata": {
    "id": "zCSFCZ_qn2KK"
   },
   "outputs": [
    {
     "name": "stdout",
     "output_type": "stream",
     "text": [
      "a+a: [2 4 6]\n",
      "a*a: [1 4 9]\n",
      "a/a: [1. 1. 1.]\n"
     ]
    }
   ],
   "source": [
    "a = np.array([1,2,3])\n",
    "print(f'a+a: {a+a}')\n",
    "print(f'a*a: {a*a}')\n",
    "print(f'a/a: {a/a}')"
   ]
  },
  {
   "cell_type": "markdown",
   "metadata": {
    "id": "PmRlI3IIn2Kw"
   },
   "source": [
    "### Functions on Numeric Vectors"
   ]
  },
  {
   "cell_type": "code",
   "execution_count": 5,
   "metadata": {
    "id": "JihnH5hrn2Ky"
   },
   "outputs": [
    {
     "name": "stdout",
     "output_type": "stream",
     "text": [
      "Sum of a: 10\n",
      "Mean of a: 2.5\n",
      "Standard deviation of a: 1.12\n"
     ]
    }
   ],
   "source": [
    "a = np.array([1,2,3,4])\n",
    "print(f'Sum of a: {a.sum()}')\n",
    "print(f'Mean of a: {a.mean()}')\n",
    "print(f'Standard deviation of a: {a.std():.2f}')"
   ]
  },
  {
   "cell_type": "markdown",
   "metadata": {
    "id": "reOl4Gnnn2K-"
   },
   "source": [
    "Help on functions:\n",
    "\n",
    "- `np.sum?`\n",
    "- `np.mean?`\n",
    "- `np.std?`"
   ]
  },
  {
   "cell_type": "code",
   "execution_count": 6,
   "metadata": {
    "id": "5NT56le4n2LG"
   },
   "outputs": [
    {
     "data": {
      "text/plain": [
       "array([-0.8044583 ,  0.32093155, -0.02548288,  0.64432383, -0.30079667,\n",
       "        0.38947455, -0.1074373 , -0.47998308,  0.5950355 , -0.46466753,\n",
       "        0.66728131, -0.80611561, -1.19606983, -0.40596016, -0.18237734,\n",
       "        0.10319289, -0.13842199,  0.70569237,  1.27179528, -0.98674733,\n",
       "       -0.33483545, -0.0994817 ,  0.4071921 ,  0.91938754,  0.31211801,\n",
       "        1.53316107, -0.55017387, -0.38314741, -0.82294096,  1.60008337,\n",
       "       -0.0692813 ,  0.08320949, -0.32692468, -0.04579719, -0.30446006,\n",
       "        1.92301013, -0.078659  , -0.58206572, -1.61798224,  0.86726082,\n",
       "       -1.04043709,  0.65042142,  2.69964586,  0.80202451, -1.09692126,\n",
       "       -0.17805445, -0.42287048, -0.33040055, -1.11116278, -0.74200575,\n",
       "        2.57475919,  1.07321332, -1.86613451, -0.64717693,  1.08224081,\n",
       "        0.17667032, -0.83532823, -1.69499832,  1.13341723,  1.04853072,\n",
       "       -2.12832537, -1.43713939,  0.17793711,  1.39442275,  0.29132019,\n",
       "       -0.08200619,  0.64424261,  0.32807995,  0.85743275, -0.93696928,\n",
       "        0.18007496, -1.42337059, -0.36775578, -1.52328799, -0.6347717 ,\n",
       "        0.98740384, -1.01601962,  2.04572375,  0.24999852,  0.65116253,\n",
       "       -1.26602354,  1.3741556 , -0.60990513,  0.03075795,  0.81965668,\n",
       "        1.45431373, -0.58367645,  0.41534745,  0.66702578,  0.8694953 ,\n",
       "       -1.20270333,  2.86176918, -2.68159245, -1.16881176, -0.58416422,\n",
       "        0.8182497 ,  1.59043723, -0.25828823,  0.44702904,  1.93841974])"
      ]
     },
     "execution_count": 6,
     "metadata": {},
     "output_type": "execute_result"
    }
   ],
   "source": [
    "# Let's try the following instructions:\n",
    "\n",
    "np.random.seed(1000)\n",
    "\n",
    "vn100 = np.random.normal(size=100)\n",
    "vn100"
   ]
  },
  {
   "cell_type": "markdown",
   "metadata": {
    "id": "0IWXygl6n2LY"
   },
   "source": [
    "> **Note:** The function `np.random.seed` is used when we want experiments to be faithfully reproducible without variation. This feature could be used to teach courses and ensure that results do not vary, or to detect errors in calculations. Otherwise, it is omitted so that the numbers are random (pseudo-random) and the experiments contain this characteristic."
   ]
  },
  {
   "cell_type": "markdown",
   "metadata": {
    "id": "d3MC7JL-n2La"
   },
   "source": [
    "## Vectors - Examples with unknown values (nan)\n",
    "\n",
    "### By default"
   ]
  },
  {
   "cell_type": "code",
   "execution_count": 1,
   "metadata": {
    "id": "sA-B2Vkkn2Lc"
   },
   "outputs": [
    {
     "ename": "NameError",
     "evalue": "name 'np' is not defined",
     "output_type": "error",
     "traceback": [
      "\u001b[0;31m---------------------------------------------------------------------------\u001b[0m",
      "\u001b[0;31mNameError\u001b[0m                                 Traceback (most recent call last)",
      "Cell \u001b[0;32mIn[1], line 1\u001b[0m\n\u001b[0;32m----> 1\u001b[0m a \u001b[38;5;241m=\u001b[39m np\u001b[38;5;241m.\u001b[39marray([\u001b[38;5;241m1\u001b[39m,\u001b[38;5;241m2\u001b[39m,\u001b[38;5;28mfloat\u001b[39m(\u001b[38;5;124m'\u001b[39m\u001b[38;5;124mnan\u001b[39m\u001b[38;5;124m'\u001b[39m)])\n\u001b[1;32m      2\u001b[0m \u001b[38;5;28mprint\u001b[39m(\u001b[38;5;124mf\u001b[39m\u001b[38;5;124m'\u001b[39m\u001b[38;5;124ma.sum: \u001b[39m\u001b[38;5;132;01m{\u001b[39;00ma\u001b[38;5;241m.\u001b[39msum()\u001b[38;5;132;01m}\u001b[39;00m\u001b[38;5;124m'\u001b[39m)\n\u001b[1;32m      3\u001b[0m \u001b[38;5;28mprint\u001b[39m(\u001b[38;5;124mf\u001b[39m\u001b[38;5;124m'\u001b[39m\u001b[38;5;124ma.mean: \u001b[39m\u001b[38;5;132;01m{\u001b[39;00ma\u001b[38;5;241m.\u001b[39mmean()\u001b[38;5;132;01m}\u001b[39;00m\u001b[38;5;124m'\u001b[39m)\n",
      "\u001b[0;31mNameError\u001b[0m: name 'np' is not defined"
     ]
    }
   ],
   "source": [
    "a = np.array([1,2,float('nan')])\n",
    "print(f'a.sum: {a.sum()}')\n",
    "print(f'a.mean: {a.mean()}')\n",
    "print(f'a.std: {a.std():.2f}')"
   ]
  },
  {
   "cell_type": "markdown",
   "metadata": {
    "id": "xq4335Mdn2Lo"
   },
   "source": [
    "### Taking into account undefined or indeterminate numbers"
   ]
  },
  {
   "cell_type": "code",
   "execution_count": 7,
   "metadata": {
    "id": "sThq8RXJn2Lo"
   },
   "outputs": [
    {
     "name": "stdout",
     "output_type": "stream",
     "text": [
      "np.nansum(a): 10\n",
      "np.nanmean(a): 2.5\n",
      "np.nanstd(a): 1.12\n"
     ]
    }
   ],
   "source": [
    "print(f'np.nansum(a): {np.nansum(a)}')\n",
    "print(f'np.nanmean(a): {np.nanmean(a)}')\n",
    "print(f'np.nanstd(a): {np.nanstd(a):.2f}')"
   ]
  },
  {
   "cell_type": "markdown",
   "metadata": {
    "id": "N-2Qjzuxn2Lu"
   },
   "source": [
    "## Vectors - Examples with characters"
   ]
  },
  {
   "cell_type": "code",
   "execution_count": null,
   "metadata": {
    "id": "mudHU3dGn2L4"
   },
   "outputs": [],
   "source": [
    "b = np.array([\"good\",\"morning\"])\n",
    "print(f'b+b: {np.core.defchararray.add(b, b)}')\n",
    "print(f'\\'hello\\'*3: {\"hello\"*3}')"
   ]
  },
  {
   "cell_type": "markdown",
   "metadata": {
    "id": "jkoWYmqLn2MQ"
   },
   "source": [
    "## Matrices (2D)\n",
    "\n",
    "First we are going to create data matrices and later we will import them from a text file type **.csv** or (.xlsx/.xls**(Excel) which is the most common.\n",
    "\n",
    "Creating and storing matrices"
   ]
  },
  {
   "cell_type": "code",
   "execution_count": null,
   "metadata": {
    "id": "s7dQRjM-n2MS"
   },
   "outputs": [],
   "source": [
    "mat1 = np.array([[1,2],[3,4],[5,6]])\n",
    "mat1"
   ]
  },
  {
   "cell_type": "code",
   "execution_count": null,
   "metadata": {
    "id": "hBbF89YOoiJB"
   },
   "outputs": [],
   "source": [
    "# It can also be done with...\n",
    "\n",
    "mat1 = np.arange(1,7).reshape((3,2))\n",
    "mat1"
   ]
  },
  {
   "cell_type": "markdown",
   "metadata": {
    "id": "dbvLJfg-piuB"
   },
   "source": [
    "**Exercise**:\n",
    "\n",
    "* We look for information about the `arange` and `reshape` functions.\n",
    "* We discuss what each one is for."
   ]
  },
  {
   "cell_type": "code",
   "execution_count": null,
   "metadata": {
    "id": "u3aDYSQQn2MY"
   },
   "outputs": [],
   "source": [
    "mat2 = np.array([[1,2,3],[4,5,6]])\n",
    "mat2"
   ]
  },
  {
   "cell_type": "code",
   "execution_count": null,
   "metadata": {
    "id": "MTTEz1Rqo6zs"
   },
   "outputs": [],
   "source": [
    "# In the same way as before it can also be done with...\n",
    "\n",
    "mat2 = np.arange(1,7).reshape((2,3))\n",
    "mat2"
   ]
  },
  {
   "cell_type": "code",
   "execution_count": null,
   "metadata": {
    "id": "NHrcl2FDn2Mc"
   },
   "outputs": [],
   "source": [
    "# Scalar product\n",
    "\n",
    "mat1*mat1"
   ]
  },
  {
   "cell_type": "code",
   "execution_count": null,
   "metadata": {
    "id": "UZEr287pn2Mi"
   },
   "outputs": [],
   "source": [
    "# Vector product\n",
    "\n",
    "np.dot(mat1, mat2)"
   ]
  },
  {
   "cell_type": "markdown",
   "metadata": {
    "id": "YxG9bRlY39YL"
   },
   "source": [
    "---\n",
    "\n",
    "# Summary"
   ]
  },
  {
   "cell_type": "markdown",
   "metadata": {
    "id": "H5ESNcU23_e-"
   },
   "source": [
    "* **NumPy** as a basic package for vector data manipulation.\n",
    "* These structures will serve us to load data into memory, train and evaluate **Machine Learning** or **Deep Learning** algorithms."
   ]
  }
 ],
 "metadata": {
  "colab": {
   "provenance": []
  },
  "kernelspec": {
   "display_name": "Python 3 (ipykernel)",
   "language": "python",
   "name": "python3"
  },
  "language_info": {
   "codemirror_mode": {
    "name": "ipython",
    "version": 3
   },
   "file_extension": ".py",
   "mimetype": "text/x-python",
   "name": "python",
   "nbconvert_exporter": "python",
   "pygments_lexer": "ipython3",
   "version": "3.11.5"
  }
 },
 "nbformat": 4,
 "nbformat_minor": 1
}
