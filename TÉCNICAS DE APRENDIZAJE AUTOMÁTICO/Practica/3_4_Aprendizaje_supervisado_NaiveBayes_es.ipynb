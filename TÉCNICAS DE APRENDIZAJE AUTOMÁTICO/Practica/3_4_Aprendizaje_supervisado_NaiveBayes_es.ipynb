{
 "cells": [
  {
   "cell_type": "markdown",
   "metadata": {
    "id": "HoAFoB625Jy1"
   },
   "source": [
    "# 3.4 Aprendizaje supervisado: Naive Bayes\n",
    "\n",
    "Profesor: Juan Ramón Rico (<juanramonrico@ua.es>)\n",
    "\n",
    "## Resumen\n",
    "---\n",
    "\n",
    "Se presentarán los principios básicos de los algoritmos Bayesianos, concretamente el conocido como Naive Bayes.\n",
    "\n",
    "Parte de estos ejemplos están basados en los ejemos de https://www.geeksforgeeks.org/naive-bayes-classifiers/"
   ]
  },
  {
   "cell_type": "code",
   "execution_count": 2,
   "metadata": {
    "id": "DreCFA-96doE"
   },
   "outputs": [],
   "source": [
    "import numpy as np\n",
    "import pandas as pd"
   ]
  },
  {
   "cell_type": "markdown",
   "metadata": {
    "id": "Lhqv6_4y5WYl"
   },
   "source": [
    "# Ejemplo de cálculo de probabilidades con Naive Bayes\n",
    "\n",
    "Teorema de Bayes:\n",
    "\n",
    "- La probabilidad de un evento $A$ condicionado a otro evento $B$ se puede calcular como: $$P(A|B) = \\frac{P(A \\cap B)}{P(B)} = \\frac{P(B|A) P(A)}{P(B)}$$ donde $P(A \\cap B)$ es la probabilidad de que $A$ y $B$ ocurran a la vez, y $P(B)$ denota la probabilidad de $B$.\n",
    "\n",
    "- En clasificación asumimos independencia entre variables y la normalización la fórmula es: $$P(y | x_1, x_2,\\dots,x_n) = \\frac{P(y) \\prod_{n=1}^{n} P(x_i|y)}{\\sum_j P(y_j) \\prod_{n=1}^{n} P(x_i|y_j)}$$ siendo $y$ una clase de la variable objetivo, $P(y)$ la probabilidad de la clase $y$ y $P(x_i|y)$ la probabilidad condicional de $x_i$ dado $y$. La clase sería la que consiguiera mayor probabilidad: $$y = argmax_{y_j} \\; P(y_j | x_1, x_2,\\dots,x_n)$$\n"
   ]
  },
  {
   "cell_type": "code",
   "execution_count": 3,
   "metadata": {
    "id": "pudFEo_c5BVQ"
   },
   "outputs": [
    {
     "data": {
      "text/html": [
       "<div>\n",
       "<style scoped>\n",
       "    .dataframe tbody tr th:only-of-type {\n",
       "        vertical-align: middle;\n",
       "    }\n",
       "\n",
       "    .dataframe tbody tr th {\n",
       "        vertical-align: top;\n",
       "    }\n",
       "\n",
       "    .dataframe thead th {\n",
       "        text-align: right;\n",
       "    }\n",
       "</style>\n",
       "<table border=\"1\" class=\"dataframe\">\n",
       "  <thead>\n",
       "    <tr style=\"text-align: right;\">\n",
       "      <th></th>\n",
       "      <th>weather</th>\n",
       "      <th>temperature</th>\n",
       "      <th>humidity</th>\n",
       "      <th>wind</th>\n",
       "      <th>play</th>\n",
       "    </tr>\n",
       "  </thead>\n",
       "  <tbody>\n",
       "    <tr>\n",
       "      <th>0</th>\n",
       "      <td>sunny</td>\n",
       "      <td>high</td>\n",
       "      <td>high</td>\n",
       "      <td>no</td>\n",
       "      <td>no</td>\n",
       "    </tr>\n",
       "    <tr>\n",
       "      <th>1</th>\n",
       "      <td>sunny</td>\n",
       "      <td>high</td>\n",
       "      <td>high</td>\n",
       "      <td>yes</td>\n",
       "      <td>no</td>\n",
       "    </tr>\n",
       "    <tr>\n",
       "      <th>2</th>\n",
       "      <td>overcast</td>\n",
       "      <td>high</td>\n",
       "      <td>high</td>\n",
       "      <td>no</td>\n",
       "      <td>yes</td>\n",
       "    </tr>\n",
       "    <tr>\n",
       "      <th>3</th>\n",
       "      <td>rain</td>\n",
       "      <td>medium</td>\n",
       "      <td>high</td>\n",
       "      <td>no</td>\n",
       "      <td>yes</td>\n",
       "    </tr>\n",
       "    <tr>\n",
       "      <th>4</th>\n",
       "      <td>rain</td>\n",
       "      <td>low</td>\n",
       "      <td>normal</td>\n",
       "      <td>no</td>\n",
       "      <td>yes</td>\n",
       "    </tr>\n",
       "    <tr>\n",
       "      <th>5</th>\n",
       "      <td>rain</td>\n",
       "      <td>low</td>\n",
       "      <td>normal</td>\n",
       "      <td>yes</td>\n",
       "      <td>no</td>\n",
       "    </tr>\n",
       "    <tr>\n",
       "      <th>6</th>\n",
       "      <td>overcast</td>\n",
       "      <td>low</td>\n",
       "      <td>normal</td>\n",
       "      <td>yes</td>\n",
       "      <td>yes</td>\n",
       "    </tr>\n",
       "    <tr>\n",
       "      <th>7</th>\n",
       "      <td>sunny</td>\n",
       "      <td>medium</td>\n",
       "      <td>high</td>\n",
       "      <td>no</td>\n",
       "      <td>no</td>\n",
       "    </tr>\n",
       "    <tr>\n",
       "      <th>8</th>\n",
       "      <td>sunny</td>\n",
       "      <td>low</td>\n",
       "      <td>normal</td>\n",
       "      <td>no</td>\n",
       "      <td>yes</td>\n",
       "    </tr>\n",
       "    <tr>\n",
       "      <th>9</th>\n",
       "      <td>rain</td>\n",
       "      <td>medium</td>\n",
       "      <td>normal</td>\n",
       "      <td>no</td>\n",
       "      <td>yes</td>\n",
       "    </tr>\n",
       "    <tr>\n",
       "      <th>10</th>\n",
       "      <td>sunny</td>\n",
       "      <td>medium</td>\n",
       "      <td>normal</td>\n",
       "      <td>yes</td>\n",
       "      <td>yes</td>\n",
       "    </tr>\n",
       "    <tr>\n",
       "      <th>11</th>\n",
       "      <td>overcast</td>\n",
       "      <td>medium</td>\n",
       "      <td>high</td>\n",
       "      <td>yes</td>\n",
       "      <td>yes</td>\n",
       "    </tr>\n",
       "    <tr>\n",
       "      <th>12</th>\n",
       "      <td>overcast</td>\n",
       "      <td>high</td>\n",
       "      <td>normal</td>\n",
       "      <td>no</td>\n",
       "      <td>yes</td>\n",
       "    </tr>\n",
       "    <tr>\n",
       "      <th>13</th>\n",
       "      <td>rain</td>\n",
       "      <td>medium</td>\n",
       "      <td>high</td>\n",
       "      <td>yes</td>\n",
       "      <td>no</td>\n",
       "    </tr>\n",
       "  </tbody>\n",
       "</table>\n",
       "</div>"
      ],
      "text/plain": [
       "     weather temperature humidity wind play\n",
       "0      sunny        high     high   no   no\n",
       "1      sunny        high     high  yes   no\n",
       "2   overcast        high     high   no  yes\n",
       "3       rain      medium     high   no  yes\n",
       "4       rain         low   normal   no  yes\n",
       "5       rain         low   normal  yes   no\n",
       "6   overcast         low   normal  yes  yes\n",
       "7      sunny      medium     high   no   no\n",
       "8      sunny         low   normal   no  yes\n",
       "9       rain      medium   normal   no  yes\n",
       "10     sunny      medium   normal  yes  yes\n",
       "11  overcast      medium     high  yes  yes\n",
       "12  overcast        high   normal   no  yes\n",
       "13      rain      medium     high  yes   no"
      ]
     },
     "execution_count": 3,
     "metadata": {},
     "output_type": "execute_result"
    }
   ],
   "source": [
    "## Datos\n",
    "\n",
    "path = 'https://www.dlsi.ua.es/~juanra/UA/datasets'\n",
    "path_tennis = f'{path}/tennis-en.csv'\n",
    "path_covid19 = f'{path}/covid19-en.csv'\n",
    "\n",
    "data = pd.read_csv(path_tennis)\n",
    "data"
   ]
  },
  {
   "cell_type": "markdown",
   "metadata": {
    "id": "fKGPi3P774iu"
   },
   "source": [
    "# Ejemplo 1: TENIS"
   ]
  },
  {
   "cell_type": "markdown",
   "metadata": {
    "id": "UsLId7yU8m7z"
   },
   "source": [
    "## Paso 1\n",
    "\n",
    "- En la versión Naive se aplica el teorema de Bayes considerando las de entrada variables como independientes para facilitar los cálculos.\n",
    "- Básicamente vamos a realizar un sistema para contar las repeticiones de una categoría de una variable de entrada respecto de la objetivo.\n",
    "- Con las repeticiones anteriores se aplicará el teorema de Bayes para calcular la probabilidad condicional de pertenecia a las clases de la variable objetivo y así clasificar una entrada dada."
   ]
  },
  {
   "cell_type": "code",
   "execution_count": 4,
   "metadata": {
    "id": "R-_VrYxy9K6n"
   },
   "outputs": [
    {
     "name": "stdout",
     "output_type": "stream",
     "text": [
      "target play ['no' 'yes']\n",
      "Input variables Index(['weather', 'temperature', 'humidity', 'wind'], dtype='object')\n",
      "Number of examples 14\n"
     ]
    }
   ],
   "source": [
    "y_name = data.columns[-1]     # El nombre de la última columna\n",
    "X_names = data.columns[:-1]   # El nombre de todas las variables hasta la última columna (excluida)\n",
    "\n",
    "y_classes = data[y_name].unique() # Las clases que se tienen que predecir\n",
    "N = len(data)                     # Número de muestras\n",
    "\n",
    "print('target', y_name, y_classes)\n",
    "print('Input variables', X_names)\n",
    "print('Number of examples', N)"
   ]
  },
  {
   "cell_type": "markdown",
   "metadata": {
    "id": "WrOtX31P6YC_"
   },
   "source": [
    "### Probabilidad a Priory\n",
    "\n",
    "¿Qué probabilidad tenemos de acertar sin información adicional?\n",
    " Hay que contar cuántas veces se repiten las clases de la variable objetivo y normalizar."
   ]
  },
  {
   "cell_type": "code",
   "execution_count": 5,
   "metadata": {
    "id": "VhrhA3HBzez0"
   },
   "outputs": [
    {
     "data": {
      "text/html": [
       "<div>\n",
       "<style scoped>\n",
       "    .dataframe tbody tr th:only-of-type {\n",
       "        vertical-align: middle;\n",
       "    }\n",
       "\n",
       "    .dataframe tbody tr th {\n",
       "        vertical-align: top;\n",
       "    }\n",
       "\n",
       "    .dataframe thead th {\n",
       "        text-align: right;\n",
       "    }\n",
       "</style>\n",
       "<table border=\"1\" class=\"dataframe\">\n",
       "  <thead>\n",
       "    <tr style=\"text-align: right;\">\n",
       "      <th></th>\n",
       "      <th>play</th>\n",
       "      <th>prob</th>\n",
       "    </tr>\n",
       "  </thead>\n",
       "  <tbody>\n",
       "    <tr>\n",
       "      <th>yes</th>\n",
       "      <td>9</td>\n",
       "      <td>0.642857</td>\n",
       "    </tr>\n",
       "    <tr>\n",
       "      <th>no</th>\n",
       "      <td>5</td>\n",
       "      <td>0.357143</td>\n",
       "    </tr>\n",
       "  </tbody>\n",
       "</table>\n",
       "</div>"
      ],
      "text/plain": [
       "     play      prob\n",
       "yes     9  0.642857\n",
       "no      5  0.357143"
      ]
     },
     "execution_count": 5,
     "metadata": {},
     "output_type": "execute_result"
    }
   ],
   "source": [
    "P_y = pd.DataFrame(data[y_name].value_counts())\n",
    "P_y['prob'] = data[y_name].value_counts(normalize=True)\n",
    "P_y"
   ]
  },
  {
   "cell_type": "markdown",
   "metadata": {
    "id": "MPwwAtiX-FOr"
   },
   "source": [
    "## Paso 2\n",
    "\n"
   ]
  },
  {
   "cell_type": "markdown",
   "metadata": {
    "id": "rP9pszyLWVou"
   },
   "source": [
    "Supongamos que la entrada $X$ esta formada únicamente por la primera variable. Las probabilidades las calcularíamos como sigue:"
   ]
  },
  {
   "cell_type": "code",
   "execution_count": 6,
   "metadata": {
    "id": "sbCtk2AMWuUi"
   },
   "outputs": [
    {
     "data": {
      "text/html": [
       "<div>\n",
       "<style scoped>\n",
       "    .dataframe tbody tr th:only-of-type {\n",
       "        vertical-align: middle;\n",
       "    }\n",
       "\n",
       "    .dataframe tbody tr th {\n",
       "        vertical-align: top;\n",
       "    }\n",
       "\n",
       "    .dataframe thead tr th {\n",
       "        text-align: left;\n",
       "    }\n",
       "\n",
       "    .dataframe thead tr:last-of-type th {\n",
       "        text-align: right;\n",
       "    }\n",
       "</style>\n",
       "<table border=\"1\" class=\"dataframe\">\n",
       "  <thead>\n",
       "    <tr>\n",
       "      <th></th>\n",
       "      <th colspan=\"2\" halign=\"left\">counts</th>\n",
       "      <th colspan=\"2\" halign=\"left\">prob</th>\n",
       "    </tr>\n",
       "    <tr>\n",
       "      <th>play</th>\n",
       "      <th>no</th>\n",
       "      <th>yes</th>\n",
       "      <th>no</th>\n",
       "      <th>yes</th>\n",
       "    </tr>\n",
       "    <tr>\n",
       "      <th>weather</th>\n",
       "      <th></th>\n",
       "      <th></th>\n",
       "      <th></th>\n",
       "      <th></th>\n",
       "    </tr>\n",
       "  </thead>\n",
       "  <tbody>\n",
       "    <tr>\n",
       "      <th>overcast</th>\n",
       "      <td>0.0</td>\n",
       "      <td>4.0</td>\n",
       "      <td>0.0</td>\n",
       "      <td>0.44</td>\n",
       "    </tr>\n",
       "    <tr>\n",
       "      <th>rain</th>\n",
       "      <td>2.0</td>\n",
       "      <td>3.0</td>\n",
       "      <td>0.4</td>\n",
       "      <td>0.33</td>\n",
       "    </tr>\n",
       "    <tr>\n",
       "      <th>sunny</th>\n",
       "      <td>3.0</td>\n",
       "      <td>2.0</td>\n",
       "      <td>0.6</td>\n",
       "      <td>0.22</td>\n",
       "    </tr>\n",
       "  </tbody>\n",
       "</table>\n",
       "</div>"
      ],
      "text/plain": [
       "         counts      prob      \n",
       "play         no  yes   no   yes\n",
       "weather                        \n",
       "overcast    0.0  4.0  0.0  0.44\n",
       "rain        2.0  3.0  0.4  0.33\n",
       "sunny       3.0  2.0  0.6  0.22"
      ]
     },
     "metadata": {},
     "output_type": "display_data"
    }
   ],
   "source": [
    "x_name = X_names[0] # 'Weather' o 'Fever' según el conjunto de datos elegido (variables de entrada).\n",
    "\n",
    "# Contar el número de veces que se repite la categoría de la característica según la categoría objetivo\n",
    "# unstack() sive para mover los valores de la filas (counts) en nuevas columnas\n",
    "# fillna(0.0) previene los valores nulos cuando no existe repeticiones en una categoría\n",
    "df_prob = pd.DataFrame(data[[x_name,y_name]].value_counts(), columns=['counts']).unstack().fillna(0.0)\n",
    "df_prob[[('prob', i) for i in y_classes]] = df_prob / df_prob.sum()\n",
    "display(df_prob.round(2))"
   ]
  },
  {
   "cell_type": "markdown",
   "metadata": {
    "id": "UzYuX5C0XDx5"
   },
   "source": [
    "Supongamos el caso de que $X=(rain)$ para calcular la probabilidad de que se juegue o no sería calcular $$P(\\textrm{play}=\\textrm{yes}|\\textrm{weather}=\\textrm{rain})$$ y $$P(\\textrm{play}=\\textrm{no}|\\textrm{weather}=\\textrm{rain})$$\n",
    "\n",
    "Recordemos la fórmula: $$P(y | x_1, x_2,\\dots,x_n) = \\frac{P(y) \\prod_{n=1}^{n} P(x_i|y)}{\\sum_j P(y_j) \\prod_{n=1}^{n} P(x_i|y_j)}$$"
   ]
  },
  {
   "cell_type": "code",
   "execution_count": 7,
   "metadata": {
    "id": "i-mx_tPgaPx4"
   },
   "outputs": [
    {
     "data": {
      "text/plain": [
       "(MultiIndex([('counts',  'no'),\n",
       "             ('counts', 'yes'),\n",
       "             (  'prob',  'no'),\n",
       "             (  'prob', 'yes')],\n",
       "            names=[None, 'play']),\n",
       " Index(['overcast', 'rain', 'sunny'], dtype='object', name='weather'))"
      ]
     },
     "execution_count": 7,
     "metadata": {},
     "output_type": "execute_result"
    }
   ],
   "source": [
    "df_prob.columns, df_prob.index"
   ]
  },
  {
   "cell_type": "code",
   "execution_count": 8,
   "metadata": {
    "id": "0PjwZ3pfYBKa"
   },
   "outputs": [
    {
     "name": "stdout",
     "output_type": "stream",
     "text": [
      "P(play=yes|weather=rain)=0.6000\n",
      "P(play=no|weather=rain)=0.4000\n"
     ]
    }
   ],
   "source": [
    "# P(play=yes|weather=rain)\n",
    "numerator_yes = P_y.loc['yes','prob']*df_prob.loc['rain',('prob','yes')]\n",
    "\n",
    "# P(play=no|weather=rain)\n",
    "numerator_no = P_y.loc['no','prob']*df_prob.loc['rain',('prob','no')]\n",
    "\n",
    "P_si = numerator_yes / (numerator_yes + numerator_no)\n",
    "P_no = numerator_no / (numerator_yes + numerator_no)\n",
    "\n",
    "print(f'P(play=yes|weather=rain)={P_si:.4f}')\n",
    "print(f'P(play=no|weather=rain)={P_no:.4f}')"
   ]
  },
  {
   "cell_type": "markdown",
   "metadata": {
    "id": "1I3EfRaLWT9z"
   },
   "source": [
    "- Calcular las repeticiones condicionadas de las categorías de cada variable respecto de las clases de la variable objetivo."
   ]
  },
  {
   "cell_type": "code",
   "execution_count": 9,
   "metadata": {
    "id": "cwjUXv71IO36"
   },
   "outputs": [
    {
     "name": "stdout",
     "output_type": "stream",
     "text": [
      "Probabilidades condicionales para weather:\n",
      "         counts          \n",
      "play         no       yes\n",
      "weather                  \n",
      "overcast    0.0  0.444444\n",
      "rain        0.4  0.333333\n",
      "sunny       0.6  0.222222\n",
      "Probabilidades condicionales para temperature:\n",
      "            counts          \n",
      "play            no       yes\n",
      "temperature                 \n",
      "high           0.4  0.222222\n",
      "low            0.2  0.333333\n",
      "medium         0.4  0.444444\n",
      "Probabilidades condicionales para humidity:\n",
      "         counts          \n",
      "play         no       yes\n",
      "humidity                 \n",
      "high        0.8  0.333333\n",
      "normal      0.2  0.666667\n",
      "Probabilidades condicionales para wind:\n",
      "     counts          \n",
      "play     no       yes\n",
      "wind                 \n",
      "no      0.4  0.666667\n",
      "yes     0.6  0.333333\n"
     ]
    }
   ],
   "source": [
    "dict_df_prob = {}\n",
    "for X_name in X_names:\n",
    "    # Contar el número de veces que se repite la categoría de la característica según la categoría objetivo\n",
    "    df_counts = pd.DataFrame(data[[X_name, y_name]].value_counts(), columns=['counts']).unstack().fillna(0.0)\n",
    "\n",
    "    # Transforma el número de veces en probabilidades según las categorías objetivo\n",
    "    df_prob = df_counts / df_counts.sum()\n",
    "    \n",
    "    # Almacenar el DataFrame en el diccionario para su uso posterior\n",
    "    dict_df_prob[X_name] = df_prob\n",
    "\n",
    "# Ejemplo de cómo acceder a los datos\n",
    "for X_name in X_names:\n",
    "    print(f\"Probabilidades condicionales para {X_name}:\")\n",
    "    print(dict_df_prob[X_name])\n"
   ]
  },
  {
   "cell_type": "markdown",
   "metadata": {
    "id": "z2HB6JL8d9MS"
   },
   "source": [
    "## Paso 3\n",
    "\n",
    "Calcular las probabilidades de las siguientes entradas"
   ]
  },
  {
   "cell_type": "code",
   "execution_count": 10,
   "metadata": {
    "id": "URDPxqnhNiW8"
   },
   "outputs": [
    {
     "data": {
      "text/html": [
       "<div>\n",
       "<style scoped>\n",
       "    .dataframe tbody tr th:only-of-type {\n",
       "        vertical-align: middle;\n",
       "    }\n",
       "\n",
       "    .dataframe tbody tr th {\n",
       "        vertical-align: top;\n",
       "    }\n",
       "\n",
       "    .dataframe thead th {\n",
       "        text-align: right;\n",
       "    }\n",
       "</style>\n",
       "<table border=\"1\" class=\"dataframe\">\n",
       "  <thead>\n",
       "    <tr style=\"text-align: right;\">\n",
       "      <th></th>\n",
       "      <th>weather</th>\n",
       "      <th>temperature</th>\n",
       "      <th>humidity</th>\n",
       "      <th>wind</th>\n",
       "    </tr>\n",
       "  </thead>\n",
       "  <tbody>\n",
       "    <tr>\n",
       "      <th>0</th>\n",
       "      <td>overcast</td>\n",
       "      <td>low</td>\n",
       "      <td>normal</td>\n",
       "      <td>yes</td>\n",
       "    </tr>\n",
       "    <tr>\n",
       "      <th>1</th>\n",
       "      <td>rain</td>\n",
       "      <td>medium</td>\n",
       "      <td>normal</td>\n",
       "      <td>no</td>\n",
       "    </tr>\n",
       "    <tr>\n",
       "      <th>2</th>\n",
       "      <td>sunny</td>\n",
       "      <td>high</td>\n",
       "      <td>normal</td>\n",
       "      <td>no</td>\n",
       "    </tr>\n",
       "  </tbody>\n",
       "</table>\n",
       "</div>"
      ],
      "text/plain": [
       "    weather temperature humidity wind\n",
       "0  overcast         low   normal  yes\n",
       "1      rain      medium   normal   no\n",
       "2     sunny        high   normal   no"
      ]
     },
     "execution_count": 10,
     "metadata": {},
     "output_type": "execute_result"
    }
   ],
   "source": [
    "X_test_tenis = pd.DataFrame([\n",
    "    ['overcast', 'low',    'normal', 'yes'],\n",
    "    ['rain',     'medium', 'normal', 'no' ],\n",
    "    ['sunny',    'high',   'normal', 'no' ]\n",
    "  ],\n",
    "  columns = X_names\n",
    ")\n",
    "\n",
    "X_test_covid19 = pd.DataFrame([\n",
    "    ['Yes', 'Yes', 'No', 'Yes'],\n",
    "    ['No',  'Yes', 'No', 'No' ],\n",
    "    ['Yes', 'Yes', 'No', 'No' ]\n",
    "  ],\n",
    "  columns = X_names\n",
    ")\n",
    "X_test = X_test_tenis\n",
    "X_test"
   ]
  },
  {
   "cell_type": "code",
   "execution_count": 11,
   "metadata": {
    "id": "jF9tJGYSimKK"
   },
   "outputs": [
    {
     "name": "stdout",
     "output_type": "stream",
     "text": [
      "    weather temperature humidity wind      no     yes\n",
      "0  overcast         low   normal  yes  0.3571  0.6429\n",
      "1      rain      medium   normal   no  0.3571  0.6429\n",
      "2     sunny        high   normal   no  0.3571  0.6429\n"
     ]
    }
   ],
   "source": [
    "df_res = X_test.copy()\n",
    "for idx, x in X_test.iterrows():\n",
    "    # Inicializa la probabilidad de cada clase para la instancia actual\n",
    "    prob_classes = {y: P_y.loc[y, 'prob'] for y in y_classes}\n",
    "\n",
    "    # Multiplica las probabilidades condicionales de cada característica\n",
    "    for y in y_classes:\n",
    "        for feature in X_names:\n",
    "            feature_value = x[feature]\n",
    "            # Accede correctamente a las probabilidades condicionales\n",
    "            if (feature_value, 'counts') in dict_df_prob[feature].columns:\n",
    "                prob_classes[y] *= dict_df_prob[feature].loc[feature_value, (y, 'counts')]\n",
    "\n",
    "    # Normaliza las probabilidades para que sumen 1\n",
    "    total_prob = sum(prob_classes.values())\n",
    "    for y in y_classes:\n",
    "        df_res.at[idx, y] = prob_classes[y] / total_prob if total_prob > 0 else 0\n",
    "\n",
    "# Redondear las probabilidades para mejorar la legibilidad\n",
    "df_res = df_res.round(4)\n",
    "\n",
    "df_res\n",
    "'''\n",
    "Respuesta:\n",
    "  no\n",
    "  0 no 0.3571 [0.  0.2 0.2 0.6]\n",
    "  yes\n",
    "  0 yes 0.6429 [0.4444 0.3333 0.6667 0.3333]\n",
    "  no\n",
    "  1 no 0.3571 [0.4 0.4 0.2 0.4]\n",
    "  yes\n",
    "  1 yes 0.6429 [0.3333 0.4444 0.6667 0.6667]\n",
    "  no\n",
    "  2 no 0.3571 [0.6 0.4 0.2 0.4]\n",
    "  yes\n",
    "  2 yes 0.6429 [0.2222 0.2222 0.6667 0.6667]\n",
    "'''\n",
    "\n",
    "print(df_res)\n"
   ]
  },
  {
   "cell_type": "markdown",
   "metadata": {
    "id": "P8W1z23sZxPc"
   },
   "source": [
    "## Naive Bayes (scikit-learn)"
   ]
  },
  {
   "cell_type": "markdown",
   "metadata": {
    "id": "ct_t7vVQdqCK"
   },
   "source": [
    "Vamos a obtener el resultado usando `scikit-learn` entrenando un sistema con Naive Bayes y mostrando los resultados."
   ]
  },
  {
   "cell_type": "markdown",
   "metadata": {},
   "source": [
    "### APUNTES\n",
    "`LabelEncoder` es una herramienta de preprocesamiento de scikit-learn que convierte categorías en números. Cada categoría única en una columna se asigna a un número entero único.\n"
   ]
  },
  {
   "cell_type": "code",
   "execution_count": 148,
   "metadata": {
    "id": "vWa0pyoSZ1qZ"
   },
   "outputs": [
    {
     "data": {
      "text/plain": [
       "array(['yes', 'yes', 'yes'], dtype='<U3')"
      ]
     },
     "execution_count": 148,
     "metadata": {},
     "output_type": "execute_result"
    }
   ],
   "source": [
    "from sklearn.naive_bayes import GaussianNB\n",
    "from sklearn.preprocessing import LabelEncoder\n",
    "\n",
    "# Preprocesamiento para convertir categorías a números\n",
    "dict_label_encoder = {}\n",
    "data_codes = data.copy()\n",
    "feature_names = []  # Lista para almacenar el orden de las características\n",
    "\n",
    "# 'play' es la columna objetivo\n",
    "for i in data.columns.difference(['play']):\n",
    "    le = LabelEncoder()\n",
    "    \n",
    "    le.fit(sorted(data[i].unique())) #obtiene todos los valores únicos de la columna.\n",
    "    \n",
    "    # Esto convierte todas las categorías en cada columna en números enteros\n",
    "    data_codes[i] = le.transform(data[i])\n",
    "    \n",
    "    # Por si hubiera que revertir la codificación\n",
    "    dict_label_encoder[i] = le\n",
    "    # Agregar el nombre de la característica a la lista\n",
    "    feature_names.append(i)  \n",
    "\n",
    "# Crear el Modelo\n",
    "model = GaussianNB()\n",
    "\n",
    "# Entrenar con los datos correspondientes\n",
    "X = data_codes[feature_names]  # Características en el orden correcto\n",
    "y = data_codes['play']  # Objetivo\n",
    "model.fit(X, y)\n",
    "\n",
    "# Preprocesar X_test usando los encoders ya creados y en el mismo orden\n",
    "X_test_codes = pd.DataFrame()\n",
    "for feature in feature_names:\n",
    "    X_test_codes[feature] = dict_label_encoder[feature].transform(X_test[feature])\n",
    "\n",
    "# Realizar las predicciones de X_test\n",
    "predicted = model.predict(X_test_codes)\n",
    "\n",
    "# Visualizar las predicciones\n",
    "predicted\n"
   ]
  },
  {
   "cell_type": "markdown",
   "metadata": {
    "id": "fOGSRXM6tmoB"
   },
   "source": [
    "# Ejemplo 1: COVID-19"
   ]
  },
  {
   "cell_type": "markdown",
   "metadata": {
    "id": "vvUQhvSgtmoC"
   },
   "source": [
    "Aplicar los tres pasos anteriores al conjunto de datos de COVID-19"
   ]
  },
  {
   "cell_type": "code",
   "execution_count": 149,
   "metadata": {},
   "outputs": [
    {
     "data": {
      "text/html": [
       "<div>\n",
       "<style scoped>\n",
       "    .dataframe tbody tr th:only-of-type {\n",
       "        vertical-align: middle;\n",
       "    }\n",
       "\n",
       "    .dataframe tbody tr th {\n",
       "        vertical-align: top;\n",
       "    }\n",
       "\n",
       "    .dataframe thead th {\n",
       "        text-align: right;\n",
       "    }\n",
       "</style>\n",
       "<table border=\"1\" class=\"dataframe\">\n",
       "  <thead>\n",
       "    <tr style=\"text-align: right;\">\n",
       "      <th></th>\n",
       "      <th>Id</th>\n",
       "      <th>Fever</th>\n",
       "      <th>Cough</th>\n",
       "      <th>Respiratory Problems</th>\n",
       "      <th>Infected</th>\n",
       "    </tr>\n",
       "  </thead>\n",
       "  <tbody>\n",
       "    <tr>\n",
       "      <th>0</th>\n",
       "      <td>1</td>\n",
       "      <td>No</td>\n",
       "      <td>No</td>\n",
       "      <td>No</td>\n",
       "      <td>No</td>\n",
       "    </tr>\n",
       "    <tr>\n",
       "      <th>1</th>\n",
       "      <td>2</td>\n",
       "      <td>Yes</td>\n",
       "      <td>Yes</td>\n",
       "      <td>Yes</td>\n",
       "      <td>Yes</td>\n",
       "    </tr>\n",
       "    <tr>\n",
       "      <th>2</th>\n",
       "      <td>3</td>\n",
       "      <td>Yes</td>\n",
       "      <td>Yes</td>\n",
       "      <td>No</td>\n",
       "      <td>No</td>\n",
       "    </tr>\n",
       "    <tr>\n",
       "      <th>3</th>\n",
       "      <td>4</td>\n",
       "      <td>Yes</td>\n",
       "      <td>No</td>\n",
       "      <td>Yes</td>\n",
       "      <td>Yes</td>\n",
       "    </tr>\n",
       "    <tr>\n",
       "      <th>4</th>\n",
       "      <td>5</td>\n",
       "      <td>Yes</td>\n",
       "      <td>Yes</td>\n",
       "      <td>Yes</td>\n",
       "      <td>Yes</td>\n",
       "    </tr>\n",
       "    <tr>\n",
       "      <th>5</th>\n",
       "      <td>6</td>\n",
       "      <td>No</td>\n",
       "      <td>Yes</td>\n",
       "      <td>No</td>\n",
       "      <td>No</td>\n",
       "    </tr>\n",
       "    <tr>\n",
       "      <th>6</th>\n",
       "      <td>7</td>\n",
       "      <td>Yes</td>\n",
       "      <td>No</td>\n",
       "      <td>Yes</td>\n",
       "      <td>Yes</td>\n",
       "    </tr>\n",
       "    <tr>\n",
       "      <th>7</th>\n",
       "      <td>8</td>\n",
       "      <td>Yes</td>\n",
       "      <td>No</td>\n",
       "      <td>Yes</td>\n",
       "      <td>Yes</td>\n",
       "    </tr>\n",
       "    <tr>\n",
       "      <th>8</th>\n",
       "      <td>9</td>\n",
       "      <td>No</td>\n",
       "      <td>Yes</td>\n",
       "      <td>Yes</td>\n",
       "      <td>Yes</td>\n",
       "    </tr>\n",
       "    <tr>\n",
       "      <th>9</th>\n",
       "      <td>10</td>\n",
       "      <td>Yes</td>\n",
       "      <td>Yes</td>\n",
       "      <td>No</td>\n",
       "      <td>Yes</td>\n",
       "    </tr>\n",
       "    <tr>\n",
       "      <th>10</th>\n",
       "      <td>11</td>\n",
       "      <td>No</td>\n",
       "      <td>Yes</td>\n",
       "      <td>No</td>\n",
       "      <td>No</td>\n",
       "    </tr>\n",
       "    <tr>\n",
       "      <th>11</th>\n",
       "      <td>12</td>\n",
       "      <td>No</td>\n",
       "      <td>Yes</td>\n",
       "      <td>Yes</td>\n",
       "      <td>Yes</td>\n",
       "    </tr>\n",
       "    <tr>\n",
       "      <th>12</th>\n",
       "      <td>13</td>\n",
       "      <td>No</td>\n",
       "      <td>Yes</td>\n",
       "      <td>Yes</td>\n",
       "      <td>No</td>\n",
       "    </tr>\n",
       "    <tr>\n",
       "      <th>13</th>\n",
       "      <td>14</td>\n",
       "      <td>Yes</td>\n",
       "      <td>Yes</td>\n",
       "      <td>No</td>\n",
       "      <td>No</td>\n",
       "    </tr>\n",
       "  </tbody>\n",
       "</table>\n",
       "</div>"
      ],
      "text/plain": [
       "    Id Fever Cough Respiratory Problems Infected\n",
       "0    1    No    No                   No       No\n",
       "1    2   Yes   Yes                  Yes      Yes\n",
       "2    3   Yes   Yes                   No       No\n",
       "3    4   Yes    No                  Yes      Yes\n",
       "4    5   Yes   Yes                  Yes      Yes\n",
       "5    6    No   Yes                   No       No\n",
       "6    7   Yes    No                  Yes      Yes\n",
       "7    8   Yes    No                  Yes      Yes\n",
       "8    9    No   Yes                  Yes      Yes\n",
       "9   10   Yes   Yes                   No      Yes\n",
       "10  11    No   Yes                   No       No\n",
       "11  12    No   Yes                  Yes      Yes\n",
       "12  13    No   Yes                  Yes       No\n",
       "13  14   Yes   Yes                   No       No"
      ]
     },
     "execution_count": 149,
     "metadata": {},
     "output_type": "execute_result"
    }
   ],
   "source": [
    "path_covid19 = f'{path}/covid19-en.csv'\n",
    "data = pd.read_csv(path_covid19)\n",
    "data"
   ]
  },
  {
   "cell_type": "markdown",
   "metadata": {},
   "source": [
    "## Paso 1\n",
    "\n",
    "- En la versión Naive se aplica el teorema de Bayes considerando las de entrada variables como independientes para facilitar los cálculos.\n",
    "- Básicamente vamos a realizar un sistema para contar las repeticiones de una categoría de una variable de entrada respecto de la objetivo.\n",
    "- Con las repeticiones anteriores se aplicará el teorema de Bayes para calcular la probabilidad condicional de pertenecia a las clases de la variable objetivo y así clasificar una entrada dada."
   ]
  },
  {
   "cell_type": "code",
   "execution_count": 150,
   "metadata": {},
   "outputs": [
    {
     "name": "stdout",
     "output_type": "stream",
     "text": [
      "target Infected ['No' 'Yes']\n",
      "Input variables Index(['Id', 'Fever', 'Cough', 'Respiratory Problems'], dtype='object')\n",
      "Number of examples 14\n"
     ]
    }
   ],
   "source": [
    "y_name = data.columns[-1]     # El nombre de la última columna\n",
    "X_names = data.columns[:-1]   # El nombre de todas las variables hasta la última columna (excluida)\n",
    "\n",
    "y_classes = data[y_name].unique() # Las clases que se tienen que predecir\n",
    "N = len(data)                     # Número de muestras\n",
    "\n",
    "print('target', y_name, y_classes)\n",
    "print('Input variables', X_names)\n",
    "print('Number of examples', N)"
   ]
  },
  {
   "cell_type": "code",
   "execution_count": 151,
   "metadata": {},
   "outputs": [
    {
     "data": {
      "text/html": [
       "<div>\n",
       "<style scoped>\n",
       "    .dataframe tbody tr th:only-of-type {\n",
       "        vertical-align: middle;\n",
       "    }\n",
       "\n",
       "    .dataframe tbody tr th {\n",
       "        vertical-align: top;\n",
       "    }\n",
       "\n",
       "    .dataframe thead th {\n",
       "        text-align: right;\n",
       "    }\n",
       "</style>\n",
       "<table border=\"1\" class=\"dataframe\">\n",
       "  <thead>\n",
       "    <tr style=\"text-align: right;\">\n",
       "      <th></th>\n",
       "      <th>Infected</th>\n",
       "      <th>prob</th>\n",
       "    </tr>\n",
       "  </thead>\n",
       "  <tbody>\n",
       "    <tr>\n",
       "      <th>Yes</th>\n",
       "      <td>8</td>\n",
       "      <td>0.571429</td>\n",
       "    </tr>\n",
       "    <tr>\n",
       "      <th>No</th>\n",
       "      <td>6</td>\n",
       "      <td>0.428571</td>\n",
       "    </tr>\n",
       "  </tbody>\n",
       "</table>\n",
       "</div>"
      ],
      "text/plain": [
       "     Infected      prob\n",
       "Yes         8  0.571429\n",
       "No          6  0.428571"
      ]
     },
     "execution_count": 151,
     "metadata": {},
     "output_type": "execute_result"
    }
   ],
   "source": [
    "P_y = pd.DataFrame(data[y_name].value_counts())\n",
    "P_y['prob'] = data[y_name].value_counts(normalize=True)\n",
    "P_y"
   ]
  },
  {
   "cell_type": "code",
   "execution_count": 152,
   "metadata": {},
   "outputs": [
    {
     "data": {
      "text/html": [
       "<div>\n",
       "<style scoped>\n",
       "    .dataframe tbody tr th:only-of-type {\n",
       "        vertical-align: middle;\n",
       "    }\n",
       "\n",
       "    .dataframe tbody tr th {\n",
       "        vertical-align: top;\n",
       "    }\n",
       "\n",
       "    .dataframe thead tr th {\n",
       "        text-align: left;\n",
       "    }\n",
       "\n",
       "    .dataframe thead tr:last-of-type th {\n",
       "        text-align: right;\n",
       "    }\n",
       "</style>\n",
       "<table border=\"1\" class=\"dataframe\">\n",
       "  <thead>\n",
       "    <tr>\n",
       "      <th></th>\n",
       "      <th colspan=\"2\" halign=\"left\">counts</th>\n",
       "      <th colspan=\"2\" halign=\"left\">prob</th>\n",
       "    </tr>\n",
       "    <tr>\n",
       "      <th>Infected</th>\n",
       "      <th>No</th>\n",
       "      <th>Yes</th>\n",
       "      <th>No</th>\n",
       "      <th>Yes</th>\n",
       "    </tr>\n",
       "    <tr>\n",
       "      <th>Id</th>\n",
       "      <th></th>\n",
       "      <th></th>\n",
       "      <th></th>\n",
       "      <th></th>\n",
       "    </tr>\n",
       "  </thead>\n",
       "  <tbody>\n",
       "    <tr>\n",
       "      <th>1</th>\n",
       "      <td>1.0</td>\n",
       "      <td>0.0</td>\n",
       "      <td>0.17</td>\n",
       "      <td>0.00</td>\n",
       "    </tr>\n",
       "    <tr>\n",
       "      <th>2</th>\n",
       "      <td>0.0</td>\n",
       "      <td>1.0</td>\n",
       "      <td>0.00</td>\n",
       "      <td>0.12</td>\n",
       "    </tr>\n",
       "    <tr>\n",
       "      <th>3</th>\n",
       "      <td>1.0</td>\n",
       "      <td>0.0</td>\n",
       "      <td>0.17</td>\n",
       "      <td>0.00</td>\n",
       "    </tr>\n",
       "    <tr>\n",
       "      <th>4</th>\n",
       "      <td>0.0</td>\n",
       "      <td>1.0</td>\n",
       "      <td>0.00</td>\n",
       "      <td>0.12</td>\n",
       "    </tr>\n",
       "    <tr>\n",
       "      <th>5</th>\n",
       "      <td>0.0</td>\n",
       "      <td>1.0</td>\n",
       "      <td>0.00</td>\n",
       "      <td>0.12</td>\n",
       "    </tr>\n",
       "    <tr>\n",
       "      <th>6</th>\n",
       "      <td>1.0</td>\n",
       "      <td>0.0</td>\n",
       "      <td>0.17</td>\n",
       "      <td>0.00</td>\n",
       "    </tr>\n",
       "    <tr>\n",
       "      <th>7</th>\n",
       "      <td>0.0</td>\n",
       "      <td>1.0</td>\n",
       "      <td>0.00</td>\n",
       "      <td>0.12</td>\n",
       "    </tr>\n",
       "    <tr>\n",
       "      <th>8</th>\n",
       "      <td>0.0</td>\n",
       "      <td>1.0</td>\n",
       "      <td>0.00</td>\n",
       "      <td>0.12</td>\n",
       "    </tr>\n",
       "    <tr>\n",
       "      <th>9</th>\n",
       "      <td>0.0</td>\n",
       "      <td>1.0</td>\n",
       "      <td>0.00</td>\n",
       "      <td>0.12</td>\n",
       "    </tr>\n",
       "    <tr>\n",
       "      <th>10</th>\n",
       "      <td>0.0</td>\n",
       "      <td>1.0</td>\n",
       "      <td>0.00</td>\n",
       "      <td>0.12</td>\n",
       "    </tr>\n",
       "    <tr>\n",
       "      <th>11</th>\n",
       "      <td>1.0</td>\n",
       "      <td>0.0</td>\n",
       "      <td>0.17</td>\n",
       "      <td>0.00</td>\n",
       "    </tr>\n",
       "    <tr>\n",
       "      <th>12</th>\n",
       "      <td>0.0</td>\n",
       "      <td>1.0</td>\n",
       "      <td>0.00</td>\n",
       "      <td>0.12</td>\n",
       "    </tr>\n",
       "    <tr>\n",
       "      <th>13</th>\n",
       "      <td>1.0</td>\n",
       "      <td>0.0</td>\n",
       "      <td>0.17</td>\n",
       "      <td>0.00</td>\n",
       "    </tr>\n",
       "    <tr>\n",
       "      <th>14</th>\n",
       "      <td>1.0</td>\n",
       "      <td>0.0</td>\n",
       "      <td>0.17</td>\n",
       "      <td>0.00</td>\n",
       "    </tr>\n",
       "  </tbody>\n",
       "</table>\n",
       "</div>"
      ],
      "text/plain": [
       "         counts       prob      \n",
       "Infected     No  Yes    No   Yes\n",
       "Id                              \n",
       "1           1.0  0.0  0.17  0.00\n",
       "2           0.0  1.0  0.00  0.12\n",
       "3           1.0  0.0  0.17  0.00\n",
       "4           0.0  1.0  0.00  0.12\n",
       "5           0.0  1.0  0.00  0.12\n",
       "6           1.0  0.0  0.17  0.00\n",
       "7           0.0  1.0  0.00  0.12\n",
       "8           0.0  1.0  0.00  0.12\n",
       "9           0.0  1.0  0.00  0.12\n",
       "10          0.0  1.0  0.00  0.12\n",
       "11          1.0  0.0  0.17  0.00\n",
       "12          0.0  1.0  0.00  0.12\n",
       "13          1.0  0.0  0.17  0.00\n",
       "14          1.0  0.0  0.17  0.00"
      ]
     },
     "metadata": {},
     "output_type": "display_data"
    }
   ],
   "source": [
    "x_name = X_names[0] \n",
    "\n",
    "# Contar el número de veces que se repite la categoría de la característica según la categoría objetivo\n",
    "# unstack() sive para mover los valores de la filas (counts) en nuevas columnas\n",
    "# fillna(0.0) previene los valores nulos cuando no existe repeticiones en una categoría\n",
    "df_prob = pd.DataFrame(data[[x_name,y_name]].value_counts(), columns=['counts']).unstack().fillna(0.0)\n",
    "df_prob[[('prob', i) for i in y_classes]] = df_prob / df_prob.sum()\n",
    "display(df_prob.round(2))"
   ]
  },
  {
   "cell_type": "code",
   "execution_count": 153,
   "metadata": {},
   "outputs": [
    {
     "data": {
      "text/plain": [
       "(MultiIndex([('counts',  'No'),\n",
       "             ('counts', 'Yes'),\n",
       "             (  'prob',  'No'),\n",
       "             (  'prob', 'Yes')],\n",
       "            names=[None, 'Infected']),\n",
       " Int64Index([1, 2, 3, 4, 5, 6, 7, 8, 9, 10, 11, 12, 13, 14], dtype='int64', name='Id'))"
      ]
     },
     "execution_count": 153,
     "metadata": {},
     "output_type": "execute_result"
    }
   ],
   "source": [
    "df_prob.columns, df_prob.index"
   ]
  },
  {
   "cell_type": "markdown",
   "metadata": {},
   "source": [
    "### PASO 2\n",
    "Supongamos que la entrada $X$ esta formada únicamente por la primera variable. Las probabilidades las calcularíamos como sigue:"
   ]
  },
  {
   "cell_type": "code",
   "execution_count": 154,
   "metadata": {},
   "outputs": [
    {
     "data": {
      "text/html": [
       "<div>\n",
       "<style scoped>\n",
       "    .dataframe tbody tr th:only-of-type {\n",
       "        vertical-align: middle;\n",
       "    }\n",
       "\n",
       "    .dataframe tbody tr th {\n",
       "        vertical-align: top;\n",
       "    }\n",
       "\n",
       "    .dataframe thead tr th {\n",
       "        text-align: left;\n",
       "    }\n",
       "\n",
       "    .dataframe thead tr:last-of-type th {\n",
       "        text-align: right;\n",
       "    }\n",
       "</style>\n",
       "<table border=\"1\" class=\"dataframe\">\n",
       "  <thead>\n",
       "    <tr>\n",
       "      <th></th>\n",
       "      <th colspan=\"2\" halign=\"left\">counts</th>\n",
       "      <th colspan=\"2\" halign=\"left\">prob</th>\n",
       "    </tr>\n",
       "    <tr>\n",
       "      <th>Infected</th>\n",
       "      <th>No</th>\n",
       "      <th>Yes</th>\n",
       "      <th>No</th>\n",
       "      <th>Yes</th>\n",
       "    </tr>\n",
       "    <tr>\n",
       "      <th>Fever</th>\n",
       "      <th></th>\n",
       "      <th></th>\n",
       "      <th></th>\n",
       "      <th></th>\n",
       "    </tr>\n",
       "  </thead>\n",
       "  <tbody>\n",
       "    <tr>\n",
       "      <th>No</th>\n",
       "      <td>4</td>\n",
       "      <td>2</td>\n",
       "      <td>0.67</td>\n",
       "      <td>0.25</td>\n",
       "    </tr>\n",
       "    <tr>\n",
       "      <th>Yes</th>\n",
       "      <td>2</td>\n",
       "      <td>6</td>\n",
       "      <td>0.33</td>\n",
       "      <td>0.75</td>\n",
       "    </tr>\n",
       "  </tbody>\n",
       "</table>\n",
       "</div>"
      ],
      "text/plain": [
       "         counts      prob      \n",
       "Infected     No Yes    No   Yes\n",
       "Fever                          \n",
       "No            4   2  0.67  0.25\n",
       "Yes           2   6  0.33  0.75"
      ]
     },
     "metadata": {},
     "output_type": "display_data"
    },
    {
     "data": {
      "text/html": [
       "<div>\n",
       "<style scoped>\n",
       "    .dataframe tbody tr th:only-of-type {\n",
       "        vertical-align: middle;\n",
       "    }\n",
       "\n",
       "    .dataframe tbody tr th {\n",
       "        vertical-align: top;\n",
       "    }\n",
       "\n",
       "    .dataframe thead tr th {\n",
       "        text-align: left;\n",
       "    }\n",
       "\n",
       "    .dataframe thead tr:last-of-type th {\n",
       "        text-align: right;\n",
       "    }\n",
       "</style>\n",
       "<table border=\"1\" class=\"dataframe\">\n",
       "  <thead>\n",
       "    <tr>\n",
       "      <th></th>\n",
       "      <th colspan=\"2\" halign=\"left\">counts</th>\n",
       "      <th colspan=\"2\" halign=\"left\">prob</th>\n",
       "    </tr>\n",
       "    <tr>\n",
       "      <th>Infected</th>\n",
       "      <th>No</th>\n",
       "      <th>Yes</th>\n",
       "      <th>No</th>\n",
       "      <th>Yes</th>\n",
       "    </tr>\n",
       "    <tr>\n",
       "      <th>Cough</th>\n",
       "      <th></th>\n",
       "      <th></th>\n",
       "      <th></th>\n",
       "      <th></th>\n",
       "    </tr>\n",
       "  </thead>\n",
       "  <tbody>\n",
       "    <tr>\n",
       "      <th>No</th>\n",
       "      <td>1</td>\n",
       "      <td>3</td>\n",
       "      <td>0.17</td>\n",
       "      <td>0.38</td>\n",
       "    </tr>\n",
       "    <tr>\n",
       "      <th>Yes</th>\n",
       "      <td>5</td>\n",
       "      <td>5</td>\n",
       "      <td>0.83</td>\n",
       "      <td>0.62</td>\n",
       "    </tr>\n",
       "  </tbody>\n",
       "</table>\n",
       "</div>"
      ],
      "text/plain": [
       "         counts      prob      \n",
       "Infected     No Yes    No   Yes\n",
       "Cough                          \n",
       "No            1   3  0.17  0.38\n",
       "Yes           5   5  0.83  0.62"
      ]
     },
     "metadata": {},
     "output_type": "display_data"
    },
    {
     "data": {
      "text/html": [
       "<div>\n",
       "<style scoped>\n",
       "    .dataframe tbody tr th:only-of-type {\n",
       "        vertical-align: middle;\n",
       "    }\n",
       "\n",
       "    .dataframe tbody tr th {\n",
       "        vertical-align: top;\n",
       "    }\n",
       "\n",
       "    .dataframe thead tr th {\n",
       "        text-align: left;\n",
       "    }\n",
       "\n",
       "    .dataframe thead tr:last-of-type th {\n",
       "        text-align: right;\n",
       "    }\n",
       "</style>\n",
       "<table border=\"1\" class=\"dataframe\">\n",
       "  <thead>\n",
       "    <tr>\n",
       "      <th></th>\n",
       "      <th colspan=\"2\" halign=\"left\">counts</th>\n",
       "      <th colspan=\"2\" halign=\"left\">prob</th>\n",
       "    </tr>\n",
       "    <tr>\n",
       "      <th>Infected</th>\n",
       "      <th>No</th>\n",
       "      <th>Yes</th>\n",
       "      <th>No</th>\n",
       "      <th>Yes</th>\n",
       "    </tr>\n",
       "    <tr>\n",
       "      <th>Respiratory Problems</th>\n",
       "      <th></th>\n",
       "      <th></th>\n",
       "      <th></th>\n",
       "      <th></th>\n",
       "    </tr>\n",
       "  </thead>\n",
       "  <tbody>\n",
       "    <tr>\n",
       "      <th>No</th>\n",
       "      <td>5</td>\n",
       "      <td>1</td>\n",
       "      <td>0.83</td>\n",
       "      <td>0.12</td>\n",
       "    </tr>\n",
       "    <tr>\n",
       "      <th>Yes</th>\n",
       "      <td>1</td>\n",
       "      <td>7</td>\n",
       "      <td>0.17</td>\n",
       "      <td>0.88</td>\n",
       "    </tr>\n",
       "  </tbody>\n",
       "</table>\n",
       "</div>"
      ],
      "text/plain": [
       "                     counts      prob      \n",
       "Infected                 No Yes    No   Yes\n",
       "Respiratory Problems                       \n",
       "No                        5   1  0.83  0.12\n",
       "Yes                       1   7  0.17  0.88"
      ]
     },
     "metadata": {},
     "output_type": "display_data"
    }
   ],
   "source": [
    "# Excluir la columna 'Id' de las características\n",
    "X_names = data.columns[1:-1]   # Excluyendo 'Id' y la última columna\n",
    "\n",
    "# Repetir el proceso para cada característica relevante\n",
    "for x_name in X_names:\n",
    "    df_prob = pd.DataFrame(data[[x_name, y_name]].value_counts(), columns=['counts']).unstack().fillna(0.0)\n",
    "    df_prob[[('prob', i) for i in y_classes]] = df_prob / df_prob.sum()\n",
    "\n",
    "    # Mostrar las probabilidades condicionales\n",
    "    display(df_prob.round(2))\n",
    "\n"
   ]
  },
  {
   "cell_type": "code",
   "execution_count": 155,
   "metadata": {},
   "outputs": [
    {
     "name": "stdout",
     "output_type": "stream",
     "text": [
      "P(Infected=Yes|Fever=Yes)=0.8750\n",
      "P(Infected=No|Fever=Yes)=0.1250\n",
      "P(Infected=Yes|Fever=Yes)=0.8750\n",
      "P(Infected=No|Fever=Yes)=0.1250\n",
      "P(Infected=Yes|Fever=Yes)=0.8750\n",
      "P(Infected=No|Fever=Yes)=0.1250\n"
     ]
    }
   ],
   "source": [
    "# Ejemplo para la característica 'Fever'\n",
    "for x_name in X_names:\n",
    "    # Calcula las probabilidades condicionales para 'Fever = Yes'\n",
    "    numerator_yes = P_y.loc['Yes', 'prob'] * df_prob.loc['Yes', ('prob', 'Yes')]\n",
    "    numerator_no = P_y.loc['No', 'prob'] * df_prob.loc['Yes', ('prob', 'No')]\n",
    "\n",
    "    # Calcula las probabilidades condicionales normalizadas\n",
    "    P_yes = numerator_yes / (numerator_yes + numerator_no)\n",
    "    P_no = numerator_no / (numerator_yes + numerator_no)\n",
    "\n",
    "    print(f'P(Infected=Yes|Fever=Yes)={P_yes:.4f}')\n",
    "    print(f'P(Infected=No|Fever=Yes)={P_no:.4f}')"
   ]
  },
  {
   "cell_type": "markdown",
   "metadata": {},
   "source": [
    "## Paso 3\n",
    "\n",
    "Calcular las probabilidades de las siguientes entradas"
   ]
  },
  {
   "cell_type": "code",
   "execution_count": 156,
   "metadata": {},
   "outputs": [
    {
     "name": "stdout",
     "output_type": "stream",
     "text": [
      "  Fever Cough Respiratory Problems\n",
      "0   Yes   Yes                   No\n",
      "1    No   Yes                   No\n",
      "2   Yes   Yes                   No\n",
      "  Fever Cough Respiratory Problems      No     Yes\n",
      "0   Yes   Yes                   No  0.4286  0.5714\n",
      "1    No   Yes                   No  0.4286  0.5714\n",
      "2   Yes   Yes                   No  0.4286  0.5714\n"
     ]
    }
   ],
   "source": [
    "X_test_covid19 = pd.DataFrame([\n",
    "    ['Yes', 'Yes', 'No'],\n",
    "    ['No',  'Yes', 'No'],\n",
    "    ['Yes', 'Yes', 'No']\n",
    "  ],\n",
    "  columns = X_names  # Asegúrate de que X_names solo incluye las características\n",
    ")\n",
    "X_test = X_test_covid19\n",
    "print(X_test)\n",
    "\n",
    "\n",
    "dict_df_prob = {}\n",
    "for feature in X_names:\n",
    "    # Calcula el conteo de cada combinación de valor de característica y clase objetivo\n",
    "    df_counts = pd.DataFrame(data[[feature, y_name]].value_counts(), columns=['counts']).unstack().fillna(0.0)\n",
    "\n",
    "    # Calcula las probabilidades condicionales\n",
    "    df_prob = df_counts / df_counts.sum()\n",
    "\n",
    "    # Almacena el resultado en dict_df_prob\n",
    "    dict_df_prob[feature] = df_prob\n",
    "\n",
    "# Ahora, puedes realizar los cálculos de Naive Bayes con este diccionario\n",
    "df_res = X_test.copy()\n",
    "for idx, x in X_test.iterrows():\n",
    "    # Inicializa la probabilidad de cada clase para la instancia actual\n",
    "    prob_classes = {y: P_y.loc[y, 'prob'] for y in y_classes}\n",
    "\n",
    "    # Multiplica las probabilidades condicionales de cada característica\n",
    "    for y in y_classes:\n",
    "        for feature in X_names:\n",
    "            feature_value = x[feature]\n",
    "            # Asegúrate de acceder correctamente a las probabilidades condicionales\n",
    "            if (feature_value, 'counts') in dict_df_prob[feature].columns:\n",
    "                prob_classes[y] *= dict_df_prob[feature].loc[feature_value, (y, 'counts')]\n",
    "\n",
    "    # Normaliza las probabilidades para que sumen 1\n",
    "    total_prob = sum(prob_classes.values())\n",
    "    for y in y_classes:\n",
    "        df_res.at[idx, y] = prob_classes[y] / total_prob if total_prob > 0 else 0\n",
    "\n",
    "# Redondear las probabilidades para mejorar la legibilidad\n",
    "df_res = df_res.round(4)\n",
    "\n",
    "print(df_res)\n"
   ]
  },
  {
   "cell_type": "code",
   "execution_count": null,
   "metadata": {},
   "outputs": [],
   "source": []
  },
  {
   "cell_type": "code",
   "execution_count": null,
   "metadata": {},
   "outputs": [],
   "source": []
  }
 ],
 "metadata": {
  "colab": {
   "provenance": [],
   "toc_visible": true
  },
  "kernelspec": {
   "display_name": "Python 3 (ipykernel)",
   "language": "python",
   "name": "python3"
  },
  "language_info": {
   "codemirror_mode": {
    "name": "ipython",
    "version": 3
   },
   "file_extension": ".py",
   "mimetype": "text/x-python",
   "name": "python",
   "nbconvert_exporter": "python",
   "pygments_lexer": "ipython3",
   "version": "3.11.5"
  }
 },
 "nbformat": 4,
 "nbformat_minor": 1
}
