{
  "cells": [
    {
      "cell_type": "markdown",
      "metadata": {
        "id": "HoAFoB625Jy1"
      },
      "source": [
        "# 3.6 Aprendizaje supervisado: Redes neuronales artificiales (Artificial Neural Networks - ANN)\n",
        "\n",
        "Profesor: Juan Ramón Rico (<juanramonrico@ua.es>)\n",
        "\n",
        "## Resumen\n",
        "---\n",
        "\n",
        "A continuación vamos a presentar los principios básicos de las redes neuronales con ejemplos sobre el MLP (Multilayer Perceptrón). Es una red sencilla donde la neuronas están completamente conectadas, estos es que todas las neuronas de una capa están conectadas con las de la siguiente."
      ]
    },
    {
      "cell_type": "code",
      "execution_count": 56,
      "metadata": {
        "id": "DreCFA-96doE"
      },
      "outputs": [],
      "source": [
        "import numpy as np\n",
        "import pandas as pd"
      ]
    },
    {
      "cell_type": "markdown",
      "metadata": {
        "id": "Lhqv6_4y5WYl"
      },
      "source": [
        "# Cargar datos\n",
        "\n"
      ]
    },
    {
      "cell_type": "code",
      "execution_count": 57,
      "metadata": {
        "id": "pudFEo_c5BVQ"
      },
      "outputs": [],
      "source": [
        "## Datos\n",
        "\n",
        "path = 'https://www.dlsi.ua.es/~juanra/UA/datasets'\n",
        "path_tennis = f'{path}/tennis-en.csv'\n",
        "path_covid19 = f'{path}/covid19-en.csv'"
      ]
    },
    {
      "cell_type": "markdown",
      "metadata": {
        "id": "fKGPi3P774iu"
      },
      "source": [
        "## Perceptrón multicapa (MLP): Problema XOR"
      ]
    },
    {
      "cell_type": "markdown",
      "metadata": {
        "id": "EUWjqk1r71FZ"
      },
      "source": [
        "Este ejemplo está extraído de [Neural Network from scratch in Python](https://towardsdatascience.com/math-neural-network-from-scratch-in-python-d6da9f29ce65)"
      ]
    },
    {
      "cell_type": "markdown",
      "metadata": {
        "id": "Wp7ASkKLxIwD"
      },
      "source": [
        "A continuación vamos a definir la funciones de activación y de pérdida necesarias para construir una red neuronal."
      ]
    },
    {
      "cell_type": "code",
      "execution_count": 58,
      "metadata": {
        "id": "kom7LqqTvp9U"
      },
      "outputs": [],
      "source": [
        "import numpy as np\n",
        "\n",
        "# TODO: Añadir la función y su derivada para 'sigmoid' y 'relu' con el formato de las siguientes funciones\n",
        "def sigmoid(x):\n",
        "  # Función de activación sigmoide\n",
        "  return 1/(1+np.exp(-x))\n",
        "\n",
        "def relu(x):\n",
        "  # Función de activación rectificadora\n",
        "  return np.maximum(0,x)\n",
        "\n",
        "def sigmoid_derivative(x):\n",
        "  # Derivada de la función de activación sigmoide\n",
        "  return sigmoid(x)*(1-sigmoid(x))\n",
        "\n",
        "def relu_derivative(x):\n",
        "  # Derivada de la función de activación rectificadora\n",
        "  return np.where(x>0,1,0)\n",
        "\n",
        "def tanh(x):\n",
        "  # Función de activación tangente hiperbólica\n",
        "  return np.tanh(x);\n",
        "\n",
        "def tanh_derivative(x):\n",
        "  # Derivada de la función de activación tangente hiperbólica\n",
        "  return 1-np.tanh(x)**2;\n",
        "\n",
        "def mse(y_true, y_pred):\n",
        "  # Función de pérdida de error cuadrático medio\n",
        "  return np.mean((y_true - y_pred) ** 2)\n",
        "\n",
        "def mse_derivative(y_true, y_pred):\n",
        "  # Función de pérdida de error cuadrático medio\n",
        "  return 2*(y_pred - y_true) / len(y_true)"
      ]
    },
    {
      "cell_type": "code",
      "execution_count": 59,
      "metadata": {
        "id": "l0yGa-5ws8bf"
      },
      "outputs": [],
      "source": [
        "class Layer:\n",
        "  # Definición de una capa con todas las neuronas conectadas\n",
        "  def __init__(self, input_size, output_size):\n",
        "    # input_size = número de neuronas de la capa de entrada\n",
        "    # output_size = númewo de neuronas de la capa de salida\n",
        "\n",
        "    self.weights = np.random.rand(input_size, output_size) - 0.5\n",
        "    self.bias = np.random.rand(1, output_size) - 0.5\n",
        "\n",
        "  def forward_propagation(self, input_data):\n",
        "    # Calcula la salida (output) para una entreda dada (input_data)\n",
        "    self.input = input_data\n",
        "    self.output = np.dot(self.input, self.weights) + self.bias\n",
        "    return self.output\n",
        "\n",
        "  def backward_propagation(self, output_error, learning_rate):\n",
        "    # Calcula la retropropagación de errores mediante las derivadas\n",
        "    # dE/dW y dE/dB a partir de un error de salida dado (output_error=dE/dY)\n",
        "    # Devuelve el error de entrada (input_error=dE/dX).\n",
        "\n",
        "    #: calcular el error cometido por esta capa de la salida respecto de los pesos actuales\n",
        "    input_error = np.dot(output_error, self.weights.T)\n",
        "    \n",
        "    #: calcular el error cometido por esta capa de la entrada respecto del error de salida\n",
        "    weights_error = np.dot(self.input.T, output_error)\n",
        "\n",
        "    # Actualización de los pesos y los bias (dBias = output_error)\n",
        "    self.weights -= learning_rate * weights_error \n",
        "    self.bias -= learning_rate * output_error\n",
        "\n",
        "    return input_error\n",
        "\n",
        "\n",
        "class ActivationLayer(Layer):\n",
        "  # Función de activación y su derivada para una capa\n",
        "  def __init__(self, activation, activation_derivative):\n",
        "    # Asignación de la función de activación y su derivada\n",
        "\n",
        "    self.activation = activation\n",
        "    self.activation_derivative = activation_derivative\n",
        "\n",
        "  def forward_propagation(self, input_data):\n",
        "    # Devuelve el cálculo de aplicar la función de activiación\n",
        "    # a una entrada (input_data)\n",
        "\n",
        "    self.input = input_data\n",
        "    self.output = self.activation(self.input)\n",
        "    return self.output\n",
        "\n",
        "  def backward_propagation(self, output_error, learning_rate):\n",
        "    # Devuelve la derivada, input_error=dE/dX, para un error de salida, output_error=dE/dY.\n",
        "    # No usamos learning_rate porque no es un parámetro que se tenga que \"aprender\".\n",
        "    return self.activation_derivative(self.input) * output_error\n",
        "\n",
        "\n",
        "class Network:\n",
        "  # Perceptrón Multicapa - MLP\n",
        "  def __init__(self):\n",
        "    self.layers = []\n",
        "    self.loss = None\n",
        "    self.loss_derivative = None\n",
        "\n",
        "  def add(self, layer):\n",
        "    # Añadir una capa oculta nueva\n",
        "    self.layers.append(layer)\n",
        "\n",
        "  def set_loss(self, loss, loss_derivative):\n",
        "    # Asignar las funciones de pérdida y su derivada\n",
        "    self.loss = loss\n",
        "    self.loss_derivative = loss_derivative\n",
        "\n",
        "  def predict(self, input_data):\n",
        "    # Predicción de un salida para una entrada dada\n",
        "\n",
        "    # Tamño del la entrada\n",
        "    n_samples = len(input_data)\n",
        "    result = []\n",
        "\n",
        "    for i in range(n_samples):\n",
        "      # Aplicar la red a todos los ejemplos\n",
        "\n",
        "      # Propagación hacia adelante (forward propagation)\n",
        "      output = input_data[i]\n",
        "      for layer in self.layers:\n",
        "          output = layer.forward_propagation(output)\n",
        "      result.append(output)\n",
        "\n",
        "    return np.stack(result)\n",
        "\n",
        "  def fit(self, x_train, y_train, epochs, learning_rate, verbose=1):\n",
        "    # Entrenamiento de la red (fit)\n",
        "\n",
        "    # Tamaño de la entrada\n",
        "    n_samples = len(x_train)\n",
        "\n",
        "    for i in range(epochs):\n",
        "      # Bucle de entrenamiento\n",
        "\n",
        "      err = 0\n",
        "      for j in range(n_samples):\n",
        "        # Propagación hacia adelante (forward propagation)\n",
        "        output = np.expand_dims(x_train[j], axis=0)\n",
        "        for layer in self.layers:\n",
        "          output = layer.forward_propagation(output)\n",
        "\n",
        "        # Calcular la pérdida (solo para mostrarla)\n",
        "        err += self.loss(y_train[j], output)\n",
        "\n",
        "        # Retropropagación (backward propagation)\n",
        "        error = self.loss_derivative(y_train[j], output)\n",
        "        for layer in reversed(self.layers):\n",
        "            error = layer.backward_propagation(error, learning_rate)\n",
        "\n",
        "      # calculate average error on all samples\n",
        "      err /= n_samples\n",
        "      if verbose>0 and (i+1) % 100 == 0:\n",
        "        print(f'epoch: {i+1}/{epochs}  losss: {err:.5f}')"
      ]
    },
    {
      "cell_type": "code",
      "execution_count": 60,
      "metadata": {
        "id": "NxX8J25tvg_q"
      },
      "outputs": [
        {
          "name": "stdout",
          "output_type": "stream",
          "text": [
            "X_train.shape (4, 2) y_train.shape (4, 1)\n",
            "epoch: 100/1000  losss: 0.20690\n",
            "epoch: 200/1000  losss: 0.08369\n",
            "epoch: 300/1000  losss: 0.00355\n",
            "epoch: 400/1000  losss: 0.00145\n",
            "epoch: 500/1000  losss: 0.00088\n",
            "epoch: 600/1000  losss: 0.00062\n",
            "epoch: 700/1000  losss: 0.00047\n",
            "epoch: 800/1000  losss: 0.00038\n",
            "epoch: 900/1000  losss: 0.00032\n",
            "epoch: 1000/1000  losss: 0.00027\n",
            "   y_pred  y_true\n",
            "0  0.0009       0\n",
            "1  0.9759       1\n",
            "2  0.9778       1\n",
            "3 -0.0017       0\n"
          ]
        },
        {
          "data": {
            "text/plain": [
              "'\\nX_train.shape (4, 2) y_train.shape (4, 1)\\nepoch: 100/1000  losss: 0.20690\\nepoch: 200/1000  losss: 0.08369\\nepoch: 300/1000  losss: 0.00355\\nepoch: 400/1000  losss: 0.00145\\nepoch: 500/1000  losss: 0.00088\\nepoch: 600/1000  losss: 0.00062\\nepoch: 700/1000  losss: 0.00047\\nepoch: 800/1000  losss: 0.00038\\nepoch: 900/1000  losss: 0.00032\\nepoch: 1000/1000  losss: 0.00027\\n   y_pred  y_true\\n0  0.0009       0\\n1  0.9759       1\\n2  0.9778       1\\n3 -0.0017       0\\n'"
            ]
          },
          "execution_count": 60,
          "metadata": {},
          "output_type": "execute_result"
        }
      ],
      "source": [
        "np.set_printoptions(suppress=True)  # Forzar a numpy a mostrar formato sin exponente\n",
        "np.random.seed(1)                   # Inciar semilla pseudo-aleatoria para verificar los cálculos\n",
        "\n",
        "# Conjunto de entrenamiento\n",
        "X_train = np.array([[0,0], [0,1], [1,0], [1,1]])\n",
        "y_train = np.array([[0], [1], [1], [0]])\n",
        "\n",
        "print('X_train.shape', X_train.shape, 'y_train.shape',y_train.shape)\n",
        "\n",
        "# Red neuronal\n",
        "model = Network()\n",
        "model.add(Layer(2, 3))\n",
        "model.add(ActivationLayer(tanh, tanh_derivative))\n",
        "\n",
        "model.add(Layer(3, 1))\n",
        "model.add(ActivationLayer(tanh, tanh_derivative))\n",
        "\n",
        "# Entrenamiento\n",
        "model.set_loss(mse, mse_derivative)\n",
        "model.fit(X_train, y_train, epochs=1000, learning_rate=0.1)\n",
        "\n",
        "# Test\n",
        "df_out = pd.DataFrame({'y_pred':model.predict(X_train).ravel(), 'y_true':y_train.ravel()}).round(4)\n",
        "print(df_out)\n",
        "\n",
        "'''\n",
        "X_train.shape (4, 2) y_train.shape (4, 1)\n",
        "epoch: 100/1000  losss: 0.20690\n",
        "epoch: 200/1000  losss: 0.08369\n",
        "epoch: 300/1000  losss: 0.00355\n",
        "epoch: 400/1000  losss: 0.00145\n",
        "epoch: 500/1000  losss: 0.00088\n",
        "epoch: 600/1000  losss: 0.00062\n",
        "epoch: 700/1000  losss: 0.00047\n",
        "epoch: 800/1000  losss: 0.00038\n",
        "epoch: 900/1000  losss: 0.00032\n",
        "epoch: 1000/1000  losss: 0.00027\n",
        "   y_pred  y_true\n",
        "0  0.0009       0\n",
        "1  0.9759       1\n",
        "2  0.9778       1\n",
        "3 -0.0017       0\n",
        "'''"
      ]
    },
    {
      "cell_type": "markdown",
      "metadata": {
        "id": "UsLId7yU8m7z"
      },
      "source": [
        "## Ejercicio 1\n",
        "\n",
        "- Modifica el ejemplo anterior para usar las funciones de activación:\n",
        "  - `sigmoidea` y\n",
        "  - `relu`\n",
        "- Comprueba con varias ejecuciones a partir de qué número de épocas el algoritmo comienza a aprender modificando el número total de épocas y el ratio de aprendizaje, `learning_rate` (ej. valores de $error<0.1$)."
      ]
    },
    {
      "cell_type": "code",
      "execution_count": 22,
      "metadata": {
        "id": "bJi7i0Gbl4Kf"
      },
      "outputs": [
        {
          "name": "stdout",
          "output_type": "stream",
          "text": [
            "X_train.shape (4, 2) y_train.shape (4, 1)\n",
            "epoch: 100/2000  losss: 0.25948\n",
            "epoch: 200/2000  losss: 0.25919\n",
            "epoch: 300/2000  losss: 0.25893\n",
            "epoch: 400/2000  losss: 0.25867\n",
            "epoch: 500/2000  losss: 0.25840\n",
            "epoch: 600/2000  losss: 0.25809\n",
            "epoch: 700/2000  losss: 0.25765\n",
            "epoch: 800/2000  losss: 0.25687\n",
            "epoch: 900/2000  losss: 0.25515\n",
            "epoch: 1000/2000  losss: 0.25084\n",
            "epoch: 1100/2000  losss: 0.24064\n",
            "epoch: 1200/2000  losss: 0.22159\n",
            "epoch: 1300/2000  losss: 0.19963\n",
            "epoch: 1400/2000  losss: 0.18221\n",
            "epoch: 1500/2000  losss: 0.16772\n",
            "epoch: 1600/2000  losss: 0.15241\n",
            "epoch: 1700/2000  losss: 0.12694\n",
            "epoch: 1800/2000  losss: 0.08895\n",
            "epoch: 1900/2000  losss: 0.05849\n",
            "epoch: 2000/2000  losss: 0.03934\n",
            "   y_pred  y_true\n",
            "0  0.1242       0\n",
            "1  0.8043       1\n",
            "2  0.8167       1\n",
            "3  0.2569       0\n"
          ]
        },
        {
          "data": {
            "text/plain": [
              "'\\nX_train.shape (4, 2) y_train.shape (4, 1)\\nepoch: 100/1000  losss: 0.20690\\nepoch: 200/1000  losss: 0.08369\\nepoch: 300/1000  losss: 0.00355\\nepoch: 400/1000  losss: 0.00145\\nepoch: 500/1000  losss: 0.00088\\nepoch: 600/1000  losss: 0.00062\\nepoch: 700/1000  losss: 0.00047\\nepoch: 800/1000  losss: 0.00038\\nepoch: 900/1000  losss: 0.00032\\nepoch: 1000/1000  losss: 0.00027\\n   y_pred  y_true\\n0  0.0009       0\\n1  0.9759       1\\n2  0.9778       1\\n3 -0.0017       0\\n'"
            ]
          },
          "execution_count": 22,
          "metadata": {},
          "output_type": "execute_result"
        }
      ],
      "source": [
        "# Solución enp.set_printoptions(suppress=True)  # Forzar a numpy a mostrar formato sin exponente\n",
        "np.random.seed(1)                   # Inciar semilla pseudo-aleatoria para verificar los cálculos\n",
        "\n",
        "# Conjunto de entrenamiento\n",
        "X_train = np.array([[0,0], [0,1], [1,0], [1,1]])\n",
        "y_train = np.array([[0], [1], [1], [0]])\n",
        "\n",
        "print('X_train.shape', X_train.shape, 'y_train.shape',y_train.shape)\n",
        "\n",
        "# Red neuronal\n",
        "model = Network()\n",
        "model.add(Layer(2, 3))\n",
        "model.add(ActivationLayer(sigmoid, sigmoid_derivative))\n",
        "\n",
        "model.add(Layer(3, 1))\n",
        "model.add(ActivationLayer(sigmoid, sigmoid_derivative))\n",
        "\n",
        "# Entrenamiento\n",
        "model.set_loss(mse, mse_derivative)\n",
        "model.fit(X_train, y_train, epochs=2000, learning_rate=0.2)\n",
        "\n",
        "# Test\n",
        "df_out = pd.DataFrame({'y_pred':model.predict(X_train).ravel(), 'y_true':y_train.ravel()}).round(4)\n",
        "print(df_out)\n"
      ]
    },
    {
      "cell_type": "code",
      "execution_count": 36,
      "metadata": {},
      "outputs": [
        {
          "name": "stdout",
          "output_type": "stream",
          "text": [
            "X_train.shape (4, 2) y_train.shape (4, 1)\n",
            "epoch: 100/2000  losss: 0.50000\n",
            "epoch: 200/2000  losss: 0.50000\n",
            "epoch: 300/2000  losss: 0.50000\n",
            "epoch: 400/2000  losss: 0.50000\n",
            "epoch: 500/2000  losss: 0.50000\n",
            "epoch: 600/2000  losss: 0.50000\n",
            "epoch: 700/2000  losss: 0.50000\n",
            "epoch: 800/2000  losss: 0.50000\n",
            "epoch: 900/2000  losss: 0.50000\n",
            "epoch: 1000/2000  losss: 0.50000\n",
            "epoch: 1100/2000  losss: 0.50000\n",
            "epoch: 1200/2000  losss: 0.50000\n",
            "epoch: 1300/2000  losss: 0.50000\n",
            "epoch: 1400/2000  losss: 0.50000\n",
            "epoch: 1500/2000  losss: 0.50000\n",
            "epoch: 1600/2000  losss: 0.50000\n",
            "epoch: 1700/2000  losss: 0.50000\n",
            "epoch: 1800/2000  losss: 0.50000\n",
            "epoch: 1900/2000  losss: 0.50000\n",
            "epoch: 2000/2000  losss: 0.50000\n",
            "   y_pred  y_true\n",
            "0     0.0       0\n",
            "1     0.0       1\n",
            "2     0.0       1\n",
            "3     0.0       0\n"
          ]
        }
      ],
      "source": [
        "# Solución enp.set_printoptions(suppress=True)  # Forzar a numpy a mostrar formato sin exponente\n",
        "np.random.seed(1)                   # Inciar semilla pseudo-aleatoria para verificar los cálculos\n",
        "\n",
        "# Conjunto de entrenamiento\n",
        "X_train = np.array([[0,0], [0,1], [1,0], [1,1]])\n",
        "y_train = np.array([[0], [1], [1], [0]])\n",
        "\n",
        "print('X_train.shape', X_train.shape, 'y_train.shape',y_train.shape)\n",
        "\n",
        "# Red neuronal\n",
        "model = Network()\n",
        "model.add(Layer(2, 3))\n",
        "model.add(ActivationLayer(relu, relu_derivative))\n",
        "\n",
        "model.add(Layer(3, 1))\n",
        "model.add(ActivationLayer(relu, relu_derivative))  # Cambio a sigmoidea en la capa de salida\n",
        "\n",
        "# Entrenamiento\n",
        "model.set_loss(mse, mse_derivative)\n",
        "model.fit(X_train, y_train, epochs=2000, learning_rate=0.6)  # Ajusta la tasa de aprendizaje si es necesario\n",
        "\n",
        "# Test\n",
        "df_out = pd.DataFrame({'y_pred': model.predict(X_train).ravel(), 'y_true': y_train.ravel()}).round(4)\n",
        "print(df_out)\n",
        "\n"
      ]
    },
    {
      "cell_type": "markdown",
      "metadata": {
        "id": "6JVUlxQO-qm5"
      },
      "source": [
        "## Ejercicio 2\n",
        "\n",
        "Adapta los datos de `tenis` para que funcione correctamente con la red de ejemplo.\n",
        "- Tendrás que convertir las etiquetas de cada categoría a valores numéricos.\n",
        "- Si la categoría es binaria, ej. Sí/No se puede convertir a 1/0;\n",
        "- Si la variable tiene más de dos categorías se puede representar con el formato llamado `one hot` que consiste en crear un vector de ceros de tamaño número de categorías, y un solo uno en la posición de la etiqueta que queremos representar. Ej. `[sunny, overcast, rain]` y queremos representar `overcast` sería con `[0,1,0]`.\n",
        "- Revisad la documentación del paquete `Pandas` y la función `get_dummies()`.\n",
        "\n",
        "Una vez adaptada los datos para la entrada probaremos diferentes configuraciones como:\n",
        "- Número de capas ocultas 1 o 2;\n",
        "- Número de neuronas por capa 4, 8 o 16;\n",
        "- Funcion de activiación `sigmoidea`, `tanh` o `relu`."
      ]
    },
    {
      "cell_type": "code",
      "execution_count": 50,
      "metadata": {
        "colab": {
          "base_uri": "https://localhost:8080/",
          "height": 206
        },
        "id": "fe2FAmRrlMK_",
        "outputId": "0c4fa841-d058-4c06-ca97-e861e0c2e096"
      },
      "outputs": [
        {
          "data": {
            "text/html": [
              "<div>\n",
              "<style scoped>\n",
              "    .dataframe tbody tr th:only-of-type {\n",
              "        vertical-align: middle;\n",
              "    }\n",
              "\n",
              "    .dataframe tbody tr th {\n",
              "        vertical-align: top;\n",
              "    }\n",
              "\n",
              "    .dataframe thead th {\n",
              "        text-align: right;\n",
              "    }\n",
              "</style>\n",
              "<table border=\"1\" class=\"dataframe\">\n",
              "  <thead>\n",
              "    <tr style=\"text-align: right;\">\n",
              "      <th></th>\n",
              "      <th>weather</th>\n",
              "      <th>temperature</th>\n",
              "      <th>humidity</th>\n",
              "      <th>wind</th>\n",
              "      <th>play</th>\n",
              "    </tr>\n",
              "  </thead>\n",
              "  <tbody>\n",
              "    <tr>\n",
              "      <th>0</th>\n",
              "      <td>sunny</td>\n",
              "      <td>high</td>\n",
              "      <td>high</td>\n",
              "      <td>no</td>\n",
              "      <td>no</td>\n",
              "    </tr>\n",
              "    <tr>\n",
              "      <th>1</th>\n",
              "      <td>sunny</td>\n",
              "      <td>high</td>\n",
              "      <td>high</td>\n",
              "      <td>yes</td>\n",
              "      <td>no</td>\n",
              "    </tr>\n",
              "    <tr>\n",
              "      <th>2</th>\n",
              "      <td>overcast</td>\n",
              "      <td>high</td>\n",
              "      <td>high</td>\n",
              "      <td>no</td>\n",
              "      <td>yes</td>\n",
              "    </tr>\n",
              "    <tr>\n",
              "      <th>3</th>\n",
              "      <td>rain</td>\n",
              "      <td>medium</td>\n",
              "      <td>high</td>\n",
              "      <td>no</td>\n",
              "      <td>yes</td>\n",
              "    </tr>\n",
              "    <tr>\n",
              "      <th>4</th>\n",
              "      <td>rain</td>\n",
              "      <td>low</td>\n",
              "      <td>normal</td>\n",
              "      <td>no</td>\n",
              "      <td>yes</td>\n",
              "    </tr>\n",
              "  </tbody>\n",
              "</table>\n",
              "</div>"
            ],
            "text/plain": [
              "    weather temperature humidity wind play\n",
              "0     sunny        high     high   no   no\n",
              "1     sunny        high     high  yes   no\n",
              "2  overcast        high     high   no  yes\n",
              "3      rain      medium     high   no  yes\n",
              "4      rain         low   normal   no  yes"
            ]
          },
          "execution_count": 50,
          "metadata": {},
          "output_type": "execute_result"
        }
      ],
      "source": [
        "# Datos sobre Tenis\n",
        "data = pd.read_csv(path_tennis)\n",
        "data.head()"
      ]
    },
    {
      "cell_type": "code",
      "execution_count": 51,
      "metadata": {
        "id": "VzyifEetmEaU"
      },
      "outputs": [],
      "source": [
        "# TODO: Adaptar los datos para la entrada (X) y salida (y) del algoritmo\n",
        "# Codificación one-hot para las columnas con más de dos categorías\n",
        "data_encoded = pd.get_dummies(data, columns=['weather', 'temperature', 'humidity', 'wind', 'play']).astype(int)\n",
        "\n",
        "X = data_encoded.drop(['play_no', 'play_yes', 'humidity_high','wind_no' ], axis=1).values\n",
        "y = data_encoded[['play_yes']].values\n"
      ]
    },
    {
      "cell_type": "code",
      "execution_count": 55,
      "metadata": {
        "id": "mVkqsg1hnG5m"
      },
      "outputs": [
        {
          "name": "stdout",
          "output_type": "stream",
          "text": [
            "epoch: 100/1000  losss: 0.64286\n",
            "epoch: 200/1000  losss: 0.64286\n",
            "epoch: 300/1000  losss: 0.64286\n",
            "epoch: 400/1000  losss: 0.64286\n",
            "epoch: 500/1000  losss: 0.64286\n",
            "epoch: 600/1000  losss: 0.64286\n",
            "epoch: 700/1000  losss: 0.64286\n",
            "epoch: 800/1000  losss: 0.64286\n",
            "epoch: 900/1000  losss: 0.64286\n",
            "epoch: 1000/1000  losss: 0.64286\n",
            "\n",
            "    y_pred  y_true    acc\n",
            "0      0.0       0   True\n",
            "1      0.0       0   True\n",
            "2      0.0       1  False\n",
            "3      0.0       1  False\n",
            "4      0.0       1  False\n",
            "5      0.0       0   True\n",
            "6      0.0       1  False\n",
            "7      0.0       0   True\n",
            "8      0.0       1  False\n",
            "9      0.0       1  False\n",
            "10     0.0       1  False\n",
            "11     0.0       1  False\n",
            "12     0.0       1  False\n",
            "13     0.0       0   True\n"
          ]
        }
      ],
      "source": [
        "np.set_printoptions(suppress=True)  # Forzar a numpy a mostrar formato sin exponente\n",
        "np.random.seed(1)                   # Inciar semilla pseudo-aleatoria para verificar los cálculos\n",
        "\n",
        "# Red neuronal\n",
        "model = Network()\n",
        "model.add(Layer(8, 16))\n",
        "#model.add(ActivationLayer(tanh, tanh_derivative))\n",
        "#model.add(ActivationLayer(sigmoid, sigmoid_derivative))\n",
        "model.add(ActivationLayer(relu, relu_derivative))\n",
        "model.add(Layer(16, 1))\n",
        "#model.add(ActivationLayer(tanh, tanh_derivative))\n",
        "#model.add(ActivationLayer(sigmoid, sigmoid_derivative))\n",
        "model.add(ActivationLayer(relu, relu_derivative))\n",
        "\n",
        "# Entrenamiento\n",
        "model.set_loss(mse, mse_derivative)\n",
        "model.fit(X, y, epochs=1000, learning_rate=0.1)\n",
        "\n",
        "# Test\n",
        "y_pred = model.predict(X).ravel()\n",
        "y_true = y.ravel()\n",
        "acc = (y_pred>0.5) == y_true\n",
        "df_out = pd.DataFrame({'y_pred':y_pred, 'y_true':y_true, 'acc':acc}).round(2)\n",
        "\n",
        "print()\n",
        "print(df_out)\n"
      ]
    },
    {
      "cell_type": "markdown",
      "metadata": {
        "id": "NA2I77gFCGL3"
      },
      "source": [
        "## Ejercicio 3\n",
        "\n",
        "Adapta los datos de `covid19` para que funcione correctamente con la red de ejemplo. Puedes aplicar transformaciones similares a las del ejercicio anterior.\n",
        "\n",
        "Una vez adaptada la entreda probamos diferentes configuraciones de red como:\n",
        "- Número de capas ocultas 1 o 2;\n",
        "- Número de neuronas por capa 4,8 o 16;\n",
        "- Funcion de activiación `sigmoidea`, `tanh` o `relu`."
      ]
    },
    {
      "cell_type": "code",
      "execution_count": 62,
      "metadata": {
        "colab": {
          "base_uri": "https://localhost:8080/",
          "height": 237
        },
        "id": "HTALXEY5onDh",
        "outputId": "a23335b3-0ce5-466d-d312-fbdfd514959f"
      },
      "outputs": [
        {
          "data": {
            "text/html": [
              "<div>\n",
              "<style scoped>\n",
              "    .dataframe tbody tr th:only-of-type {\n",
              "        vertical-align: middle;\n",
              "    }\n",
              "\n",
              "    .dataframe tbody tr th {\n",
              "        vertical-align: top;\n",
              "    }\n",
              "\n",
              "    .dataframe thead th {\n",
              "        text-align: right;\n",
              "    }\n",
              "</style>\n",
              "<table border=\"1\" class=\"dataframe\">\n",
              "  <thead>\n",
              "    <tr style=\"text-align: right;\">\n",
              "      <th></th>\n",
              "      <th>Fever</th>\n",
              "      <th>Cough</th>\n",
              "      <th>Respiratory Problems</th>\n",
              "      <th>Infected</th>\n",
              "    </tr>\n",
              "    <tr>\n",
              "      <th>Id</th>\n",
              "      <th></th>\n",
              "      <th></th>\n",
              "      <th></th>\n",
              "      <th></th>\n",
              "    </tr>\n",
              "  </thead>\n",
              "  <tbody>\n",
              "    <tr>\n",
              "      <th>1</th>\n",
              "      <td>No</td>\n",
              "      <td>No</td>\n",
              "      <td>No</td>\n",
              "      <td>No</td>\n",
              "    </tr>\n",
              "    <tr>\n",
              "      <th>2</th>\n",
              "      <td>Yes</td>\n",
              "      <td>Yes</td>\n",
              "      <td>Yes</td>\n",
              "      <td>Yes</td>\n",
              "    </tr>\n",
              "    <tr>\n",
              "      <th>3</th>\n",
              "      <td>Yes</td>\n",
              "      <td>Yes</td>\n",
              "      <td>No</td>\n",
              "      <td>No</td>\n",
              "    </tr>\n",
              "    <tr>\n",
              "      <th>4</th>\n",
              "      <td>Yes</td>\n",
              "      <td>No</td>\n",
              "      <td>Yes</td>\n",
              "      <td>Yes</td>\n",
              "    </tr>\n",
              "    <tr>\n",
              "      <th>5</th>\n",
              "      <td>Yes</td>\n",
              "      <td>Yes</td>\n",
              "      <td>Yes</td>\n",
              "      <td>Yes</td>\n",
              "    </tr>\n",
              "  </tbody>\n",
              "</table>\n",
              "</div>"
            ],
            "text/plain": [
              "   Fever Cough Respiratory Problems Infected\n",
              "Id                                          \n",
              "1     No    No                   No       No\n",
              "2    Yes   Yes                  Yes      Yes\n",
              "3    Yes   Yes                   No       No\n",
              "4    Yes    No                  Yes      Yes\n",
              "5    Yes   Yes                  Yes      Yes"
            ]
          },
          "execution_count": 62,
          "metadata": {},
          "output_type": "execute_result"
        }
      ],
      "source": [
        "# Datos sobre Covid-19\n",
        "data = pd.read_csv(path_covid19, index_col=0)\n",
        "data.head()"
      ]
    },
    {
      "cell_type": "code",
      "execution_count": 75,
      "metadata": {
        "id": "JiYuD467onDp"
      },
      "outputs": [
        {
          "name": "stdout",
          "output_type": "stream",
          "text": [
            "    Fever_No  Fever_Yes  Cough_No  Cough_Yes  Respiratory Problems_No  \\\n",
            "Id                                                                      \n",
            "1          1          0         1          0                        1   \n",
            "2          0          1         0          1                        0   \n",
            "3          0          1         0          1                        1   \n",
            "4          0          1         1          0                        0   \n",
            "5          0          1         0          1                        0   \n",
            "\n",
            "    Respiratory Problems_Yes  Infected_No  Infected_Yes  \n",
            "Id                                                       \n",
            "1                          0            1             0  \n",
            "2                          1            0             1  \n",
            "3                          0            1             0  \n",
            "4                          1            0             1  \n",
            "5                          1            0             1  \n"
          ]
        }
      ],
      "source": [
        "# TODO: Adaptar los datos para la entrada (X) y salida (y) del algoritmo\n",
        "data_encoded = pd.get_dummies(data, columns=['Fever', 'Cough', 'Respiratory Problems', 'Infected']).astype(int)\n",
        "print(data_encoded.head())\n",
        "X = data_encoded.drop(['Infected_No', 'Infected_Yes', 'Fever_No', 'Cough_No','Respiratory Problems_No' ], axis=1).values\n",
        "y = data_encoded[['Infected_Yes']].values\n"
      ]
    },
    {
      "cell_type": "code",
      "execution_count": 76,
      "metadata": {
        "id": "lJj9krqWonDq"
      },
      "outputs": [
        {
          "name": "stdout",
          "output_type": "stream",
          "text": [
            "epoch: 100/1000  losss: 0.11415\n",
            "epoch: 200/1000  losss: 0.10464\n",
            "epoch: 300/1000  losss: 0.10347\n",
            "epoch: 400/1000  losss: 0.10305\n",
            "epoch: 500/1000  losss: 0.10282\n",
            "epoch: 600/1000  losss: 0.10265\n",
            "epoch: 700/1000  losss: 0.10251\n",
            "epoch: 800/1000  losss: 0.10238\n",
            "epoch: 900/1000  losss: 0.10225\n",
            "epoch: 1000/1000  losss: 0.10213\n",
            "\n",
            "    y_pred  y_true    acc\n",
            "0     0.04       0   True\n",
            "1     0.96       1   True\n",
            "2     0.32       0   True\n",
            "3     0.98       1   True\n",
            "4     0.96       1   True\n",
            "5     0.02       0   True\n",
            "6     0.98       1   True\n",
            "7     0.98       1   True\n",
            "8     0.66       1   True\n",
            "9     0.32       1  False\n",
            "10    0.02       0   True\n",
            "11    0.66       1   True\n",
            "12    0.66       0  False\n",
            "13    0.32       0   True\n"
          ]
        },
        {
          "data": {
            "text/plain": [
              "'\\nepoch: 100/1000  losss: 0.12176\\nepoch: 200/1000  losss: 0.11990\\nepoch: 300/1000  losss: 0.11836\\nepoch: 400/1000  losss: 0.11689\\nepoch: 500/1000  losss: 0.11595\\nepoch: 600/1000  losss: 0.11556\\nepoch: 700/1000  losss: 0.11539\\nepoch: 800/1000  losss: 0.11530\\nepoch: 900/1000  losss: 0.11524\\nepoch: 1000/1000  losss: 0.11520\\n\\n    y_pred  y_true    acc\\n0     0.02       0   True\\n1     0.93       1   True\\n2     0.29       0   True\\n3     0.95       1   True\\n4     0.93       1   True\\n5    -0.09       0   True\\n6     0.95       1   True\\n7     0.95       1   True\\n8     0.68       1   True\\n9     0.29       1  False\\n10   -0.09       0   True\\n11    0.68       1   True\\n12    0.68       0  False\\n13    0.29       0   True\\n'"
            ]
          },
          "execution_count": 76,
          "metadata": {},
          "output_type": "execute_result"
        }
      ],
      "source": [
        "np.set_printoptions(suppress=True)  # Forzar a numpy a mostrar formato sin exponente\n",
        "np.random.seed(1)                   # Inciar semilla pseudo-aleatoria para verificar los cálculos\n",
        "\n",
        "# Red neuronal\n",
        "model = Network()\n",
        "model.add(Layer(3, 16))\n",
        "#model.add(ActivationLayer(tanh, tanh_derivative))\n",
        "model.add(ActivationLayer(sigmoid, sigmoid_derivative))\n",
        "#model.add(ActivationLayer(relu, relu_derivative))\n",
        "model.add(Layer(16, 1))\n",
        "#model.add(ActivationLayer(tanh, tanh_derivative))\n",
        "model.add(ActivationLayer(sigmoid, sigmoid_derivative))\n",
        "#model.add(ActivationLayer(relu, relu_derivative))\n",
        "\n",
        "# Entrenamiento\n",
        "model.set_loss(mse, mse_derivative)\n",
        "model.fit(X, y, epochs=1000, learning_rate=0.1)\n",
        "\n",
        "# Test\n",
        "y_pred = model.predict(X).ravel()\n",
        "y_true = y.ravel()\n",
        "acc = (y_pred>0.5) == y_true\n",
        "df_out = pd.DataFrame({'y_pred':y_pred, 'y_true':y_true, 'acc':acc}).round(2)\n",
        "\n",
        "print()\n",
        "print(df_out)\n",
        "\n",
        "'''\n",
        "epoch: 100/1000  losss: 0.12176\n",
        "epoch: 200/1000  losss: 0.11990\n",
        "epoch: 300/1000  losss: 0.11836\n",
        "epoch: 400/1000  losss: 0.11689\n",
        "epoch: 500/1000  losss: 0.11595\n",
        "epoch: 600/1000  losss: 0.11556\n",
        "epoch: 700/1000  losss: 0.11539\n",
        "epoch: 800/1000  losss: 0.11530\n",
        "epoch: 900/1000  losss: 0.11524\n",
        "epoch: 1000/1000  losss: 0.11520\n",
        "\n",
        "    y_pred  y_true    acc\n",
        "0     0.02       0   True\n",
        "1     0.93       1   True\n",
        "2     0.29       0   True\n",
        "3     0.95       1   True\n",
        "4     0.93       1   True\n",
        "5    -0.09       0   True\n",
        "6     0.95       1   True\n",
        "7     0.95       1   True\n",
        "8     0.68       1   True\n",
        "9     0.29       1  False\n",
        "10   -0.09       0   True\n",
        "11    0.68       1   True\n",
        "12    0.68       0  False\n",
        "13    0.29       0   True\n",
        "'''"
      ]
    },
    {
      "cell_type": "markdown",
      "metadata": {
        "id": "P8W1z23sZxPc"
      },
      "source": [
        "# MLP (scikit-learn)"
      ]
    },
    {
      "cell_type": "markdown",
      "metadata": {
        "id": "ct_t7vVQdqCK"
      },
      "source": [
        "Vamos a utilizar las funciones sobre perceptrones multicapa del paquete `scikit-learn`. Concretamente usaremos la función de `MLPRegressor()` para entrenar y predecir.\n",
        "\n",
        "A continuación tenéis un ejemplo con los datos de la función XOR."
      ]
    },
    {
      "cell_type": "code",
      "execution_count": 77,
      "metadata": {
        "colab": {
          "base_uri": "https://localhost:8080/"
        },
        "id": "vWa0pyoSZ1qZ",
        "outputId": "d34f53ee-1d69-4546-fd0a-dac3c6a54ca9"
      },
      "outputs": [
        {
          "name": "stdout",
          "output_type": "stream",
          "text": [
            "   y_pred  y_true   acc\n",
            "0    0.12       0  True\n",
            "1    0.87       1  True\n",
            "2    0.91       1  True\n",
            "3    0.11       0  True\n"
          ]
        }
      ],
      "source": [
        "import numpy as np\n",
        "from sklearn.neural_network import MLPRegressor\n",
        "\n",
        "# Creamos un dataset de ejemplo\n",
        "X = np.array([[0, 0], [0, 1], [1, 0], [1, 1]])\n",
        "y = np.array([0, 1, 1, 0])\n",
        "\n",
        "# Creamos una instancia del modelo secuencial\n",
        "model = MLPRegressor(hidden_layer_sizes=8, activation='tanh', max_iter=10000, random_state=0)\n",
        "\n",
        "# Entrenamos el modelo\n",
        "model.fit(X, y)\n",
        "\n",
        "# Evaluamos el modelo\n",
        "y_pred = model.predict(X).ravel()\n",
        "y_true = y.ravel()\n",
        "acc = (y_pred>0.5) == y_true\n",
        "df_out = pd.DataFrame({'y_pred':y_pred, 'y_true':y_true, 'acc':acc}).round(2)\n",
        "\n",
        "print(df_out)"
      ]
    },
    {
      "cell_type": "markdown",
      "metadata": {
        "id": "Vvy1qt9cqoMc"
      },
      "source": [
        "## Ejercicio 4\n",
        "\n",
        "Modifica el ejemplo anterior de `MLPRegressor()` para entrenar y calcular los resultados de los conjuntos de datos de `tenis` y `covid19`."
      ]
    },
    {
      "cell_type": "markdown",
      "metadata": {
        "id": "Hd7LIe_fJTPY"
      },
      "source": [
        "### Tenis"
      ]
    },
    {
      "cell_type": "code",
      "execution_count": 78,
      "metadata": {
        "colab": {
          "base_uri": "https://localhost:8080/"
        },
        "id": "QZnEFHpWqnLt",
        "outputId": "e38e4344-53aa-45db-8559-a32897f469c1"
      },
      "outputs": [
        {
          "name": "stdout",
          "output_type": "stream",
          "text": [
            "\n",
            "    y_pred  y_true    acc\n",
            "0     0.25       0   True\n",
            "1    -0.02       0   True\n",
            "2     0.80       1   True\n",
            "3     0.66       1   True\n",
            "4     0.80       1   True\n",
            "5     0.50       0  False\n",
            "6     1.00       1   True\n",
            "7     0.61       0  False\n",
            "8     0.75       1   True\n",
            "9     0.88       1   True\n",
            "10    0.54       1   True\n",
            "11    0.87       1   True\n",
            "12    1.02       1   True\n",
            "13    0.37       0   True\n"
          ]
        },
        {
          "name": "stderr",
          "output_type": "stream",
          "text": [
            "/Users/daniel/anaconda3/lib/python3.11/site-packages/sklearn/neural_network/_multilayer_perceptron.py:1625: DataConversionWarning: A column-vector y was passed when a 1d array was expected. Please change the shape of y to (n_samples, ), for example using ravel().\n",
            "  y = column_or_1d(y, warn=True)\n"
          ]
        },
        {
          "data": {
            "text/plain": [
              "'\\nX.shape (14, 8) y.shape (14,)\\n\\n    y_pred  y_true    acc\\n0     0.24       0   True\\n1     0.00       0   True\\n2     0.74       1   True\\n3     0.62       1   True\\n4     0.79       1   True\\n5     0.52       0  False\\n6     0.98       1   True\\n7     0.57       0  False\\n8     0.74       1   True\\n9     0.95       1   True\\n10    0.62       1   True\\n11    0.81       1   True\\n12    1.07       1   True\\n'"
            ]
          },
          "execution_count": 78,
          "metadata": {},
          "output_type": "execute_result"
        }
      ],
      "source": [
        "import numpy as np\n",
        "from sklearn.neural_network import MLPRegressor\n",
        "\n",
        "data = pd.read_csv(path_tennis)\n",
        "\n",
        "# TODO: Adaptar los datos para la entrada (X) y salida (y) del algoritmo\n",
        "\n",
        "data_encoded = pd.get_dummies(data, columns=['weather', 'temperature', 'humidity', 'wind', 'play']).astype(int)\n",
        "\n",
        "X = data_encoded.drop(['play_no', 'play_yes', 'humidity_high','wind_no' ], axis=1).values\n",
        "y = data_encoded[['play_yes']].values\n",
        "\n",
        "# Creamos una instancia del modelo secuencial\n",
        "model = MLPRegressor(hidden_layer_sizes=16, activation='logistic', max_iter=1000, random_state=0)\n",
        "\n",
        "# Entrenamos el modelo\n",
        "model.fit(X, y)\n",
        "\n",
        "# Evaluamos el modelo\n",
        "# Test\n",
        "# Test\n",
        "y_pred = model.predict(X).ravel()\n",
        "y_true = y.ravel()\n",
        "acc = (y_pred>0.5) == y_true\n",
        "df_out = pd.DataFrame({'y_pred':y_pred, 'y_true':y_true, 'acc':acc}).round(2)\n",
        "\n",
        "print()\n",
        "print(df_out)\n",
        "\n",
        "'''\n",
        "X.shape (14, 8) y.shape (14,)\n",
        "\n",
        "    y_pred  y_true    acc\n",
        "0     0.24       0   True\n",
        "1     0.00       0   True\n",
        "2     0.74       1   True\n",
        "3     0.62       1   True\n",
        "4     0.79       1   True\n",
        "5     0.52       0  False\n",
        "6     0.98       1   True\n",
        "7     0.57       0  False\n",
        "8     0.74       1   True\n",
        "9     0.95       1   True\n",
        "10    0.62       1   True\n",
        "11    0.81       1   True\n",
        "12    1.07       1   True\n",
        "'''"
      ]
    },
    {
      "cell_type": "markdown",
      "metadata": {
        "id": "LKHXPpcTJukZ"
      },
      "source": [
        "### COVID-19"
      ]
    },
    {
      "cell_type": "code",
      "execution_count": 79,
      "metadata": {
        "id": "RNG4IfAgJuki"
      },
      "outputs": [
        {
          "name": "stdout",
          "output_type": "stream",
          "text": [
            "   Id  Fever_No  Fever_Yes  Cough_No  Cough_Yes  Respiratory Problems_No  \\\n",
            "0   1         1          0         1          0                        1   \n",
            "1   2         0          1         0          1                        0   \n",
            "2   3         0          1         0          1                        1   \n",
            "3   4         0          1         1          0                        0   \n",
            "4   5         0          1         0          1                        0   \n",
            "\n",
            "   Respiratory Problems_Yes  Infected_No  Infected_Yes  \n",
            "0                         0            1             0  \n",
            "1                         1            0             1  \n",
            "2                         0            1             0  \n",
            "3                         1            0             1  \n",
            "4                         1            0             1  \n",
            "\n",
            "    y_pred  y_true    acc\n",
            "0     0.32       0   True\n",
            "1     0.52       1   True\n",
            "2     0.50       0  False\n",
            "3     0.54       1   True\n",
            "4     0.60       1   True\n",
            "5     0.51       0  False\n",
            "6     0.60       1   True\n",
            "7     0.61       1   True\n",
            "8     0.59       1   True\n",
            "9     0.61       1   True\n",
            "10    0.55       0  False\n",
            "11    0.60       1   True\n",
            "12    0.60       0  False\n",
            "13    0.62       0  False\n"
          ]
        },
        {
          "name": "stderr",
          "output_type": "stream",
          "text": [
            "/Users/daniel/anaconda3/lib/python3.11/site-packages/sklearn/neural_network/_multilayer_perceptron.py:1625: DataConversionWarning: A column-vector y was passed when a 1d array was expected. Please change the shape of y to (n_samples, ), for example using ravel().\n",
            "  y = column_or_1d(y, warn=True)\n"
          ]
        },
        {
          "data": {
            "text/plain": [
              "'\\n.shape (14, 4) y.shape (14,)\\n\\n    y_pred  y_true    acc\\n0     0.32       0   True\\n1     0.52       1   True\\n2     0.50       0  False\\n3     0.54       1   True\\n4     0.60       1   True\\n5     0.51       0  False\\n6     0.60       1   True\\n7     0.61       1   True\\n8     0.59       1   True\\n9     0.61       1   True\\n10    0.55       0  False\\n11    0.60       1   True\\n12    0.60       0  False\\n13    0.62       0  False\\n'"
            ]
          },
          "execution_count": 79,
          "metadata": {},
          "output_type": "execute_result"
        }
      ],
      "source": [
        "import numpy as np\n",
        "from sklearn.neural_network import MLPRegressor\n",
        "\n",
        "data = pd.read_csv(path_covid19)\n",
        "\n",
        "# TODO: Adaptar los datos para la entrada (X) y salida (y) del algoritmo\n",
        "data_encoded = pd.get_dummies(data, columns=['Fever', 'Cough', 'Respiratory Problems', 'Infected']).astype(int)\n",
        "print(data_encoded.head())\n",
        "X = data_encoded.drop(['Infected_No', 'Infected_Yes', 'Fever_No', 'Cough_No','Respiratory Problems_No' ], axis=1).values\n",
        "y = data_encoded[['Infected_Yes']].values\n",
        "\n",
        "\n",
        "# Creamos una instancia del modelo secuencial\n",
        "model = MLPRegressor(hidden_layer_sizes=16, activation='logistic', max_iter=1000, random_state=0)\n",
        "\n",
        "# Entrenamos el modelo\n",
        "model.fit(X, y)\n",
        "\n",
        "# Evaluamos el modelo\n",
        "# Test\n",
        "# Test\n",
        "y_pred = model.predict(X).ravel()\n",
        "y_true = y.ravel()\n",
        "acc = (y_pred>0.5) == y_true\n",
        "df_out = pd.DataFrame({'y_pred':y_pred, 'y_true':y_true, 'acc':acc}).round(2)\n",
        "\n",
        "print()\n",
        "print(df_out)\n",
        "\n",
        "'''\n",
        ".shape (14, 4) y.shape (14,)\n",
        "\n",
        "    y_pred  y_true    acc\n",
        "0     0.32       0   True\n",
        "1     0.52       1   True\n",
        "2     0.50       0  False\n",
        "3     0.54       1   True\n",
        "4     0.60       1   True\n",
        "5     0.51       0  False\n",
        "6     0.60       1   True\n",
        "7     0.61       1   True\n",
        "8     0.59       1   True\n",
        "9     0.61       1   True\n",
        "10    0.55       0  False\n",
        "11    0.60       1   True\n",
        "12    0.60       0  False\n",
        "13    0.62       0  False\n",
        "'''"
      ]
    }
  ],
  "metadata": {
    "colab": {
      "provenance": [],
      "toc_visible": true
    },
    "kernelspec": {
      "display_name": "Python 3 (ipykernel)",
      "language": "python",
      "name": "python3"
    },
    "language_info": {
      "codemirror_mode": {
        "name": "ipython",
        "version": 3
      },
      "file_extension": ".py",
      "mimetype": "text/x-python",
      "name": "python",
      "nbconvert_exporter": "python",
      "pygments_lexer": "ipython3",
      "version": "3.11.5"
    }
  },
  "nbformat": 4,
  "nbformat_minor": 0
}
